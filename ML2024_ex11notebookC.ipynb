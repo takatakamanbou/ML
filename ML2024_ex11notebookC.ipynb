{
  "cells": [
    {
      "cell_type": "markdown",
      "metadata": {
        "id": "view-in-github",
        "colab_type": "text"
      },
      "source": [
        "<a href=\"https://colab.research.google.com/github/takatakamanbou/ML/blob/2024/ML2024_ex11notebookC.ipynb\" target=\"_parent\"><img src=\"https://colab.research.google.com/assets/colab-badge.svg\" alt=\"Open In Colab\"/></a>"
      ]
    },
    {
      "cell_type": "markdown",
      "metadata": {
        "id": "2UzDNLmVS3po"
      },
      "source": [
        "# ML ex11notebookC\n",
        "\n",
        "<img width=72 src=\"https://www-tlab.math.ryukoku.ac.jp/~takataka/course/ML/ML-logo.png\"> [この授業のウェブページ](https://www-tlab.math.ryukoku.ac.jp/wiki/?ML/2024)\n"
      ]
    },
    {
      "cell_type": "markdown",
      "metadata": {
        "id": "_WXvQDHGjLD8"
      },
      "source": [
        "----\n",
        "## $K$-平均法の実験\n",
        "----\n",
        "\n",
        "K-平均法によるクラスタリングの実験をやってみましょう．\n",
        "\n"
      ]
    },
    {
      "cell_type": "markdown",
      "source": [
        "まずはいつものように準備から．\n",
        "\n"
      ],
      "metadata": {
        "id": "m_05KKmfwFQ_"
      }
    },
    {
      "cell_type": "code",
      "source": [
        "# 準備あれこれ\n",
        "import numpy as np\n",
        "import matplotlib.pyplot as plt\n",
        "import pandas as pd\n",
        "import seaborn\n",
        "seaborn.set()"
      ],
      "metadata": {
        "id": "Uba-rqwa906l"
      },
      "execution_count": null,
      "outputs": []
    },
    {
      "cell_type": "markdown",
      "source": [
        "K-meansクラスタリングのための関数を定義しておきます．"
      ],
      "metadata": {
        "id": "Mn2K9MmbPJFi"
      }
    },
    {
      "cell_type": "code",
      "source": [
        "## セントロイドの初期化\n",
        "#\n",
        "def initCentroid(X, centroid, seed=None):\n",
        "    assert X.shape[1] == centroid.shape[1]\n",
        "    K = centroid.shape[0]\n",
        "    # 学習データからランダムに K 個を選択して初期セントロイドとする\n",
        "    N = X.shape[0]\n",
        "    idx = np.arange(N, dtype=int)\n",
        "    if seed is not None:\n",
        "        np.random.seed(seed)\n",
        "    np.random.shuffle(idx)\n",
        "    centroid[:] = X[idx[:K], :]\n",
        "\n",
        "## データをクラスタに割り振る\n",
        "#\n",
        "def assignCluster(X, centroid, label):\n",
        "    assert X.shape[1] == centroid.shape[1] and X.shape[0] == label.shape[0]\n",
        "    K = centroid.shape[0]\n",
        "    N = X.shape[0]\n",
        "    sqe = 0.0\n",
        "    for n in range(N):\n",
        "        # 各セントロイドとの距離の二乗を計算\n",
        "        d = np.sum((X[n, :] - centroid)**2, axis=1)\n",
        "        # 距離最小のクラスタへ割り振る\n",
        "        i = np.argmin(d)\n",
        "        label[n] = i\n",
        "        sqe += d[i]\n",
        "\n",
        "    return sqe/N  # 割り振られたセントロイドとの距離の二乗の平均\n",
        "\n",
        "## セントロイドを計算し直す\n",
        "#\n",
        "def updateCentroid(X, centroid, label):\n",
        "    assert X.shape[1] == centroid.shape[1] and X.shape[0] == label.shape[0]\n",
        "    K = centroid.shape[0]\n",
        "    for ik in range(K):\n",
        "        # ik 番目のクラスタに割り当てられたデータの平均をそのクラスタの新しいセントロイドとする\n",
        "        centroid[ik, :] = np.mean(X[label==ik, :], axis=0)"
      ],
      "metadata": {
        "id": "b-rNgijPNVPP"
      },
      "execution_count": null,
      "outputs": []
    },
    {
      "cell_type": "markdown",
      "source": [
        "画像のクラスタリングの実験で使う，可視化用の関数を定義しておきます．"
      ],
      "metadata": {
        "id": "NCXsV2uIQFc5"
      }
    },
    {
      "cell_type": "code",
      "metadata": {
        "id": "iGHqJCtUDdtZ"
      },
      "source": [
        "#####  データの最初の nx x ny 枚を可視化\n",
        "#\n",
        "def mosaicImage(dat, nx, ny, nrow=64, ncol=64, gap=4):\n",
        "\n",
        "    # 並べた画像の幅と高さ\n",
        "    width  = nx * (ncol + gap) + gap\n",
        "    height = ny * (nrow + gap) + gap\n",
        "\n",
        "    # 画像の作成\n",
        "    img = np.zeros((height, width), dtype = int) + 128\n",
        "    for iy in range(ny):\n",
        "        lty = iy*(nrow + gap) + gap\n",
        "        for ix in range(nx):\n",
        "            if iy*nx+ix >= dat.shape[0]:\n",
        "                break\n",
        "            ltx = ix*(ncol + gap) + gap\n",
        "            img[lty:lty+nrow, ltx:ltx+ncol] = dat[iy*nx+ix, :].reshape((nrow, ncol))\n",
        "\n",
        "    return img\n",
        "\n",
        "\n",
        "#####  セントロイドとともにデータの最初の n 枚を可視化\n",
        "#\n",
        "def mosaicImage2(X, centroid, index, n, nrow=64, ncol=64, gap=4):\n",
        "\n",
        "    nx = n + 2\n",
        "    ny = centroid.shape[0]\n",
        "\n",
        "    # 並べた画像の幅と高さ\n",
        "    width  = nx * (ncol + gap) + gap\n",
        "    height = ny * (nrow + gap) + gap\n",
        "\n",
        "    # 画像の作成\n",
        "    img = np.zeros((height, width), dtype = int) + 128\n",
        "    for iy in range(ny):\n",
        "        lty = iy*(nrow + gap) + gap\n",
        "        ix = 0\n",
        "        ltx = ix*(ncol + gap) + gap\n",
        "        img[lty:lty+nrow, ltx:ltx+ncol] = centroid[iy, :].reshape((nrow, ncol))\n",
        "        dat = X[index == iy, :]\n",
        "        for ix in range(2, nx):\n",
        "            jx = ix - 2\n",
        "            if jx >= dat.shape[0]:\n",
        "                break\n",
        "            ltx = ix*(ncol + gap) + gap\n",
        "            img[lty:lty+nrow, ltx:ltx+ncol] = dat[jx, :].reshape((nrow, ncol))\n",
        "\n",
        "    return img\n"
      ],
      "execution_count": null,
      "outputs": []
    },
    {
      "cell_type": "markdown",
      "source": [
        "---\n",
        "### ［実験1］ 3科目の試験の得点\n",
        "\n",
        "「数学」「物理」「情報」の3科目の試験の点数を100人分集めたデータをクラスタリングしてみましょう．"
      ],
      "metadata": {
        "id": "3Y6cgkmtJ4Hy"
      }
    },
    {
      "cell_type": "code",
      "source": [
        "# 数物情データを入手\n",
        "! wget -nc https://www-tlab.math.ryukoku.ac.jp/~takataka/course/ML/mpi100-mac.csv\n",
        "dfMPI = pd.read_csv('mpi100-mac.csv', index_col=0)\n",
        "datMPI = dfMPI.to_numpy().astype(float)\n",
        "dfMPI"
      ],
      "metadata": {
        "id": "aW9hRlfj_TaK"
      },
      "execution_count": null,
      "outputs": []
    },
    {
      "cell_type": "code",
      "source": [
        "## 数物情データの K-means クラスタリング\n",
        "\n",
        "K = 3  # クラスタ数\n",
        "nitr = 10  # K-means 法の繰り返し回数\n",
        "\n",
        "X = datMPI\n",
        "N, D = X.shape\n",
        "centroid = np.empty((K, D)) # セントロイド\n",
        "label = np.empty(N, dtype=int) # 各学習データの所属するセントロイドの番号\n",
        "\n",
        "# セントロイドを初期化\n",
        "initCentroid(X, centroid)\n",
        "\n",
        "print('#itr  msqe    Nk')\n",
        "for i in range(nitr):\n",
        "    # データを各クラスタに割り振る\n",
        "    msqe = assignCluster(X, centroid, label)\n",
        "    # 各クラスタに割り振られたデータの数と，誤差の値を出力\n",
        "    Nk = np.empty(K, dtype=int)\n",
        "    for ik in range(K):\n",
        "        Nk[ik] = np.sum(label == ik)\n",
        "    print(f'{i}    {msqe:.2f}   {Nk}')\n",
        "    # セントロイドを更新\n",
        "    updateCentroid(X, centroid, label)\n",
        "\n",
        "# セントロイドの値を出力\n",
        "for ik in range(K):\n",
        "    print(f'クラスタ {ik} のセントロイド:  ({centroid[ik, 0]:.1f}, {centroid[ik, 1]:.1f}, {centroid[ik, 2]:.1f})')"
      ],
      "metadata": {
        "id": "vLChTm4bdcms"
      },
      "execution_count": null,
      "outputs": []
    },
    {
      "cell_type": "markdown",
      "source": [
        "#### ★★★ やってみよう ★★★\n",
        "\n",
        "- クラスタリングを実行して得られる結果を観察しよう．実行のたびに初期値が変わり，学習の結果も変わるので，何度か実行し直してみよう．\n",
        "- 3つのクラスタに分けられたそれぞれの集団の得点の傾向を，セントロイドの値から考察してみよう．「他の集団に比べて○○の点が高いが△△の点は低い」，etc."
      ],
      "metadata": {
        "id": "gXXKcqAJN8OX"
      }
    },
    {
      "cell_type": "markdown",
      "source": [
        "---\n",
        "### ［実験2］ 猫顔画像のクラスタリング\n",
        "\n",
        "猫の顔画像をクラスタリングしてみましょう．\n",
        "この実験で使っている猫画像は，他の目的に使ってはいけません．"
      ],
      "metadata": {
        "id": "xf4Jfb5QPTvA"
      }
    },
    {
      "cell_type": "code",
      "source": [
        "# 猫画像データを入手\n",
        "! wget -nc https://www-tlab.math.ryukoku.ac.jp/~takataka/course/ML/cat131.npz\n",
        "cat = np.load('cat131.npz')['cat131']\n",
        "print(cat.shape) # 131枚，ひとつの画像は 64 x 64 = 4096 画素のグレイスケール画像"
      ],
      "metadata": {
        "id": "6dbmMP7VKXzz"
      },
      "execution_count": null,
      "outputs": []
    },
    {
      "cell_type": "code",
      "source": [
        "print('### 猫画像 ###')\n",
        "print(f'データ数 x 次元数 = {cat.shape[0]} x {cat.shape[1]}')\n",
        "\n",
        "# 最初の 16 枚を表示\n",
        "img = mosaicImage(cat, 4, 4)\n",
        "plt.axis('off')\n",
        "plt.imshow(img, cmap = 'gray')\n",
        "plt.show()"
      ],
      "metadata": {
        "id": "6fH6FFULPf-7"
      },
      "execution_count": null,
      "outputs": []
    },
    {
      "cell_type": "markdown",
      "source": [
        "学習を実行し，結果を可視化させてみましょう．"
      ],
      "metadata": {
        "id": "9tdUrVFRQd_0"
      }
    },
    {
      "cell_type": "code",
      "metadata": {
        "id": "kdRhYK10tvcW"
      },
      "source": [
        "## 猫画像データの K-means クラスタリング\n",
        "\n",
        "K = 3  # クラスタ数\n",
        "nitr = 10  # K-means 法の繰り返し回数\n",
        "\n",
        "X = cat\n",
        "N, D = X.shape\n",
        "centroid = np.empty((K, D)) # セントロイド\n",
        "label = np.empty(N, dtype=int) # 各学習データの所属するセントロイドの番号\n",
        "\n",
        "# セントロイドを初期化\n",
        "initCentroid(X, centroid)\n",
        "\n",
        "print('#itr  msqe    Nk')\n",
        "for i in range(nitr):\n",
        "    # データを各クラスタに割り振る\n",
        "    msqe = assignCluster(X, centroid, label)\n",
        "    # 各クラスタに割り振られたデータの数と，誤差の値を出力\n",
        "    Nk = np.empty(K, dtype=int)\n",
        "    for ik in range(K):\n",
        "        Nk[ik] = np.sum(label == ik)\n",
        "    print(f'{i}    {msqe:e}   {Nk}')\n",
        "    # セントロイドを更新\n",
        "    updateCentroid(X, centroid, label)\n",
        "\n",
        "# クラスタ毎のセントロイドと所属データを可視化\n",
        "#     各行が一つのクラスタに対応，左端がセントロイド，右の画像はそのクラスタに所属する画像の一部\n",
        "img = mosaicImage2(cat, centroid, label, 8)\n",
        "plt.figure(figsize=(10,10))\n",
        "plt.axis('off')\n",
        "plt.imshow(img, cmap = 'gray')\n",
        "plt.show()\n",
        "s = '''\n",
        "クラスタ毎のセントロイドと所属データを可視化\n",
        "　各行が一つのクラスタに対応，左端がセントロイド，右の画像はそのクラスタに所属する画像の一部\n",
        "'''\n",
        "print(s)"
      ],
      "execution_count": null,
      "outputs": []
    },
    {
      "cell_type": "markdown",
      "source": [
        "#### ★★★ やってみよう★★★\n",
        "\n",
        "上記では，猫画像を K = 3 の K-means法でクラスタリングする実験を行っています．K をいろいろ変えて実行し直して，結果を観察しよう．K-meansクラスタリングの結果は初期値に依存するので，実行するたびに結果が変わります．"
      ],
      "metadata": {
        "id": "rfhyVO9USUIG"
      }
    },
    {
      "cell_type": "markdown",
      "source": [
        "---\n",
        "### ［実験3］ クラスタリングを利用したカラー画像の減色"
      ],
      "metadata": {
        "id": "hc95f04s2JMh"
      }
    },
    {
      "cell_type": "markdown",
      "source": [
        "一般的なカラー画像は，一つの画素を赤緑青の3つの色で表すため，幅が $W$ 画素で高さが $H$ 画素の画像は $3WH$ 個の数値の集まりとなります．これらを $WH$ 個の 3 次元ベクトルの集まりとみなして $K$ 通りにクラスタリングすると，この画像を $K$ 通りの色だけで表す（減色する）ことができます．$K$-means クラスタリングでやってみましょう．\n",
        "\n",
        "上の実験では NumPy を使って書いた $K$-means クラスタリングのプログラムを使っていましたが，ここでは Python の機械学習ライブラリ [scikit-learn](https://scikit-learn.org/) を使ってみることにします．\n",
        "\n",
        "cf. [skpearn.cluster.KMeans](https://scikit-learn.org/stable/modules/generated/sklearn.cluster.KMeans.html)"
      ],
      "metadata": {
        "id": "yn6dLiKC2SKy"
      }
    },
    {
      "cell_type": "code",
      "source": [
        "import numpy as np\n",
        "import cv2  # コンピュータビジョンライブラリ OpenCV\n",
        "from sklearn.cluster import KMeans # scikit-learn の cluster パッケージの KMeans クラス\n",
        "from google.colab.files import upload # Colab へのファイルのアップロード\n",
        "from google.colab.patches import cv2_imshow # Colab 上に OpenCV 形式の画像を表示"
      ],
      "metadata": {
        "id": "MG_DWltnPp0h"
      },
      "execution_count": null,
      "outputs": []
    },
    {
      "cell_type": "markdown",
      "source": [
        "次のセルを実行して，適当な画像ファイルをアップロードしましょう．ファイル名は，あらかじめ手元のPCで空白や日本語等を含まないものに変更しておくのがよいでしょう．"
      ],
      "metadata": {
        "id": "COKHtHzJ5q1d"
      }
    },
    {
      "cell_type": "code",
      "source": [
        "# 画像をアップロード\n",
        "rv = upload()\n",
        "! ls"
      ],
      "metadata": {
        "id": "ZV67Ryrl5imH"
      },
      "execution_count": null,
      "outputs": []
    },
    {
      "cell_type": "markdown",
      "source": [
        "次のセルの1行目の `hoge.jpg` をアップロードしたファイルの名前に変更して実行しましょう．"
      ],
      "metadata": {
        "id": "i8Zitvky7MCZ"
      }
    },
    {
      "cell_type": "code",
      "source": [
        "# 画像を読み込む．`hoge.jpg` を自分がアップロードしたファイルの名前に修正\n",
        "fn = 'hoge.jpg'\n",
        "img = cv2.imread(fn)\n",
        "\n",
        "assert img is not None, f'画像 {fn} の読み込みに失敗？'\n",
        "assert img.ndim == 3 and img.shape[2] == 3, '3チャンネルカラー画像のみ扱えます'\n",
        "h, w = img.shape[:2]\n",
        "\n",
        "maxSize = 640\n",
        "\n",
        "# (長辺の長さ) <= maxSize にリサイズ\n",
        "if max(w, h) > maxSize:\n",
        "    if w >= h:\n",
        "        w, h = maxSize, h*maxSize//w\n",
        "    else:\n",
        "        w, h = w*maxSize//h, maxSize\n",
        "    img = cv2.resize(img, (w, h))\n",
        "\n",
        "cv2_imshow(img)\n",
        "print(f'img.shape = {img.shape}')"
      ],
      "metadata": {
        "id": "aMGTE8OS6H3D"
      },
      "execution_count": null,
      "outputs": []
    },
    {
      "cell_type": "markdown",
      "source": [
        "配列 `img` の形を変えた（ reshape した）ものを学習データとして $K$-means クラスタリングを実行します．"
      ],
      "metadata": {
        "id": "R6aIfjOT72mA"
      }
    },
    {
      "cell_type": "code",
      "source": [
        "# 学習データの配列 X を作る\n",
        "X = img.reshape((img.shape[0]*img.shape[1], -1))\n",
        "print(f'X.shape = {X.shape}')\n",
        "\n",
        "K = 8 # クラスタ数\n",
        "\n",
        "# KMeans クラスのインスタンスを生成\n",
        "km = KMeans(n_clusters=K, n_init='auto', verbose=1)\n",
        "\n",
        "# 学習を実行\n",
        "km.fit(X)"
      ],
      "metadata": {
        "id": "QikC0hCL6g3D"
      },
      "execution_count": null,
      "outputs": []
    },
    {
      "cell_type": "markdown",
      "source": [
        "出力表示の `Iteration` は学習の繰り返し回数，`inertia` は notebookB で説明している次の量（の定数倍）です．\n",
        "\n",
        "$$\n",
        "E = \\sum_{k=1}^{K}\\sum_{n:y_n = k} \\Vert \\mathbf{x}_n - \\mathbf{c}_{k}\\Vert^2\n",
        "$$\n",
        "\n",
        "学習の繰り返しによって減少していることが分かります．\n",
        "\n",
        "それでは，この学習によって得られた結果を用いて実際に減色を実行してみましょう．"
      ],
      "metadata": {
        "id": "xlD0PpZK83_J"
      }
    },
    {
      "cell_type": "code",
      "source": [
        "# セントロイド（Kx3の2次元配列）の値を四捨五入して K 通りのカラーパレットを得る\n",
        "centroid = (km.cluster_centers_ + 0.5).astype(int)\n",
        "#print(centroid)\n",
        "\n",
        "# 各画素値が割り振られたクラスタの番号を求める\n",
        "lab = km.predict(X)\n",
        "\n",
        "# 減色を実行\n",
        "for ik in range(K):\n",
        "    X[lab == ik, :] = centroid[ik]\n",
        "\n",
        "# H x W x 3 の3次元配列に reshapeして画像として表示\n",
        "img2 = X.reshape((img.shape[0], img.shape[1], 3))\n",
        "cv2_imshow(img2)\n",
        "print(f'K = {K}')"
      ],
      "metadata": {
        "id": "bt7Myucb7mJ9"
      },
      "execution_count": null,
      "outputs": []
    },
    {
      "cell_type": "markdown",
      "source": [
        "動作確認できたら，`K` の値をいろいろ変えたり，画像を変えたりしてみるとよいでしょう．\n",
        "\n",
        "［よだんだよん］ ここでは，クラスタリングの学習に使った画像そのものを減色していますが，学習に用いる画像と減色する画像を別々にして実験してみるのも面白いです（コードの修正が必要）．"
      ],
      "metadata": {
        "id": "D2ABknlL-rDI"
      }
    },
    {
      "cell_type": "code",
      "source": [],
      "metadata": {
        "id": "AlS9c0En-WnL"
      },
      "execution_count": null,
      "outputs": []
    }
  ],
  "metadata": {
    "colab": {
      "provenance": [],
      "toc_visible": true,
      "include_colab_link": true
    },
    "kernelspec": {
      "display_name": "Python 3",
      "name": "python3"
    },
    "language_info": {
      "codemirror_mode": {
        "name": "ipython",
        "version": 3
      },
      "file_extension": ".py",
      "mimetype": "text/x-python",
      "name": "python",
      "nbconvert_exporter": "python",
      "pygments_lexer": "ipython3",
      "version": "3.9.7"
    }
  },
  "nbformat": 4,
  "nbformat_minor": 0
}