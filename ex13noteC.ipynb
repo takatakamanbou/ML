{
  "cells": [
    {
      "cell_type": "markdown",
      "metadata": {
        "id": "view-in-github",
        "colab_type": "text"
      },
      "source": [
        "<a href=\"https://colab.research.google.com/github/takatakamanbou/ML/blob/2022/ex13noteC.ipynb\" target=\"_parent\"><img src=\"https://colab.research.google.com/assets/colab-badge.svg\" alt=\"Open In Colab\"/></a>"
      ]
    },
    {
      "cell_type": "markdown",
      "metadata": {
        "id": "2UzDNLmVS3po"
      },
      "source": [
        "# ML ex13noteC\n",
        "\n",
        "<img width=72 src=\"https://www-tlab.math.ryukoku.ac.jp/~takataka/course/ML/ML-logo.png\"> [この授業のウェブページ](https://www-tlab.math.ryukoku.ac.jp/wiki/?ML/2022)\n"
      ]
    },
    {
      "cell_type": "code",
      "source": [
        "# 準備あれこれ\n",
        "import numpy as np\n",
        "import matplotlib.pyplot as plt\n",
        "import pandas as pd\n",
        "import seaborn\n",
        "seaborn.set()"
      ],
      "metadata": {
        "id": "Uba-rqwa906l"
      },
      "execution_count": null,
      "outputs": []
    },
    {
      "cell_type": "markdown",
      "metadata": {
        "id": "_WXvQDHGjLD8"
      },
      "source": [
        "----\n",
        "## 主成分分析の実験\n",
        "----\n",
        "\n"
      ]
    },
    {
      "cell_type": "markdown",
      "source": [
        "---\n",
        "### 実験1: 外食への年間支出金額データの主成分分析\n",
        "\n",
        "独立行政法人統計センターが作成している [教育用標準データセット(SSDSE)](https://www.nstac.go.jp/use/literacy/ssdse/) の中の「SSDSE-家計消費」というデータを使って，主成分分析の実験をやってみましょう．\n",
        "\n",
        "「SSDSE-家計消費」は，47都道府県の県庁所在市で調査された家計消費に関する226項目の数値から成るデータです．「二人以上の世帯の1世帯あたりの焼き肉（外食）への年間支出金額」みたいな数値が含まれています．\n",
        "\n",
        "データの詳細はこちら: https://www.nstac.go.jp/sys/files//kaisetsu-C-2022.pdf\n",
        "\n",
        "この notebook の作成にあたっては，データの前処理の部分でこちらを参考にさせていただきました： https://studiolab.sagemaker.aws/import/github/icoxfog417/mlnote-note/blob/main/notebooks/chapter10_answer.ipynb"
      ],
      "metadata": {
        "id": "J4wCogNrnmPQ"
      }
    },
    {
      "cell_type": "markdown",
      "source": [
        "#### データの入手と前処理"
      ],
      "metadata": {
        "id": "0NkyvcrxUsTp"
      }
    },
    {
      "cell_type": "markdown",
      "source": [
        "SSDSEのサイトから CSV ファイルを入手して，扱いやすいように加工します．\n",
        "\n"
      ],
      "metadata": {
        "id": "m_05KKmfwFQ_"
      }
    },
    {
      "cell_type": "code",
      "source": [
        "URL = 'https://www.nstac.go.jp/sys/files//SSDSE-C-2022.csv'\n",
        "df_raw = pd.read_csv(URL, encoding='cp932') # 文字コードが UTF8 ではなく ShiftJIS なので，encoding オプションを指定して変換\n",
        "\n",
        "# df_raw の見出し行に記されたコードと，1行目に記されたその項目名との対応表を作り，項目名の行を削除\n",
        "code = df_raw.iloc[0, :]\n",
        "print('##### コードと項目名の対応')\n",
        "print(code)\n",
        "df = df_raw.drop(0, axis=0)\n",
        "\n",
        "# 'SSDSE-C-2022'列の都市コードと'Prefecture'列の都道府県名，'City'列の県庁所在地名を整理\n",
        "city = df.iloc[:, :3]\n",
        "print()\n",
        "print('##### 都市コード，都道府県名，県庁所在地名')\n",
        "print(city.head(5))\n",
        "df = df.drop(['Prefecture', 'City'], axis=1)\n",
        "df = df.set_index('SSDSE-C-2022')\n",
        "\n",
        "df = df.drop('R00000', axis=0) # 'R00000'列は「全国」のデータなのでこれを削除\n",
        "df = df.astype('float32') # 値を浮動小数点型に変換\n",
        "\n",
        "print()\n",
        "df.head(5)"
      ],
      "metadata": {
        "id": "UwLv78SznSlx"
      },
      "execution_count": null,
      "outputs": []
    },
    {
      "cell_type": "markdown",
      "source": [
        "ここでは，各種の「外食」での支出金額のみを特徴として取り出します．13個の特徴量があります．"
      ],
      "metadata": {
        "id": "BawnvZ0ToDKd"
      }
    },
    {
      "cell_type": "code",
      "source": [
        "# 一人あたりの外食支出金額のデータを作成\n",
        "df_feature = pd.DataFrame()\n",
        "\n",
        "# コードが 'LB12' で始まる列が，様々な品目の外食支出額．ただし，1世帯あたりの金額\n",
        "columns = {}\n",
        "for c in df.columns:\n",
        "    if c.startswith('LB12') and c != 'LB12':\n",
        "        print(c, code[c])\n",
        "        columns[c] = code[c]\n",
        "        df_feature[c] = df[c]\n",
        "\n",
        "# 列名をコードから項目名に変更\n",
        "df_feature = df_feature.rename(columns=columns)\n",
        "\n",
        "# 都道府県ごとの平均世帯人数で割って一人あたりの金額にする\n",
        "df_feature = df_feature.divide(df['LA03'], axis=0)\n",
        "\n",
        "# DataFrame 表示時の小数部の表示桁数\n",
        "pd.options.display.precision = 1\n",
        "\n",
        "df_feature.head(5)"
      ],
      "metadata": {
        "id": "HSh2_B25oXBP"
      },
      "execution_count": null,
      "outputs": []
    },
    {
      "cell_type": "markdown",
      "source": [
        "---\n",
        "#### 主成分分析して可視化してみよう\n",
        "\n"
      ],
      "metadata": {
        "id": "3Y6cgkmtJ4Hy"
      }
    },
    {
      "cell_type": "markdown",
      "source": [
        "平均を 0 にしたデータ行列 X を作ります．データの次元数 D = 13, データ数 N = 47 です．"
      ],
      "metadata": {
        "id": "FkObEobEYE3Y"
      }
    },
    {
      "cell_type": "code",
      "source": [
        "# 平均を 0 にしたデータ行列 X を作る\n",
        "X = df_feature.to_numpy()\n",
        "Xm = np.mean(X, axis=0)\n",
        "X -= Xm\n",
        "N, D = X.shape\n",
        "print(X.shape)\n",
        "print(X[:5, :]) # 最初の5件の特徴量を表示"
      ],
      "metadata": {
        "id": "qLrkpafwVEm3"
      },
      "execution_count": null,
      "outputs": []
    },
    {
      "cell_type": "markdown",
      "source": [
        "X の分散共分散行列の固有値固有ベクトルを求めます．"
      ],
      "metadata": {
        "id": "p6zdNevVYPLj"
      }
    },
    {
      "cell_type": "code",
      "source": [
        "# X の分散共分散行列の固有値と固有ベクトルを求める\n",
        "_, sval, Vt = np.linalg.svd(X, full_matrices=False)\n",
        "eval = sval**2/N\n",
        "print('固有値:', eval)\n",
        "U = Vt\n",
        "\n",
        "# 2つの固有ベクトルの値を表示\n",
        "df_hoge = pd.DataFrame(index=df_feature.columns)\n",
        "df_hoge['u1'] = U[0]\n",
        "df_hoge['u2'] = U[1]\n",
        "df_hoge"
      ],
      "metadata": {
        "id": "OVAwO4SkVwSN"
      },
      "execution_count": null,
      "outputs": []
    },
    {
      "cell_type": "markdown",
      "source": [
        "固有値の大きい方の二つの固有ベクトルの値は，上記のようになっています．\n",
        "\n",
        "- u1 の方向は，正の値の項目と負の値の項目がおよそ半々となっています．正の値の項目への支出が平均より多く，負の値の項目への支出が平均より少ない県では，y1 の値が大きくなります．負の値の中では「他の主食的外食」の絶対値が大きいため，この項目の影響が大きそうです．\n",
        "- u2 の方向は，全ての項目の値が負です．したがって，y2 の値は，外食全体への支出が少ない県で大きくなります．\n",
        "\n",
        "これら2つの固有ベクトルを使って D = 13 次元のデータを 2 次元に変換してみましょう．"
      ],
      "metadata": {
        "id": "_iEKX_xcYTrn"
      }
    },
    {
      "cell_type": "code",
      "source": [
        "# 2次元へ次元削減\n",
        "Y = X @ U[:2, :].T\n",
        "print(Y.shape)\n",
        "print(Y[:5, :]) # 最初の5件の特徴量を表示"
      ],
      "metadata": {
        "id": "28q2gkKhXphN"
      },
      "execution_count": null,
      "outputs": []
    },
    {
      "cell_type": "markdown",
      "source": [
        "数値を見てもわかりにくいので，散布図にしてみます．"
      ],
      "metadata": {
        "id": "GV4QGzLoZrOY"
      }
    },
    {
      "cell_type": "code",
      "source": [
        "# グラフを描く\n",
        "\n",
        "kinki5 = np.array([n in range(24, 29) for n in range(N)]) # 滋賀，京都，大阪，兵庫，奈良\n",
        "tohoku = np.array([n in range(1, 7) for n in range(N)]) # 青森，岩手，宮城，秋田，山形，福島\n",
        "\n",
        "fig, ax = plt.subplots(facecolor=\"white\", figsize=(8, 8))\n",
        "ax.scatter(Y[:, 0], Y[:, 1])\n",
        "ax.scatter(Y[kinki5, 0], Y[kinki5, 1], label='kinki5')\n",
        "ax.scatter(Y[tohoku, 0], Y[tohoku, 1], label='tohoku')\n",
        "ax.axvline(0, linestyle='-', color='gray')\n",
        "ax.axhline(0, linestyle='-', color='gray')\n",
        "ax.set_xlim(-15000, 15000)\n",
        "ax.set_ylim(-15000, 15000)\n",
        "ax.set_aspect('equal')\n",
        "ax.legend()\n",
        "for n in range(N):\n",
        "    plt.annotate(f'{n}', (Y[n, 0]+200, Y[n, 1]+200))\n",
        "plt.show()"
      ],
      "metadata": {
        "id": "RQ2wlSWkXV96"
      },
      "execution_count": null,
      "outputs": []
    },
    {
      "cell_type": "markdown",
      "source": [
        "#### ★★★ やってみよう ★★★\n",
        "\n",
        "上記の結果を見て，次のことを考えよう．結果を紙媒体にメモしておこう．\n",
        "\n",
        "- 東北6県は\n",
        "    - 外食に使う金額が多い方？それとも少ない方？\n",
        "    - うどん，そば，和食，洋食，焼き肉などへの支出が多い方？\n",
        "- 近畿5府県はどんな傾向？\n"
      ],
      "metadata": {
        "id": "gXXKcqAJN8OX"
      }
    },
    {
      "cell_type": "markdown",
      "source": [
        "---\n",
        "### 実験2: 猫画像を次元削減して再構成してみよう\n",
        "\n",
        "主成分分析を利用して，猫の顔画像を次元削減してから再構成する実験をやってみましょう．"
      ],
      "metadata": {
        "id": "maaEwfSgmkYa"
      }
    },
    {
      "cell_type": "markdown",
      "source": [
        "#### 準備"
      ],
      "metadata": {
        "id": "mno4nxxRm6MI"
      }
    },
    {
      "cell_type": "markdown",
      "source": [
        "画像の可視化用の関数を定義します．"
      ],
      "metadata": {
        "id": "etdrp8tDnBK2"
      }
    },
    {
      "cell_type": "code",
      "source": [
        "#####  データの最初の nx x ny 枚を可視化\n",
        "#\n",
        "def mosaicImage(dat, nx, ny, nrow=64, ncol=64, gap=4):\n",
        "\n",
        "    # 並べた画像の幅と高さ\n",
        "    width  = nx * (ncol + gap) + gap\n",
        "    height = ny * (nrow + gap) + gap\n",
        "\n",
        "    # 画像の作成\n",
        "    img = np.zeros((height, width), dtype = int) + 128\n",
        "    for iy in range(ny):\n",
        "        lty = iy*(nrow + gap) + gap\n",
        "        for ix in range(nx):\n",
        "            if iy*nx+ix >= dat.shape[0]:\n",
        "                break\n",
        "            ltx = ix*(ncol + gap) + gap\n",
        "            img[lty:lty+nrow, ltx:ltx+ncol] = dat[iy*nx+ix, :].reshape((nrow, ncol))\n",
        "            \n",
        "    return img\n"
      ],
      "metadata": {
        "id": "4xZR79xKbnCo"
      },
      "execution_count": null,
      "outputs": []
    },
    {
      "cell_type": "markdown",
      "source": [
        "画像データを入手して眺めてみましょう．この実験で使っている猫画像は，他の目的に使ってはいけません．"
      ],
      "metadata": {
        "id": "O306VTcgnHmm"
      }
    },
    {
      "cell_type": "code",
      "source": [
        "# 猫画像データを入手\n",
        "! wget -nc https://www-tlab.math.ryukoku.ac.jp/~takataka/course/PIP/cat131.npz\n",
        "cat = np.load('cat131.npz')['cat131']\n",
        "print(cat.shape) # 131枚，ひとつの画像は 64 x 64 = 4096 画素のグレイスケール画像"
      ],
      "metadata": {
        "id": "eiAofQCrnGqG"
      },
      "execution_count": null,
      "outputs": []
    },
    {
      "cell_type": "code",
      "source": [
        "print('### 猫画像 ###')\n",
        "print(f'データ数 x 次元数 = {cat.shape[0]} x {cat.shape[1]}')\n",
        "\n",
        "# 最初の 16 枚を表示 \n",
        "img = mosaicImage(cat, 4, 4)\n",
        "plt.axis('off')\n",
        "plt.imshow(img, cmap = 'gray')\n",
        "plt.show()  "
      ],
      "metadata": {
        "id": "7tNboA-cnR8f"
      },
      "execution_count": null,
      "outputs": []
    },
    {
      "cell_type": "markdown",
      "source": [
        "#### 猫画像の主成分分析"
      ],
      "metadata": {
        "id": "pJW-SQl8nYZ8"
      }
    },
    {
      "cell_type": "markdown",
      "source": [
        "まずは平均 0 のデータ行列を作ります．"
      ],
      "metadata": {
        "id": "shfnDQYCnnBk"
      }
    },
    {
      "cell_type": "code",
      "source": [
        "# 平均 0 のデータ行列を作成\n",
        "Xm = np.mean(cat, axis=0)\n",
        "X = cat - Xm\n",
        "N, D = X.shape\n",
        "print(X.shape)\n",
        "\n",
        "# 平均を画像として表示\n",
        "plt.axis('off')\n",
        "plt.imshow(Xm.reshape(64, 64), cmap = 'gray')\n",
        "plt.show()  "
      ],
      "metadata": {
        "id": "ya0emrLvnVRX"
      },
      "execution_count": null,
      "outputs": []
    },
    {
      "cell_type": "markdown",
      "source": [
        "次に，分散共分散行列の固有値固有ベクトルを求めます．"
      ],
      "metadata": {
        "id": "7QipkTmlnst0"
      }
    },
    {
      "cell_type": "code",
      "source": [
        "# X の分散共分散行列の固有値と固有ベクトルを求める\n",
        "_, sval, Vt = np.linalg.svd(X, full_matrices=False)\n",
        "eval = sval**2/N\n",
        "print('固有値:', eval)\n",
        "U = Vt\n",
        "\n",
        "# 固有ベクトルを可視化\n",
        "nx, ny = 5, 2\n",
        "tmp = np.zeros((nx*ny, D))\n",
        "for h in range(nx*ny):\n",
        "    tmp[h, :] = U[h, :]\n",
        "absmax = np.max(np.abs(tmp))\n",
        "tmp = tmp/absmax*127 + 128\n",
        "img = mosaicImage(tmp, nx, ny)\n",
        "plt.axis('off')\n",
        "plt.imshow(img, cmap = 'gray')\n",
        "plt.show()  "
      ],
      "metadata": {
        "id": "24cdCsS0ndq6"
      },
      "execution_count": null,
      "outputs": []
    },
    {
      "cell_type": "markdown",
      "source": [
        "上記の画像は，固有ベクトルのうち固有値の大きい方から10個を左上から右に向かって並べたものです．固有ベクトルの値には正も負もあるので，正の値が白，0 が灰色，負の値が黒になるようにしてあります．\n",
        "\n",
        "1つ目の固有ベクトルは，額の部分が白っぽく，鼻筋から顎の下辺りが黒くなっています．したがって，額の部分が平均より明るく，鼻筋から顎の下辺りが平均より暗くなっている猫画像に対して大きな値となります．2つ目以降はも，それぞれ異なる特徴を捉えていることがわかります．"
      ],
      "metadata": {
        "id": "RpeKAF-hnxLO"
      }
    },
    {
      "cell_type": "markdown",
      "source": [
        "一つの画像を選んで，その変換後の特徴量を出力させてみましょう．\n",
        "`n` の値を変えると，他の猫も選べます．"
      ],
      "metadata": {
        "id": "ZtwxAzbTpEtQ"
      }
    },
    {
      "cell_type": "code",
      "source": [
        "n = 12 # データの番号． 0 から 130 まで\n",
        "\n",
        "# 元の画像を表示\n",
        "plt.axis('off')\n",
        "plt.imshow(cat[n, :].reshape(64, 64), cmap = 'gray')\n",
        "plt.show()\n",
        "\n",
        "# 変換して得られる特徴量のうち10個を出力\n",
        "y = X[n, :] @ U[:10, :].T\n",
        "y"
      ],
      "metadata": {
        "id": "HW9koN6vnjH-"
      },
      "execution_count": null,
      "outputs": []
    },
    {
      "cell_type": "markdown",
      "source": [
        "例えば，顎下の部分に注目すると，そこが黒っぽい猫は1つ目の成分が正で，白っぽい猫は負になっているはずです．猫と固有ベクトルを見比べていろいろ調べてみましょう．"
      ],
      "metadata": {
        "id": "TeOB_cqyplPN"
      }
    },
    {
      "cell_type": "markdown",
      "source": [
        "#### 再構成してみよう"
      ],
      "metadata": {
        "id": "Ikk1SFG6qL7N"
      }
    },
    {
      "cell_type": "markdown",
      "source": [
        "次のセルを実行すると，主成分分析で得られた変換行列を利用して，猫画像を $H$ 次元に次元削減してから再構成します．"
      ],
      "metadata": {
        "id": "B-McJZ7trRVd"
      }
    },
    {
      "cell_type": "code",
      "source": [
        "#@title 猫画像を次元削減してから再構成\n",
        "H =  0#@param {type: \"number\"}\n",
        "assert 0 <= H and H <= D\n",
        "\n",
        "Z = np.zeros_like(X) + Xm\n",
        "if H > 0:\n",
        "    Y = X @ U[:H, :].T\n",
        "    Z += Y @ U[:H, :]\n",
        "\n",
        "nx, ny = 2, 10\n",
        "tmp = np.zeros((nx*ny, D))\n",
        "for n in range(10):\n",
        "    tmp[2*n,   :] = cat[n, :]\n",
        "    tmp[2*n+1, :] = Z[n, :]\n",
        "img = mosaicImage(tmp, nx, ny)\n",
        "\n",
        "print(f'{H}次元での再構成')\n",
        "plt.figure(figsize=(2, 10))\n",
        "plt.axis('off')\n",
        "plt.imshow(img, cmap = 'gray')\n",
        "plt.show()\n"
      ],
      "metadata": {
        "id": "Kyj5GN3jpfjC"
      },
      "execution_count": null,
      "outputs": []
    },
    {
      "cell_type": "markdown",
      "source": [
        "上記の画像では，学習データのうち10匹の猫について，左に元画像，右に再構成画像が並んでます．`H` の値をいろいろ変えてみましょう．"
      ],
      "metadata": {
        "id": "H7lvrWLfrgSo"
      }
    },
    {
      "cell_type": "markdown",
      "source": [
        "#### 生成してみよう"
      ],
      "metadata": {
        "id": "C0-4TdNUrsmn"
      }
    },
    {
      "cell_type": "markdown",
      "source": [
        "次のセルでは，$\\mathbf{y} = (y_1,y_2, y_3, y_4, y_5)$ の値を自由に選んで，それを再構成して猫画像を生成することができます．適当に値を選んでみよう．\n"
      ],
      "metadata": {
        "id": "QbgNoPykt481"
      }
    },
    {
      "cell_type": "code",
      "source": [
        "#@title 猫画像を生成\n",
        "y1 =  1000 #@param {type: \"slider\", min:-2000, max:2000}\n",
        "y2 = -2000 #@param {type: \"slider\", min:-2000, max:2000}\n",
        "y3 = -1200 #@param {type: \"slider\", min:-2000, max:2000}\n",
        "y4 =   200 #@param {type: \"slider\", min:-2000, max:2000}\n",
        "y5 = -1000 #@param {type: \"slider\", min:-2000, max:2000}\n",
        "\n",
        "y = np.array([y1, y2, y3, y4, y5])\n",
        "z = y @ U[:5, :] + Xm\n",
        "\n",
        "# 生成した画像を表示\n",
        "plt.axis('off')\n",
        "plt.imshow(z.reshape(64, 64), cmap = 'gray')\n",
        "plt.show()"
      ],
      "metadata": {
        "id": "tcwH7fzAq9Mk"
      },
      "execution_count": null,
      "outputs": []
    },
    {
      "cell_type": "code",
      "source": [],
      "metadata": {
        "id": "orNvxxEasfJg"
      },
      "execution_count": null,
      "outputs": []
    }
  ],
  "metadata": {
    "colab": {
      "provenance": [],
      "include_colab_link": true
    },
    "kernelspec": {
      "display_name": "Python 3",
      "name": "python3"
    },
    "language_info": {
      "codemirror_mode": {
        "name": "ipython",
        "version": 3
      },
      "file_extension": ".py",
      "mimetype": "text/x-python",
      "name": "python",
      "nbconvert_exporter": "python",
      "pygments_lexer": "ipython3",
      "version": "3.9.7"
    }
  },
  "nbformat": 4,
  "nbformat_minor": 0
}