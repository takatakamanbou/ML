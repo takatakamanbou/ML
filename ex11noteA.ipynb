{
  "cells": [
    {
      "cell_type": "markdown",
      "metadata": {
        "id": "view-in-github",
        "colab_type": "text"
      },
      "source": [
        "<a href=\"https://colab.research.google.com/github/takatakamanbou/ML/blob/2022/ex11noteA.ipynb\" target=\"_parent\"><img src=\"https://colab.research.google.com/assets/colab-badge.svg\" alt=\"Open In Colab\"/></a>"
      ]
    },
    {
      "cell_type": "markdown",
      "metadata": {
        "id": "2UzDNLmVS3po"
      },
      "source": [
        "# ML ex11noteA\n",
        "\n",
        "<img width=72 src=\"https://www-tlab.math.ryukoku.ac.jp/~takataka/course/ML/ML-logo.png\"> [この授業のウェブページ](https://www-tlab.math.ryukoku.ac.jp/wiki/?ML/2022)\n"
      ]
    },
    {
      "cell_type": "markdown",
      "metadata": {
        "id": "_WXvQDHGjLD8"
      },
      "source": [
        "----\n",
        "## 教師なし学習とは\n",
        "----\n",
        "\n",
        "\n"
      ]
    },
    {
      "cell_type": "markdown",
      "source": [
        "---\n",
        "### ［復習］教師あり学習と教師なし学習\n",
        "\n",
        "\n",
        "\n"
      ],
      "metadata": {
        "id": "m_05KKmfwFQ_"
      }
    },
    {
      "cell_type": "markdown",
      "source": [
        "これまで見てきたように，機械学習で扱う問題は，いずれも，「何らかのデータ $\\boldsymbol{x}$ を入力すると適当な値 $\\boldsymbol{y}$ を出力する」という情報処理となっています．\n",
        "以下の左の図は，この処理を行う仕組みを $f$ という記号で表したものです．右の方は，$f$ を関数として数式で表現したものです．\n",
        "\n",
        "$$\n",
        "\\boldsymbol{y} \\longleftarrow \\fbox{$f$} \\longleftarrow \\boldsymbol{x} \\qquad\\qquad\\qquad\\qquad \\boldsymbol{y} = f(\\boldsymbol{x})\n",
        "$$\n",
        "\n",
        "この $f$ のことを，**学習モデル**（または単に**モデル**(model)）といいます．\n",
        "モデルには調節可能な **変数**／**パラメータ**(parameter)があり，その値を調節することで，入力に対するモデルの出力を変化させることができます．\n",
        "\n",
        "機械学習の問題では，モデルの「望ましい出力」が予め定められており，モデル出力がそれに近づくようにパラメータを調節します．\n",
        "この調節は，人手ではなく自動的に行われます．\n",
        "この過程を**学習**（learning, または **訓練** (training)）といいます．\n",
        "学習の際には，様々なデータをモデルへ入力して，その出力の値に応じてパラメータを調節していきます．\n",
        "その際に用いるデータを**学習データ**（learning data, 訓練データ(training data)）といいます．\n",
        "\n",
        "\n",
        "\n",
        "\n"
      ],
      "metadata": {
        "id": "t2BWoztZOOTL"
      }
    },
    {
      "cell_type": "markdown",
      "metadata": {
        "id": "CTGYPwMtiyg4"
      },
      "source": [
        "\n",
        "学習の手法には様々なものがありますが，次の二つに大別することができます（注）．\n",
        "\n",
        "**教師あり学習** (supervised learning): 個々の学習データが，「入力」とそれに対する「出力の正解」のペアとして与えられる．\n",
        "\n",
        "\n",
        "**教師なし学習** (unsupervised learning): 学習データは入力のみで構成され，出力の正解は与えられない．\n",
        "\n",
        "<span style=\"font-size: 75%\">\n",
        "※注: もう一つ，強化学習(reinforcement learning)というのもあるのですが，この授業では説明しません．\n",
        "</span>\n",
        "\n"
      ]
    },
    {
      "cell_type": "markdown",
      "source": [
        "これまでのこの授業では，主に教師あり学習を扱っていました．教師あり学習の問題を「回帰」と「識別」の二つに大きく分けて，様々な学習アルゴリズムを説明してきました．\n",
        "いずれの場合でも，学習データは，「入力」と「それに対する出力の正解」のペアとして与えられており，モデル出力を正解に近づけるように学習が行われるのでした．"
      ],
      "metadata": {
        "id": "EkgIJJZJVbYl"
      }
    },
    {
      "cell_type": "markdown",
      "source": [
        "---\n",
        "### 教師なし学習とは\n"
      ],
      "metadata": {
        "id": "H53rcq3TV-xz"
      }
    },
    {
      "cell_type": "markdown",
      "source": [
        "**教師なし学習**(unsupervised learning)の目的は，大量のデータが与えられたときに，そのデータのもつ規則性や構造を見つけ出すことです．\n",
        "どのような規則性や構造を持っているかは事前には分かっていません．それらを知り，データから有用な情報を抽出することを目指します．\n",
        "同様のことを目的とする技術や研究分野に**データマイニング**(data mining，注)というものがあり，両者は大きく重なっています．\n",
        "\n",
        "教師あり学習では出力の正解が学習データとして与えられましたが，\n",
        "教師なし学習では，学習データは入力となるもののみが与えられます．出力の正解は与えられません．\n",
        "データからどのような規則性や構造を見出したいかによって様々な学習アルゴリズムがあり，出力がどうなるかはアルゴリズムによります．\n",
        "\n",
        "<span style=\"font-size: 75%\">\n",
        "※注: 英語の名詞 mine には「鉱山」や「資源」といった意味があり，動詞 mine は「（鉱物資源を）採掘する」といった意味があります．Minecraft の mine は...．\n",
        "</span>"
      ],
      "metadata": {
        "id": "qo0alXb6WEh9"
      }
    },
    {
      "cell_type": "markdown",
      "source": [
        "教師あり学習と教師なし学習の違いについて理解を深めるため，様々な動物の画像を分類する問題を例にあげます．\n",
        "これは，教師ありの設定では「識別」の問題であり，教師なしの設定では「クラスタリング」の問題として扱えます（「クラスタリング」については詳しくは後述）．\n",
        "\n",
        "<dl>\n",
        "<dt>識別の問題として</dt>\n",
        "<dd>例えば，「イヌ，ネコ,ヒト，カピバラの4種」や「もふもふなのとそうでないのの2種」のように，分類の仕方をあらかじめ決める．学習データには，入力となる画像だけでなく，その画像の写った動物がどの分類のものであるかの情報が含まれている．学習することで，未分類の画像も正しく分類できるようになることが目的．</dd>\n",
        "<dt>クラスタリングの問題として</dt>\n",
        "<dd>どのように分類されるかは学習させてみるまで分からない．学習データは入力となる画像のみで，どう分類すべきかを表す情報は与えられていない．学習によって得られた結果を分析して，どんな画像が（写った動物が）どのように分類されるかを理解することが目的．</dd>\n",
        "</dl>"
      ],
      "metadata": {
        "id": "FM_QgiOgcpZO"
      }
    },
    {
      "cell_type": "markdown",
      "source": [
        "---\n",
        "### クラスタリングと次元削減\n",
        "\n"
      ],
      "metadata": {
        "id": "RfG9xeQJhVUw"
      }
    },
    {
      "cell_type": "markdown",
      "source": [
        "教師なしの学習アルゴリズムには様々なものがありますが，この授業では，代表例として，**クラスタリング**(clustering)と**次元削減**(次元圧縮とも，dimensionality reduction)の二種を取り上げます．\n",
        "以下，$N$個の$D$次元ベクトルから成るデータ集合\n",
        "$$\n",
        "\\{ \\mathbf{x}_n \\in {\\cal R}^{D} | n = 1, 2, \\ldots, N\\}\n",
        "$$\n",
        "を学習データとした場合について，クラスタリングと次元削減がそれぞれどのようなものか説明します．"
      ],
      "metadata": {
        "id": "5dsporVlkpjf"
      }
    },
    {
      "cell_type": "markdown",
      "source": [
        "#### クラスタリング"
      ],
      "metadata": {
        "id": "nrChuNGDlrvc"
      }
    },
    {
      "cell_type": "markdown",
      "source": [
        "**クラスタリング**(clustering)は，大量のデータが与えられたときに，似たようなデータを集めていくつかの「塊」に分ける手法です．「塊」のことを**クラスタ**(cluster)といいます．\n",
        "クラスタリングを行うことで，データの構造を把握（いくつのクラスタに分けられるのかを知る，どのデータとどのデータが似ているのかを知る，等）したり，大量のデータを要約（クラスタごとにデータの性質を記述する，等）したりすることができます．"
      ],
      "metadata": {
        "id": "qL2Wp_bel0vz"
      }
    },
    {
      "cell_type": "markdown",
      "source": [
        "例1: 学生たちの20科目の成績を表すデータ（$D=20$）をクラスタリング．\n",
        "\n",
        "クラスタリングによって，例えば，3つのクラスタに分けられることが分かったならば...．クラスタごとに成績の傾向が異なるので，学習指導の仕方をそれに応じて変えるようなことが可能となる．\n",
        "\n",
        "\n"
      ],
      "metadata": {
        "id": "GSZVePP9m61L"
      }
    },
    {
      "cell_type": "markdown",
      "source": [
        "例2: ネットショッピングの買い物傾向を表すデータをクラスタリング．\n",
        "\n",
        "ネットショッピングサイトの経営者が，顧客がどんな商品を購入したかのデータをクラスタリングして，顧客を買い物傾向によってグループ分けできたならば...．\n",
        "顧客の傾向に応じてサイトに表示させる広告やおすすめ商品の表示を変えることができる（注）．\n",
        "\n",
        "<span style=\"font-size: 75%\">\n",
        "※注: ここでは直感的な例としてこのような問題設定をあげましたが，実際には，この問題は,クラスタリングとは少し設定が異なるところがあり，「協調フィルタリング」という問題として扱われています．\n",
        "</span>"
      ],
      "metadata": {
        "id": "JH0aAg8RqFhw"
      }
    },
    {
      "cell_type": "markdown",
      "source": [
        "例3: 遺伝子データをクラスタリング\n",
        "\n",
        "様々な生物種の遺伝子データ（DNA配列など）をクラスタリングして解析できたならば...．\n",
        "生物種の間の類縁関係を推定（種Aと種Bは同じクラスタに分類されるので，同じ種から進化した可能性が高いと考える，等）したりできるかもしれない．\n",
        "ウイルスの変異を分析したりも...．"
      ],
      "metadata": {
        "id": "_8-cWDpisBDz"
      }
    },
    {
      "cell_type": "markdown",
      "source": [
        "#### 次元削減"
      ],
      "metadata": {
        "id": "rBtTDR8AtZBt"
      }
    },
    {
      "cell_type": "markdown",
      "source": [
        "**次元削減**(次元圧縮とも，dimensionality reduction)は，その名の通り，データの「次元数」(dimensionality)を減らす手法です．\n",
        "$D$個の特徴量から成る $D$ 次元ベクトル $\\mathbf{x}$ がデータとして与えられた場合，これを $H$ 次元（$H<D$）のベクトル $\\mathbf{y}$ に変換します．\n",
        "変換後のデータは元データよりも少数の特徴で表されているため，その後の分析がより簡単になります．\n",
        "また，データを処理する際に必要な記憶容量や計算量の削減にもつながります．"
      ],
      "metadata": {
        "id": "TFNpSM4ctlC_"
      }
    },
    {
      "cell_type": "markdown",
      "source": [
        "例1: 学生たちの20科目の成績を表すデータ（$D=20$）を次元削減．\n",
        "\n",
        "例えば，元データの特徴をよくとらえた3次元のデータに変換できたならば...．3つの特徴量の値によって一人ひとりの学生の傾向を分析することができる．次元を減らすことで分析や可視化が容易になる．"
      ],
      "metadata": {
        "id": "dyrpeh1zwpqx"
      }
    },
    {
      "cell_type": "markdown",
      "source": [
        "例2: 様々なひとの顔画像（幅100画素高さ100画素のRGBカラー画像，$D = 30000$）を次元削減．\n",
        "\n",
        "元画像の本質的な特徴をなるべく保ったままで30次元のデータに変換できたならば...．ネットワーク越しに顔画像のデータを送信するとして，3万個の画素値を送るかわりに，30個の数値を送るだけで済ませられるかも？\n"
      ],
      "metadata": {
        "id": "PUfz7CiIFdo8"
      }
    },
    {
      "cell_type": "code",
      "source": [],
      "metadata": {
        "id": "PcC3Mg6KtbRI"
      },
      "execution_count": null,
      "outputs": []
    }
  ],
  "metadata": {
    "colab": {
      "provenance": [],
      "include_colab_link": true
    },
    "kernelspec": {
      "display_name": "Python 3",
      "name": "python3"
    },
    "language_info": {
      "codemirror_mode": {
        "name": "ipython",
        "version": 3
      },
      "file_extension": ".py",
      "mimetype": "text/x-python",
      "name": "python",
      "nbconvert_exporter": "python",
      "pygments_lexer": "ipython3",
      "version": "3.9.7"
    }
  },
  "nbformat": 4,
  "nbformat_minor": 0
}