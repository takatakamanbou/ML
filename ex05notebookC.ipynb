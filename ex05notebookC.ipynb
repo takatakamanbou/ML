{
  "cells": [
    {
      "cell_type": "markdown",
      "metadata": {
        "id": "view-in-github",
        "colab_type": "text"
      },
      "source": [
        "<a href=\"https://colab.research.google.com/github/takatakamanbou/ML/blob/2023/ex05notebookC.ipynb\" target=\"_parent\"><img src=\"https://colab.research.google.com/assets/colab-badge.svg\" alt=\"Open In Colab\"/></a>"
      ]
    },
    {
      "cell_type": "markdown",
      "metadata": {
        "id": "2UzDNLmVS3po"
      },
      "source": [
        "# ML ex05notebookC\n",
        "\n",
        "<img width=72 src=\"https://www-tlab.math.ryukoku.ac.jp/~takataka/course/ML/ML-logo.png\"> [この授業のウェブページ](https://www-tlab.math.ryukoku.ac.jp/wiki/?ML/2023)\n"
      ]
    },
    {
      "cell_type": "markdown",
      "metadata": {
        "id": "_WXvQDHGjLD8"
      },
      "source": [
        "----\n",
        "## 演習: ロジスティック回帰＋勾配法\n",
        "----\n",
        "\n",
        "\n"
      ]
    },
    {
      "cell_type": "markdown",
      "metadata": {
        "id": "7glgWbdlh34P"
      },
      "source": [
        "----\n",
        "### 準備\n",
        "\n",
        "\n",
        "以下，コードセルを上から順に実行してながら読んでいってね．"
      ]
    },
    {
      "cell_type": "code",
      "execution_count": null,
      "metadata": {
        "id": "JBTXo5eHh34P"
      },
      "outputs": [],
      "source": [
        "# 準備あれこれ\n",
        "import numpy as np\n",
        "import matplotlib.pyplot as plt\n",
        "from matplotlib import animation, rc  # アニメーションのため\n",
        "import pandas as pd\n",
        "import seaborn\n",
        "seaborn.set()"
      ]
    },
    {
      "cell_type": "markdown",
      "source": [
        "----\n",
        "### はじめに\n",
        "\n",
        "「ロジスティック回帰＋勾配法によるパラメータの最適化 (3)」の notebook で説明している2クラス識別のロジスティック回帰モデルのパラメータ更新式を導出してみましょう．ここでは，式(7)の一つ手前の式までを，記号を少し省略・変更して導くことにします．\n"
      ],
      "metadata": {
        "id": "szdqM433mzUP"
      }
    },
    {
      "cell_type": "markdown",
      "source": [
        "2クラス識別のロジスティック回帰モデルを次のように定義します．\n",
        "\n",
        "$$\n",
        "\\begin{aligned}\n",
        "y &= \\sum_{i=1}^{D}a_ix_i + b \\\\\n",
        "z &= \\frac{1}{1+e^{-y}}\n",
        "\\end{aligned}\n",
        "$$\n",
        "ただし，$(x_1, x_2, \\ldots, x_D)$ はモデルへの入力，$z$ はモデルの出力，$a_1, \\ldots, a_D$ と $b$ がモデルのパラメータです．\n",
        "\n",
        "このとき，\n",
        "$$\n",
        "\\begin{aligned}\n",
        "\\ell &= t\\log{z}+(1-t)\\log{(1-z)}\n",
        "\\end{aligned}\n",
        "$$\n",
        "とおくと，$\\displaystyle\\frac{\\partial\\ell}{\\partial a_i}$ を求めれば，そこからパラメータ更新式を導出することができます．\n"
      ],
      "metadata": {
        "id": "H23SZSZ_nK-z"
      }
    },
    {
      "cell_type": "markdown",
      "source": [
        "---\n",
        "### 問題1\n",
        "\n",
        "$\\displaystyle\\frac{\\partial \\ell}{\\partial z}$ を求めなさい．"
      ],
      "metadata": {
        "id": "M1aj64e9r-oO"
      }
    },
    {
      "cell_type": "markdown",
      "source": [
        "---\n",
        "### 問題2\n",
        "\n",
        "(1) $\\displaystyle\\frac{\\partial z}{\\partial y}$ を $y$ の式で表しなさい．\n",
        "\n",
        "(2) (1)で得られた式は，変形すると $z$ のみの式で表せる．これを求めなさい（ヒント: 「ロジスティック回帰＋勾配法によるパラメータの最適化 (3)」の notebook の式(6)）．"
      ],
      "metadata": {
        "id": "WT4PvA_1sWNN"
      }
    },
    {
      "cell_type": "markdown",
      "source": [
        "---\n",
        "### 問題3\n",
        "\n",
        "$\\displaystyle\\frac{\\partial y}{\\partial a_i}$ を求めなさい ($i = 1, 2, \\ldots, D$)．"
      ],
      "metadata": {
        "id": "yM9ySMGUs0l5"
      }
    },
    {
      "cell_type": "markdown",
      "source": [
        "---\n",
        "### 問題4\n",
        "\n",
        "$\\displaystyle\\frac{\\partial \\ell}{\\partial a_i}$ は $t, x_i, z$ の式で表せる．これを求めなさい（ヒント: 合成関数の微分）．"
      ],
      "metadata": {
        "id": "UlpJOVHhtIa5"
      }
    },
    {
      "cell_type": "markdown",
      "source": [
        "---\n",
        "### 問題5\n",
        "\n",
        "$\\displaystyle\\frac{\\partial \\ell}{\\partial b}$ を求めなさい．"
      ],
      "metadata": {
        "id": "7QWXaWVBuQbw"
      }
    }
  ],
  "metadata": {
    "colab": {
      "provenance": [],
      "toc_visible": true,
      "include_colab_link": true
    },
    "kernelspec": {
      "display_name": "Python 3",
      "name": "python3"
    },
    "language_info": {
      "codemirror_mode": {
        "name": "ipython",
        "version": 3
      },
      "file_extension": ".py",
      "mimetype": "text/x-python",
      "name": "python",
      "nbconvert_exporter": "python",
      "pygments_lexer": "ipython3",
      "version": "3.9.7"
    }
  },
  "nbformat": 4,
  "nbformat_minor": 0
}