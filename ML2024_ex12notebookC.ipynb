{
  "cells": [
    {
      "cell_type": "markdown",
      "metadata": {
        "id": "view-in-github",
        "colab_type": "text"
      },
      "source": [
        "<a href=\"https://colab.research.google.com/github/takatakamanbou/ML/blob/2024/ML2024_ex12notebookC.ipynb\" target=\"_parent\"><img src=\"https://colab.research.google.com/assets/colab-badge.svg\" alt=\"Open In Colab\"/></a>"
      ]
    },
    {
      "cell_type": "markdown",
      "metadata": {
        "id": "2UzDNLmVS3po"
      },
      "source": [
        "# ML ex12notebookC\n",
        "\n",
        "<img width=72 src=\"https://www-tlab.math.ryukoku.ac.jp/~takataka/course/ML/ML-logo.png\"> [この授業のウェブページ](https://www-tlab.math.ryukoku.ac.jp/wiki/?ML)\n"
      ]
    },
    {
      "cell_type": "markdown",
      "source": [
        "---\n",
        "## 主成分分析に関する実習\n",
        "---"
      ],
      "metadata": {
        "id": "gr2R4r-LxWtQ"
      }
    },
    {
      "cell_type": "code",
      "source": [
        "# 準備あれこれ\n",
        "import numpy as np\n",
        "import matplotlib.pyplot as plt\n",
        "import pandas as pd\n",
        "import seaborn\n",
        "seaborn.set()"
      ],
      "metadata": {
        "id": "Uba-rqwa906l"
      },
      "execution_count": null,
      "outputs": []
    },
    {
      "cell_type": "markdown",
      "source": [
        "---\n",
        "### 計算問題\n",
        "\n",
        "ほぼ線形代数の復習..."
      ],
      "metadata": {
        "id": "An6-f8o0fu7K"
      }
    },
    {
      "cell_type": "markdown",
      "source": [
        "#### 問1\n",
        "\n",
        "$\\mathbf{w}_1 = (1, 0, 1), \\mathbf{x}_1 = (1, 2, 3)$ のとき，次の値を求めなさい．\n",
        "1. $\\mathbf{w}_1\\cdot\\mathbf{x}_1$\n",
        "1. $\\Vert\\mathbf{w}_1\\Vert$ および $\\Vert\\mathbf{x}_1\\Vert$\n",
        "\n",
        "次のセルを実行すると，答えを確認できます（数値的に計算した結果なので誤差を含みますが）．\n",
        "\n",
        "以下では， $\\Vert\\mathbf{x}_1\\Vert^2 = \\mathbf{x}_1 \\cdot \\mathbf{x}_1 $ という性質を利用して $\\Vert\\mathbf{x}_1\\Vert$ を計算してます．"
      ],
      "metadata": {
        "id": "w3zKNQSlM8bo"
      }
    },
    {
      "cell_type": "code",
      "source": [
        "w1 = np.array([1.0, 0.0, 1.0])\n",
        "x1 = np.array([1.0, 2.0, 3.0])\n",
        "print('w1 = ', w1)\n",
        "print('x1 = ', x1)\n",
        "print('w1 と x1 の内積 = ', w1 @ x1)\n",
        "print('|w1| = ', np.sqrt(w1 @ w1))\n",
        "print('|x1| = ', np.sqrt(x1 @ x1))"
      ],
      "metadata": {
        "id": "gdpAyaDZwadJ"
      },
      "execution_count": null,
      "outputs": []
    },
    {
      "cell_type": "markdown",
      "source": [
        "#### 問2\n",
        "\n",
        "$\\mathbf{w}_2 = (0, 1, -1), \\mathbf{x}_2 = (4, 5, 6)$ のとき，次の値を求めなさい．$\\mathbf{w}_1, \\mathbf{x}_1$ は問1のものを使ってください．以下，前の問題で出てきた記号を説明せずに使ってる場合があります．\n",
        "1. $\\mathbf{w}_1\\cdot\\mathbf{x}_2$\n",
        "1. $\\mathbf{w}_2\\cdot\\mathbf{x}_1$\n",
        "1. $\\mathbf{w}_2\\cdot\\mathbf{x}_2$\n"
      ],
      "metadata": {
        "id": "VeuSKJnHQ8lW"
      }
    },
    {
      "cell_type": "code",
      "source": [
        "w2 = np.array([0.0, 1.0, -1.0])\n",
        "x2 = np.array([4.0, 5.0, 6.0])\n",
        "print('w2 = ', w2)\n",
        "print('x2 = ', x2)\n",
        "print('w1 と x2 の内積 = ', w1 @ x2)\n",
        "print('w2 と x1 の内積 = ', w2 @ x1)\n",
        "print('w2 と x2 の内積 = ', w2 @ x2)"
      ],
      "metadata": {
        "id": "d1I1kGULQZJ1"
      },
      "execution_count": null,
      "outputs": []
    },
    {
      "cell_type": "markdown",
      "source": [
        "#### 問3\n",
        "\n",
        "次のセルを実行すると表示されるような，3行4列の行列を $X$ とします．\n",
        "この行列を列ごとに眺めると，第1列は $\\mathbf{x}_1$ と等しく，第2列は $\\mathbf{x}_2$ と等しいことに注意しましょう．"
      ],
      "metadata": {
        "id": "pRDPvvBkT8Kp"
      }
    },
    {
      "cell_type": "code",
      "source": [
        "X = np.arange(1, 13).reshape((4, 3)).T\n",
        "X"
      ],
      "metadata": {
        "id": "-g-Pw9nWMSnB"
      },
      "execution_count": null,
      "outputs": []
    },
    {
      "cell_type": "markdown",
      "source": [
        "また，次のような 2行3列の行列を $W$ とします．こちらは，行ごとに眺めると，第1行が $\\mathbf{w}_1$ と等しく，第2行が $\\mathbf{w}_2$ と等しくなっています．"
      ],
      "metadata": {
        "id": "EyZn5KQDUVZr"
      }
    },
    {
      "cell_type": "code",
      "source": [
        "W = np.vstack((w1, w2))\n",
        "W"
      ],
      "metadata": {
        "id": "bVfrteQtPFqi"
      },
      "execution_count": null,
      "outputs": []
    },
    {
      "cell_type": "markdown",
      "source": [
        "このとき，$Y = WX$ を手計算で求めなさい．\n",
        "\n",
        "次のセルを実行すると，答えを確認できます．"
      ],
      "metadata": {
        "id": "sXOCCM2KVBaK"
      }
    },
    {
      "cell_type": "code",
      "source": [
        "Y = W @ X\n",
        "Y"
      ],
      "metadata": {
        "id": "XQEVweqwUtAq"
      },
      "execution_count": null,
      "outputs": []
    },
    {
      "cell_type": "markdown",
      "source": [
        "結果を見ると，$Y$ の1列目には，$\\mathbf{w}_1\\cdot\\mathbf{x}_1$ と $\\mathbf{w}_2\\cdot\\mathbf{x}_1$ の値が入っており，2列目には，$\\mathbf{w}_1\\cdot\\mathbf{x}_2$ と $\\mathbf{w}_2\\cdot\\mathbf{x}_2$ の値が入っていることが分かります．他の列についても，同様のことが成り立っています．\n",
        "\n",
        "この例では，$X$ は $3\\times 4$ で，3次元ベクトルを4つならべたものと考えられます．このとき，$Y$ は $2\\times 4$ の行列となっており，その各列は，$X$の1つの列を作っている 3 次元ベクトルと2つの3次元ベクトル $\\mathbf{w}_1, \\mathbf{w}_2$ との内積の値を表す2次元ベクトルとなっています．\n",
        "つまり，$Y$ は，行列 $X$ が表す3次元のデータ4つを，2つの3次元ベクトル $\\mathbf{w}_1, \\mathbf{w}_2$ を使って2次元に次元削減したものとみなせます．"
      ],
      "metadata": {
        "id": "ad-2OhUoVnib"
      }
    },
    {
      "cell_type": "markdown",
      "source": [
        "上記の例では，$X$, $Y$ ともに，データが列ベクトルの形で表されています．線形代数の教科書等で線形変換（一次変換）の話が出てくるときはほとんどこの形でしょう．しかし，コンピュータでデータを扱う場合は，一つのデータが1行で表される形の方が便利です．そういう場合は，行列を転置して考えれば ok です．"
      ],
      "metadata": {
        "id": "4yxQeKMNZ7Fs"
      }
    },
    {
      "cell_type": "code",
      "source": [
        "Xt = X.T\n",
        "Xt"
      ],
      "metadata": {
        "id": "qmPRllC4VR1G"
      },
      "execution_count": null,
      "outputs": []
    },
    {
      "cell_type": "code",
      "source": [
        "Yt = Xt @ W.T\n",
        "Yt"
      ],
      "metadata": {
        "id": "JPmVj8SEaVlj"
      },
      "execution_count": null,
      "outputs": []
    },
    {
      "cell_type": "markdown",
      "source": [
        "---\n",
        "### 数物情3次元データの主成分分析\n",
        "\n",
        "「数学」「物理」「情報」の点数のデータに主成分分析を適用してみましょう（notebookBで使ったのと同じデータです）．"
      ],
      "metadata": {
        "id": "eiv1jYkDa9eO"
      }
    },
    {
      "cell_type": "code",
      "source": [
        "# 数物情データを入手\n",
        "! wget -nc https://www-tlab.math.ryukoku.ac.jp/~takataka/course/PIP/mpi100-mac.csv\n",
        "dfMPI = pd.read_csv('mpi100-mac.csv', index_col=0)\n",
        "datMPI = dfMPI.to_numpy().astype(float)\n",
        "dfMPI"
      ],
      "metadata": {
        "id": "lgx9UkwIaYzb"
      },
      "execution_count": null,
      "outputs": []
    },
    {
      "cell_type": "markdown",
      "source": [
        "平均を引いたデータを作ります．"
      ],
      "metadata": {
        "id": "CWn0n3xWe2AB"
      }
    },
    {
      "cell_type": "code",
      "source": [
        "# 平均\n",
        "Xm = np.mean(dfMPI.to_numpy(), axis=0)\n",
        "print('平均:', Xm)\n",
        "\n",
        "# 平均を引いて NumPy 配列にする\n",
        "X = dfMPI.to_numpy() - Xm\n",
        "N, D = X.shape\n",
        "print('X.shape:', X.shape) # X は 100 x 3\n",
        "print(X[:5, :]) # 最初の5人分を表示"
      ],
      "metadata": {
        "id": "K7nGO1ZJbkHk"
      },
      "execution_count": null,
      "outputs": []
    },
    {
      "cell_type": "markdown",
      "source": [
        "以下のセルを実行すると，`X` の分散共分散行列の固有値と固有ベクトルが求まります．\n",
        "ここでは，特異値分解という手法を使ってそれらを求めていますが，説明は省きます．"
      ],
      "metadata": {
        "id": "I94DPHlCLO-b"
      }
    },
    {
      "cell_type": "code",
      "source": [
        "# 分散共分散行列の固有値と固有ベクトルを求める（Xの特異値分解経由で）\n",
        "_, sval, Vt = np.linalg.svd(X, full_matrices=False)\n",
        "eval = sval**2/N\n",
        "U = Vt\n",
        "for d in range(D):\n",
        "    print(f'{d+1}番目の固有値:{eval[d]:.2f}   固有ベクトル:', U[d, :])"
      ],
      "metadata": {
        "id": "0O8I3r669WBU"
      },
      "execution_count": null,
      "outputs": []
    },
    {
      "cell_type": "markdown",
      "source": [
        "得られた3つの固有ベクトルのうち，対応する固有値の大きい2つ（1番目と2番目）を使って行列 `W` を構成し，これを用いて3次元の `X` を 2次元の `Y` に変換します．"
      ],
      "metadata": {
        "id": "g2brhoYuLaJw"
      }
    },
    {
      "cell_type": "code",
      "source": [
        "W = U[:2, :]\n",
        "print(W.shape)\n",
        "print(W)\n",
        "Y = X @ W.T # y = Wx の計算\n",
        "print(Y.shape)\n",
        "print(Y[:5, :]) # 最初の5人分を表示"
      ],
      "metadata": {
        "id": "qZLTA4ZkLkT6"
      },
      "execution_count": null,
      "outputs": []
    },
    {
      "cell_type": "markdown",
      "source": [
        "`Y` の散布図を描いてみましょう．"
      ],
      "metadata": {
        "id": "JhC15Hg8L5UB"
      }
    },
    {
      "cell_type": "code",
      "source": [
        "nList = [44, 47, 41, 6] # 特徴的な4人\n",
        "\n",
        "fig, ax = plt.subplots(facecolor=\"white\", figsize=(8, 8))\n",
        "ax.scatter(Y[:, 0], Y[:, 1])\n",
        "ax.scatter(Y[nList, 0], Y[nList, 1])\n",
        "ax.axvline(0, linestyle='-', color='gray')\n",
        "ax.axhline(0, linestyle='-', color='gray')\n",
        "ax.set_xlim(-40, 40)\n",
        "ax.set_ylim(-40, 40)\n",
        "ax.set_aspect('equal')\n",
        "ax.set_xlabel('$y_1$')\n",
        "ax.set_ylabel('$y_2$')\n",
        "#ax.legend()\n",
        "for n in nList:\n",
        "    plt.annotate(f'{n}', (Y[n, 0]+2, Y[n, 1]+2))\n",
        "plt.show()"
      ],
      "metadata": {
        "id": "lQ3RQe2yI75a"
      },
      "execution_count": null,
      "outputs": []
    },
    {
      "cell_type": "markdown",
      "source": [
        "図にオレンジ色の点として描かれている4人について，元の点数，Xの値，Y の値を表示すると次のようになります．"
      ],
      "metadata": {
        "id": "7WBdvzwKMIMe"
      }
    },
    {
      "cell_type": "code",
      "source": [
        "nList = [44, 47, 41, 6]\n",
        "for n in nList:\n",
        "    print(f'{n:2d} {X[n]+Xm} {X[n]} {Y[n]}')"
      ],
      "metadata": {
        "id": "YS2FVTbZIDE7"
      },
      "execution_count": null,
      "outputs": []
    },
    {
      "cell_type": "markdown",
      "source": [
        "固有値最大の固有ベクトルに対応する $\\mathbf{w}_1$ は"
      ],
      "metadata": {
        "id": "R_GJgEVV2xX6"
      }
    },
    {
      "cell_type": "code",
      "source": [
        "W[0, :]"
      ],
      "metadata": {
        "id": "FJumDof_3LUQ"
      },
      "execution_count": null,
      "outputs": []
    },
    {
      "cell_type": "markdown",
      "source": [
        "ですので， 3科目の点数からそれぞれの平均を引いた値を並べたベクトル $\\mathbf{x} = (\\mbox{数学}, \\mbox{物理}, \\mbox{情報})$ に対して， $y_1 = \\mathbf{w}_1\\cdot \\mathbf{x}$ は\n",
        "おおよそ次のような式となっています．\n",
        "\n",
        "$$\n",
        "y_1 = 0.5 (\\mbox{数学}) - 0.5(\\mbox{物理}) - 0.7(\\mbox{情報})\n",
        "$$\n",
        "\n",
        "したがって，「数学が高得点で他の2科目が低得点」なひとは $y_1$ が正となり，「数学が低得点で他の2科目が高得点」なひとは $y_1$ が負となります．上記の4人の点数でそのことを確認してみましょう．"
      ],
      "metadata": {
        "id": "R58b2ncV3ZgZ"
      }
    },
    {
      "cell_type": "markdown",
      "source": [
        "一方，2番目のベクトル $\\mathbf{w}_2$ は"
      ],
      "metadata": {
        "id": "lGcQFF8a5jCO"
      }
    },
    {
      "cell_type": "code",
      "source": [
        "W[1, :]"
      ],
      "metadata": {
        "id": "xzepoUpj5ql_"
      },
      "execution_count": null,
      "outputs": []
    },
    {
      "cell_type": "markdown",
      "source": [
        "ですので，$y_2 = \\mathbf{w}_2\\cdot\\mathbf{x}$ はおおよそ次のような式となっています．\n",
        "\n",
        "$$\n",
        "y_2 = 0.3 (\\mbox{数学}) + 0.9(\\mbox{物理}) - 0.4(\\mbox{情報})\n",
        "$$\n",
        "\n",
        "「情報が低得点で他の2科目が高得点」なひとは  $y_2$  が正となり，「情報が高得点で他の2科目が低得点」なひとは  $y_2$  が負となります．こちらも上記の4人の点数でそのことを確認してみましょう．"
      ],
      "metadata": {
        "id": "KZ0XVK165t9X"
      }
    },
    {
      "cell_type": "markdown",
      "source": [
        "---\n",
        "### 外食への年間支出金額データの主成分分析\n",
        "\n",
        "独立行政法人統計センターが作成している [教育用標準データセット(SSDSE)](https://www.nstac.go.jp/use/literacy/ssdse/) の中の「SSDSE-家計消費」というデータを使って，主成分分析の実験をやってみましょう．\n",
        "\n",
        "「SSDSE-家計消費」は，47都道府県の県庁所在市で調査された家計消費に関する226項目の数値から成るデータです．「二人以上の世帯の1世帯あたりの焼き肉（外食）への年間支出金額」みたいな数値が含まれています．\n",
        "\n",
        "データの詳細はこちら: https://www.nstac.go.jp/sys/files//kaisetsu-C-2022.pdf\n",
        "\n",
        "この notebook の作成にあたっては，データの前処理の部分でこちらを参考にさせていただきました： https://studiolab.sagemaker.aws/import/github/icoxfog417/mlnote-note/blob/main/notebooks/chapter10_answer.ipynb"
      ],
      "metadata": {
        "id": "8P7-A8G9lcue"
      }
    },
    {
      "cell_type": "markdown",
      "source": [
        "#### データの入手と前処理"
      ],
      "metadata": {
        "id": "0NkyvcrxUsTp"
      }
    },
    {
      "cell_type": "markdown",
      "source": [
        "SSDSEのサイトから CSV ファイルを入手して，扱いやすいように加工します．\n",
        "\n"
      ],
      "metadata": {
        "id": "PHscvhz9lcuf"
      }
    },
    {
      "cell_type": "code",
      "source": [
        "URL = 'https://www.nstac.go.jp/sys/files/SSDSE-C-2022.csv'\n",
        "df_raw = pd.read_csv(URL, encoding='cp932') # 文字コードが UTF8 ではなく ShiftJIS なので，encoding オプションを指定して変換\n",
        "\n",
        "# df_raw の見出し行に記されたコードと，1行目に記されたその項目名との対応表を作り，項目名の行を削除\n",
        "code = df_raw.iloc[0, :]\n",
        "print('##### コードと項目名の対応')\n",
        "print(code)\n",
        "df = df_raw.drop(0, axis=0)\n",
        "\n",
        "# 'SSDSE-C-2022'列の都市コードと'Prefecture'列の都道府県名，'City'列の県庁所在地名を整理\n",
        "city = df.iloc[:, :3]\n",
        "print()\n",
        "print('##### 都市コード，都道府県名，県庁所在地名')\n",
        "print(city.head(5))\n",
        "df = df.drop(['Prefecture', 'City'], axis=1)\n",
        "df = df.set_index('SSDSE-C-2022')\n",
        "\n",
        "df = df.drop('R00000', axis=0) # 'R00000'列は「全国」のデータなのでこれを削除\n",
        "df = df.astype('float32') # 値を浮動小数点型に変換\n",
        "\n",
        "print()\n",
        "df.head(5)"
      ],
      "metadata": {
        "id": "yRntBxbPlcuf"
      },
      "execution_count": null,
      "outputs": []
    },
    {
      "cell_type": "code",
      "source": [
        "city"
      ],
      "metadata": {
        "id": "gPS4rZwjlS1J"
      },
      "execution_count": null,
      "outputs": []
    },
    {
      "cell_type": "markdown",
      "source": [
        "ここでは，各種の「外食」での支出金額のみを特徴として取り出します．13個の特徴量があります．"
      ],
      "metadata": {
        "id": "xUoFmW2rlcug"
      }
    },
    {
      "cell_type": "code",
      "source": [
        "# 一人あたりの外食支出金額のデータを作成\n",
        "df_feature = pd.DataFrame()\n",
        "\n",
        "# コードが 'LB12' で始まる列が，様々な品目の外食支出額．ただし，1世帯あたりの金額\n",
        "columns = {}\n",
        "for c in df.columns:\n",
        "    if c.startswith('LB12') and c != 'LB12':\n",
        "        print(c, code[c])\n",
        "        columns[c] = code[c]\n",
        "        df_feature[c] = df[c]\n",
        "\n",
        "# 列名をコードから項目名に変更\n",
        "df_feature = df_feature.rename(columns=columns)\n",
        "\n",
        "# 都道府県ごとの平均世帯人数で割って一人あたりの金額にする\n",
        "df_feature = df_feature.divide(df['LA03'], axis=0)\n",
        "\n",
        "# DataFrame 表示時の小数部の表示桁数\n",
        "pd.options.display.precision = 1\n",
        "\n",
        "df_feature.head(5)"
      ],
      "metadata": {
        "id": "VFNZySdelcug"
      },
      "execution_count": null,
      "outputs": []
    },
    {
      "cell_type": "markdown",
      "source": [
        "---\n",
        "#### 主成分分析して可視化してみよう\n",
        "\n"
      ],
      "metadata": {
        "id": "MR-YGJhClcug"
      }
    },
    {
      "cell_type": "markdown",
      "source": [
        "平均を 0 にしたデータ行列 X を作ります．データの次元数 D = 13, データ数 N = 47 です．"
      ],
      "metadata": {
        "id": "FkObEobEYE3Y"
      }
    },
    {
      "cell_type": "code",
      "source": [
        "# 平均を 0 にしたデータ行列 X を作る\n",
        "X = df_feature.to_numpy()\n",
        "Xm = np.mean(X, axis=0)\n",
        "X -= Xm\n",
        "N, D = X.shape\n",
        "print(X.shape)\n",
        "print(X[:5, :]) # 最初の5件の特徴量を表示"
      ],
      "metadata": {
        "id": "qLrkpafwVEm3"
      },
      "execution_count": null,
      "outputs": []
    },
    {
      "cell_type": "markdown",
      "source": [
        "X の分散共分散行列の固有値固有ベクトルを求めます．"
      ],
      "metadata": {
        "id": "p6zdNevVYPLj"
      }
    },
    {
      "cell_type": "code",
      "source": [
        "# X の分散共分散行列の固有値と固有ベクトルを求める\n",
        "_, sval, Vt = np.linalg.svd(X, full_matrices=False)\n",
        "eval = sval**2/N\n",
        "print('固有値:', eval)\n",
        "U = Vt\n",
        "\n",
        "# 2つの固有ベクトルの値を表示\n",
        "df_hoge = pd.DataFrame(index=df_feature.columns)\n",
        "df_hoge['u1'] = U[0]\n",
        "df_hoge['u2'] = U[1]\n",
        "df_hoge"
      ],
      "metadata": {
        "id": "OVAwO4SkVwSN"
      },
      "execution_count": null,
      "outputs": []
    },
    {
      "cell_type": "markdown",
      "source": [
        "固有値の大きい方の二つの固有ベクトルの値は，上記のようになっています．\n",
        "\n",
        "- u1 の方向は，正の値の項目と負の値の項目がおよそ半々となっています．正の値の項目への支出が平均より多く，負の値の項目への支出が平均より少ない県では，y1 の値が大きくなります．負の値の中では「他の主食的外食」の絶対値が大きいため，この項目の影響が大きそうです．\n",
        "- u2 の方向は，全ての項目の値が負です．したがって，y2 の値は，外食全体への支出が少ない県で大きくなります．\n",
        "\n",
        "これら2つの固有ベクトルを使って D = 13 次元のデータを 2 次元に変換してみましょう．"
      ],
      "metadata": {
        "id": "_iEKX_xcYTrn"
      }
    },
    {
      "cell_type": "code",
      "source": [
        "# 2次元へ次元削減\n",
        "Y = X @ U[:2, :].T\n",
        "print(Y.shape)\n",
        "print(Y[:5, :]) # 最初の5件の特徴量を表示"
      ],
      "metadata": {
        "id": "28q2gkKhXphN"
      },
      "execution_count": null,
      "outputs": []
    },
    {
      "cell_type": "markdown",
      "source": [
        "数値を見てもわかりにくいので，散布図にしてみます．"
      ],
      "metadata": {
        "id": "GV4QGzLoZrOY"
      }
    },
    {
      "cell_type": "code",
      "source": [
        "# グラフを描く\n",
        "\n",
        "kinki5 = np.array([n in range(24, 29) for n in range(N)]) # 滋賀，京都，大阪，兵庫，奈良\n",
        "tohoku = np.array([n in range(1, 7) for n in range(N)]) # 青森，岩手，宮城，秋田，山形，福島\n",
        "\n",
        "fig, ax = plt.subplots(facecolor=\"white\", figsize=(8, 8))\n",
        "ax.scatter(Y[:, 0], Y[:, 1])\n",
        "ax.scatter(Y[kinki5, 0], Y[kinki5, 1], label='kinki5')\n",
        "ax.scatter(Y[tohoku, 0], Y[tohoku, 1], label='tohoku')\n",
        "ax.axvline(0, linestyle='-', color='gray')\n",
        "ax.axhline(0, linestyle='-', color='gray')\n",
        "ax.set_xlim(-15000, 15000)\n",
        "ax.set_ylim(-15000, 15000)\n",
        "ax.set_aspect('equal')\n",
        "ax.legend()\n",
        "for n in range(N):\n",
        "    plt.annotate(f'{n}', (Y[n, 0]+200, Y[n, 1]+200))\n",
        "plt.show()"
      ],
      "metadata": {
        "id": "RQ2wlSWkXV96"
      },
      "execution_count": null,
      "outputs": []
    },
    {
      "cell_type": "markdown",
      "source": [
        "#### ★★★ やってみよう ★★★\n",
        "\n",
        "上記の結果を見て，次のことを考えよう．結果を紙媒体にメモしておこう．\n",
        "\n",
        "- 東北6県は\n",
        "    - 外食に使う金額が多い方？それとも少ない方？\n",
        "    - うどん，そば，和食，洋食，焼き肉などへの支出が多い方？\n",
        "- 近畿5府県はどんな傾向？\n"
      ],
      "metadata": {
        "id": "cbR9z7hClcuh"
      }
    },
    {
      "cell_type": "markdown",
      "source": [],
      "metadata": {
        "id": "T1jP3skHmCSq"
      }
    }
  ],
  "metadata": {
    "colab": {
      "provenance": [],
      "toc_visible": true,
      "include_colab_link": true
    },
    "kernelspec": {
      "display_name": "Python 3",
      "name": "python3"
    },
    "language_info": {
      "codemirror_mode": {
        "name": "ipython",
        "version": 3
      },
      "file_extension": ".py",
      "mimetype": "text/x-python",
      "name": "python",
      "nbconvert_exporter": "python",
      "pygments_lexer": "ipython3",
      "version": "3.9.7"
    }
  },
  "nbformat": 4,
  "nbformat_minor": 0
}