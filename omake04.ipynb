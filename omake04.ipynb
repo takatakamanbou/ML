{
  "nbformat": 4,
  "nbformat_minor": 0,
  "metadata": {
    "colab": {
      "provenance": [],
      "toc_visible": true,
      "authorship_tag": "ABX9TyPKFKY2sL3SpcvAFNBAC1jH",
      "include_colab_link": true
    },
    "kernelspec": {
      "name": "python3",
      "display_name": "Python 3"
    },
    "accelerator": "GPU",
    "gpuClass": "standard"
  },
  "cells": [
    {
      "cell_type": "markdown",
      "metadata": {
        "id": "view-in-github",
        "colab_type": "text"
      },
      "source": [
        "<a href=\"https://colab.research.google.com/github/takatakamanbou/ML/blob/2023/omake04.ipynb\" target=\"_parent\"><img src=\"https://colab.research.google.com/assets/colab-badge.svg\" alt=\"Open In Colab\"/></a>"
      ]
    },
    {
      "cell_type": "markdown",
      "metadata": {
        "id": "2UzDNLmVS3po"
      },
      "source": [
        "# ML omake04\n",
        "\n",
        "<img width=64 src=\"https://www-tlab.math.ryukoku.ac.jp/~takataka/course/ML/ML-logo.png\">\n"
      ]
    },
    {
      "cell_type": "markdown",
      "metadata": {
        "id": "_4-TmUdCd9FJ"
      },
      "source": [
        "----\n",
        "# 小さなカラー画像をニューラルネットに識別させてみよう\n",
        "----\n",
        "\n",
        "omake03 では最短距離法と最近傍法による識別の実験を行いました．ここでは，ex06notebookC のコードを再利用して，ニューラルネットワークに識別させる実験を行ってみましょう．正答率は改善されるでしょうか？"
      ]
    },
    {
      "cell_type": "markdown",
      "source": [
        "---\n",
        "## 準備"
      ],
      "metadata": {
        "id": "WmqV6cEHFH7y"
      }
    },
    {
      "cell_type": "markdown",
      "source": [
        "#### GPUを利用するようにランタイムのタイプを変更する\n"
      ],
      "metadata": {
        "id": "3xaSo__5tMel"
      }
    },
    {
      "cell_type": "markdown",
      "source": [
        "\n",
        "ex06notebookC と同様に，GPU を利用する設定にしましょう．\n",
        "\n",
        "\n",
        "1. メニューの「ランタイム」 > 「ランタイムのタイプを変更」 を選択．\n",
        "1. 「ノートブックの設定」というポップアップウィンドウが開くので，「ハードウェアアクセラレータ」を「None」から「GPU」に変更し，「保存」する\n",
        "1. いつもどおりコードセルを実行する．すでに実行していた場合，「以前のランタイムを削除する」というポップアップウィンドウが現れるので，「OK」を押しし，一番最初のコードセルから実行し直ます．\n",
        "\n"
      ],
      "metadata": {
        "id": "DHWsvGROH9y5"
      }
    },
    {
      "cell_type": "markdown",
      "source": [
        "### いろいろ import"
      ],
      "metadata": {
        "id": "IBaWKHenwyFJ"
      }
    },
    {
      "cell_type": "code",
      "execution_count": null,
      "metadata": {
        "id": "JBTXo5eHh34P"
      },
      "outputs": [],
      "source": [
        "# 準備あれこれ\n",
        "import numpy as np\n",
        "import matplotlib.pyplot as plt\n",
        "import pandas as pd\n",
        "import seaborn\n",
        "seaborn.set()"
      ]
    },
    {
      "cell_type": "code",
      "source": [
        "# PyTorch 関係のほげ\n",
        "import torch\n",
        "import torch.nn as nn\n",
        "from torch.utils.data import Dataset, DataLoader\n",
        "from torchvision.transforms import ToTensor, Normalize, Compose\n",
        "from torchvision.datasets import CIFAR10\n",
        "import torchsummary\n",
        "\n",
        "device = torch.device('cuda:0' if torch.cuda.is_available() else 'cpu')\n",
        "print(device)"
      ],
      "metadata": {
        "id": "hqKwr1oJD4mn"
      },
      "execution_count": null,
      "outputs": []
    },
    {
      "cell_type": "markdown",
      "source": [
        "### データの入手\n",
        "\n"
      ],
      "metadata": {
        "id": "oNh58DPUJXAj"
      }
    },
    {
      "cell_type": "markdown",
      "source": [
        "ここでは，CIFAR10 と呼ばれる，10クラスから成る小さな画像のデータセットを扱います．オリジナルの CIFAR10 は各クラス6000枚，合計6万枚の画像から成りますが，ここではそこからランダムに600x10 = 6000枚を抽出したものを使うことにします．"
      ],
      "metadata": {
        "id": "yE1uOXasOEjb"
      }
    },
    {
      "cell_type": "code",
      "source": [
        "! wget -nc https://www-tlab.math.ryukoku.ac.jp/~takataka/course/ML/minicifar10.npz\n",
        "cifar10 = np.load('minicifar10.npz')\n",
        "XL = cifar10['datL'].astype(float)\n",
        "YL = cifar10['labL']\n",
        "XT = cifar10['datT'].astype(float)\n",
        "YT = cifar10['labT']\n",
        "classname = cifar10['classname']\n",
        "print(XL.shape, YL.shape, XT.shape, YT.shape)"
      ],
      "metadata": {
        "id": "FYBIE10MJeES"
      },
      "execution_count": null,
      "outputs": []
    },
    {
      "cell_type": "markdown",
      "source": [
        "`XL` が学習用のデータの配列，`YL` がそのクラスラベルを表す整数値，`XT` がテスト用のデータの配列，`YT` がそのクラスラベルを表す整数値です．クラスラベルの整数値は 0 から 9 までで，それぞれ次のものを表します．"
      ],
      "metadata": {
        "id": "0dTUwiK1OtGq"
      }
    },
    {
      "cell_type": "code",
      "source": [
        "K = 10\n",
        "for ik in range(K):\n",
        "    print(ik, classname[ik])"
      ],
      "metadata": {
        "id": "0JxiGQ4zPHK5"
      },
      "execution_count": null,
      "outputs": []
    },
    {
      "cell_type": "markdown",
      "source": [
        "### 画像を眺めてみる"
      ],
      "metadata": {
        "id": "ZMKPDkk3KMV6"
      }
    },
    {
      "cell_type": "markdown",
      "source": [
        "画像を表示させる関数を定義しておきます．ex03notebookA や B で使っている `display` 関数と似てますが使い方が少し違うので注意．"
      ],
      "metadata": {
        "id": "hTlXSLYXPSNj"
      }
    },
    {
      "cell_type": "code",
      "source": [
        "#####  データの最初の nx x ny 枚を可視化する関数（カラー版）の定義\n",
        "#         （画素値の格納順は [H, W, C] で C は BGR ではなく RGB を仮定）\n",
        "#\n",
        "def mosaicImageC(ax, dat, nx, ny, nrow=32, ncol=32, gap=4):\n",
        "\n",
        "    # 並べた画像の幅と高さ\n",
        "    width  = nx * (ncol + gap) + gap\n",
        "    height = ny * (nrow + gap) + gap\n",
        "\n",
        "    # 画像の作成\n",
        "    img = np.zeros((height, width, 3), dtype=int) + 128\n",
        "    for iy in range(ny):\n",
        "        lty = iy*(nrow + gap) + gap\n",
        "        for ix in range(nx):\n",
        "            if iy*nx+ix >= dat.shape[0]:\n",
        "                break\n",
        "            ltx = ix*(ncol + gap) + gap\n",
        "            img[lty:lty+nrow, ltx:ltx+ncol, :] = dat[iy*nx+ix, :].reshape((nrow, ncol, 3))\n",
        "\n",
        "    # 表示\n",
        "    ax.axis('off')\n",
        "    ax.imshow(img)"
      ],
      "metadata": {
        "id": "7A17jXoJKTzW"
      },
      "execution_count": null,
      "outputs": []
    },
    {
      "cell_type": "markdown",
      "source": [
        "次のセルを実行すると，`XL` の最初の 40 個のデータを 8 列 x 5 行に並べた画像を表示します．"
      ],
      "metadata": {
        "id": "aKmR0NAiPegM"
      }
    },
    {
      "cell_type": "code",
      "source": [
        "fig, ax = plt.subplots(figsize=(8, 8))\n",
        "mosaicImageC(ax, XL[:40, :], 8, 5)\n",
        "plt.show()"
      ],
      "metadata": {
        "id": "qQr9F4VgKXTW"
      },
      "execution_count": null,
      "outputs": []
    },
    {
      "cell_type": "markdown",
      "metadata": {
        "id": "Z4c3TGUV38Ri"
      },
      "source": [
        "----\n",
        "## 実験1\n",
        "\n",
        "上で用意したデータを使って実験しましょう．\n"
      ]
    },
    {
      "cell_type": "markdown",
      "source": [
        "#### 関数等の定義\n",
        "\n",
        "実験で使う関数等の定義をしておきます．以下のセルに，ex06notebookC 実験1の「関数等の定義」に書いてあるコードをコピー＆ペーストしましょう（注）．対象のコードセルは4つあります．\n",
        "\n",
        "※注意: 次のようにすると楽かも：\n",
        "1. コピー元のコードセルをクリックして選択し，右クリックまたは右上の「:」から「セルをコピー」．複数セルをまとめて選択することもできます．\n",
        "1. ペースト先のセルを選択して CTRL + V (Windows) または Command + V (macOS)\n"
      ],
      "metadata": {
        "id": "4Id3X5nHLhwz"
      }
    },
    {
      "cell_type": "code",
      "source": [],
      "metadata": {
        "id": "W9Clc2v3P9N6"
      },
      "execution_count": null,
      "outputs": []
    },
    {
      "cell_type": "markdown",
      "source": [
        "### 実験\n",
        "\n",
        "次のようにして学習とテストを実行しましょう．\n",
        "\n",
        "1. ex06notebookC 実験1の「実験」に書いてあるコードを ↓ のセルにコピー＆ペースト\n",
        "1. 一部を修正する：\n",
        "    - 次の行の `mnist` を `cifar10` にする．\n",
        "```\n",
        "dsL = MMDataset(minimnist, 'L')\n",
        "dsT = MMDataset(minimnist, 'T')\n",
        "```\n",
        "    - 次の行の `784` を `3072` にする．MNIST のデータは $28\\times 28 = 784$ 次元でしたが，CIFAR10 のデータは $32 \\times 32 \\times 3 = 3072$ 次元あります．\n",
        "```\n",
        "# ネットワークモデルの定義\n",
        "neurons = [784, 10]             # ロジスティック回帰\n",
        "#neurons = [784, 1000, 10]       # 2層（中間層1層）の階層型ニューラルネット\n",
        "#neurons = [784, 1000, 1000, 10] # 3層（中間層2層）の階層型ニューラルネット\n",
        "```\n",
        "    - 次の行の `784` を `3072` にする．\n",
        "```\n",
        "# torchsummary\n",
        "torchsummary.summary(net, (1, 784))\n",
        "```\n",
        "    - 条件によっては「学習曲線の表示」で描く二つのグラフの縦軸範囲が適切でなくなる場合があります．`ax[0].set_ylim()` と `ax[1].set_ylim()` の引数を変更するとよいでしょう．\n",
        "1. ロジスティック回帰の実験をやって，学習データ／テストデータに対する損失および識別率の結果をメモしましょう（notebook中の適当な場所で「+テキスト」ボタンを押してセルを作り，その中に貼り付けておくとよいでしょう）．\n",
        "1. 2層や3層のニューラルネットでも実験して同様に結果を残しましょう．どんな違いがあるか考えてみてね．"
      ],
      "metadata": {
        "id": "R9sMf6JD0MlE"
      }
    },
    {
      "cell_type": "code",
      "source": [],
      "metadata": {
        "id": "6J8G2-C436o1"
      },
      "execution_count": null,
      "outputs": []
    },
    {
      "cell_type": "markdown",
      "source": [
        "----\n",
        "## 実験2\n",
        "\n",
        "実験1では CIFAR10 データセットの一部（学習5000枚，テスト1000枚）しか使っていませんが，全部のデータ（学習5万枚，テスト1万枚）を使った実験をやってみましょう．\n",
        "\n",
        "1. 実験1の「実験」のコードセルの\n",
        "```\n",
        "dsL = MMDataset(cifar10, 'L')\n",
        "dsT = MMDataset(cifar10, 'T')\n",
        "```\n",
        "の箇所を以下で置き換えます．\n",
        "```\n",
        "transform = Compose([\n",
        "    ToTensor(),\n",
        "    Normalize((0.5, 0.5, 0.5), (0.5, 0.5, 0.5)),\n",
        "])\n",
        "dsL = CIFAR10(root='.', download=True, train=True, transform=transform)\n",
        "dsT = CIFAR10(root='.', download=True, train=False, transform=transform)\n",
        "```\n",
        "1. 学習の繰り返し回数を 20 程度に減らします．学習データ数が 10 倍になるので 1epoch あたりパラメータ更新回数も 10 倍なので，epoch 数は減らしても大丈夫．\n",
        "```\n",
        "# 学習の繰り返し回数\n",
        "nepoch = 50\n",
        "```\n",
        "1. ニューラルネットの構造は実験1と同じですが，結果はどのように変わるでしょうか？"
      ],
      "metadata": {
        "id": "GnDOlahATb7-"
      }
    },
    {
      "cell_type": "markdown",
      "source": [
        "## 畳み込みニューラルネットにしたい？\n",
        "\n",
        "ex06notebookC の「よだんだよん」にも書きましたが，画像データを扱う場合，ここで使っているような「全結合型」ニューラルネットワークではなく，「畳み込み」という演算を行う層を持つ「畳み込みニューラルネット」の方が高い汎化性能が得られることが多いです．\n",
        "\n",
        "上記のコードの場合，`MLP` クラスの定義の中身を書き換えれば畳み込みニューラルネットにすることができます．興味があれば調べてみるとよいでしょう．"
      ],
      "metadata": {
        "id": "ZBFxVah98O-j"
      }
    }
  ]
}