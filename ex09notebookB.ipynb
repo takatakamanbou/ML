{
  "cells": [
    {
      "cell_type": "markdown",
      "metadata": {
        "id": "view-in-github",
        "colab_type": "text"
      },
      "source": [
        "<a href=\"https://colab.research.google.com/github/takatakamanbou/ML/blob/2023/ex09notebookB.ipynb\" target=\"_parent\"><img src=\"https://colab.research.google.com/assets/colab-badge.svg\" alt=\"Open In Colab\"/></a>"
      ]
    },
    {
      "cell_type": "markdown",
      "metadata": {
        "id": "2UzDNLmVS3po"
      },
      "source": [
        "# ML ex09notebookB\n",
        "\n",
        "<img width=72 src=\"https://www-tlab.math.ryukoku.ac.jp/~takataka/course/ML/ML-logo.png\"> [この授業のウェブページ](https://www-tlab.math.ryukoku.ac.jp/wiki/?ML/2023)\n"
      ]
    },
    {
      "cell_type": "markdown",
      "metadata": {
        "id": "7glgWbdlh34P"
      },
      "source": [
        "----\n",
        "## 準備\n",
        "----\n",
        "\n",
        "\n",
        "以下，コードセルを上から順に実行してながら読んでいってね．"
      ]
    },
    {
      "cell_type": "code",
      "execution_count": null,
      "metadata": {
        "id": "JBTXo5eHh34P"
      },
      "outputs": [],
      "source": [
        "# 準備あれこれ\n",
        "import numpy as np\n",
        "import pandas as pd\n",
        "import matplotlib.pyplot as plt\n",
        "import seaborn\n",
        "seaborn.set()"
      ]
    },
    {
      "cell_type": "markdown",
      "metadata": {
        "id": "_WXvQDHGjLD8"
      },
      "source": [
        "----\n",
        "## データの前処理(2) 特徴のスケーリング\n",
        "----\n",
        "\n",
        "「データの前処理(1)」に続いて，データの前処理の方法を解説します．\n",
        "ここでは，量的データの値の範囲や散らばり方を適切に調整する **スケーリング** (scaling) という前処理を扱います．\n",
        "\n",
        "\n"
      ]
    },
    {
      "cell_type": "markdown",
      "source": [
        "---\n",
        "### 特徴のスケーリング"
      ],
      "metadata": {
        "id": "m_05KKmfwFQ_"
      }
    },
    {
      "cell_type": "markdown",
      "source": [
        "#### 値の範囲や散らばり方が異なると...\n"
      ],
      "metadata": {
        "id": "hKcJtrZiUnBg"
      }
    },
    {
      "cell_type": "markdown",
      "source": [
        "機械学習の手法の多くは，特徴の値の範囲や散らばり方に影響を受けます．\n",
        "そのことを理解するための具体例として，「身長(cm)」と「体重(kg)」という二つの値から，「人間」と「ほげ星人」を識別する問題を考えます．\n",
        "「識別とは／最短距離法」の notebook などでも出てきたものです．"
      ],
      "metadata": {
        "id": "om8vPoKIY2VF"
      }
    },
    {
      "cell_type": "code",
      "source": [
        "# 「人間 vs ほげ星人」データの入手\n",
        "dfHoge = pd.read_csv('https://www-tlab.math.ryukoku.ac.jp/~takataka/course/ML/humanvshoge.csv', header=0)\n",
        "X = dfHoge.loc[:, ['height', 'weight']].to_numpy()\n",
        "Y = np.zeros(X.shape[0])\n",
        "hoge = dfHoge['label'] == 'Hoge'\n",
        "Y[hoge] = 1 # Human = 0, Hoge = 1\n",
        "dfHoge"
      ],
      "metadata": {
        "id": "Ia5fcGF-U_ED"
      },
      "execution_count": null,
      "outputs": []
    },
    {
      "cell_type": "code",
      "source": [
        "# 散布図を描く\n",
        "fig, ax = plt.subplots(facecolor=\"white\", figsize=(8, 4.8))\n",
        "ax.set_xlim(0, 250)\n",
        "ax.set_ylim(0,150)\n",
        "ax.scatter(X[Y == 0, 0], X[Y == 0, 1], c='r', label='Human')\n",
        "ax.scatter(X[Y == 1, 0], X[Y == 1, 1], c='b', label='Hoge')\n",
        "ax.set_xlabel('Height', fontsize=16)\n",
        "ax.set_ylabel('Weight', fontsize=16)\n",
        "ax.legend(fontsize=16)\n",
        "plt.show()"
      ],
      "metadata": {
        "id": "oGkRPopyWL35"
      },
      "execution_count": null,
      "outputs": []
    },
    {
      "cell_type": "markdown",
      "source": [
        "このデータでは，身長の値を[cm]の単位で，体重の値を[kg]の単位で表しています．\n",
        "しかし，単位をどのように選ぶかは任意ですので，身長を[mm]や[m],[km]で表したり，体重を[g]や[t]で表したりすることも可能です．\n",
        "このデータでは身長の値はだいたい $[50, 210]$ くらいの範囲にありますが，仮に[m]単位にすれば，$[0.5, 2.1]$ くらいの範囲に入ることになります．\n",
        "その場合，体重に比べてずいぶん小さい値をとります．\n",
        "あとで説明しますが，このように特徴値によって範囲や散らばり方が大きく異なっていると，機械学習の結果に悪影響が及ぶことがあります．\n"
      ],
      "metadata": {
        "id": "hraCGrmeb0hY"
      }
    },
    {
      "cell_type": "markdown",
      "source": [
        "上では単位の違いを取り上げて説明しましたが，本質的には単位をどうとるかという問題ではありません．\n",
        "以下では身長[cm]と体重[kg]のどちらかの値が $1/5$ となっている場合を図に描いてみることにします．\n",
        "\n",
        "<img width=\"100%\" src=\"https://www-tlab.math.ryukoku.ac.jp/~takataka/course/ML/scaling.png\">\n",
        "\n",
        "上記の図の上段は，体重の値が元データの $1/5$ になった場合の散布図，下段は，身長の値が $1/5$ になった場合の散布図です．それぞれ，左側の図は元データと同じ描画範囲で描かれていますが，右側は，範囲も調整してあります．\n",
        "\n",
        "左側の図は軸目盛の縦横の比率が1:1となっており，身長と体重の値の広がり方の違いがよく分かります．一方，右のように範囲を調整してしまうと，それが見えなくなっています．\n"
      ],
      "metadata": {
        "id": "qOGaZ9WUEl5I"
      }
    },
    {
      "cell_type": "markdown",
      "source": [
        "上記の例で示しているような値の大きさの違いは，機械学習の結果に大きな影響を与えます．\n",
        "そのことを確認するために，例として，元データ，体重を$1/5$にしたデータ，身長を$1/5$にしたデータ，のそれぞれを最短距離法で識別させてみます．プロトタイプはクラスごとのデータの平均とします．\n",
        "\n",
        "\n",
        "<img width=\"100%\" src=\"https://www-tlab.math.ryukoku.ac.jp/~takataka/course/ML/scaling3.png\">\n",
        "\n",
        "上の図は，左から順に，元データ，体重を$1/5$にしたデータ，身長を$1/5$にしたデータの識別結果です．\n",
        "値の大きさが変われば距離の値も変わり，大きな値ほど距離の値に大きく寄与するため，それぞれまるで異なる識別境界となっていることがわかります．\n",
        "\n",
        "この識別の例に限らず，多くの機械学習の手法は，値の範囲や散らばり方の違いに影響を受けて結果が変わります．\n",
        "そのため，値の範囲や散らばり方を適切に調整するスケーリングが重要となります．"
      ],
      "metadata": {
        "id": "-3ehcdjQOaK1"
      }
    },
    {
      "cell_type": "markdown",
      "source": [
        "#### 特徴のスケーリング\n",
        "\n",
        "値の範囲や散らばり方を調整する方法として代表的なもの二つを紹介します．"
      ],
      "metadata": {
        "id": "FlTE3p2SakNI"
      }
    },
    {
      "cell_type": "markdown",
      "source": [
        "一つ目は，「値の範囲をそろえる」というスケーリングの方法です．\n",
        "特徴によって値の範囲が異なっているものを，一定の範囲（$[0, 1]$ や $[-1, 1]$ などがよく用いられる）にそろえます．\n",
        "例えば，$[0, 1]$ にそろえる場合，学習データの特徴ごとに値の最小 $x_{\\rm min}$ と最大 $x_{\\rm max}$ を求めて，個々の値 $x_n$ を次式によって新しい値 $x_n^{\\rm new}$ に変換します．\n",
        "$$\n",
        "x_n^{\\rm new} = \\frac{x_n - x_{\\rm min}}{x_{\\rm max} - x_{\\rm min}}\n",
        "$$\n",
        "これによって，$[x_{\\rm min},x_{\\rm max}]$ だった範囲が $[0, 1]$ になります．\n"
      ],
      "metadata": {
        "id": "m78J4d-0fmqi"
      }
    },
    {
      "cell_type": "code",
      "source": [
        "# 値の範囲をそろえるスケーリング\n",
        "Xmin = np.min(X, axis=0) # 身長体重それぞれの最小値\n",
        "Xmax = np.max(X, axis=0) # 同最大値\n",
        "print('元の最小値:' ,Xmin, '     元の最大値:', Xmax)\n",
        "Xnew = (X - Xmin) / (Xmax - Xmin)\n",
        "print('スケーリング後の最小値:' ,np.min(Xnew, axis=0), '     スケーリング後の最大値:', np.max(Xnew, axis=0))\n",
        "\n",
        "# 散布図を描く\n",
        "fig, ax = plt.subplots(facecolor=\"white\", figsize=(6, 6))\n",
        "ax.set_xlim(0, 1)\n",
        "ax.set_ylim(0, 1)\n",
        "ax.set_aspect('equal')\n",
        "ax.scatter(Xnew[Y == 0, 0], Xnew[Y == 0, 1], c='r')\n",
        "ax.scatter(Xnew[Y == 1, 0], Xnew[Y == 1, 1], c='b')\n",
        "plt.show()"
      ],
      "metadata": {
        "id": "Z2PZ7KIsicGU"
      },
      "execution_count": null,
      "outputs": []
    },
    {
      "cell_type": "markdown",
      "source": [
        "もう一つは，「値の平均を$0$に，分散を（標準偏差を）$1$にする」というスケーリングの方法です．\n",
        "学習データの特徴ごとにその平均 $\\mu$ と分散$\\sigma^2$ を求めて，個々の値 $x_n$ を次式によって新しい値 $x_n^{\\rm new}$ に変換します．\n",
        "$$\n",
        "x_n^{\\rm new} = \\frac{x_n - \\mu}{\\sigma}\n",
        "$$\n",
        "これによって，$x_n^{\\rm new}$ は平均が $0$ で分散が $1$ になります．"
      ],
      "metadata": {
        "id": "c8ZQRTTBkQAZ"
      }
    },
    {
      "cell_type": "code",
      "source": [
        "# 平均 0 分散 1 にするスケーリング\n",
        "mu = np.mean(X, axis=0) # 身長体重それぞれの平均値\n",
        "sigma = np.std(X, axis=0) # 同標準偏差\n",
        "print('元の平均:' ,mu, '     元の標準偏差:', sigma)\n",
        "Xnew = (X - mu) / sigma\n",
        "print('スケーリング後の平均:' ,np.mean(Xnew, axis=0), '     スケーリング後の標準偏差:', np.std(Xnew, axis=0))\n",
        "\n",
        "# 散布図を描く\n",
        "fig, ax = plt.subplots(facecolor=\"white\", figsize=(6, 6))\n",
        "ax.set_xlim(-3, 3)\n",
        "ax.set_ylim(-3, 3)\n",
        "ax.set_aspect('equal')\n",
        "ax.scatter(Xnew[Y == 0, 0], Xnew[Y == 0, 1], c='r')\n",
        "ax.scatter(Xnew[Y == 1, 0], Xnew[Y == 1, 1], c='b')\n",
        "plt.show()"
      ],
      "metadata": {
        "id": "AtA35ZcDkP0E"
      },
      "execution_count": null,
      "outputs": []
    },
    {
      "cell_type": "markdown",
      "source": [
        "ここで説明した二つのスケーリング手法のうち，「値の範囲をそろえる」の方はよく **正規化**(normalization)と呼ばれます．\n",
        "また，「値の平均を$0$に，分散を（標準偏差を）$1$にする」の方はよく **標準化**(staqndardization)と呼ばれます．\n",
        "ただし，後者のことを正規化と呼ぶ場合もありますので注意が必要です．\n",
        "\n",
        "正規化や標準化で用いる最大最小や平均分散の値は，学習データで計算するものです．学習データとは別のデータでテストする際には，学習データで求めた最大最小や平均分散を使って変換してやらねばなりません．さもなくば，学習データとテストデータで値の意味が違ってしまうことになります．実際のデータを扱う際にはこの点に注意が必要です．"
      ],
      "metadata": {
        "id": "FkkZ7AP1nzn0"
      }
    },
    {
      "cell_type": "markdown",
      "source": [
        "#### ★★ やってみよう ★★"
      ],
      "metadata": {
        "id": "fstMUVzur6ga"
      }
    },
    {
      "cell_type": "code",
      "source": [
        "dataL = np.array([20, -10, 30, 10,  50, 40])\n",
        "print(dataL)"
      ],
      "metadata": {
        "id": "OsbJbtosq9gT"
      },
      "execution_count": null,
      "outputs": []
    },
    {
      "cell_type": "markdown",
      "source": [
        "(1) 上記のセルを実行して表示される6つのデータに対して，値の範囲を $[0, 1]$ にするスケーリングを施す．\n",
        "このとき，元のデータの $20$ という値はスケーリング後にいくつになるか答えなさい．\n",
        "\n",
        "次のセルを実行すると答え合わせできます．"
      ],
      "metadata": {
        "id": "u7znJklBtXzI"
      }
    },
    {
      "cell_type": "code",
      "source": [
        "data_min, data_max = np.min(dataL), np.max(dataL)\n",
        "dataL_new = (dataL - data_min) / (data_max - data_min)\n",
        "print(dataL_new)"
      ],
      "metadata": {
        "id": "mMnT3_qIs1v-"
      },
      "execution_count": null,
      "outputs": []
    },
    {
      "cell_type": "markdown",
      "source": [
        "(2) 上のデータを用いて決めたスケーリングの設定を用いて，以下に示すデータをスケーリングする．それぞれスケーリング後の値はいくつになるか答えなさい．\n"
      ],
      "metadata": {
        "id": "g6tWj0WN_dt8"
      }
    },
    {
      "cell_type": "code",
      "source": [
        "dataT = np.array([20, -10, 50, 60, -20])\n",
        "print(dataT)"
      ],
      "metadata": {
        "id": "7Mbh3JKltPvj"
      },
      "execution_count": null,
      "outputs": []
    },
    {
      "cell_type": "markdown",
      "source": [
        "次のセルを実行すると答え合わせできます．"
      ],
      "metadata": {
        "id": "4QsnDsZ7B3k8"
      }
    },
    {
      "cell_type": "code",
      "source": [
        "dataT_new = (dataT - data_min) / (data_max - data_min)\n",
        "print(dataT_new)"
      ],
      "metadata": {
        "id": "O9o_kveZBuJ1"
      },
      "execution_count": null,
      "outputs": []
    },
    {
      "cell_type": "code",
      "source": [],
      "metadata": {
        "id": "U8TobvtTBxmZ"
      },
      "execution_count": null,
      "outputs": []
    }
  ],
  "metadata": {
    "colab": {
      "provenance": [],
      "toc_visible": true,
      "include_colab_link": true
    },
    "kernelspec": {
      "display_name": "Python 3",
      "name": "python3"
    },
    "language_info": {
      "codemirror_mode": {
        "name": "ipython",
        "version": 3
      },
      "file_extension": ".py",
      "mimetype": "text/x-python",
      "name": "python",
      "nbconvert_exporter": "python",
      "pygments_lexer": "ipython3",
      "version": "3.9.7"
    }
  },
  "nbformat": 4,
  "nbformat_minor": 0
}