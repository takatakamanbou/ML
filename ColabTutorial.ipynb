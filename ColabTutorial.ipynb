{
  "nbformat": 4,
  "nbformat_minor": 0,
  "metadata": {
    "colab": {
      "provenance": [],
      "toc_visible": true,
      "authorship_tag": "ABX9TyMzlBzpVIoJinxtun22JyNJ",
      "include_colab_link": true
    },
    "kernelspec": {
      "name": "python3",
      "display_name": "Python 3"
    }
  },
  "cells": [
    {
      "cell_type": "markdown",
      "metadata": {
        "id": "view-in-github",
        "colab_type": "text"
      },
      "source": [
        "<a href=\"https://colab.research.google.com/github/takatakamanbou/ML/blob/main/ColabTutorial.ipynb\" target=\"_parent\"><img src=\"https://colab.research.google.com/assets/colab-badge.svg\" alt=\"Open In Colab\"/></a>"
      ]
    },
    {
      "cell_type": "markdown",
      "metadata": {
        "id": "2UzDNLmVS3po"
      },
      "source": [
        "# はじめての Google Colab\n",
        "\n",
        "by [takataka](https://www-tlab.math.ryukoku.ac.jp/wiki/)"
      ]
    },
    {
      "cell_type": "markdown",
      "metadata": {
        "id": "J8jbpBnhc4Sn"
      },
      "source": [
        "## これは何？"
      ]
    },
    {
      "cell_type": "markdown",
      "metadata": {
        "id": "--GIYpCHc7Bh"
      },
      "source": [
        "Google が提供している Google Colaboratory（以下 Google Colab) というサービスを利用して作成した文書です．Colab Notebook と呼ばれたりします．文書の中に Python というプログラミング言語のプログラムを埋め込んでおき，\n",
        "クラウド上に仮想的に構築されたコンピュータ上でそれを実行させることができます．\n"
      ]
    },
    {
      "cell_type": "markdown",
      "source": [
        "## この Notebook のファイルを入手して「マイドライブ」に保存する\n",
        "\n"
      ],
      "metadata": {
        "id": "tm7koGJVTLwE"
      }
    },
    {
      "cell_type": "markdown",
      "source": [
        "この Notebook を入手する方法については，以下のリンク先に書いてあります．\n",
        "まずはそちらの説明にしたがってください．\n",
        "\n",
        "https://www-tlab.math.ryukoku.ac.jp/wiki/?ColabTutorial\n",
        "\n",
        "そちらのページの最後までやってからここにたどりついた（「マイドライブ」>「Colab Notebooks」に保存したこの Notebook を開いて見ている）ひとは，次のステップへ進みましょう．\n"
      ],
      "metadata": {
        "id": "G-tb5V0LqKlR"
      }
    },
    {
      "cell_type": "markdown",
      "metadata": {
        "id": "HVIellLoyNYR"
      },
      "source": [
        "## コードを実行してみよう\n"
      ]
    },
    {
      "cell_type": "markdown",
      "metadata": {
        "id": "ftdqDazUyRZD"
      },
      "source": [
        "Notebook 中の↓のような箱には，Python のコードが書かれています．このような箱を「コードセル」といいます．コードセルをクリックして選択し，Shift+Enterを押す（シフトキーを押しながらエンターキーを押す）か，左端の再生ボタンみたいなのを押すと，そのコードを実行させることができます．\n",
        "やってみましょう．"
      ]
    },
    {
      "cell_type": "code",
      "metadata": {
        "id": "8AsXHZz6tBoC"
      },
      "source": [
        "x = 4649\n",
        "y = 1\n",
        "print(x+y)"
      ],
      "execution_count": null,
      "outputs": []
    },
    {
      "cell_type": "markdown",
      "metadata": {
        "id": "LyeN_5YvtI97"
      },
      "source": [
        "実行できたら，今度は上記の `y = 1` を `y = 1314` に書き換えてから実行（Shift+Enter）し直してみましょう．"
      ]
    },
    {
      "cell_type": "markdown",
      "source": [
        "## テキストセルを編集してみよう"
      ],
      "metadata": {
        "id": "4A5LH3gyq4KA"
      }
    },
    {
      "cell_type": "markdown",
      "metadata": {
        "id": "eoUYexvYtcfN"
      },
      "source": [
        "Notebook 中には，コードセルとは別に，テキストで説明文が記されたセルもあります．このようなセルを「テキストセル」といいます．このセルもテキストセルです．\n",
        "\n",
        "テキストセルをダブルクリックすると編集することができます．このセルを適当にいじってから Shift+Enter してみましょう．\n",
        "\n",
        "\n",
        "ほげほげほげほげ\n",
        "\n",
        "- 箇条書き\n",
        "- かじょーがき\n",
        "    - 過剰牡蠣\n",
        "    - 渦状柿\n",
        "\n",
        "1. 番号つき箇条書き\n",
        "1. 2番目\n",
        "1. 3番目"
      ]
    },
    {
      "cell_type": "markdown",
      "source": [
        "## セルを追加してみよう"
      ],
      "metadata": {
        "id": "ycXlA5H-rw2m"
      }
    },
    {
      "cell_type": "markdown",
      "source": [
        "セルの下の方にマウスカーソルを持って行くと，「+コード」「+テキスト」というアイコンが表示されます．それらをクリックすると，新しいセルを作ることができます．\n",
        "\n",
        "試しにこのセルの下に新しいテキストセルを作り，適当に書いてみましょう．"
      ],
      "metadata": {
        "id": "DN7QERfBr00Q"
      }
    },
    {
      "cell_type": "markdown",
      "source": [
        "## 実行した/編集した Notebook を保存しよう"
      ],
      "metadata": {
        "id": "HjoBoJiTuGCa"
      }
    },
    {
      "cell_type": "markdown",
      "source": [
        "- コードセルを実行したりテキストセルをいじったりしたあとは，保存しておきましょう．左上の\n",
        "メニューの「ファイル」 > 「保存」．Google Drive 上に保存されますので，実習室のPCで保存したものをノートPCで開くことができます．\n",
        "- takataka の授業の説明の通りに Notebook を「ドライブにコピー」 した場合，デフォルトの保存先は，Google Drive の「マイドライブ」 > 「Colab Notebooks」 です． https://drive.google.com/drive/my-drive からたどれます．\n"
      ],
      "metadata": {
        "id": "Qeh6pjwruOpr"
      }
    },
    {
      "cell_type": "markdown",
      "metadata": {
        "id": "aHiEmV3dyWbR"
      },
      "source": [
        "## あれこれ"
      ]
    },
    {
      "cell_type": "markdown",
      "metadata": {
        "id": "E25jm84Ou_-r"
      },
      "source": [
        "- コードセルを実行中にセルの左端の再生ボタンみたいなの（丸の中に三角形）をクリックすると，実行を中断させられます．\n",
        "- コードセルは，上から順に実行しないとエラーになったりおかしなふるまいをしたりすることがあります．わけがわからなくなったときは，メニューで「ランライム」 > 「セッションを再起動」 するとよいでしょう．\n"
      ]
    },
    {
      "cell_type": "markdown",
      "metadata": {
        "id": "mQ4cHdqyv2nk"
      },
      "source": [
        "## おわりに\n",
        "以下のセルを実行してみよう．`y` の値を `-1720` に修正して再実行して，最後に出力される4桁の数をメモしておこう．\n"
      ]
    },
    {
      "cell_type": "code",
      "metadata": {
        "id": "6EYnvIOJgpHc"
      },
      "source": [
        "n = 0\n",
        "for i in range(9):\n",
        "    n = n*10 + 1\n",
        "    print(f'{n} の2乗は {n*n}')\n",
        "print()\n",
        "\n",
        "x = 4649\n",
        "y = 1314 #  -1720 に修正してから実行してみよう\n",
        "print(x+y)"
      ],
      "execution_count": null,
      "outputs": []
    },
    {
      "cell_type": "code",
      "metadata": {
        "id": "v8-iBdycwMqF"
      },
      "source": [],
      "execution_count": null,
      "outputs": []
    }
  ]
}