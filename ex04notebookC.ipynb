{
  "cells": [
    {
      "cell_type": "markdown",
      "metadata": {
        "id": "view-in-github",
        "colab_type": "text"
      },
      "source": [
        "<a href=\"https://colab.research.google.com/github/takatakamanbou/ML/blob/2023/ex04notebookC.ipynb\" target=\"_parent\"><img src=\"https://colab.research.google.com/assets/colab-badge.svg\" alt=\"Open In Colab\"/></a>"
      ]
    },
    {
      "cell_type": "markdown",
      "metadata": {
        "id": "2UzDNLmVS3po"
      },
      "source": [
        "# ML ex04notebookC\n",
        "\n",
        "<img width=72 src=\"https://www-tlab.math.ryukoku.ac.jp/~takataka/course/ML/ML-logo.png\"> [この授業のウェブページ](https://www-tlab.math.ryukoku.ac.jp/wiki/?ML/2023)\n"
      ]
    },
    {
      "cell_type": "markdown",
      "metadata": {
        "id": "_WXvQDHGjLD8"
      },
      "source": [
        "----\n",
        "## 演習: 勾配法によるパラメータの最適化\n",
        "----\n",
        "\n",
        "\n"
      ]
    },
    {
      "cell_type": "markdown",
      "metadata": {
        "id": "7glgWbdlh34P"
      },
      "source": [
        "----\n",
        "### 準備\n",
        "\n",
        "\n",
        "以下，コードセルを上から順に実行してながら読んでいってね．"
      ]
    },
    {
      "cell_type": "code",
      "execution_count": null,
      "metadata": {
        "id": "JBTXo5eHh34P"
      },
      "outputs": [],
      "source": [
        "# 準備あれこれ\n",
        "import numpy as np\n",
        "import matplotlib.pyplot as plt\n",
        "from matplotlib import animation, rc  # アニメーションのため\n",
        "import pandas as pd\n",
        "import seaborn\n",
        "seaborn.set()"
      ]
    },
    {
      "cell_type": "markdown",
      "source": [
        "----\n",
        "### 問題1\n",
        "\n",
        "関数 $E(w_1, w_2)$ を\n",
        "$$\n",
        "\\begin{aligned}\n",
        "E(w_1, w_2) &= \\frac{(2w_2-w_1^2)^2}{4} + \\frac{(1-w_1)^2}{8}\n",
        "\\end{aligned}\n",
        "$$\n",
        "と定める．このとき，$\\frac{\\partial E}{\\partial w_1}, \\frac{\\partial E}{\\partial w_2}$ を計算し，\n",
        "$\\frac{\\partial E}{\\partial w_1} = \\frac{\\partial E}{\\partial w_2} = 0$ を満たす $(w_1, w_2)$ を求めなさい．\n",
        "\n",
        "---"
      ],
      "metadata": {
        "id": "N2TgMfBSsGhO"
      }
    },
    {
      "cell_type": "markdown",
      "source": [
        "次の2つのセルを実行すると，$E(w_1, w_2)$ の概形を描かせることができます．"
      ],
      "metadata": {
        "id": "UjUFz0blkOpA"
      }
    },
    {
      "cell_type": "code",
      "source": [
        "# E(w1, w2)\n",
        "def E(w):\n",
        "    return (2*w[1] - w[0]*w[0])**2/4 + (1 - w[0])**2/8\n",
        "\n",
        "# E(w1, w2) の w1, w2 に関する偏微係数\n",
        "def dEdw(w):\n",
        "    return np.array([0, 0]) ### 要修正"
      ],
      "metadata": {
        "id": "n0bqGaWXkQXP"
      },
      "execution_count": null,
      "outputs": []
    },
    {
      "cell_type": "code",
      "source": [
        "# 2変数の具体例のグラフ\n",
        "fig = plt.figure(facecolor='white', figsize=(12, 6))\n",
        "\n",
        "xmin, xmax = -1, 2\n",
        "ymin, ymax = -1, 2\n",
        "\n",
        "# (w1, w2) に対する E(w1, w2) の計算\n",
        "w1, w2 = np.meshgrid(np.linspace(xmin, xmax, num=100), np.linspace(ymin, ymax, num=100))\n",
        "w1w2 = np.vstack((w1.ravel(), w2.ravel())).T\n",
        "Ew1w2 = np.array([E(w) for w in w1w2])\n",
        "EE = Ew1w2.reshape((w1.shape[0], w2.shape[1]))\n",
        "\n",
        "# 三次元プロット\n",
        "elevation = 20\n",
        "azimuth = -70\n",
        "ax0 = fig.add_subplot(121, projection='3d')\n",
        "ax0.plot_wireframe(w1, w2, EE)\n",
        "ax0.set_xlim(xmin, xmax)\n",
        "ax0.set_ylim(ymin, ymax)\n",
        "ax0.set_zlim(-1, 5)\n",
        "ax0.set_xlabel('$w_1$')\n",
        "ax0.set_ylabel('$w_2$')\n",
        "ax0.set_zlabel('$E(w_1, w_2)$')\n",
        "ax0.view_init(elevation, azimuth)\n",
        "\n",
        "# 二次元等高線プロット\n",
        "ax1 = fig.add_subplot(122)\n",
        "cval = [0, 0.05, 0.1, 0.2, 0.3, 0.4, 0.5, 1, 2, 3, 4, 5]\n",
        "contour = ax1.contour(w1, w2, EE, cval)\n",
        "ax1.clabel(contour, fontsize=10)\n",
        "ax1.set_aspect('equal')\n",
        "ax1.set_xlabel('$w_1$')\n",
        "ax1.set_ylabel('$w_2$')\n",
        "ax1.set_xlim(xmin, xmax)\n",
        "ax1.set_ylim(xmin, xmax)\n",
        "\n",
        "plt.tight_layout()\n",
        "plt.show()"
      ],
      "metadata": {
        "id": "0ffg0LHA1TLB"
      },
      "execution_count": null,
      "outputs": []
    },
    {
      "cell_type": "markdown",
      "source": [
        "----\n",
        "### 問題2\n",
        "\n",
        "関数 $E(w_1, w_2)$ の最小値を最急降下法で求めてみましょう．\n",
        "\n",
        "関数 `dEdw` を定義しているセルの `### 要修正` と書かれた行を修正してから次のセルを実行すると，$(w_1, w_2) = (0, 1)$ を初期値として $E(w_1, w_2)$ が最小になる $(w_1, w_2)$ を探すことができます．正しく動作することを確認しましょう．\n",
        "\n",
        "---\n"
      ],
      "metadata": {
        "id": "RqUHS5sTmFxv"
      }
    },
    {
      "cell_type": "code",
      "source": [
        "w = np.array([0.0, 1.0]) # w_1, w_2 の初期値\n",
        "eta = 0.3                # 学習係数\n",
        "\n",
        "# 最急降下法の繰り返し\n",
        "for i in range(100):\n",
        "    print(f'step{i}: w = {w}, E(w) = {E(w):.4f}')\n",
        "    dw = dEdw(w)  # 勾配の値の計算\n",
        "    w -= eta*dw  # パラメータの更新\n",
        "print(f'step{i}: w = {w}, E(w) = {E(w):.4f}')"
      ],
      "metadata": {
        "id": "7I_ofO-akHJl"
      },
      "execution_count": null,
      "outputs": []
    },
    {
      "cell_type": "markdown",
      "source": [
        "次のセルたちを実行すると，最急降下法で $(w_1, w_2)$ の値が更新されていく様子をアニメーションで見ることができます．やってみよう．\n",
        "\n",
        "動作確認できたら，初期値や学習係数の値をいろいろ変えて実験してみよう．"
      ],
      "metadata": {
        "id": "GlMQ8FxXrydb"
      }
    },
    {
      "cell_type": "code",
      "source": [
        "def genAnim2D(f, dfdx, x0, eta):\n",
        "\n",
        "    fig, ax = plt.subplots(facecolor=\"white\", figsize=(6, 6))\n",
        "\n",
        "    # f(x1, x2) の等高線を描く\n",
        "    xx, yy = np.meshgrid(np.linspace(xmin, xmax, num=100), np.linspace(ymin, ymax, num=100))\n",
        "    XX = np.vstack((xx.ravel(), yy.ravel())).T\n",
        "    ZZ = np.array([f(x) for x in XX])\n",
        "    zz = ZZ.reshape((xx.shape[0], xx.shape[1]))\n",
        "    cval = [0, 0.05, 0.1, 0.2, 0.3, 0.4, 0.5, 1, 2, 3, 4, 5]\n",
        "    contour = ax.contour(xx, yy, zz, cval)\n",
        "    ax.clabel(contour, fontsize=10)\n",
        "    ax.set_aspect('equal')\n",
        "    ax.set_xlim(xmin, xmax)\n",
        "    ax.set_ylim(ymin, ymax)\n",
        "\n",
        "    # アニメーションの各コマを生成\n",
        "    aList = []\n",
        "    x = x0\n",
        "    for i in range(50):\n",
        "        a1 = ax.plot(x[0], x[1], marker='o', markersize=12, color='red')\n",
        "        s = f'step{i}: $E = {f(x):.3f}$'\n",
        "        a2 = ax.text(-0.9, 1.5, s, size=20)\n",
        "        a1.append(a2)\n",
        "        aList.append(a1)\n",
        "        # 最急降下法\n",
        "        dx = dfdx(x)\n",
        "        x -= eta*dx\n",
        "\n",
        "    anim = animation.ArtistAnimation(fig, aList, interval=300)\n",
        "    rc('animation', html='jshtml')\n",
        "    plt.close()\n",
        "\n",
        "    return anim"
      ],
      "metadata": {
        "id": "btTieWkwltuQ"
      },
      "execution_count": null,
      "outputs": []
    },
    {
      "cell_type": "code",
      "source": [
        "w = np.array([0.0, 1.0]) # w_1, w_2 の初期値\n",
        "eta = 0.3                # 学習係数\n",
        "anim = genAnim2D(E, dEdw, w, eta)\n",
        "anim"
      ],
      "metadata": {
        "id": "9lKklkBCsIrM"
      },
      "execution_count": null,
      "outputs": []
    },
    {
      "cell_type": "code",
      "source": [],
      "metadata": {
        "id": "xTIVf0qFsSdz"
      },
      "execution_count": null,
      "outputs": []
    }
  ],
  "metadata": {
    "colab": {
      "provenance": [],
      "toc_visible": true,
      "include_colab_link": true
    },
    "kernelspec": {
      "display_name": "Python 3",
      "name": "python3"
    },
    "language_info": {
      "codemirror_mode": {
        "name": "ipython",
        "version": 3
      },
      "file_extension": ".py",
      "mimetype": "text/x-python",
      "name": "python",
      "nbconvert_exporter": "python",
      "pygments_lexer": "ipython3",
      "version": "3.9.7"
    }
  },
  "nbformat": 4,
  "nbformat_minor": 0
}