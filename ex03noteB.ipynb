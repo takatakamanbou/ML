{
  "cells": [
    {
      "cell_type": "markdown",
      "metadata": {
        "id": "view-in-github",
        "colab_type": "text"
      },
      "source": [
        "<a href=\"https://colab.research.google.com/github/takatakamanbou/ML/blob/main/ex03noteB.ipynb\" target=\"_parent\"><img src=\"https://colab.research.google.com/assets/colab-badge.svg\" alt=\"Open In Colab\"/></a>"
      ]
    },
    {
      "cell_type": "markdown",
      "metadata": {
        "id": "2UzDNLmVS3po"
      },
      "source": [
        "# ML ex03noteB\n",
        "\n",
        "<img width=72 src=\"https://www-tlab.math.ryukoku.ac.jp/~takataka/course/ML/ML-logo.png\"> [この授業のウェブページ](https://www-tlab.math.ryukoku.ac.jp/wiki/?ML/2022)\n"
      ]
    },
    {
      "cell_type": "markdown",
      "metadata": {
        "id": "7glgWbdlh34P"
      },
      "source": [
        "----\n",
        "## 準備\n",
        "----\n",
        "\n",
        "Google Colab の Notebook では， Python というプログラミング言語のコードを動かして計算したりグラフを描いたりできます．\n",
        "Python は，機械学習・人工知能やデータサイエンスの分野ではメジャーなプログラミング言語ですが，それを学ぶことはこの授業の守備範囲ではありません．以下の所々に現れるプログラムっぽい記述の内容は，理解できなくて構いません．\n",
        "\n",
        "以下，コードセルを上から順に実行してながら読んでいってね．"
      ]
    },
    {
      "cell_type": "code",
      "execution_count": 1,
      "metadata": {
        "id": "JBTXo5eHh34P"
      },
      "outputs": [],
      "source": [
        "# 準備あれこれ\n",
        "import numpy as np\n",
        "import matplotlib.pyplot as plt\n",
        "import pandas as pd\n",
        "import seaborn\n",
        "seaborn.set()"
      ]
    },
    {
      "cell_type": "markdown",
      "metadata": {
        "id": "_WXvQDHGjLD8"
      },
      "source": [
        "----\n",
        "## 識別のための教師あり学習(1) 識別とは／最短距離法\n",
        "----\n",
        "\n",
        "\n"
      ]
    },
    {
      "cell_type": "markdown",
      "metadata": {
        "id": "IYnJP6Jqiyg5"
      },
      "source": [
        "----\n",
        "### 復習 ― 回帰と識別\n"
      ]
    },
    {
      "cell_type": "markdown",
      "metadata": {
        "id": "z2p4oO0Liyg5"
      },
      "source": [
        "教師あり学習の問題は，出力の値がどのようなものであるかによって，次の二つに分けることができるのでした．\n",
        "\n",
        "**回帰** (regression): 出力として量的な値を扱う場合．\n",
        "\n",
        "**識別** (classification, **分類**とも): 入力をあらかじめ定めたいくつかのグループに分ける問題．\n",
        "\n",
        "$$\n",
        "\\boldsymbol{y} \\longleftarrow \\fbox{$f$} \\longleftarrow \\boldsymbol{x} \\qquad\\qquad\\qquad\\qquad \\boldsymbol{y} = f(\\boldsymbol{x})\n",
        "$$\n"
      ]
    },
    {
      "cell_type": "markdown",
      "metadata": {
        "id": "KCFW5qtSiyg5"
      },
      "source": [
        "「機械学習とは (1)」であげた例を教師あり学習の問題としてとらえると，次のように回帰／識別に分けられます．\n",
        "\n",
        "#### やってみよう\n",
        "\n",
        "以下の例がそれぞれ「回帰」「識別」のどちらの問題と考えられるか答えなさい．\n",
        "\n",
        "**例1**: 手書き数字の認識 → \n",
        "\n",
        "- 入力: 手書き数字の画像\n",
        "- 出力: 0, 1, 2, ..., 9 のいずれか\n",
        "\n",
        "**例2**: 画像に写った動物を分類する → \n",
        "\n",
        "- 入力: 様々な動物の写った画像\n",
        "- 出力: ネコ，ペンギン，カピバラ，..., のいずれか\n",
        "\n",
        "\n",
        "**例3**: 電力使用量の予測 → \n",
        "\n",
        "- 入力: 時々刻々変化する気温，湿度，電力使用量の数値\n",
        "- 出力: 1時間後の電力使用量の数値\n",
        "\n",
        "**例4**: 顔画像からの年齢推定 → \n",
        "\n",
        "- 入力: 顔画像\n",
        "- 出力: 年齢を表す数値"
      ]
    },
    {
      "cell_type": "markdown",
      "metadata": {
        "id": "dTzvMDtLiyg5"
      },
      "source": [
        "----\n",
        "### 例題: 人間 vs ほげ星人\n",
        "\n",
        "識別の問題について考える際の具体例として，「身長(cm)」と「体重(kg)」という二つの値から，「人間」と「ほげ星人」を識別する問題を考えます．\n",
        "\n"
      ]
    },
    {
      "cell_type": "code",
      "source": [
        "# 「人間 vs ほげ星人」データの入手\n",
        "dfHoge = pd.read_csv('https://www-tlab.math.ryukoku.ac.jp/~takataka/course/ML/humanvshoge.csv', header=0)"
      ],
      "metadata": {
        "id": "ErefeHCWd61o"
      },
      "execution_count": 2,
      "outputs": []
    },
    {
      "cell_type": "markdown",
      "source": [
        "データの中身はこんなん："
      ],
      "metadata": {
        "id": "8mSfFYyBd_iL"
      }
    },
    {
      "cell_type": "code",
      "source": [
        "dfHoge"
      ],
      "metadata": {
        "colab": {
          "base_uri": "https://localhost:8080/",
          "height": 424
        },
        "id": "nKSzH91R0UmZ",
        "outputId": "ca152fc0-511d-47f4-89e9-7a01d2ccdade"
      },
      "execution_count": 3,
      "outputs": [
        {
          "output_type": "execute_result",
          "data": {
            "text/plain": [
              "     height  weight  label\n",
              "0     176.8    80.7  Human\n",
              "1     169.4    41.1  Human\n",
              "2     162.4    50.5  Human\n",
              "3     106.7    82.8   Hoge\n",
              "4      97.1    88.0   Hoge\n",
              "..      ...     ...    ...\n",
              "195   105.5   100.9   Hoge\n",
              "196    93.0    95.8   Hoge\n",
              "197   201.8    96.1  Human\n",
              "198    98.8   110.8   Hoge\n",
              "199   166.0    75.6  Human\n",
              "\n",
              "[200 rows x 3 columns]"
            ],
            "text/html": [
              "\n",
              "  <div id=\"df-89a2d77f-fd30-4014-8d0e-0c6d30297385\">\n",
              "    <div class=\"colab-df-container\">\n",
              "      <div>\n",
              "<style scoped>\n",
              "    .dataframe tbody tr th:only-of-type {\n",
              "        vertical-align: middle;\n",
              "    }\n",
              "\n",
              "    .dataframe tbody tr th {\n",
              "        vertical-align: top;\n",
              "    }\n",
              "\n",
              "    .dataframe thead th {\n",
              "        text-align: right;\n",
              "    }\n",
              "</style>\n",
              "<table border=\"1\" class=\"dataframe\">\n",
              "  <thead>\n",
              "    <tr style=\"text-align: right;\">\n",
              "      <th></th>\n",
              "      <th>height</th>\n",
              "      <th>weight</th>\n",
              "      <th>label</th>\n",
              "    </tr>\n",
              "  </thead>\n",
              "  <tbody>\n",
              "    <tr>\n",
              "      <th>0</th>\n",
              "      <td>176.8</td>\n",
              "      <td>80.7</td>\n",
              "      <td>Human</td>\n",
              "    </tr>\n",
              "    <tr>\n",
              "      <th>1</th>\n",
              "      <td>169.4</td>\n",
              "      <td>41.1</td>\n",
              "      <td>Human</td>\n",
              "    </tr>\n",
              "    <tr>\n",
              "      <th>2</th>\n",
              "      <td>162.4</td>\n",
              "      <td>50.5</td>\n",
              "      <td>Human</td>\n",
              "    </tr>\n",
              "    <tr>\n",
              "      <th>3</th>\n",
              "      <td>106.7</td>\n",
              "      <td>82.8</td>\n",
              "      <td>Hoge</td>\n",
              "    </tr>\n",
              "    <tr>\n",
              "      <th>4</th>\n",
              "      <td>97.1</td>\n",
              "      <td>88.0</td>\n",
              "      <td>Hoge</td>\n",
              "    </tr>\n",
              "    <tr>\n",
              "      <th>...</th>\n",
              "      <td>...</td>\n",
              "      <td>...</td>\n",
              "      <td>...</td>\n",
              "    </tr>\n",
              "    <tr>\n",
              "      <th>195</th>\n",
              "      <td>105.5</td>\n",
              "      <td>100.9</td>\n",
              "      <td>Hoge</td>\n",
              "    </tr>\n",
              "    <tr>\n",
              "      <th>196</th>\n",
              "      <td>93.0</td>\n",
              "      <td>95.8</td>\n",
              "      <td>Hoge</td>\n",
              "    </tr>\n",
              "    <tr>\n",
              "      <th>197</th>\n",
              "      <td>201.8</td>\n",
              "      <td>96.1</td>\n",
              "      <td>Human</td>\n",
              "    </tr>\n",
              "    <tr>\n",
              "      <th>198</th>\n",
              "      <td>98.8</td>\n",
              "      <td>110.8</td>\n",
              "      <td>Hoge</td>\n",
              "    </tr>\n",
              "    <tr>\n",
              "      <th>199</th>\n",
              "      <td>166.0</td>\n",
              "      <td>75.6</td>\n",
              "      <td>Human</td>\n",
              "    </tr>\n",
              "  </tbody>\n",
              "</table>\n",
              "<p>200 rows × 3 columns</p>\n",
              "</div>\n",
              "      <button class=\"colab-df-convert\" onclick=\"convertToInteractive('df-89a2d77f-fd30-4014-8d0e-0c6d30297385')\"\n",
              "              title=\"Convert this dataframe to an interactive table.\"\n",
              "              style=\"display:none;\">\n",
              "        \n",
              "  <svg xmlns=\"http://www.w3.org/2000/svg\" height=\"24px\"viewBox=\"0 0 24 24\"\n",
              "       width=\"24px\">\n",
              "    <path d=\"M0 0h24v24H0V0z\" fill=\"none\"/>\n",
              "    <path d=\"M18.56 5.44l.94 2.06.94-2.06 2.06-.94-2.06-.94-.94-2.06-.94 2.06-2.06.94zm-11 1L8.5 8.5l.94-2.06 2.06-.94-2.06-.94L8.5 2.5l-.94 2.06-2.06.94zm10 10l.94 2.06.94-2.06 2.06-.94-2.06-.94-.94-2.06-.94 2.06-2.06.94z\"/><path d=\"M17.41 7.96l-1.37-1.37c-.4-.4-.92-.59-1.43-.59-.52 0-1.04.2-1.43.59L10.3 9.45l-7.72 7.72c-.78.78-.78 2.05 0 2.83L4 21.41c.39.39.9.59 1.41.59.51 0 1.02-.2 1.41-.59l7.78-7.78 2.81-2.81c.8-.78.8-2.07 0-2.86zM5.41 20L4 18.59l7.72-7.72 1.47 1.35L5.41 20z\"/>\n",
              "  </svg>\n",
              "      </button>\n",
              "      \n",
              "  <style>\n",
              "    .colab-df-container {\n",
              "      display:flex;\n",
              "      flex-wrap:wrap;\n",
              "      gap: 12px;\n",
              "    }\n",
              "\n",
              "    .colab-df-convert {\n",
              "      background-color: #E8F0FE;\n",
              "      border: none;\n",
              "      border-radius: 50%;\n",
              "      cursor: pointer;\n",
              "      display: none;\n",
              "      fill: #1967D2;\n",
              "      height: 32px;\n",
              "      padding: 0 0 0 0;\n",
              "      width: 32px;\n",
              "    }\n",
              "\n",
              "    .colab-df-convert:hover {\n",
              "      background-color: #E2EBFA;\n",
              "      box-shadow: 0px 1px 2px rgba(60, 64, 67, 0.3), 0px 1px 3px 1px rgba(60, 64, 67, 0.15);\n",
              "      fill: #174EA6;\n",
              "    }\n",
              "\n",
              "    [theme=dark] .colab-df-convert {\n",
              "      background-color: #3B4455;\n",
              "      fill: #D2E3FC;\n",
              "    }\n",
              "\n",
              "    [theme=dark] .colab-df-convert:hover {\n",
              "      background-color: #434B5C;\n",
              "      box-shadow: 0px 1px 3px 1px rgba(0, 0, 0, 0.15);\n",
              "      filter: drop-shadow(0px 1px 2px rgba(0, 0, 0, 0.3));\n",
              "      fill: #FFFFFF;\n",
              "    }\n",
              "  </style>\n",
              "\n",
              "      <script>\n",
              "        const buttonEl =\n",
              "          document.querySelector('#df-89a2d77f-fd30-4014-8d0e-0c6d30297385 button.colab-df-convert');\n",
              "        buttonEl.style.display =\n",
              "          google.colab.kernel.accessAllowed ? 'block' : 'none';\n",
              "\n",
              "        async function convertToInteractive(key) {\n",
              "          const element = document.querySelector('#df-89a2d77f-fd30-4014-8d0e-0c6d30297385');\n",
              "          const dataTable =\n",
              "            await google.colab.kernel.invokeFunction('convertToInteractive',\n",
              "                                                     [key], {});\n",
              "          if (!dataTable) return;\n",
              "\n",
              "          const docLinkHtml = 'Like what you see? Visit the ' +\n",
              "            '<a target=\"_blank\" href=https://colab.research.google.com/notebooks/data_table.ipynb>data table notebook</a>'\n",
              "            + ' to learn more about interactive tables.';\n",
              "          element.innerHTML = '';\n",
              "          dataTable['output_type'] = 'display_data';\n",
              "          await google.colab.output.renderOutput(dataTable, element);\n",
              "          const docLink = document.createElement('div');\n",
              "          docLink.innerHTML = docLinkHtml;\n",
              "          element.appendChild(docLink);\n",
              "        }\n",
              "      </script>\n",
              "    </div>\n",
              "  </div>\n",
              "  "
            ]
          },
          "metadata": {},
          "execution_count": 3
        }
      ]
    },
    {
      "cell_type": "markdown",
      "source": [
        "1行がひとりぶんのデータ．'height' が身長，'weight'が体重，'label' が 'Human' なのは人間，'Hoge' なのはほげ星人，ということです．"
      ],
      "metadata": {
        "id": "YrWyXDmSnAGs"
      }
    },
    {
      "cell_type": "code",
      "source": [
        "# 人間とほげ星人に分けて身長と体重のデータを抽出\n",
        "X_human = dfHoge.loc[dfHoge['label'] == 'Human', ['height', 'weight']].to_numpy()\n",
        "X_hoge  = dfHoge.loc[dfHoge['label'] != 'Human', ['height', 'weight']].to_numpy()\n",
        "print(X_human.shape, X_hoge.shape)"
      ],
      "metadata": {
        "colab": {
          "base_uri": "https://localhost:8080/"
        },
        "id": "o9hu5i2p0dgJ",
        "outputId": "49311f93-97a0-4f11-c963-b0632e99a7f5"
      },
      "execution_count": 4,
      "outputs": [
        {
          "output_type": "stream",
          "name": "stdout",
          "text": [
            "(100, 2) (100, 2)\n"
          ]
        }
      ]
    },
    {
      "cell_type": "code",
      "source": [
        "# 身長を横軸に，体重を縦軸にとって散布図を描く\n",
        "# 人間が青でほげ星人がオレンジ\n",
        "fig, ax = plt.subplots(facecolor=\"white\", figsize=(8, 8))\n",
        "ax.set_xlim(0,250)\n",
        "ax.set_xlabel('height [cm]')\n",
        "ax.set_ylim(0,150)\n",
        "ax.set_ylabel('weight [kg]')\n",
        "ax.set_aspect('equal')\n",
        "ax.scatter(X_human[:, 0], X_human[:, 1])\n",
        "ax.scatter(X_hoge[:, 0], X_hoge[:, 1])\n",
        "plt.show()"
      ],
      "metadata": {
        "colab": {
          "base_uri": "https://localhost:8080/",
          "height": 335
        },
        "id": "zs2OkY1l0Ltc",
        "outputId": "9599546a-e158-4b97-de2d-b1d75a446c67"
      },
      "execution_count": 5,
      "outputs": [
        {
          "output_type": "display_data",
          "data": {
            "text/plain": [
              "<Figure size 576x576 with 1 Axes>"
            ],
            "image/png": "[encoded data removed]"
          },
          "metadata": {}
        }
      ]
    },
    {
      "cell_type": "markdown",
      "source": [
        "ひとりひとりが $(身長,体重)$ という二つの数値の組で表されていますので，これら二つの値で散布図を描いてみると，ひとりが一つの点に対応します．\n",
        "図の青い点が人間，オレンジの点がほげ星人（注）．\n",
        "\n",
        "<span style=\"font-size: 75%\">\n",
        "※注: ここで扱っているデータは，架空のものです．説明を簡単にするために身長や体重の値を適当に設定しています．例題としての扱いを超えて，「身長や体重の値が〇〇だと人間ではない」というような主張をしているわけではありません．\n",
        "</span>"
      ],
      "metadata": {
        "id": "j6Z4z_iulqAL"
      }
    },
    {
      "cell_type": "markdown",
      "source": [
        "----\n",
        "### 識別とは\n"
      ],
      "metadata": {
        "id": "N2TgMfBSsGhO"
      }
    },
    {
      "cell_type": "markdown",
      "source": [
        "回帰と識別ではモデルの出力の形式が異なります．回帰の場合は実数値を出力しますが，\n",
        "識別の場合は，予め定めたグループのうちどれに分類されるかを表す情報を出力します．上記の例では，「人間」と「ほげ星人」のどちらかに分類することになります．\n",
        "\n",
        "識別問題において，「人間」と「ほげ星人」のように予め定めた分類グループのことを，**クラス**(class) または **カテゴリ**(category) といいます．「人間 vs ほげ星人」の問題は，与えられた $(身長,体重)$ のデータから個々のひとを「人間」，「ほげ星人」という2クラスのいずれかに分類する問題です．"
      ],
      "metadata": {
        "id": "DsLnxiR6sRre"
      }
    },
    {
      "cell_type": "markdown",
      "source": [
        "識別は，教師あり学習の問題の一種です．\n",
        "「人間 vs ほげ星人」の例で言えば，下図左のように正解（「人間」か「ほげ星人」か）がわかっている学習データ（青とオレンジの点）が与えられたときに，これらを用いて，$(身長, 体重) = (x_1, x_2)$ のひとが「人間」か「ほげ星人」かを決める仕組みを作りたい，という話です．\n",
        "\n",
        "典型的な識別の考え方は，学習データを用いて下図右のように入力データの空間（今の場合は2次元平面）をクラスごとの領域に分割する，というものです．このような考え方の場合，クラスを分ける境界（**識別境界**）を何らかの方法で決めることになります．\n",
        "\n",
        "<img width=\"75%\" src=\"https://www-tlab.math.ryukoku.ac.jp/~takataka/course/ML/humanvshoge3.png\">"
      ],
      "metadata": {
        "id": "F624yoTi1rn-"
      }
    },
    {
      "cell_type": "markdown",
      "source": [
        "----\n",
        "### 最短距離法\n",
        "\n",
        "**最短距離法** は，最も単純な識別の手法です．これは，次のようなものです．\n",
        "\n",
        "1. クラスごとに見本となるデータ（これを **プロトタイプ** (prototype）といいます）を用意しておく．\n",
        "1. 所属クラスが未知のデータが与えられたら，そのデータがどのプロトタイプと近いかを調べる．\n",
        "1. 一番近いプロトタイプと同じクラスに分類する．\n"
      ],
      "metadata": {
        "id": "YZMS_ExC2K-N"
      }
    },
    {
      "cell_type": "markdown",
      "source": [
        "以下に「人間 vs ほげ星人」の識別を最短距離法で行うプログラムを用意しました．\n",
        "ここでは，「人間」のプロトタイプを $(170, 65)$ とし，「ほげ星人」のプロトタイプ $(100, 100)$ としています．\n",
        "また，距離はユークリッド距離で測ることにしています．身長と体重の値をいろいろ代えて実験してみましょう．\n",
        "\n",
        "ちなみに，ユークリッド距離というのは，みなさんが一番なじみのある距離です（注）．点 $(x_1, x_2)$ と点 $(y_1, y_2)$ の間の距離は，\n",
        "$$\n",
        "\\sqrt{(x_1 - y_1)^2 + (x_2 - y_2)^2}\n",
        "$$\n",
        "ですね．\n",
        "\n",
        "※注: 実は，「距離」にはユークリッド距離以外にも様々なものがあります．\n",
        "詳しくは説明しませんが，機械学習の分野では，データや問題の性質に応じて，ユークリッド距離以外の距離を使うこともあります．"
      ],
      "metadata": {
        "id": "PdWwb-dpzvqA"
      }
    },
    {
      "cell_type": "markdown",
      "source": [
        "次のセルでは，実験のための関数を定義しています．関数を定義しているだけなので，このセルを実行しただけでは見た目上は何も起こりません．\n",
        "続けてもう一つ下のセルも実行しましょう．"
      ],
      "metadata": {
        "id": "4ZATDCXwuGVE"
      }
    },
    {
      "cell_type": "code",
      "source": [
        "# 「人間 vs ほげ星人」実験のための関数\n",
        "#\n",
        "def hoge(proto_human, proto_hoge, height, weight):\n",
        "\n",
        "    # 識別対象の身長と体重\n",
        "    x = np.array([height, weight])\n",
        "\n",
        "    # 距離（の2乗）の計算\n",
        "    v = x - proto_human\n",
        "    d2_human = v @ v\n",
        "    print(f'(人間のプロトタイプとの距離の2乗) = {d2_human}')\n",
        "    v = x - proto_hoge\n",
        "    d2_hoge  = v @ v\n",
        "    print(f'(ほげ星人のプロトタイプとの距離の2乗) = {d2_hoge}')\n",
        "\n",
        "    # 識別\n",
        "    if d2_human <= d2_hoge:\n",
        "        print(f'{d2_human} < {d2_hoge} なので， ({x[0]}, {x[1]}) のひとは「人間」に識別')\n",
        "    else:\n",
        "        print(f'{d2_human} > {d2_hoge} なので， ({x[0]}, {x[1]}) のひとは「ほげ星人」に識別')\n",
        "\n",
        "    # グラフを描く\n",
        "    fig, ax = plt.subplots(facecolor=\"white\", figsize=(8, 8))\n",
        "    ax.set_xlim(0,250)\n",
        "    ax.set_xlabel('height [cm]')\n",
        "    ax.set_ylim(0,150)\n",
        "    ax.set_ylabel('weight [kg]')\n",
        "    ax.set_aspect('equal')\n",
        "    # 2つのプロトタイプと識別対象の点を打つ\n",
        "    ax.plot(proto_human[0], proto_human[1], marker='o', markersize=10)\n",
        "    ax.plot(proto_hoge[0], proto_hoge[1], marker='o', markersize=10)\n",
        "    ax.plot(x[0], x[1], marker='*', markersize=16)\n",
        "    # 識別対象の点とプロトタイプの間に破線を引く\n",
        "    ax.plot([x[0], proto_human[0]], [x[1], proto_human[1]], linestyle='--', color='blue')\n",
        "    ax.plot([x[0], proto_hoge[0]], [x[1], proto_hoge[1]], linestyle='--', color='orange')\n",
        "    # 識別境界\n",
        "    m = (proto_human + proto_hoge)/2 # 中点\n",
        "    p = proto_human - proto_hoge\n",
        "    xp = np.array([0, 250])\n",
        "    yp = -p[0]*(xp - m[0])/p[1] + m[1]\n",
        "    ax.plot(xp, yp, linestyle='-', color='gray')\n",
        "    plt.show()"
      ],
      "metadata": {
        "id": "aKPxX8FetS6x"
      },
      "execution_count": 18,
      "outputs": []
    },
    {
      "cell_type": "code",
      "source": [
        "#@title height，weightの値をいろいろ変えて実験しよう  {run: \"auto\"}\n",
        "height = 170.0 #@param {type:\"number\"}\n",
        "weight = 80.0 #@param {type:\"number\"}\n",
        "\n",
        "# プロトタイプ\n",
        "p_human = np.array([170.0,  65.0])\n",
        "p_hoge  = np.array([100.0, 100.0])\n",
        "\n",
        "# (height, weight) のひとはどっち？\n",
        "hoge(p_human, p_hoge, height, weight)"
      ],
      "metadata": {
        "colab": {
          "base_uri": "https://localhost:8080/",
          "height": 387
        },
        "id": "gqCXDixA2CIP",
        "outputId": "8a89c493-dad1-4717-a976-2de5a9192873"
      },
      "execution_count": 20,
      "outputs": [
        {
          "output_type": "stream",
          "name": "stdout",
          "text": [
            "(人間のプロトタイプとの距離の2乗) = 225.0\n",
            "(ほげ星人のプロトタイプとの距離の2乗) = 5300.0\n",
            "225.0 < 5300.0 なので， (170.0, 80.0) のひとは「人間」に識別\n"
          ]
        },
        {
          "output_type": "display_data",
          "data": {
            "text/plain": [
              "<Figure size 576x576 with 1 Axes>"
            ],
            "image/png": "[encoded data removed]"
          },
          "metadata": {}
        }
      ]
    },
    {
      "cell_type": "markdown",
      "source": [
        "最短距離法では，距離の大小を調べたいわけですが，平方根をとるのを省いても大小関係は変わりませんので，わざわざ平方根をとらず，距離の2乗の値の大小を調べるだけで済みます．\n",
        "また，2つのクラスの識別境界は，両者のプロトタイプに関する垂直二等分線（3次元以上なら同じ性質をもつ平面）となります（グラフの灰色の直線）．"
      ],
      "metadata": {
        "id": "c9nddl2M9a4O"
      }
    },
    {
      "cell_type": "markdown",
      "source": [
        "#### やってみよう\n",
        "1. $(\\textrm{height}, \\textrm{weight})$ の値をいろいろ変えて上記のセルを実行し，結果を観察しよう．\n",
        "1. 以下の二人は人間と識別されるかほげ星人と識別されるかセルを実行して確認しよう．\n",
        "結果をノート等（紙媒体）にメモしておこう．\n",
        "    - $(身長, 体重) = (135, 45)$ のひと\n",
        "    - $(身長, 体重) = (135, 82)$ のひと\n",
        "\n"
      ],
      "metadata": {
        "id": "JSvN6lLB-DME"
      }
    },
    {
      "cell_type": "markdown",
      "source": [
        "上記の実験ではプロトタイプを適当に決めているので，「学習」の要素が見当たりませんが，実際には例えば，学習データのクラスごとの平均を求めてそれをプロトタイプとする，というような方法をとることができます．\n"
      ],
      "metadata": {
        "id": "JW-j2Mq8_Zoo"
      }
    },
    {
      "cell_type": "markdown",
      "source": [
        "上では2次元平面上のユークリッド距離で説明していましたが，3次元以上のデータでも同じようにユークリッド距離を考えて最短距離法を用いることができます．\n",
        "$D$ 次元空間中の点 $(x_1, x_2, \\ldots, x_D)$ と点 $(y_1, y_2, \\ldots, y_D)$ の間のユークリッド距離は\n",
        "$$\n",
        "\\sqrt{\\sum_{d=1}^{D}(x_d - y_d)^2}\n",
        "$$\n",
        "ですね（2次元の場合と同じく，実用的には平方根をとった距離の値ではなく距離の2乗の値を用いる方が計算の手間が少なくてよいですね）．"
      ],
      "metadata": {
        "id": "8LxyaYKgBqyT"
      }
    },
    {
      "cell_type": "markdown",
      "source": [
        "----\n",
        "### 例題: 手書き数字の識別\n",
        "\n",
        "0 から 9 までの手書き数字の画像から，その画像に写っている数がいくつかを答えさせる問題を考えます．\n",
        "\n",
        "ここで扱うデータは，機械学習の分野で超有名な [MNIST](http://yann.lecun.com/exdb/mnist/) と呼ばれるデータセットからとったものです．\n",
        "MNIST のデータは学習用だけで6万枚の画像がありますので，そこからランダムに一部の画像を抽出したものを用意しました．\n"
      ],
      "metadata": {
        "id": "NmGsEm_pdysA"
      }
    },
    {
      "cell_type": "code",
      "source": [
        "# 手書き数字データの入手\n",
        "! wget -nc https://www-tlab.math.ryukoku.ac.jp/~takataka/course/ML/minimnist.npz\n",
        "rv = np.load('minimnist.npz')\n",
        "datL = rv['datL'].astype(float)\n",
        "labL = rv['labL']\n",
        "datT = rv['datT'].astype(float)\n",
        "labT = rv['labT']\n",
        "print(datL.shape, labL.shape, datT.shape, labT.shape)"
      ],
      "metadata": {
        "id": "kLzbKM7DggvE",
        "colab": {
          "base_uri": "https://localhost:8080/"
        },
        "outputId": "e34b019b-497c-481e-cf0e-342fad872944"
      },
      "execution_count": 7,
      "outputs": [
        {
          "output_type": "stream",
          "name": "stdout",
          "text": [
            "File ‘minimnist.npz’ already there; not retrieving.\n",
            "\n",
            "(5000, 784) (5000,) (1000, 784) (1000,)\n"
          ]
        }
      ]
    },
    {
      "cell_type": "markdown",
      "source": [
        "以下のセルでは関数を定義しています．定義してるだけですので，このセルを実行しただけでは何も起こりません．"
      ],
      "metadata": {
        "id": "z4WqZnFjg8A8"
      }
    },
    {
      "cell_type": "code",
      "source": [
        "# データを画像として表示するための関数\n",
        "#\n",
        "def display(data, nx, ny, nrow=28, ncol=28, gap=4):\n",
        "\n",
        "    assert data.shape[0] == nx*ny\n",
        "    assert data.shape[1] == nrow*ncol\n",
        "\n",
        "    # 並べた画像の幅と高さ\n",
        "    width  = nx * (ncol + gap) + gap\n",
        "    height = ny * (nrow + gap) + gap\n",
        "\n",
        "    # 画像の作成\n",
        "    img = np.zeros((height, width), dtype = int) + 128\n",
        "    for iy in range(ny):\n",
        "        lty = iy*(nrow + gap) + gap\n",
        "        for ix in range(nx):\n",
        "            ltx = ix*(ncol + gap) + gap\n",
        "            img[lty:lty+nrow, ltx:ltx+ncol] = data[iy*nx+ix].reshape((nrow, ncol))\n",
        "\n",
        "    # 画像の出力\n",
        "    plt.axis('off')\n",
        "    plt.imshow(img, cmap = 'gray')\n",
        "    plt.show()"
      ],
      "metadata": {
        "id": "efKQJqzdfeTY"
      },
      "execution_count": 8,
      "outputs": []
    },
    {
      "cell_type": "markdown",
      "source": [
        "学習データ中の最初の50個の画像を表示．"
      ],
      "metadata": {
        "id": "0cwd0bIzhKFC"
      }
    },
    {
      "cell_type": "code",
      "source": [
        "nx, ny = 10, 5\n",
        "display(datL[:50], nx, ny)"
      ],
      "metadata": {
        "colab": {
          "base_uri": "https://localhost:8080/",
          "height": 200
        },
        "id": "TbFPtvYygy13",
        "outputId": "3073708c-6ce4-4221-8a90-bfdc816b1717"
      },
      "execution_count": 9,
      "outputs": [
        {
          "output_type": "display_data",
          "data": {
            "text/plain": [
              "<Figure size 432x288 with 1 Axes>"
            ],
            "image/png": "[encoded data removed]"
          },
          "metadata": {
            "needs_background": "light"
          }
        }
      ]
    },
    {
      "cell_type": "markdown",
      "source": [
        "それぞれの正解クラスを表示．"
      ],
      "metadata": {
        "id": "EWrQulA7hp8j"
      }
    },
    {
      "cell_type": "code",
      "source": [
        "for iy in range(ny):\n",
        "    print(labL[iy*nx:(iy+1)*nx])"
      ],
      "metadata": {
        "colab": {
          "base_uri": "https://localhost:8080/"
        },
        "id": "skNX_p98hnEF",
        "outputId": "8a2fc30f-59d1-4928-e5d0-be6d7b4201ce"
      },
      "execution_count": 10,
      "outputs": [
        {
          "output_type": "stream",
          "name": "stdout",
          "text": [
            "[0 9 3 9 3 4 2 8 1 4]\n",
            "[2 5 9 4 2 0 4 3 9 1]\n",
            "[5 1 9 0 8 7 3 9 9 2]\n",
            "[7 0 5 8 8 2 5 7 1 5]\n",
            "[6 2 7 2 1 7 8 6 6 4]\n"
          ]
        }
      ]
    },
    {
      "cell_type": "markdown",
      "source": [
        "このデータの画像は，幅28画素高さ28画素の8bitグレイスケール画像です．一つの画素の値は 0 から 255 までの整数値をとります．\n",
        "したがって，一つの画像は $28\\times 28 = 784$ 個の値をもつ $784$ 次元のデータとみなすことができます．"
      ],
      "metadata": {
        "id": "RzYQes30jmbc"
      }
    },
    {
      "cell_type": "code",
      "source": [
        "# 最初のデータの値を表示してみる\n",
        "for iy in range(28):\n",
        "    for ix in range(28):\n",
        "        val = int(datL[0, iy*28+ix])\n",
        "        print(f'{val:0>3}', end=' ')  # 見やすさのため 0 を付けてすべて3桁で\n",
        "    print()"
      ],
      "metadata": {
        "colab": {
          "base_uri": "https://localhost:8080/"
        },
        "id": "z7k2Qur-h23U",
        "outputId": "f55fc618-ba4e-4fa1-d7c2-4f66aa3f57cc"
      },
      "execution_count": 11,
      "outputs": [
        {
          "output_type": "stream",
          "name": "stdout",
          "text": [
            "000 000 000 000 000 000 000 000 000 000 000 000 000 000 000 000 000 000 000 000 000 000 000 000 000 000 000 000 \n",
            "000 000 000 000 000 000 000 000 000 000 000 000 000 000 000 000 000 000 000 000 000 000 000 000 000 000 000 000 \n",
            "000 000 000 000 000 000 000 000 000 000 000 000 000 000 000 000 000 000 000 000 000 000 000 000 000 000 000 000 \n",
            "000 000 000 000 000 000 000 000 000 000 000 000 000 000 000 000 000 000 000 000 000 000 000 000 000 000 000 000 \n",
            "000 000 000 000 000 000 000 000 000 000 000 000 000 142 254 254 254 254 141 000 000 000 000 000 000 000 000 000 \n",
            "000 000 000 000 000 000 000 000 000 000 000 217 248 252 253 253 253 253 252 228 042 000 000 000 000 000 000 000 \n",
            "000 000 000 000 000 000 000 000 000 000 094 252 253 253 253 253 253 253 253 253 246 149 000 000 000 000 000 000 \n",
            "000 000 000 000 000 000 000 000 000 044 229 253 253 253 253 253 253 253 253 253 253 238 043 000 000 000 000 000 \n",
            "000 000 000 000 000 000 000 000 043 229 253 253 253 253 253 203 253 253 203 253 253 253 228 043 000 000 000 000 \n",
            "000 000 000 000 000 000 000 000 225 253 253 253 253 225 126 016 032 191 107 223 253 253 253 157 000 000 000 000 \n",
            "000 000 000 000 000 000 000 101 251 253 253 253 181 027 000 000 000 139 203 198 253 253 253 251 099 000 000 000 \n",
            "000 000 000 000 000 000 039 227 253 253 253 253 061 000 000 000 000 093 239 175 225 253 253 253 224 000 000 000 \n",
            "000 000 000 000 000 000 125 253 253 253 253 143 008 000 000 000 000 037 042 000 163 253 253 253 211 035 000 000 \n",
            "000 000 000 000 000 000 225 253 253 253 228 024 000 000 000 000 000 000 000 011 186 253 253 209 028 028 000 000 \n",
            "000 000 000 000 000 000 254 253 253 253 155 000 000 000 000 000 000 000 000 070 253 253 253 110 000 000 000 000 \n",
            "000 000 000 000 000 000 254 253 253 253 226 023 000 000 000 000 000 000 060 230 253 253 249 088 000 000 000 000 \n",
            "000 000 000 000 000 000 255 253 253 253 235 026 000 000 000 000 000 128 230 253 253 248 125 000 000 000 000 000 \n",
            "000 000 000 000 000 000 254 174 245 253 155 000 000 000 000 011 070 230 253 253 253 207 000 000 000 000 000 000 \n",
            "000 000 000 000 000 000 254 135 241 253 218 049 033 074 097 186 253 253 253 253 215 035 000 000 000 000 000 000 \n",
            "000 000 000 000 000 000 255 148 150 238 253 253 253 253 253 253 253 253 253 236 081 000 000 000 000 000 000 000 \n",
            "000 000 000 000 000 000 255 253 031 117 253 253 253 253 253 253 253 253 226 035 000 000 000 000 000 000 000 000 \n",
            "000 000 000 000 000 000 254 253 253 253 253 253 253 253 253 253 253 250 129 000 000 000 000 000 000 000 000 000 \n",
            "000 000 000 000 000 000 255 253 253 253 253 253 253 253 253 253 253 130 000 000 000 000 000 000 000 000 000 000 \n",
            "000 000 000 000 000 000 255 253 253 253 253 253 253 253 253 253 223 035 000 000 000 000 000 000 000 000 000 000 \n",
            "000 000 000 000 000 000 000 000 000 000 000 000 000 000 000 000 000 000 000 000 000 000 000 000 000 000 000 000 \n",
            "000 000 000 000 000 000 000 000 000 000 000 000 000 000 000 000 000 000 000 000 000 000 000 000 000 000 000 000 \n",
            "000 000 000 000 000 000 000 000 000 000 000 000 000 000 000 000 000 000 000 000 000 000 000 000 000 000 000 000 \n",
            "000 000 000 000 000 000 000 000 000 000 000 000 000 000 000 000 000 000 000 000 000 000 000 000 000 000 000 000 \n"
          ]
        }
      ]
    },
    {
      "cell_type": "markdown",
      "source": [
        "----\n",
        "### 最短距離法による手書き数字の識別\n",
        "\n",
        "上記のデータに対して最短距離法を適用して識別させてみましょう．\n",
        "クラスごとのプロトタイプには，学習データの平均を用いることにします．"
      ],
      "metadata": {
        "id": "uPtzknwAmLYV"
      }
    },
    {
      "cell_type": "code",
      "source": [
        "K = 10 # クラス数\n",
        "D = 784 # データの次元数\n",
        "\n",
        "# 学習データのクラスごとの平均をプロトタイプとする\n",
        "proto = np.empty((K, D)) # プロトタイプ\n",
        "for ik in range(K):\n",
        "    proto[ik, :] = np.mean(datL[labL == ik, :], axis=0)\n",
        "\n",
        "display(proto, K, 1)"
      ],
      "metadata": {
        "colab": {
          "base_uri": "https://localhost:8080/",
          "height": 68
        },
        "id": "SaUHRjqwiJqE",
        "outputId": "5df04da9-d148-43a5-e072-aaa5c2291bd4"
      },
      "execution_count": 12,
      "outputs": [
        {
          "output_type": "display_data",
          "data": {
            "text/plain": [
              "<Figure size 432x288 with 1 Axes>"
            ],
            "image/png": "[encoded data removed]"
          },
          "metadata": {
            "needs_background": "light"
          }
        }
      ]
    },
    {
      "cell_type": "markdown",
      "source": [
        "まずは，学習データを識別させてみます．"
      ],
      "metadata": {
        "id": "023rCDddoukg"
      }
    },
    {
      "cell_type": "code",
      "source": [
        "# 学習データを識別\n",
        "N = len(datL)\n",
        "ncorrect = 0\n",
        "for n in range(N):\n",
        "    dist2 = np.sum((datL[n, :] - proto)**2, axis=1) # 各プロトタイプとの距離の2乗\n",
        "    out = np.argmin(dist2)  # 距離最小のプロトタイプの番号\n",
        "    if out == labL[n]:     # 正解数をカウント\n",
        "        ncorrect += 1\n",
        "\n",
        "print(f'{ncorrect}/{N} = {ncorrect/N}')"
      ],
      "metadata": {
        "colab": {
          "base_uri": "https://localhost:8080/"
        },
        "id": "ay1MILznnMWP",
        "outputId": "a6b4a99d-3de1-41e3-8444-575c5cc61ea4"
      },
      "execution_count": 13,
      "outputs": [
        {
          "output_type": "stream",
          "name": "stdout",
          "text": [
            "4009/5000 = 0.8018\n"
          ]
        }
      ]
    },
    {
      "cell_type": "markdown",
      "source": [
        "5000個の学習データのうち4009個で正解したということで，その割合はおよそ 0.8 となりました．この割合のことを「識別率」といいます．"
      ],
      "metadata": {
        "id": "7DZXLNTAo3WV"
      }
    },
    {
      "cell_type": "markdown",
      "source": [
        "次は，学習データとは別に用意したデータを識別させてみます．"
      ],
      "metadata": {
        "id": "dPJF8HZJpUgV"
      }
    },
    {
      "cell_type": "code",
      "source": [
        "# 別に用意したデータを識別\n",
        "N = len(datT)\n",
        "out = np.empty(N, dtype=int)\n",
        "for n in range(N):\n",
        "    dist2 = np.sum((datT[n, :] - proto)**2, axis=1) # 各プロトタイプとの距離の2乗\n",
        "    out[n] = np.argmin(dist2)  # 距離最小のプロトタイプの番号\n",
        "\n",
        "ncorrect = np.sum(out == labT) # 正解数をカウント\n",
        "\n",
        "print(f'{ncorrect}/{N} = {ncorrect/N}')"
      ],
      "metadata": {
        "colab": {
          "base_uri": "https://localhost:8080/"
        },
        "id": "FRDwzrVDoRYd",
        "outputId": "55142ef7-dffe-411c-bc19-04b9357d7a72"
      },
      "execution_count": 14,
      "outputs": [
        {
          "output_type": "stream",
          "name": "stdout",
          "text": [
            "819/1000 = 0.819\n"
          ]
        }
      ]
    },
    {
      "cell_type": "markdown",
      "source": [
        "こちらの識別率は 81.9% となりました．試しに最初の方のデータを可視化してみましょう．"
      ],
      "metadata": {
        "id": "6jJdQ7Ehp4Jq"
      }
    },
    {
      "cell_type": "code",
      "source": [
        "nx, ny = 10, 5\n",
        "display(datT[:50], nx, ny)"
      ],
      "metadata": {
        "colab": {
          "base_uri": "https://localhost:8080/",
          "height": 200
        },
        "id": "r2nlGuIUpra0",
        "outputId": "da8e672f-5407-4f7b-b656-93f7a59d0119"
      },
      "execution_count": 15,
      "outputs": [
        {
          "output_type": "display_data",
          "data": {
            "text/plain": [
              "<Figure size 432x288 with 1 Axes>"
            ],
            "image/png": "[encoded data removed]"
          },
          "metadata": {
            "needs_background": "light"
          }
        }
      ]
    },
    {
      "cell_type": "markdown",
      "source": [
        "識別結果（どの数と判断したか）はこんなん："
      ],
      "metadata": {
        "id": "2vuaB7aLqFHG"
      }
    },
    {
      "cell_type": "code",
      "source": [
        "for iy in range(ny):\n",
        "    print(out[iy*nx:(iy+1)*nx])"
      ],
      "metadata": {
        "colab": {
          "base_uri": "https://localhost:8080/"
        },
        "id": "0FGuDYhOp2o2",
        "outputId": "e7aad793-cd1b-43c5-9b5b-30b0d257b46d"
      },
      "execution_count": 16,
      "outputs": [
        {
          "output_type": "stream",
          "name": "stdout",
          "text": [
            "[9 5 6 6 8 6 9 7 4 1]\n",
            "[9 4 5 1 8 0 5 9 0 9]\n",
            "[5 7 7 4 6 4 8 1 4 4]\n",
            "[4 1 1 7 5 6 0 5 1 6]\n",
            "[5 2 5 3 3 9 8 4 9 5]\n"
          ]
        }
      ]
    },
    {
      "cell_type": "markdown",
      "source": [
        "それぞれの正解はこんなん："
      ],
      "metadata": {
        "id": "N4xgpuOXqhO4"
      }
    },
    {
      "cell_type": "code",
      "source": [
        "for iy in range(ny):\n",
        "    print(labT[iy*nx:(iy+1)*nx])"
      ],
      "metadata": {
        "colab": {
          "base_uri": "https://localhost:8080/"
        },
        "id": "ib3DrSvnqTNi",
        "outputId": "b60e1c89-9c13-4e94-a2f2-1ded0d1483de"
      },
      "execution_count": 17,
      "outputs": [
        {
          "output_type": "stream",
          "name": "stdout",
          "text": [
            "[9 5 6 6 8 6 9 7 9 1]\n",
            "[7 4 5 1 8 0 1 4 0 4]\n",
            "[5 7 7 4 6 4 8 1 4 4]\n",
            "[4 1 1 7 5 6 0 5 7 6]\n",
            "[5 2 6 3 5 9 8 4 9 5]\n"
          ]
        }
      ]
    },
    {
      "cell_type": "markdown",
      "source": [
        ""
      ],
      "metadata": {
        "id": "DOEhSkbUqRjS"
      }
    }
  ],
  "metadata": {
    "colab": {
      "collapsed_sections": [],
      "name": "ex03noteB.ipynb",
      "provenance": [],
      "include_colab_link": true
    },
    "kernelspec": {
      "display_name": "Python 3",
      "name": "python3"
    },
    "language_info": {
      "codemirror_mode": {
        "name": "ipython",
        "version": 3
      },
      "file_extension": ".py",
      "mimetype": "text/x-python",
      "name": "python",
      "nbconvert_exporter": "python",
      "pygments_lexer": "ipython3",
      "version": "3.9.7"
    }
  },
  "nbformat": 4,
  "nbformat_minor": 0
}