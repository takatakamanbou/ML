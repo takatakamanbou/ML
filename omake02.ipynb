{
  "nbformat": 4,
  "nbformat_minor": 0,
  "metadata": {
    "colab": {
      "provenance": [],
      "authorship_tag": "ABX9TyPuVADr2QWBDFfYs6Lh7mcG",
      "include_colab_link": true
    },
    "kernelspec": {
      "name": "python3",
      "display_name": "Python 3"
    }
  },
  "cells": [
    {
      "cell_type": "markdown",
      "metadata": {
        "id": "view-in-github",
        "colab_type": "text"
      },
      "source": [
        "<a href=\"https://colab.research.google.com/github/takatakamanbou/ML/blob/2022/omake02.ipynb\" target=\"_parent\"><img src=\"https://colab.research.google.com/assets/colab-badge.svg\" alt=\"Open In Colab\"/></a>"
      ]
    },
    {
      "cell_type": "markdown",
      "metadata": {
        "id": "2UzDNLmVS3po"
      },
      "source": [
        "# ML omake02\n",
        "\n",
        "<img width=64 src=\"https://www-tlab.math.ryukoku.ac.jp/~takataka/course/ML/ML-logo.png\">\n"
      ]
    },
    {
      "cell_type": "markdown",
      "metadata": {
        "id": "_4-TmUdCd9FJ"
      },
      "source": [
        "----\n",
        "# Python の初歩 その2\n",
        "----\n",
        "\n",
        "C言語プログラミングを少し学んでいる方を想定して， プログラミング言語 Python の初歩の初歩を解説してみます．Colab notebook なので，そのまま実行してみてね．"
      ]
    },
    {
      "cell_type": "markdown",
      "metadata": {
        "id": "Z4c3TGUV38Ri"
      },
      "source": [
        "----\n",
        "## 文字列"
      ]
    },
    {
      "cell_type": "markdown",
      "metadata": {
        "id": "mGDLYnwg71kh"
      },
      "source": [
        "C言語では，`char`型の変数一つで1文字を表します．ASCIIという文字コードを用いるため，表せる文字の種類がアルファベットや数字，記号等に限られています．複数の文字の連なりである文字列を扱いたい場合は，`char`型の配列を用います．\n",
        "\n",
        "一方，Pythonでは，文字列を一つの変数に格納できます．\n",
        "最近の Python（Python3）では Unicode という文字コード体系を用いるため，日本語も普通に扱えます．\n",
        "\n",
        "文字列は，前後を `\"`または `'` で囲んで表記します．どちらの記号を使っても構いませんが，一つの文字列を囲む記号は同じでなければなりません．"
      ]
    },
    {
      "cell_type": "code",
      "metadata": {
        "id": "mH1RWEw54RPv"
      },
      "source": [
        "s1 = \"hoge\"\n",
        "s2 = 'ほげ'\n",
        "print(s1, s2)"
      ],
      "execution_count": null,
      "outputs": []
    },
    {
      "cell_type": "markdown",
      "metadata": {
        "id": "ZnE7_3uaRFDn"
      },
      "source": [
        "文字列同士の `+` 演算は，文字列の連結．"
      ]
    },
    {
      "cell_type": "code",
      "metadata": {
        "id": "ROG8mPBJ4Uln"
      },
      "source": [
        "s3 = s2 + s1\n",
        "s4 = s2 + \" \\(^o^)/ \" + s1\n",
        "s5 = '123' + \"456\"\n",
        "print(s3)\n",
        "print(s4)\n",
        "print(s5)"
      ],
      "execution_count": null,
      "outputs": []
    },
    {
      "cell_type": "markdown",
      "metadata": {
        "id": "Hd046TELUaLL"
      },
      "source": [
        "文字列に整数を掛けると..."
      ]
    },
    {
      "cell_type": "code",
      "metadata": {
        "id": "yTWToKviUgKu"
      },
      "source": [
        "print('ほげ'*10)"
      ],
      "execution_count": null,
      "outputs": []
    },
    {
      "cell_type": "markdown",
      "metadata": {
        "id": "4ZRJszs_XIIc"
      },
      "source": [
        "組み込み関数 `len` で文字数を得られます．"
      ]
    },
    {
      "cell_type": "code",
      "metadata": {
        "id": "EzjBJH9dXcB7"
      },
      "source": [
        "s = 'hoge'\n",
        "print(s, len(s))\n",
        "s = 'ほげほげ'\n",
        "print(s, len(s))"
      ],
      "execution_count": null,
      "outputs": []
    },
    {
      "cell_type": "markdown",
      "metadata": {
        "id": "pYya1C48Su3k"
      },
      "source": [
        "組み込み関数 `str` を使って整数や浮動小数点数等を文字列に変換できます．"
      ]
    },
    {
      "cell_type": "code",
      "metadata": {
        "id": "GTlDP268TMSV"
      },
      "source": [
        "M = 12\n",
        "D = 1\n",
        "M + '月' + D + '日'  # これは「整数＋文字列」の演算があるのでエラーになる"
      ],
      "execution_count": null,
      "outputs": []
    },
    {
      "cell_type": "code",
      "metadata": {
        "id": "Nb4I_vhlToNG"
      },
      "source": [
        "str(M) + '月' + str(D) + '日' # これならok"
      ],
      "execution_count": null,
      "outputs": []
    },
    {
      "cell_type": "markdown",
      "metadata": {
        "id": "_P6Kc-mYT_fU"
      },
      "source": [
        "逆に組み込み関数 `int` や `float` を使って文字列を数値に変換することもできます．"
      ]
    },
    {
      "cell_type": "code",
      "metadata": {
        "id": "QXpwNMckUHG6"
      },
      "source": [
        "s1 = '46' + '49'\n",
        "s2 = int('46') + int('49')\n",
        "s3 = int('1001', 10)  # int関数の第2引数を指定すると...\n",
        "s4 = int('1001', 2)\n",
        "print(s1, s2, s3, s4)"
      ],
      "execution_count": null,
      "outputs": []
    },
    {
      "cell_type": "markdown",
      "metadata": {
        "id": "vbiQg4hbS_vF"
      },
      "source": [
        "Python公式ドキュメントの組み込み関数 `int` の説明: https://docs.python.org/ja/3/library/functions.html?highlight=int#int"
      ]
    },
    {
      "cell_type": "markdown",
      "metadata": {
        "id": "3jFj7YAV74ZQ"
      },
      "source": [
        "他にも文字列処理に利用できる機能（strクラスのメソッド（注））がたくさんあります．\n",
        "\n",
        "文字列メソッドいろいろ: \n",
        "https://docs.python.org/ja/3/library/stdtypes.html?highlight=str%20%E3%83%86%E3%82%AD%E3%82%B9%E3%83%88%E3%82%B7%E3%83%BC%E3%82%B1%E3%83%B3%E3%82%B9#string-methods\n",
        "\n",
        "\n",
        "注: 「メソッド」については，とりあえず「関数みたいなもの」と思っておけばよいです．クラスとかメソッドという概念は，「オブジェクト指向プログラミング」を学ぶとわかるようになります．"
      ]
    },
    {
      "cell_type": "code",
      "metadata": {
        "id": "QQ8M3640S1W7"
      },
      "source": [
        "# 文字列メソッドの利用例\n",
        "\n",
        "# 適当な文字列を用意\n",
        "s1 = \"それはそれは     たいへんでしたね おつかれさまです\"\n",
        "# それを空白で複数の文字列に分ける\n",
        "L = s1.split()  # L は複数の文字列がならんだリスト\n",
        "# それを `ww ` をはさんで連結する\n",
        "s2 = 'ww '.join(L)\n",
        "print(s2)"
      ],
      "execution_count": null,
      "outputs": []
    },
    {
      "cell_type": "markdown",
      "metadata": {
        "id": "XuOD4gtu-7Zi"
      },
      "source": [
        "----\n",
        "## リスト"
      ]
    },
    {
      "cell_type": "markdown",
      "metadata": {
        "id": "jMiLyVUZ_Dt6"
      },
      "source": [
        "複数の数値や文字列などを並べて格納することのできる，**リスト**というデータ構造があります．C言語の配列に似ています．\n",
        "要素を `,` で区切って並べたものを `[` と `]` で囲むとリストを作ることができます．"
      ]
    },
    {
      "cell_type": "code",
      "metadata": {
        "id": "kX1m9-g0AYnG"
      },
      "source": [
        "L = [0, 11, 22, 33, 44, 55] # 6つの整数値を並べたリスト\n",
        "print(L[0], L[3])  # 先頭から数えて 0 番目と 3 番目の要素"
      ],
      "execution_count": null,
      "outputs": []
    },
    {
      "cell_type": "code",
      "metadata": {
        "id": "uQrT79wdZRXv"
      },
      "source": [
        "# これはエラー\n",
        "print(L[6])"
      ],
      "execution_count": null,
      "outputs": []
    },
    {
      "cell_type": "code",
      "metadata": {
        "id": "IPQe2ZJKZWxf"
      },
      "source": [
        "# これはエラー？\n",
        "print(L[-1])"
      ],
      "execution_count": null,
      "outputs": []
    },
    {
      "cell_type": "code",
      "metadata": {
        "id": "X88JRspqZhst"
      },
      "source": [
        "# これは？\n",
        "print(L[-2])"
      ],
      "execution_count": null,
      "outputs": []
    },
    {
      "cell_type": "markdown",
      "metadata": {
        "id": "mVgzucyqZTkN"
      },
      "source": [
        "C言語の配列は「`int`型の配列」や「`char`型の配列」といった具合に要素の型を決めて作りますので，その型の値しか格納できません．\n",
        "\n",
        "しかし，Pythonのリストにはそのような制約はなく，いろんなものを混在させることができます．\n"
      ]
    },
    {
      "cell_type": "code",
      "metadata": {
        "id": "xmGf0NABaNbM"
      },
      "source": [
        "L2 = [0, 'いち', '二', 3.1415, ['ほげ', 'ふが'], 'Go']\n",
        "for item in L2:\n",
        "    print(item)"
      ],
      "execution_count": null,
      "outputs": []
    },
    {
      "cell_type": "markdown",
      "metadata": {
        "id": "bIPDpVAlah4g"
      },
      "source": [
        "組み込み関数 `len` で要素数を得ることができます．"
      ]
    },
    {
      "cell_type": "code",
      "metadata": {
        "id": "5YliIie0al4c"
      },
      "source": [
        "print(len(L2))"
      ],
      "execution_count": null,
      "outputs": []
    },
    {
      "cell_type": "markdown",
      "metadata": {
        "id": "mEI6bpGQavkY"
      },
      "source": [
        "したがって，上記の for ループは，次のように書くこともできます（`i`の値を表示してるところが上記と違いますが）．"
      ]
    },
    {
      "cell_type": "code",
      "metadata": {
        "id": "AY3dsOQfapuj"
      },
      "source": [
        "for i in range(len(L2)):\n",
        "    print(i, L2[i])"
      ],
      "execution_count": null,
      "outputs": []
    },
    {
      "cell_type": "markdown",
      "metadata": {
        "id": "NhnWrdDEAnWW"
      },
      "source": [
        "リストのメソッド `append` を使うことで，リストに要素を追加することができます．"
      ]
    },
    {
      "cell_type": "code",
      "metadata": {
        "id": "s9ExSlHZA5wk"
      },
      "source": [
        "L2.append('ほ〜げほげほげほげらった〜')\n",
        "print(L2)"
      ],
      "execution_count": null,
      "outputs": []
    },
    {
      "cell_type": "markdown",
      "metadata": {
        "id": "R63uO69iBQXi"
      },
      "source": [
        "他にもいろいろ便利なメソッドがありますが，ここでは説明を省略します．"
      ]
    },
    {
      "cell_type": "markdown",
      "metadata": {
        "id": "XCG4yjjtbwh8"
      },
      "source": [
        "リストなどの添字の範囲を指定する**スライス**というものを使うことで，リストの一部を取り出したリストを得ることができます．"
      ]
    },
    {
      "cell_type": "code",
      "metadata": {
        "id": "TjDoVGPUcGAC"
      },
      "source": [
        "L3 = L2[2:5]  # L3 は，L2[2] から L2[4] までの要素を含むリスト\n",
        "print(L3)"
      ],
      "execution_count": null,
      "outputs": []
    },
    {
      "cell_type": "markdown",
      "metadata": {
        "id": "Uq4PUK6Ucvho"
      },
      "source": [
        "スライスの始まりや終わりは省略することもできます．"
      ]
    },
    {
      "cell_type": "code",
      "metadata": {
        "id": "ZjtBN1tYclqn"
      },
      "source": [
        "print(L2[:3])\n",
        "print(L2[5:])"
      ],
      "execution_count": null,
      "outputs": []
    },
    {
      "cell_type": "markdown",
      "metadata": {
        "id": "-agpXaINdPrO"
      },
      "source": [
        "こんなこともできます．"
      ]
    },
    {
      "cell_type": "code",
      "metadata": {
        "id": "z5KqW7-Wclfi"
      },
      "source": [
        "print(L2[1:6:2]) # L2[1], L2[3], L2[5] を並べたリストが得られる"
      ],
      "execution_count": null,
      "outputs": []
    },
    {
      "cell_type": "code",
      "metadata": {
        "id": "7dli_037dlL4"
      },
      "source": [
        "print(L2[::-1]) # 始まりと終わりを省略，要素番号の増分は -1"
      ],
      "execution_count": null,
      "outputs": []
    },
    {
      "cell_type": "markdown",
      "metadata": {
        "id": "WPZ6Cf3hcSgb"
      },
      "source": [
        "----\n",
        "## ディクショナリ\n",
        "\n"
      ]
    },
    {
      "cell_type": "markdown",
      "metadata": {
        "id": "hOHIHajFd6R2"
      },
      "source": [
        "**ディクショナリ**（辞書）という便利なデータ構造も用意されています．\n",
        "\n",
        "以下は，県の名と府県庁所在地をペアにしたディクショナリを作っている例です．"
      ]
    },
    {
      "cell_type": "code",
      "metadata": {
        "id": "CU8ALgkMepnG"
      },
      "source": [
        "D = { '滋賀県':'大津市', '京都府':'京都市', '大阪府':'大阪市', '兵庫県':'神戸市' }"
      ],
      "execution_count": null,
      "outputs": []
    },
    {
      "cell_type": "markdown",
      "metadata": {
        "id": "d6Lf3lJ6e5DP"
      },
      "source": [
        "'滋賀県' や '京都府' のように `:` の前に書いたものを **キー** と言い，'大津市' や '京都市' のように `:` の後に書いたものを **値** と言います．ディクショナリは，キーと値のペアを複数格納するものです．"
      ]
    },
    {
      "cell_type": "markdown",
      "metadata": {
        "id": "sD68nf98eDHb"
      },
      "source": [
        "ディクショナリに対して次のようにキーを指定すると，対応する値を得ることができます．"
      ]
    },
    {
      "cell_type": "code",
      "metadata": {
        "id": "yVs6V67sfdf4"
      },
      "source": [
        "print(D['滋賀県'])\n",
        "print(D['兵庫県'])"
      ],
      "execution_count": null,
      "outputs": []
    },
    {
      "cell_type": "markdown",
      "metadata": {
        "id": "5AMUuusvf1JG"
      },
      "source": [
        "次のような条件判定によって，あるキーがディクショナリ中に存在しているかどうかを知ることができます．"
      ]
    },
    {
      "cell_type": "code",
      "metadata": {
        "id": "pwKZVmFUByFa"
      },
      "source": [
        "k = '大阪府'  # ここを変えていろいろ試そう．ディクショナリに存在しない都道府県名なども試してみてね\n",
        "if k in D:\n",
        "    print(f'{k}の県庁所在地は{D[k]}でっせ')\n",
        "else:\n",
        "    print(f'{k}なんて知らんわ')"
      ],
      "execution_count": null,
      "outputs": []
    },
    {
      "cell_type": "markdown",
      "metadata": {
        "id": "ON-f-NyXgnAm"
      },
      "source": [
        "文字列の章で説明しませんでしたが，上記の `print` の中に現れた，`f` で始まる文字列の書き方は「f文字列」と呼ばれるものです．興味のあるひとは調べてみてね．"
      ]
    },
    {
      "cell_type": "markdown",
      "metadata": {
        "id": "-PAUzoJmhIQ9"
      },
      "source": [
        "ディクショナリにもまだまだいろいろ機能がありますが，省略します．"
      ]
    },
    {
      "cell_type": "markdown",
      "metadata": {
        "id": "oV9c8hEiPog9"
      },
      "source": [
        "----\n",
        "## 練習問題\n"
      ]
    },
    {
      "cell_type": "markdown",
      "metadata": {
        "id": "HdeJr_0gh9qt"
      },
      "source": [
        "(0) `input`を使うと，キー入力を受け取ることができます．次のセルを実行して，何かキー入力して Enter 押してみましょう．"
      ]
    },
    {
      "cell_type": "code",
      "metadata": {
        "id": "MM2na42lNU4u"
      },
      "source": [
        "x = input('なんか入力して Enter 押してね')\n",
        "print(x, 'ですかそうですか')"
      ],
      "execution_count": null,
      "outputs": []
    },
    {
      "cell_type": "markdown",
      "metadata": {
        "id": "qgOEMQloi8_w"
      },
      "source": [
        "以下のセルは無限ループします．止めたいときは，セルの左に表示される○の中に□が描かれたボタンを押してください．"
      ]
    },
    {
      "cell_type": "code",
      "metadata": {
        "id": "FzzUHiFEikmi"
      },
      "source": [
        "i = 0\n",
        "while True: # True は「真/偽」の「真」を表す．「偽」は False\n",
        "    x = input()\n",
        "    print(i, x)\n",
        "    i += 1"
      ],
      "execution_count": null,
      "outputs": []
    },
    {
      "cell_type": "markdown",
      "metadata": {
        "id": "zdESGEqZjoPK"
      },
      "source": [
        "(1) 以下のセルのコードは，キー入力された数の和を求めるつもりで書いたものですが，このままでは正しく動作しません．\n",
        "正しく動作するように修正してください．\n",
        "\n",
        "ヒント: `input` の戻り値は文字列です．\n",
        "\n"
      ]
    },
    {
      "cell_type": "code",
      "metadata": {
        "id": "5EWC_fNij_09"
      },
      "source": [
        "s = 0\n",
        "while True:\n",
        "    x = input('数を入力してね（負だと終了）')\n",
        "    if x >= 0:\n",
        "        # ここは自分で考えてね\n",
        "    else:\n",
        "        break  # break は C言語同様にループを抜ける\n",
        "print(f'和は{s}')"
      ],
      "execution_count": null,
      "outputs": []
    },
    {
      "cell_type": "markdown",
      "metadata": {
        "id": "14NAgpjuP_Gf"
      },
      "source": [
        "(2) 以下のセルに，リスト`L`の要素中の最大値を求めるコードを書きなさい．要素はすべて浮動小数点数と仮定してよく，それ以外のものが含まれていた場合の処理は考えなくともよい．"
      ]
    },
    {
      "cell_type": "code",
      "metadata": {
        "id": "T1eRnvRhQkGY"
      },
      "source": [
        "import random  # ここでは説明しないが，乱数を扱うための「random モジュール」を読み込んでいる\n",
        "L = [random.random() for i in range(20)] # [0, 1) の乱数20個\n",
        "print(L)\n",
        "print(max(L)) # 組み込み関数 max で最大値が求まる．検算用\n",
        "\n",
        "# ここから下にコードを追加してね"
      ],
      "execution_count": null,
      "outputs": []
    },
    {
      "cell_type": "markdown",
      "metadata": {
        "id": "xngIbBXvndPi"
      },
      "source": [
        "(3) 以下のセルのコードを修正して，数当てゲームができるようにしよう．\n",
        "キー入力した数が `n` より大きければ「大きすぎ」，小さければ「小さすぎ」のように出力して，等しければ「あたり〜」と出力して何回で当たったか教えてくれるようにしよう．"
      ]
    },
    {
      "cell_type": "code",
      "metadata": {
        "id": "dqQk1_MPcU2D"
      },
      "source": [
        "nmax = 255\n",
        "n = random.randint(1, nmax) # 1 以上 nmax 以下の乱数\n",
        "print(f\"1以上{nmax}以下の数を選んだよ．当ててみ．\")\n",
        "\n",
        "cnt = 0  # 数を入力した回数をカウント\n",
        "\n",
        "while True:\n",
        "    x = input(\"数を入力してね:\") # input はキー入力を受け付ける．戻り値は文字列であることに注意\n",
        "    print(x)\n",
        "        \n",
        "print(cnt, \"回で当たり〜\")"
      ],
      "execution_count": null,
      "outputs": []
    },
    {
      "cell_type": "markdown",
      "metadata": {
        "id": "FCJ8T1d9n-Kl"
      },
      "source": [
        "(おまけ1) 県庁所在地あてクイズ"
      ]
    },
    {
      "cell_type": "code",
      "metadata": {
        "id": "jnEOqfpJoCY_"
      },
      "source": [
        "# Google Colab では， '!' に続けて Linux コマンドを書いて実行させることができる\n",
        "# 以下は，takatakaのWebサーバから ex06kencho.txt というテキストファイルを入手している\n",
        "! wget http://www-tlab.math.ryukoku.ac.jp/~takataka/course/AProg/ex06kencho.txt\n",
        "! ls"
      ],
      "execution_count": null,
      "outputs": []
    },
    {
      "cell_type": "code",
      "metadata": {
        "id": "cxATmxqOoQxd"
      },
      "source": [
        "import random\n",
        "\n",
        "### ファイルを読んで県名をキー，県庁所在地を値とするディクショナリを作る\n",
        "dKencho = {}\n",
        "with open('ex06kencho.txt', 'r', encoding='utf-8') as f:\n",
        "    for line in f:\n",
        "        x, y = line.strip().split(',')\n",
        "        dKencho[x] = y\n",
        "\n",
        "### キーのリストをシャッフル\n",
        "keyList = list(dKencho.keys()) \n",
        "random.shuffle(keyList)\n",
        "\n",
        "### 出題数を決める\n",
        "while True:\n",
        "    n = int(input('何問やる？ '))\n",
        "    if 0 < n <= len(keyList):\n",
        "        break\n",
        "\n",
        "### クイズ．正解数をカウント\n",
        "cnt = 0\n",
        "for i, k in enumerate(keyList[:n]):\n",
        "    ans = input(f'{i+1}問目: {k}の県庁所在地は？ ')\n",
        "    if dKencho[k] == ans:\n",
        "        print('正解！')\n",
        "        cnt += 1\n",
        "    else:\n",
        "        print('ちゃうで')\n",
        "print(f'{n}問中{cnt}問正解やったで')"
      ],
      "execution_count": null,
      "outputs": []
    },
    {
      "cell_type": "markdown",
      "metadata": {
        "id": "UYhG5i2Yp5Yc"
      },
      "source": [
        "(おまけ2) 郵便番号検索"
      ]
    },
    {
      "cell_type": "code",
      "metadata": {
        "id": "7lQ2Ylifp5D3"
      },
      "source": [
        "! wget http://www-tlab.math.ryukoku.ac.jp/~takataka/course/AProg/zipdata.txt\n",
        "! ls"
      ],
      "execution_count": null,
      "outputs": []
    },
    {
      "cell_type": "code",
      "metadata": {
        "id": "EOKNeJ3Jo9B7"
      },
      "source": [
        "### 関数 readZIP() の定義\n",
        "#      Python で関数を定義する／使う方法はまだ説明してないので，眺めてふーんって感じでok\n",
        "def readZIP(fn):\n",
        "\n",
        "    dZIP = {}       # 空のディクショナリを作る\n",
        "    with open(fn, \"r\", encoding=\"utf-8\") as f:  # ファイル名 fn のファイルを読み込みモードで開く\n",
        "        for line in f:  # ファイルから1行ずつ読み込んでループ\n",
        "            x, y = line.split()   # 空白区切りで分割．1つ目を x に，残り（2つ目）を y に\n",
        "            dZIP[x] = y           # キー x, 値 y のペアを登録．x, y とも文字列\n",
        "\n",
        "    return dZIP\n",
        "\n",
        "\n",
        "# 引数にファイル名を指定して readZIP() を呼ぶ\n",
        "#    何を引数に指定するかは自分で考えよう．戻り値は郵便番号データのディクショナリ\n",
        "zip = readZIP('zipdata.txt')\n",
        "\n",
        "# ディクショナリに対する len() は，キーの数を返す\n",
        "print(len(zip), \"件の郵便番号データを読み込みました\")\n",
        "\n",
        "while True:\n",
        "    z = input('郵便番号を入力してください（\\'q\\'か\\'Q\\'で終了）')\n",
        "    if z == 'q' or z == 'Q':\n",
        "        break\n",
        "    else:\n",
        "        if z in zip:\n",
        "            print(z, zip[z])\n",
        "        else:\n",
        "            print('見つかりません')"
      ],
      "execution_count": null,
      "outputs": []
    },
    {
      "cell_type": "markdown",
      "metadata": {
        "id": "iIxk5VEnqbLv"
      },
      "source": [
        "サンプル\n",
        "```\n",
        "118014 件の郵便番号データを読み込みました\n",
        "郵便番号を入力してください（'q'か'Q'で終了） 1057219\n",
        "1057219 東京都港区東新橋汐留メディアタワー(19階)\n",
        "郵便番号を入力してください（'q'か'Q'で終了） 1057220\n",
        "1057220 東京都港区東新橋汐留メディアタワー(20階)\n",
        "郵便番号を入力してください（'q'か'Q'で終了） 0010010\n",
        "0010010 北海道札幌市北区北十条西(1〜4丁目)\n",
        "郵便番号を入力してください（'q'か'Q'で終了） 9998525\n",
        "9998525 山形県飽海郡遊佐町直世\n",
        "郵便番号を入力してください（'q'か'Q'で終了） 5202123\n",
        "5202123 滋賀県大津市瀬田大江町\n",
        "郵便番号を入力してください（'q'か'Q'で終了） 1234567\n",
        "見つかりません\n",
        "郵便番号を入力してください（'q'か'Q'で終了） q\n",
        "```"
      ]
    },
    {
      "cell_type": "code",
      "metadata": {
        "id": "Rkz1WK7yqVhs"
      },
      "source": [],
      "execution_count": null,
      "outputs": []
    }
  ]
}