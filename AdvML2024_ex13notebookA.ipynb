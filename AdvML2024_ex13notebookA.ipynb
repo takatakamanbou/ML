{
  "cells": [
    {
      "cell_type": "markdown",
      "metadata": {
        "id": "view-in-github",
        "colab_type": "text"
      },
      "source": [
        "<a href=\"https://colab.research.google.com/github/takatakamanbou/ML/blob/2024/AdvML2024_ex13notebookA.ipynb\" target=\"_parent\"><img src=\"https://colab.research.google.com/assets/colab-badge.svg\" alt=\"Open In Colab\"/></a>"
      ]
    },
    {
      "cell_type": "markdown",
      "metadata": {
        "id": "2UzDNLmVS3po"
      },
      "source": [
        "# AdvML ex13notebookA\n",
        "\n",
        "<img width=72 src=\"https://www-tlab.math.ryukoku.ac.jp/~takataka/course/AdvML/AdvML-logo.png\"> [この授業のウェブページ](https://www-tlab.math.ryukoku.ac.jp/wiki/?AdvML)\n",
        "\n",
        "\n"
      ]
    },
    {
      "cell_type": "markdown",
      "source": [
        "板書や口頭で補足する前提なので，この notebook だけでは説明が不完全です．\n"
      ],
      "metadata": {
        "id": "bStHGoTvH0gr"
      }
    },
    {
      "cell_type": "code",
      "source": [
        "# 準備あれこれ\n",
        "import numpy as np\n",
        "import matplotlib.pyplot as plt\n",
        "import pandas as pd\n",
        "import seaborn\n",
        "seaborn.set()\n",
        "\n",
        "# scikit-learn のいろいろ\n",
        "from sklearn.datasets import make_moons, fetch_openml\n",
        "from sklearn.model_selection import train_test_split\n",
        "\n",
        "# NumPy の 疑似乱数生成器（rng = random number generator）\n",
        "from numpy.random import default_rng\n",
        "rng = default_rng() # 疑似乱数生成器を初期化"
      ],
      "metadata": {
        "id": "RjLTO96x2EvK"
      },
      "execution_count": null,
      "outputs": []
    },
    {
      "cell_type": "markdown",
      "source": [
        "---\n",
        "## 主成分分析による次元削減（前回の続き）\n",
        "---\n"
      ],
      "metadata": {
        "id": "Yaz4QyS7DRW_"
      }
    },
    {
      "cell_type": "markdown",
      "source": [
        "［主成分分析の問題の解］（前回の復習）\n",
        "\n",
        "$N$個の$D$次元ベクトルから成る学習データが与えられるとする．\n",
        "$$\n",
        "\\{ \\mathbf{x}_n \\in {\\cal R}^{D} | n = 1, 2, \\ldots, N\\}\n",
        "$$\n",
        "ただし，このデータの平均は $\\mathbf{0}$ とする．\n",
        "また，$\\mathbf{x}$ の分散共分散行列 $V = \\frac{1}{N}\\sum_{n=1}^{N}\\mathbf{x}_n\\mathbf{x}_n^{\\top}$ の固有値を $\\lambda_1 \\geq \\lambda_2 \\geq \\ldots \\geq \\lambda_D$とし，これらに対応する単位固有ベクトルをそれぞれ $\\mathbf{u}_1, \\mathbf{u}_2,\\ldots,\\mathbf{u}_D$ とおく．\n",
        "\n",
        "$H\\times D$行列 $W$ によって\n",
        "$$\n",
        "\\mathbf{z} = W\\mathbf{x} = \\begin{pmatrix}\n",
        "\\mathbf{w}_1\\cdot\\mathbf{x}\\\\\n",
        "\\mathbf{w}_2\\cdot\\mathbf{x}\\\\\n",
        "\\vdots\\\\\n",
        "\\mathbf{w}_H\\cdot\\mathbf{x}\n",
        "\\end{pmatrix}\n",
        "$$\n",
        "と次元削減するとき，主成分分析の目的を実現するためには，\n",
        "ベクトル $\\mathbf{w}_h$ ($h = 1, 2, \\ldots, H$) を $\\mathbf{u}_h$ の向きにとればよい（注）．\n",
        "\n",
        "ここで，$\\lambda_1$ から $\\lambda_H$ （$H \\leq D$）に対応する固有ベクトル $\\mathbf{u}_1, \\mathbf{u}_2, \\ldots, \\mathbf{u}_H$ をならべた，次のような行列 $U_H$ を考える．\n",
        "\n",
        "$$\n",
        "U_H = (\\mathbf{u}_1\\  \\mathbf{u}_2\\  \\ldots\\ \\mathbf{u}_H )\n",
        "$$\n",
        "\n",
        "$U_H$ は $D \\times H$ 行列である．このとき，主成分分析の変換行列 $W$ は，\n",
        "\n",
        "$$\n",
        "W = U_H^{\\top} = \\begin{pmatrix} \\mathbf{u}_1^{\\top} \\\\ \\mathbf{u}_2^{\\top} \\\\ \\vdots \\\\ \\mathbf{u}_H^{\\top} \\end{pmatrix}\n",
        "$$\n",
        "\n",
        "となる．\n",
        "\n",
        "※ 注: ここで考えている固有ベクトルは「単位」固有ベクトル（大きさが1，すなわち $||\\mathbf{u}_h||=1$）に限定しているが，符号の不定性がある（$\\mathbf{u}_h$も$−\\mathbf{u}_h$も固有ベクトル）．したがって，$\\mathbf{w}_h = -\\mathbf{u}_h$ としてもよい．\n"
      ],
      "metadata": {
        "id": "8M4msamI9Von"
      }
    },
    {
      "cell_type": "markdown",
      "source": [
        "$\\mathbf{x}_n$ の平均が $\\mathbf{0}$ でない場合に一般化すると，\n",
        "\n",
        "$$\n",
        "\\mathbf{z} = U_H^{\\top}(\\mathbf{x} - \\mathbf{\\mu}) = \\begin{pmatrix}\n",
        "\\mathbf{u}_1\\cdot(\\mathbf{x} - \\mathbf{\\mu})\\\\\n",
        "\\mathbf{u}_2\\cdot(\\mathbf{x} - \\mathbf{\\mu})\\\\\n",
        "\\vdots\\\\\n",
        "\\mathbf{u}_H\\cdot(\\mathbf{x} - \\mathbf{\\mu})\n",
        "\\end{pmatrix}\n",
        "$$"
      ],
      "metadata": {
        "id": "uFUwWY6ABuKK"
      }
    },
    {
      "cell_type": "markdown",
      "source": [
        "### 変換後のデータの平均と分散"
      ],
      "metadata": {
        "id": "iLdI0MkBS8T8"
      }
    },
    {
      "cell_type": "markdown",
      "source": [
        "学習データ $\\mathbf{x}_n$ の平均が $\\mathbf{\\mu}$ のとき，変換後のデータ $\\mathbf{z}_n$ の平均を $\\mathbf{\\mu}_z$ とおくと，\n",
        "\n",
        "$$\n",
        "\\begin{aligned}\n",
        "\\mathbf{\\mu}_z &= \\frac{1}{N}\\sum_{n=1}^{N}\\mathbf{z}_n = \\frac{1}{N}\\sum_{n=1}^{N} U_H^{\\top}(\\mathbf{x}_n - \\mathbf{\\mu}) = U_H^{\\top}\\left( \\frac{1}{N}\\sum_{n=1}^{N} (\\mathbf{x}_n - \\mathbf{\\mu})\\right)\\\\\n",
        "&= U_H^{\\top}\\left( \\frac{1}{N}\\sum_{n=1}^{N}\\mathbf{x}_n - \\frac{1}{N}\\sum_{n=1}^{N}\\mathbf{\\mu} \\right) = U_H^{\\top} \\left( \\mathbf{\\mu} - \\mathbf{\\mu}\\right) = \\mathbf{0}\n",
        "\\end{aligned}\n",
        "$$\n",
        "\n",
        "となる．\n",
        "\n",
        "学習データの分散共分散行列を $V$ とし，変換後のデータの分散共分散行列を $V_z$ とおくと，\n",
        "\n",
        "$$\n",
        "\\begin{aligned}\n",
        "V_z &= \\frac{1}{N}\\sum_{n=1}^{N}(\\mathbf{z}_n - \\mathbf{\\mu}_z)(\\mathbf{z}_n - \\mathbf{\\mu}_z)^{\\top} = \\frac{1}{N}\\sum_{n=1}^{N}\\mathbf{z}_n\\mathbf{z}_n^{\\top}\\\\\n",
        "&= \\frac{1}{N}\\sum_{n=1}^{N} U_H^{\\top}(\\mathbf{x}_n - \\mathbf{\\mu}) \\left(U_H^{\\top}(\\mathbf{x}_n - \\mathbf{\\mu})\\right)^{\\top}\n",
        "= \\frac{1}{N}\\sum_{n=1}^{N} U_H^{\\top}(\\mathbf{x}_n - \\mathbf{\\mu}) (\\mathbf{x}_n - \\mathbf{\\mu})^{\\top} U_H\\\\\n",
        "&= U_H^{\\top} V U_H  = \\textrm{diag}(\\lambda_1, \\lambda_2, \\ldots, \\lambda_H)\n",
        "\\end{aligned}\n",
        "$$\n",
        "\n",
        "となる．したがって，変換後のデータの変数間の共分散は（相関も） $0$ である．\n",
        "また，変換後のデータの $h$ 番目の変数 $y_h$ の分散は，$V$ の $h$ 番目の固有値 $\\lambda_h$ に等しい．"
      ],
      "metadata": {
        "id": "7babXwo81Oz8"
      }
    },
    {
      "cell_type": "markdown",
      "source": [
        "### 再構成とその誤差"
      ],
      "metadata": {
        "id": "RC_L0oE8ImlK"
      }
    },
    {
      "cell_type": "markdown",
      "source": [
        "$D$ 次元のデータ $\\mathbf{x}$ に対して $\\mathbf{z} = U_H^{\\top}(\\mathbf{x} - \\mathbf{\\mu})$ は $H$ 次元である．このとき，\n",
        "\n",
        "$$\n",
        "\\widehat{\\mathbf{x}} = U_H\\mathbf{z} + \\mathbf{\\mu} = U_HU_H^{\\top}(\\mathbf{x} -  \\mathbf{\\mu}) + \\mathbf{\\mu}\n",
        "$$\n",
        "\n",
        "は $D$ 次元である．これは，$\\mathbf{x}$ を $H$ 次元に次元削減してから元の次元数に戻したものになっており，「再構成」(reconstruction)と呼ばれる．\n",
        "\n",
        "主成分分析は，学習データとその再構成との間の二乗誤差\n",
        "\n",
        "$$\n",
        "\\sum_{n=1}^{N} \\Vert \\mathbf{x}_n - \\widehat{\\mathbf{x}}_n  \\Vert^2\n",
        "$$\n",
        "\n",
        "を最小化する線形変換となっている．つまり，任意の $H\\times D$ 行列 $A$ と $D \\times H$ 行列 $B$ を用いて $\\widehat{\\mathbf{x}} = BA(\\mathbf{x} - \\mathbf{\\mu}) + \\mathbf{\\mu}$ と再構成することを考えたとき，$A = U_H^{\\top}, B = U_H$ とすると再構成の二乗誤差が最小となる（注）．\n",
        "\n",
        "※ 注: 「最小になるのは $A = U_H^{\\top}, B = U_H$ のときに限られる」とは言ってないことに注意．実際，任意の $H\\times H$ 正則行列 $C$ に対して $A = CU_H^{\\top}, B = U_H C^{-1}$ とおけば上記の二乗誤差は最小となる．"
      ],
      "metadata": {
        "id": "FdiQIcABI0bb"
      }
    },
    {
      "cell_type": "markdown",
      "source": [
        "### PCAによる生成"
      ],
      "metadata": {
        "id": "TjGDyg_q722M"
      }
    },
    {
      "cell_type": "markdown",
      "source": [
        "主成分分析による次元削減と再構成の性質から，次のようなデータ生成モデル（注）を考えることができる．\n",
        "\n",
        "1. $H$ 次元の潜在変数 $\\mathbf{z}$ が次のような正規分布から生成される：\n",
        "$$\n",
        "{\\cal N}(\\mathbf{z}; \\mathbf{0}, \\Sigma_H)\n",
        "$$\n",
        "ただし， $\\Sigma_H$ は $\\Sigma_H = \\textrm{diag}(\\lambda_1^2, \\lambda_2^2, \\ldots, \\lambda_H^2)$ という対角行列．\n",
        "1. $\\mathbf{z}$ に直交変換 $U_H$ を作用させて $D$ 次元にし，$\\mathbf{\\mu}$ だけ並行移動したものが $\\mathbf{x}$ として観測される． $\\mathbf{x} = U_H\\mathbf{z} + \\mathbf{\\mu}$．\n",
        "\n",
        "※ 注: この説明には確率モデルとして正確・厳密でないところがあります．主成分分析をきちんとした確率モデルとして定式化したものに，「確率的主成分分析」（Probabilistic PCA, PPCA）があります．"
      ],
      "metadata": {
        "id": "I19ZMKcx8ceZ"
      }
    },
    {
      "cell_type": "markdown",
      "source": [
        "### 実験: 手書き数字画像の再構成"
      ],
      "metadata": {
        "id": "hpqQCJanT8nF"
      }
    },
    {
      "cell_type": "markdown",
      "source": [
        "手書数字画像のデータセット MNIST のサブセットを用いて，PCAによる再構成と生成の実験をやってみよう．"
      ],
      "metadata": {
        "id": "8r_02PCX6a91"
      }
    },
    {
      "cell_type": "markdown",
      "source": [
        "#### データの準備"
      ],
      "metadata": {
        "id": "u9EmhpXtd4Gr"
      }
    },
    {
      "cell_type": "code",
      "source": [
        "# MNIST データセットの入手\n",
        "Xraw, yraw = fetch_openml('mnist_784', version=1, parser='auto', return_X_y=True, as_frame=False)\n",
        "Xall = Xraw[:20000] / 255.0     # 画素値が [0, 255] の整数値なので [0, 1] の浮動小数点数値に変換\n",
        "yall = yraw[:20000].astype(int) # クラスラベル．0 から 9 の整数値\n",
        "\n",
        "# 学習データとテストデータの分割\n",
        "XL, XT, yL, yT = train_test_split(Xall, yall, test_size=4000, random_state=4649, stratify=yall)\n",
        "print(XL.shape, yL.shape)\n",
        "print(XT.shape, yT.shape)\n",
        "NL, NT = len(XL), len(XT)\n",
        "\n",
        "D = XL.shape[1]\n",
        "#K = 10"
      ],
      "metadata": {
        "id": "MFHI3JIjQAXy"
      },
      "execution_count": null,
      "outputs": []
    },
    {
      "cell_type": "code",
      "source": [
        "# 学習データの最初の50枚を可視化\n",
        "nrow, ncol = 5, 10\n",
        "fig, ax = plt.subplots(nrow, ncol, figsize=(0.8*ncol, 0.8*nrow))\n",
        "for i in range(nrow):\n",
        "    for j in range(ncol):\n",
        "        img = XL[i*ncol + j, ::].reshape((28, 28))\n",
        "        ax[i, j].imshow(img, cmap=plt.cm.gray, vmin=0, vmax=1)\n",
        "        ax[i, j].axis('off')\n",
        "\n",
        "fig.tight_layout()\n",
        "plt.show()"
      ],
      "metadata": {
        "id": "J0fHTe8QQTfp"
      },
      "execution_count": null,
      "outputs": []
    },
    {
      "cell_type": "markdown",
      "source": [
        "#### $V$ の固有値と固有ベクトルの計算"
      ],
      "metadata": {
        "id": "Px7jhMzKd7Ym"
      }
    },
    {
      "cell_type": "markdown",
      "source": [
        "ここでは，分散共分散行列を求める → その固有値固有ベクトルを求める，という計算をする代わりに，「特異値分解」(Singular Value Decomposition, SVD)という行列分解を経由して分散共分散行列の固有値固有ベクトルを求めています．\n",
        "その方が良いことがいくつかあるからなのですが，説明は省略します．"
      ],
      "metadata": {
        "id": "N_fu2-5h7V0r"
      }
    },
    {
      "cell_type": "code",
      "source": [
        "# 平均を引いたデータ行列を求める\n",
        "Xm = np.mean(XL, axis=0)\n",
        "XL2 = XL - Xm\n",
        "\n",
        "# それをSVD\n",
        "_, sva, Vt = np.linalg.svd(XL2, full_matrices=False)\n",
        "eva = sva**2/len(XL2)  # 固有値\n",
        "U = Vt                  # 固有ベクトルをならべた行列\n",
        "\n",
        "# 固有値の大きい方 10 個の値\n",
        "print(eva[:10])"
      ],
      "metadata": {
        "id": "7JSyEAB4SF_m"
      },
      "execution_count": null,
      "outputs": []
    },
    {
      "cell_type": "code",
      "source": [
        "cumeva = np.cumsum(eva)\n",
        "cumeva /= cumeva[-1]\n",
        "\n",
        "# グラフ\n",
        "fig = plt.figure(figsize=(10, 6))\n",
        "# 固有値\n",
        "ax1 = fig.add_subplot(221)\n",
        "ax1.plot(np.arange(len(eva))+1, eva, label='eigenvalues')\n",
        "ax1.axhline(0, color='gray')\n",
        "ax1.legend()\n",
        "# 固有値（次元数の範囲を限定）\n",
        "ax2 = fig.add_subplot(222)\n",
        "ax2.plot(np.arange(len(eva))+1, eva, '.', label='eigenvalues')\n",
        "ax2.axhline(0, color='gray')\n",
        "ax2.set_xlim(-5, 100)\n",
        "ax2.legend()\n",
        "# 累積寄与率\n",
        "ax3 = fig.add_subplot(223)\n",
        "ax3.plot(np.arange(len(eva))+1, cumeva, label='cumulative contribution rate')\n",
        "ax3.axhline(1, color='gray')\n",
        "ax3.axhline(0.9, color='gray', linestyle='--')\n",
        "ax3.axhline(0.8, color='gray', linestyle='--')\n",
        "ax3.legend()\n",
        "# 累積寄与率（次元数の範囲を限定）\n",
        "ax4 = fig.add_subplot(224)\n",
        "ax4.plot(np.arange(len(eva))+1, cumeva, '.', label='cumulative contribution rate')\n",
        "ax4.axhline(1, color='gray')\n",
        "ax4.axhline(0.9, color='gray', linestyle='--')\n",
        "ax4.axhline(0.8, color='gray', linestyle='--')\n",
        "ax4.set_xlim(-5, 100)\n",
        "ax4.legend()\n",
        "fig.tight_layout()\n",
        "plt.show()"
      ],
      "metadata": {
        "id": "H1UiMKWIVWYc"
      },
      "execution_count": null,
      "outputs": []
    },
    {
      "cell_type": "markdown",
      "source": [
        "上段はデータの分散共分散行列の固有値，下段はそこから算出される累積寄与率を示す．\n",
        "いずれの図においても，横軸は次元数を表す．\n",
        "\n",
        "固有値を降順に $\\lambda_h$ ($h = 1, 2, \\ldots, D)$ とおくとき，累積寄与率 $c_h$ は次式で計算される量である．\n",
        "\n",
        "$$\n",
        "c_h = \\frac{\\sum_{d=1}^{h}\\lambda_d}{\\sum_{d=1}^{D}\\lambda_d}\n",
        "$$\n",
        "\n",
        "分母は $y_1$ から $y_D$ までの変数の分散の総和である．これは，元のデータの$D$個すべての変数の分散の総和に等しい．分子は，$y_1$ から $y_h$ までの変数の分散の総和である．したがって，$c_h$ は，変換後の $h$ 個の変数だけで元データの分散のうちどの程度の割合を表せるかを示す．"
      ],
      "metadata": {
        "id": "dVw7nkU-a3vw"
      }
    },
    {
      "cell_type": "code",
      "source": [
        "# 平均と固有ベクトルを可視化\n",
        "nrow, ncol = 5, 10\n",
        "fig, ax = plt.subplots(nrow, ncol, figsize=(0.8*ncol, 0.8*nrow))\n",
        "for i in range(nrow):\n",
        "    for j in range(ncol):\n",
        "        if i == 0 and j == 0:\n",
        "            uu = Xm\n",
        "        else:\n",
        "            uu = U[i*ncol +j - 1, ::]\n",
        "            uumax = np.max(np.abs(uu))\n",
        "            uu = uu / (uumax*2) + 0.5\n",
        "        img = uu.reshape((28, 28))\n",
        "        ax[i, j].imshow(img, cmap=plt.cm.gray, vmin=0, vmax=1)\n",
        "        ax[i, j].axis('off')\n",
        "\n",
        "fig.tight_layout()\n",
        "plt.show()"
      ],
      "metadata": {
        "id": "I8TDyqRPesrq"
      },
      "execution_count": null,
      "outputs": []
    },
    {
      "cell_type": "markdown",
      "source": [
        "左上は平均を可視化したもの，それ以外は，固有ベクトルを可視化したものである．左上から右に向かって，対応する固有値の大きい順に並んでいる．固有ベクトルは正負の値から成るので，ここでは値 $0$ がちょうど真っ黒と真っ白の中間になるように規格化している．"
      ],
      "metadata": {
        "id": "Xhkk-Uh_f6fL"
      }
    },
    {
      "cell_type": "markdown",
      "source": [
        "#### 再構成"
      ],
      "metadata": {
        "id": "kL69rN4sePqi"
      }
    },
    {
      "cell_type": "code",
      "source": [
        "# 次元数\n",
        "H = 10\n",
        "\n",
        "# テストデータを H 次元に次元削減\n",
        "Z = (XT - Xm) @ U[:H, :].T\n",
        "\n",
        "# 再構成\n",
        "XX = Z @ U[:H, :] + Xm\n",
        "\n",
        "# 再構成したテストデータの最初の10枚を可視化\n",
        "ncol = 10\n",
        "fig, ax = plt.subplots(2, ncol, figsize=(0.8*ncol, 0.8*2))\n",
        "\n",
        "# 元画像\n",
        "for j in range(ncol):\n",
        "    img = XT[j, ::].reshape((28, 28))\n",
        "    ax[0, j].imshow(img, cmap=plt.cm.gray, vmin=0, vmax=1)\n",
        "    ax[0, j].axis('off')\n",
        "\n",
        "# 再構成した画像\n",
        "for j in range(ncol):\n",
        "    img = XX[j, ::].reshape((28, 28))\n",
        "    ax[1, j].imshow(img, cmap=plt.cm.gray, vmin=0, vmax=1)\n",
        "    ax[1, j].axis('off')\n",
        "\n",
        "fig.tight_layout()\n",
        "plt.show()"
      ],
      "metadata": {
        "id": "nLSPRf0JUYEe"
      },
      "execution_count": null,
      "outputs": []
    },
    {
      "cell_type": "markdown",
      "source": [
        "上段のデータを $H$ 次元にしてから $D = 784$ 次元で再構成したものが下段．"
      ],
      "metadata": {
        "id": "SjVB5w5S-xua"
      }
    },
    {
      "cell_type": "code",
      "source": [
        "### 次元数を変えながら学習データを再構成して二乗誤差を計算\n",
        "\n",
        "# 学習データを変換\n",
        "Z = XL2 @ U.T\n",
        "\n",
        "# 次元数 H の設定\n",
        "HList = np.hstack((\n",
        "    [0], np.arange(1, 20), np.arange(20, 50, 5),\n",
        "    np.arange(50, 400, 10), np.arange(400, 700, 50), [700, D]\n",
        "))\n",
        "\n",
        "# 平均二乗誤差の配列\n",
        "mse = np.zeros(len(HList))\n",
        "\n",
        "# 0 番目は平均をそのまま再構成とした場合の二乗誤差\n",
        "mse[0] = np.mean(XL2**2)\n",
        "\n",
        "for i, H in enumerate(HList[1:]):\n",
        "    # H次元で再構成\n",
        "    XX = Z[:, :H] @ U[:H, :] + Xm\n",
        "    # 元画像と再構成との間の平均二乗誤差\n",
        "    mse[i] = np.mean((XL - XX)**2)\n",
        "    print(f'{H} {mse[i]:.6f}')\n",
        "\n",
        "# 二乗誤差をグラフに描く\n",
        "fig = plt.figure(figsize=(9, 6))\n",
        "ax1 = fig.add_subplot(111)\n",
        "ax1.plot(HList, mse, '.', label='reconstruction error')\n",
        "ax1.axhline(0, color='gray')\n",
        "ax1.legend()\n",
        "plt.show()"
      ],
      "metadata": {
        "id": "5KjpRXQqiTnx"
      },
      "execution_count": null,
      "outputs": []
    },
    {
      "cell_type": "markdown",
      "source": [
        "図は，横軸が次元数 $H$，縦軸が学習データとその再構成との間の二乗誤差．"
      ],
      "metadata": {
        "id": "8bEmVKFnL0Bi"
      }
    },
    {
      "cell_type": "markdown",
      "source": [
        "#### 生成"
      ],
      "metadata": {
        "id": "KnWe0RXCiS6G"
      }
    },
    {
      "cell_type": "code",
      "source": [
        "# 次元数\n",
        "H = 10\n",
        "\n",
        "# 生成\n",
        "mu = np.zeros(H)\n",
        "cov = np.diag(eva[:H])\n",
        "Z = rng.multivariate_normal(np.zeros(H), cov, 50)\n",
        "XX = Z @ U[:H, :] + Xm\n",
        "\n",
        "# 生成した画像50枚を可視化\n",
        "nrow, ncol = 5, 10\n",
        "fig, ax = plt.subplots(nrow, ncol, figsize=(0.8*ncol, 0.8*nrow))\n",
        "for i in range(nrow):\n",
        "    for j in range(ncol):\n",
        "        img = XX[i*ncol + j, ::].reshape((28, 28))\n",
        "        ax[i, j].imshow(img, cmap=plt.cm.gray, vmin=0, vmax=1)\n",
        "        ax[i, j].axis('off')\n",
        "\n",
        "fig.tight_layout()\n",
        "plt.show()"
      ],
      "metadata": {
        "id": "3YqpZPh3B3jv"
      },
      "execution_count": null,
      "outputs": []
    },
    {
      "cell_type": "markdown",
      "source": [
        "`H` をいろいろ変えて観察しよう．\n",
        "潜在変数の分布が単一の正規分布であると仮定している，その線形変換でデータが生成されると仮定している，ということなので，あまり良い生成にはならない．"
      ],
      "metadata": {
        "id": "aC57WlsLMX03"
      }
    },
    {
      "cell_type": "markdown",
      "source": [
        "---\n",
        "## 線形オートエンコーダ\n",
        "---"
      ],
      "metadata": {
        "id": "XbyMSNB1MpgE"
      }
    },
    {
      "cell_type": "markdown",
      "source": [
        "---\n",
        "### オートエンコーダとは"
      ],
      "metadata": {
        "id": "SDuZvDQKMxT1"
      }
    },
    {
      "cell_type": "markdown",
      "source": [
        "板書もしながら説明します．\n",
        "\n",
        "- Encoder（符号化器）: $D$次元の値 $\\mathbf{x}$ を入力すると $H < D$ 次元の値 $\\mathbf{z}$ を出力する変換．$\\mathbf{z} = \\textrm{Enc}(\\mathbf{x})$\n",
        "- Decoder（復号器）: $H < D$ 次元の値 $\\mathbf{z}$ を入力すると $D$ 次元の値 $\\widehat{\\mathbf{x}}$ を出力する変換．$\\widehat{\\mathbf{x}} = \\textrm{Dec}(\\mathbf{z})$\n",
        "\n",
        "Enc, Dec をニューラルネットで構成し，$\\widehat{\\mathbf{x}} = \\textrm{Dec}(\\textrm{Enc}(\\mathbf{x}))$ と $\\mathbf{x}$ との間の誤差を最小化するように学習させると，$D$ 次元のデータを $H$ 次元にしてから $D$ 次元で再構成する仕組みを作れる．これを **オートエンコーダ** (**Autoencoder**) という．\n",
        "\n",
        "学習データ\n",
        "\n",
        "$$\n",
        "\\{ \\mathbf{x}_n \\in {\\cal R}^{D} | n = 1, 2, \\ldots, N\\}\n",
        "$$\n",
        "\n",
        "に対して，再構成との間の二乗誤差を損失関数とするのが一般的．\n",
        "\n",
        "$$\n",
        "L = \\sum_{n=1}^{N} \\Vert \\mathbf{x}_n - \\textrm{Dec}(\\textrm{Enc}(\\mathbf{x}_n))\\Vert^2\n",
        "$$\n",
        "\n"
      ],
      "metadata": {
        "id": "vkohcJMLSeuI"
      }
    },
    {
      "cell_type": "markdown",
      "source": [
        "---\n",
        "### 線形オートエンコーダ"
      ],
      "metadata": {
        "id": "VJ5Wk5EFMz4q"
      }
    },
    {
      "cell_type": "markdown",
      "source": [
        "オートエンコーダをニューラルネットで作る最も単純な方法は，$\\textrm{Dec}(\\textrm{Enc}(\\mathbf{x}))$ を，中間層を一つだけもつ 2 層の階層型ニューラルネットワークで構成する方法である．\n",
        "\n",
        "この場合，\n",
        "中間層のニューロン数を $H < D$，出力層のニューロン数を $D$ として，上記の $L$ を損失関数として学習を行う．\n",
        "出力層ニューロンの活性化関数は恒等関数とする（$\\sigma(x) = x$とする）ことが多い（注）．\n",
        "\n",
        "※ 注: 値の範囲が限られるデータを扱う場合，再構成される値が範囲からはみ出さないように，入力を $[0, 1]$ や $[-1, 1]$ に規格化したうえで，出力層ニューロンの活性化関数にロジスティックシグモイドや $\\tanh$ を用いることもある．"
      ],
      "metadata": {
        "id": "37DW9PzkKkWS"
      }
    },
    {
      "cell_type": "markdown",
      "source": [
        "このような2層ニューラルネットで $L$ を損失関数とする場合，学習によって得られる $L$ の値は，主成分分析で次元数を $H$ として次元削減→再構成した場合に得られる二乗誤差を下回らないことが知られている．\n",
        "このことは，中間層のニューロンに非線形の活性化関数を用いても変わらない．\n",
        "\n",
        "中間層ニューロンがバイアス項を持たず活性化関数が恒等関数である場合，この層には $H \\times D$ 個のパラメータがある．それらの値を並べた $H\\times D$ 行列を $A$ とおくと， $\\textrm{Enc}(\\mathbf{x}) = A\\mathbf{x}$ と表せる．\n",
        "また，出力層ニューロンもバイアス項を持たず活性化関数が恒等関数である場合，この層の $D \\times H$ 個のパラメータを並べた $D \\times H$ 行列を $B$ とおくと，$\\textrm{Dec}(\\mathbf{z}) = B\\mathbf{z}$ と表せる．\n",
        "中間層と出力層がこのように線形変換である場合，オートエンコーダ全体の入出力は $\\textrm{Dec}(\\textrm{Enc}(\\mathbf{x})) = BA\\mathbf{x}$ となる．\n",
        "以下，このようなオートエンコーダを線形オートエンコーダと呼ぶことにする．"
      ],
      "metadata": {
        "id": "Nuv5kxPaNsgx"
      }
    },
    {
      "cell_type": "markdown",
      "source": [
        "主成分分析の「再構成とその誤差」の節で述べたように，データの分散共分散行列の固有値の大きい方から $H$ 個に対応する固有ベクトルをならべた $D\\times H$ 行列を $U_H$ としたとき， 任意の $H\\times H$ 正則行列 $C$ に対して $A = CU_H^{\\top}, B = U_H C^{-1}$ とおけば，再構成の二乗誤差が最小となる．\n",
        "線形オートエンコーダのパラメータ $A, B$ は，学習によってこの形に収束することが知られている．\n",
        "\n"
      ],
      "metadata": {
        "id": "PYafX15DRKJb"
      }
    },
    {
      "cell_type": "markdown",
      "source": [
        "---\n",
        "### 実験: 線形オートエンコーダによる手書き数字画像の次元削減と再構成"
      ],
      "metadata": {
        "id": "eA1gWBUNYvsg"
      }
    },
    {
      "cell_type": "code",
      "source": [
        "# PyTorch 関係のほげ\n",
        "import torch\n",
        "import torch.nn as nn\n",
        "from torch.utils.data import Dataset, DataLoader\n",
        "from torchvision.transforms import ToTensor\n",
        "import torchsummary\n",
        "\n",
        "device = torch.device('cuda:0' if torch.cuda.is_available() else 'cpu')\n",
        "print(device)"
      ],
      "metadata": {
        "id": "VyaYEKRLvyk-"
      },
      "execution_count": null,
      "outputs": []
    },
    {
      "cell_type": "code",
      "source": [
        "# 平均を差し引いたデータ行列\n",
        "Xm = np.mean(XL, axis=0)\n",
        "XL2 = XL - Xm\n",
        "XT2 = XT - Xm"
      ],
      "metadata": {
        "id": "wDdSxoIsaobP"
      },
      "execution_count": null,
      "outputs": []
    },
    {
      "cell_type": "code",
      "source": [
        "# データを扱うためのクラス\n",
        "#\n",
        "class MMDataset(Dataset):\n",
        "\n",
        "    def __init__(self, dataX):\n",
        "        self.X = dataX\n",
        "\n",
        "    def __len__(self):\n",
        "        return len(self.X)\n",
        "\n",
        "    def __getitem__(self, idx):\n",
        "        X = torch.tensor(self.X[idx], dtype=torch.float32)\n",
        "        return X"
      ],
      "metadata": {
        "id": "Bju37MFmwMNw"
      },
      "execution_count": null,
      "outputs": []
    },
    {
      "cell_type": "code",
      "source": [
        "# 線形オートエンコーダ\n",
        "#\n",
        "class LinearAE(nn.Module):\n",
        "\n",
        "    def __init__(self, D, H):\n",
        "        super(LinearAE, self).__init__()\n",
        "        # Encoder\n",
        "        self.enc = nn.Linear(D, H, bias=False)\n",
        "        # Decoder\n",
        "        self.dec = nn.Linear(H, D, bias=False)\n",
        "\n",
        "    def forward(self, X):\n",
        "        X = self.enc(X)\n",
        "        X = self.dec(X)\n",
        "        return X"
      ],
      "metadata": {
        "id": "S8kCoQWQwZnq"
      },
      "execution_count": null,
      "outputs": []
    },
    {
      "cell_type": "code",
      "source": [
        "# 学習の関数\n",
        "#\n",
        "def train(model, lossFunc, optimizer, dl):\n",
        "    loss_sum = 0.0\n",
        "    n = 0\n",
        "    for i, X in enumerate(dl):\n",
        "        X = X.to(device)\n",
        "        Z = model(X)         # 一つのバッチ X を入力して出力 Z を計算\n",
        "        loss = lossFunc(Z, X) # 入力 X を正解として loss を計算\n",
        "        optimizer.zero_grad()   # 勾配をリセット\n",
        "        loss.backward()         # 誤差逆伝播でパラメータ更新量を計算\n",
        "        optimizer.step()         # パラメータを更新\n",
        "        n += len(X)\n",
        "        loss_sum += loss.item()  # 損失関数の値\n",
        "\n",
        "    return loss_sum/n"
      ],
      "metadata": {
        "id": "6uQfo0Mbxc-8"
      },
      "execution_count": null,
      "outputs": []
    },
    {
      "cell_type": "code",
      "source": [
        "# 損失関数の値を求める関数\n",
        "#\n",
        "@torch.no_grad()\n",
        "def evaluate(model, lossFunc, dl):\n",
        "    loss_sum = 0.0\n",
        "    n = 0\n",
        "    for i, X in enumerate(dl):\n",
        "        X = X.to(device)\n",
        "        Z = model(X)           # 一つのバッチ X を入力して出力 Y を計算\n",
        "        loss = lossFunc(Z, X)  # 入力 X を正解として loss を計算\n",
        "        n += len(X)\n",
        "        loss_sum += loss.item() # 損失関数の値\n",
        "\n",
        "    return loss_sum/n"
      ],
      "metadata": {
        "id": "7Skd6uCrx0Hs"
      },
      "execution_count": null,
      "outputs": []
    },
    {
      "cell_type": "code",
      "source": [
        "# データ読み込みの仕組みを作る\n",
        "dsL = MMDataset(XL - Xm)\n",
        "dsT = MMDataset(XT - Xm)\n",
        "dlL = DataLoader(dsL, batch_size=100, shuffle=True)\n",
        "dlT = DataLoader(dsT, batch_size=100, shuffle=False)"
      ],
      "metadata": {
        "id": "1qXT6JT5yJmA"
      },
      "execution_count": null,
      "outputs": []
    },
    {
      "cell_type": "code",
      "source": [
        "# ネットワークモデルの定義\n",
        "H = 10\n",
        "net = LinearAE(D, H).to(device)\n",
        "\n",
        "# ネットワークの構造を表示\n",
        "torchsummary.summary(net, (1, D))\n",
        "\n",
        "# 損失関数（二乗誤差） とパラメータ最適化器の設定\n",
        "loss_func = nn.MSELoss(reduction='sum')\n",
        "optimizer = torch.optim.Adam(net.parameters(), lr=1e-3)"
      ],
      "metadata": {
        "id": "R6KekFtby0_l"
      },
      "execution_count": null,
      "outputs": []
    },
    {
      "cell_type": "code",
      "source": [
        "# 学習の繰り返し回数\n",
        "nepoch = 30\n",
        "\n",
        "# 学習\n",
        "L = []\n",
        "print(f'学習データ数: {len(dsL)}  テストデータ数: {len(dsT)}')\n",
        "print()\n",
        "print('# epoch  lossL  lossT')\n",
        "for t in range(1, nepoch+1):\n",
        "    lossL = train(net, loss_func, optimizer, dlL) / D\n",
        "    lossT = evaluate(net, loss_func, dlT) / D\n",
        "    L.append([t, lossL, lossT])\n",
        "    if (t < 10) or (t % 10 == 0):\n",
        "        print(f'{t}   {lossL:.5f}   {lossT:.5f}')\n",
        "\n",
        "# 学習曲線の表示\n",
        "data = np.array(L)\n",
        "fig = plt.figure()\n",
        "ax = fig.add_subplot(111)\n",
        "ax.plot(data[:, 0], data[:, 1], '.-', label='loss for training data')\n",
        "ax.plot(data[:, 0], data[:, 2], '.-', label='loss for test data')\n",
        "ax.axhline(0.0, color='gray')\n",
        "ax.legend()\n",
        "ax.set_title(f'loss')\n",
        "plt.show()\n",
        "\n",
        "# 学習後の損失\n",
        "loss2 = evaluate(net, loss_func, dlL) / D\n",
        "print(f'# lossL: {loss2:.5f}', end='   ')\n",
        "loss2 = evaluate(net, loss_func, dlT) / D\n",
        "print(f'# lossT: {loss2:.5f}')"
      ],
      "metadata": {
        "id": "cyINB5ZZzXGl"
      },
      "execution_count": null,
      "outputs": []
    },
    {
      "cell_type": "code",
      "source": [
        "for i, X in enumerate(dlT):\n",
        "    X = X.to(device)\n",
        "    Z = net(X)\n",
        "    break\n",
        "\n",
        "XX = X.to('cpu').detach().numpy() + Xm\n",
        "ZZ = Z.to('cpu').detach().numpy() + Xm\n"
      ],
      "metadata": {
        "id": "Ii_R4n3D0e6I"
      },
      "execution_count": null,
      "outputs": []
    },
    {
      "cell_type": "code",
      "source": [
        "# 最初の 1 バッチの出力を求める\n",
        "for i, X in enumerate(dlT):\n",
        "    X = X.to(device)\n",
        "    Z = net(X)\n",
        "    break\n",
        "\n",
        "XX = X.to('cpu').detach().numpy() + Xm\n",
        "ZZ = Z.to('cpu').detach().numpy() + Xm\n",
        "\n",
        "# 再構成したテストデータの最初の10枚を可視化\n",
        "ncol = 10\n",
        "fig, ax = plt.subplots(2, ncol, figsize=(0.8*ncol, 0.8*2))\n",
        "\n",
        "# 元画像\n",
        "for j in range(ncol):\n",
        "    img = XX[j, ::].reshape((28, 28))\n",
        "    ax[0, j].imshow(img, cmap=plt.cm.gray, vmin=0, vmax=1)\n",
        "    ax[0, j].axis('off')\n",
        "\n",
        "# 再構成した画像\n",
        "for j in range(ncol):\n",
        "    img = ZZ[j, ::].reshape((28, 28))\n",
        "    ax[1, j].imshow(img, cmap=plt.cm.gray, vmin=0, vmax=1)\n",
        "    ax[1, j].axis('off')\n",
        "\n",
        "fig.tight_layout()\n",
        "plt.show()"
      ],
      "metadata": {
        "id": "BiIIe5Pj2Jim"
      },
      "execution_count": null,
      "outputs": []
    }
  ],
  "metadata": {
    "colab": {
      "provenance": [],
      "toc_visible": true,
      "include_colab_link": true
    },
    "kernelspec": {
      "display_name": "Python 3",
      "name": "python3"
    },
    "language_info": {
      "codemirror_mode": {
        "name": "ipython",
        "version": 3
      },
      "file_extension": ".py",
      "mimetype": "text/x-python",
      "name": "python",
      "nbconvert_exporter": "python",
      "pygments_lexer": "ipython3",
      "version": "3.9.7"
    }
  },
  "nbformat": 4,
  "nbformat_minor": 0
}