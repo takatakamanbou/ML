{
  "cells": [
    {
      "cell_type": "markdown",
      "metadata": {
        "id": "view-in-github",
        "colab_type": "text"
      },
      "source": [
        "<a href=\"https://colab.research.google.com/github/takatakamanbou/ML/blob/2024/ML2024_ex05notebookC.ipynb\" target=\"_parent\"><img src=\"https://colab.research.google.com/assets/colab-badge.svg\" alt=\"Open In Colab\"/></a>"
      ]
    },
    {
      "cell_type": "markdown",
      "metadata": {
        "id": "2UzDNLmVS3po"
      },
      "source": [
        "# ML ex05notebookC\n",
        "\n",
        "<img width=72 src=\"https://www-tlab.math.ryukoku.ac.jp/~takataka/course/ML/ML-logo.png\"> [この授業のウェブページ](https://www-tlab.math.ryukoku.ac.jp/wiki/?ML/2024)\n"
      ]
    },
    {
      "cell_type": "markdown",
      "source": [
        "----\n",
        "## ロジスティック回帰による手書き数字の識別\n",
        "----\n",
        "\n"
      ],
      "metadata": {
        "id": "c3c5pVlIPpZa"
      }
    },
    {
      "cell_type": "markdown",
      "source": [
        "最短距離法や最近傍法の実験に使ったのと同じ手書き数字のデータを使ってロジスティック回帰モデルの学習の実験をやってみましょう．\n",
        "このデータがどんなものかという話は，最短距離法や最近傍法について説明した notebook の方に書いています．"
      ],
      "metadata": {
        "id": "eWirdOOzQ20P"
      }
    },
    {
      "cell_type": "markdown",
      "source": [
        "---\n",
        "### 準備"
      ],
      "metadata": {
        "id": "yEAJbsGYRPNB"
      }
    },
    {
      "cell_type": "markdown",
      "source": [
        "まずはいろいろ import．"
      ],
      "metadata": {
        "id": "QYLQcCGdTPXk"
      }
    },
    {
      "cell_type": "code",
      "source": [
        "# 準備あれこれ\n",
        "import numpy as np\n",
        "import matplotlib.pyplot as plt\n",
        "import pandas as pd\n",
        "import seaborn\n",
        "seaborn.set()\n",
        "\n",
        "# scikit-learn のロジスティック回帰\n",
        "from sklearn.linear_model import LogisticRegression"
      ],
      "metadata": {
        "id": "onElKzk5TOA6"
      },
      "execution_count": null,
      "outputs": []
    },
    {
      "cell_type": "markdown",
      "source": [
        "次はデータの準備．"
      ],
      "metadata": {
        "id": "b8nt7IyLpwmS"
      }
    },
    {
      "cell_type": "code",
      "execution_count": null,
      "metadata": {
        "id": "8hyAGNwhe5S0"
      },
      "outputs": [],
      "source": [
        "# 手書き数字データの入手\n",
        "! wget -nc https://www-tlab.math.ryukoku.ac.jp/~takataka/course/ML/minimnist.npz\n",
        "rv = np.load('minimnist.npz')\n",
        "datL = rv['datL'].astype(float)\n",
        "labL = rv['labL']\n",
        "datT = rv['datT'].astype(float)\n",
        "labT = rv['labT']\n",
        "print(datL.shape, labL.shape, datT.shape, labT.shape)\n",
        "\n",
        "K = 10 # クラス数\n",
        "\n",
        "# 学習データの用意\n",
        "NL, D = datL.shape # 学習データの数と次元数\n",
        "XLraw = datL/255.0\n",
        "XLm = np.mean(XLraw, axis=0)\n",
        "XL = np.empty((NL, D+1))\n",
        "XL[:, 0] = 1.0\n",
        "XL[:, 1:] = XLraw - XLm\n",
        "YL = np.zeros((NL, K))\n",
        "for ik in range(K):\n",
        "    YL[labL == ik, ik] = 1.0\n",
        "\n",
        "# テストデータの用意\n",
        "NT, _ = datT.shape # テストデータの数\n",
        "XTraw = datT/255.0\n",
        "XT = np.empty((NT, D+1))\n",
        "XT[:, 0] = 1.0\n",
        "XT[:, 1:] = XTraw - XLm\n",
        "YT = np.zeros((NT, K))\n",
        "for ik in range(K):\n",
        "    YT[labT == ik, ik] = 1.0"
      ]
    },
    {
      "cell_type": "markdown",
      "source": [
        "次はモデル出力の計算と学習のための関数の定義です．"
      ],
      "metadata": {
        "id": "xJd7pmync5aR"
      }
    },
    {
      "cell_type": "code",
      "source": [
        "# モデル出力の計算\n",
        "def modelK(X, W):\n",
        "    s = np.exp(X @ W.T)\n",
        "    Yt = s / np.sum(s, axis=1)[:, np.newaxis]\n",
        "    return Yt\n",
        "\n",
        "# 交差エントロピーと正解数\n",
        "def scoreK(Y, Yt):\n",
        "    ce = -np.sum(Y * np.log(Yt))/len(Y)\n",
        "    count = np.sum(np.argmax(Y, axis=1) == np.argmax(Yt, axis=1))\n",
        "    return ce, count\n",
        "\n",
        "# 勾配の計算\n",
        "def gradK(X, Y, Yt):\n",
        "    return (Yt - Y).T @ X"
      ],
      "metadata": {
        "id": "pIcE4-2fi-eq"
      },
      "execution_count": null,
      "outputs": []
    },
    {
      "cell_type": "markdown",
      "source": [
        "データを可視化する関数の定義．"
      ],
      "metadata": {
        "id": "RehF07-ShqTl"
      }
    },
    {
      "cell_type": "code",
      "source": [
        "# データを画像として表示するための関数\n",
        "#\n",
        "def display(data, nx, ny, nrow=28, ncol=28, gap=4):\n",
        "\n",
        "    assert data.shape[0] == nx*ny\n",
        "    assert data.shape[1] == nrow*ncol\n",
        "\n",
        "    # 並べた画像の幅と高さ\n",
        "    width  = nx * (ncol + gap) + gap\n",
        "    height = ny * (nrow + gap) + gap\n",
        "\n",
        "    # 画像の作成\n",
        "    img = np.zeros((height, width), dtype = int) + 128\n",
        "    for iy in range(ny):\n",
        "        lty = iy*(nrow + gap) + gap\n",
        "        for ix in range(nx):\n",
        "            ltx = ix*(ncol + gap) + gap\n",
        "            img[lty:lty+nrow, ltx:ltx+ncol] = data[iy*nx+ix].reshape((nrow, ncol))\n",
        "\n",
        "    # 画像の出力\n",
        "    plt.axis('off')\n",
        "    plt.imshow(img, cmap = 'gray')\n",
        "    plt.show()"
      ],
      "metadata": {
        "id": "-2tpM5FshpGc"
      },
      "execution_count": null,
      "outputs": []
    },
    {
      "cell_type": "markdown",
      "source": [
        "---\n",
        "### 実験"
      ],
      "metadata": {
        "id": "nQXaxOWtSohK"
      }
    },
    {
      "cell_type": "markdown",
      "source": [
        "以下のセルが，上記のデータを 10 クラスに分類するロジスティック回帰の学習のコードです．"
      ],
      "metadata": {
        "id": "-WhbR7W1p0AR"
      }
    },
    {
      "cell_type": "code",
      "source": [
        "# パラメータの初期化\n",
        "W = (np.random.random((K, D+1)) - 0.5) * 0.2 # [-0.1, 0.1) の一様乱数\n",
        "\n",
        "# 学習係数と学習繰り返し回数\n",
        "eta = 5.0/NL\n",
        "nitr = 500\n",
        "\n",
        "# 学習\n",
        "for i in range(nitr+1):\n",
        "    Yt = modelK(XL, W)        # モデル出力の計算\n",
        "    ce, count = scoreK(YL, Yt) # 交差エントロピーと正解数の計算\n",
        "    dW = gradK(XL, YL, Yt)    # 勾配の計算\n",
        "    W -= eta * dW             # パラメータの更新\n",
        "    if (i < 100 and i % 10 == 0) or (i % 100 == 0):\n",
        "        print(f'{i}  {ce:.3f}  {count/NL:.3f}')"
      ],
      "metadata": {
        "id": "AuxGKbnojXBj"
      },
      "execution_count": null,
      "outputs": []
    },
    {
      "cell_type": "markdown",
      "source": [
        "出力される数値は，左から順に「学習繰り返し回数」，「（学習データに対する）交差エントロピー」，「（同）識別率（識別の正答率）」です．学習を繰り返すごとに交差エントロピーの値が減少していること，それに連れて識別率が上昇していることが分かります．\n",
        "\n"
      ],
      "metadata": {
        "id": "5zMZgmLMqLNC"
      }
    },
    {
      "cell_type": "markdown",
      "source": [
        "次のコードセルを実行すると，学習したモデルにテストデータを入力してクラスを予測させることができます．\n",
        "\n",
        "ロジスティック回帰では，パラメータの初期値によって学習結果が変わります．\n",
        "↑のセルを実行するたびに異なる初期値で学習することになりますので，学習して↓のセルを実行することを何度かやって，結果がどう変わるか観察するとよいでしょう．\n"
      ],
      "metadata": {
        "id": "N6vfyrCnYHI7"
      }
    },
    {
      "cell_type": "code",
      "source": [
        "# テスト\n",
        "Yt = modelK(XT, W)        # モデル出力の計算\n",
        "ce, count = scoreK(YT, Yt) # 交差エントロピーと正解数の計算\n",
        "\n",
        "# 一部の結果の可視化\n",
        "nx, ny = 10, 5\n",
        "display(datT[:ny*nx], nx, ny)\n",
        "\n",
        "# 予測結果の出力\n",
        "lab_pred = np.argmax(Yt[:ny*nx, :], axis=1)\n",
        "lab_pred = lab_pred.reshape((ny, nx))\n",
        "print('↑の画像を入力したときにモデルが予測するクラス')\n",
        "print(lab_pred)\n",
        "print()\n",
        "print(f'テスト: {ce:.3f}  {count/NT:.3f}')"
      ],
      "metadata": {
        "id": "QdMiJSFPYFEM"
      },
      "execution_count": null,
      "outputs": []
    },
    {
      "cell_type": "markdown",
      "metadata": {
        "id": "_WXvQDHGjLD8"
      },
      "source": [
        "----\n",
        "## 2クラスロジスティック回帰モデルの勾配の計算\n",
        "----\n",
        "\n",
        "\n"
      ]
    },
    {
      "cell_type": "markdown",
      "source": [
        "\n",
        "「ロジスティック回帰＋勾配法によるパラメータの最適化 (3)」の notebook で説明している2クラス識別のロジスティック回帰モデルの勾配を自分で導出してみましょう．\n",
        "notebookA の式$(5)$ を導くことが目標です．\n",
        "\n",
        "\n",
        "\n",
        "\n"
      ],
      "metadata": {
        "id": "szdqM433mzUP"
      }
    },
    {
      "cell_type": "markdown",
      "source": [
        "---\n",
        "### Step1\n"
      ],
      "metadata": {
        "id": "M1aj64e9r-oO"
      }
    },
    {
      "cell_type": "markdown",
      "source": [
        "\n",
        "$s_n$ を\n",
        "\n",
        "$$\n",
        "s_n = w_0 + \\sum_{d=1}^{D}w_dx_{n,d} \\quad (*1)\n",
        "$$\n",
        "\n",
        "とおくと，notebookA の式$(1)$より，\n",
        "\n",
        "$$\n",
        "f(\\mathbf{x}_n) = \\sigma(s_n)\n",
        "$$\n",
        "\n",
        "と表せるので，式$(3)$を\n",
        "\n",
        "$$\n",
        "\\ell_n = y_n\\log \\sigma(s_n) + (1-y_n)\\log(1-\\sigma(s_n))\n",
        "$$\n",
        "\n",
        "と書ける．\n",
        "したがって，\n",
        "\n",
        "$$\n",
        "\\begin{aligned}\n",
        "\\frac{\\partial \\ell_n}{\\partial w_d} &= y_n \\frac{\\partial }{\\partial w_d}\\log \\sigma(s_n) + (1-y_n) \\frac{\\partial }{\\partial w_d} \\log(1-\\sigma(s_n)) \\\\\n",
        "&= \\frac{y_n}{\\fbox{A}} \\frac{\\partial \\sigma(s_n)}{\\partial w_d} + \\frac{1-y_n}{\\fbox{B}} \\cdot (-1) \\cdot \\frac{\\partial \\sigma(s_n)}{\\partial w_d} \\quad (*2)\n",
        "\\end{aligned}\n",
        "$$\n",
        "\n",
        "となる．"
      ],
      "metadata": {
        "id": "93KvZSq8SOjM"
      }
    },
    {
      "cell_type": "markdown",
      "source": [
        "#### 問題1\n",
        "\n",
        "式$(*2)$の $\\fbox{A}, \\fbox{B}$ に入る式を求めなさい．"
      ],
      "metadata": {
        "id": "k6XjpNOgR9vw"
      }
    },
    {
      "cell_type": "markdown",
      "source": [
        "---\n",
        "### Step2\n"
      ],
      "metadata": {
        "id": "WT4PvA_1sWNN"
      }
    },
    {
      "cell_type": "markdown",
      "source": [
        "式$(*2)$の $\\frac{\\partial \\sigma(s_n)}{\\partial w_d}$ は\n",
        "\n",
        "$$\n",
        "\\frac{\\partial \\sigma(s_n)}{\\partial w_d} = \\frac{d \\sigma(s_n)}{d s_n} \\frac{\\partial s_n}{\\partial w_d} \\quad (*3)\n",
        "$$\n",
        "\n",
        "と変形できる．\n",
        "このとき，\n",
        "\n",
        "$$\n",
        "\\frac{d \\sigma(s_n)}{d s_n} = \\sigma(s_n)(1-\\sigma(s_n)) \\quad (*4)\n",
        "$$\n",
        "\n",
        "および\n",
        "\n",
        "$$\n",
        "\\frac{\\partial s_n}{\\partial w_d} = x_{n,d} \\quad (*5)\n",
        "$$\n",
        "\n",
        "となる（$x_{n,0} \\equiv 1$）．"
      ],
      "metadata": {
        "id": "SPVlFetoSfiW"
      }
    },
    {
      "cell_type": "markdown",
      "source": [
        "#### 問題2\n",
        "\n",
        "1. $\\sigma(s) = \\frac{1}{1+e^{-s}}$ に対して $\\frac{d \\sigma(s)}{ds}$ を求めなさい（$s$の式で表しなさい）．\n",
        "1. ↑で求めた式を $\\sigma(s)$ のみ用いた式に変形することで，式$(*4)$ が成り立つことを示しなさい．"
      ],
      "metadata": {
        "id": "JgaoZzKiT-HO"
      }
    },
    {
      "cell_type": "markdown",
      "source": [
        "#### 問題3\n",
        "\n",
        "式$(*5)$が成り立つことを示しなさい．"
      ],
      "metadata": {
        "id": "7JQvRdZZT-Em"
      }
    },
    {
      "cell_type": "markdown",
      "source": [
        "---\n",
        "### Step3\n",
        "\n",
        "式$(*2)$ に式$(*4), (*5)$ を代入して整理すると，，notebookA の式$(5)$ が得られる．\n",
        "\n"
      ],
      "metadata": {
        "id": "yM9ySMGUs0l5"
      }
    },
    {
      "cell_type": "markdown",
      "source": [
        "#### 問題4\n",
        "\n",
        "上記のことを示しなさい．"
      ],
      "metadata": {
        "id": "x7EIM_62XbBP"
      }
    }
  ],
  "metadata": {
    "colab": {
      "provenance": [],
      "toc_visible": true,
      "include_colab_link": true
    },
    "kernelspec": {
      "display_name": "Python 3",
      "name": "python3"
    },
    "language_info": {
      "codemirror_mode": {
        "name": "ipython",
        "version": 3
      },
      "file_extension": ".py",
      "mimetype": "text/x-python",
      "name": "python",
      "nbconvert_exporter": "python",
      "pygments_lexer": "ipython3",
      "version": "3.9.7"
    }
  },
  "nbformat": 4,
  "nbformat_minor": 0
}