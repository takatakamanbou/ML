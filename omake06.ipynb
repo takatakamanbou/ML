{
  "nbformat": 4,
  "nbformat_minor": 0,
  "metadata": {
    "colab": {
      "provenance": [],
      "authorship_tag": "ABX9TyOxgLDqthfOuj2tcvyKGrc4",
      "include_colab_link": true
    },
    "kernelspec": {
      "name": "python3",
      "display_name": "Python 3"
    }
  },
  "cells": [
    {
      "cell_type": "markdown",
      "metadata": {
        "id": "view-in-github",
        "colab_type": "text"
      },
      "source": [
        "<a href=\"https://colab.research.google.com/github/takatakamanbou/ML/blob/2022/omake06.ipynb\" target=\"_parent\"><img src=\"https://colab.research.google.com/assets/colab-badge.svg\" alt=\"Open In Colab\"/></a>"
      ]
    },
    {
      "cell_type": "markdown",
      "metadata": {
        "id": "2UzDNLmVS3po"
      },
      "source": [
        "# ML omake06\n",
        "\n",
        "<img width=64 src=\"https://www-tlab.math.ryukoku.ac.jp/~takataka/course/ML/ML-logo.png\">"
      ]
    },
    {
      "cell_type": "markdown",
      "metadata": {
        "id": "_4-TmUdCd9FJ"
      },
      "source": [
        "----\n",
        "# 手書き数字識別してみよう\n",
        "----\n"
      ]
    },
    {
      "cell_type": "markdown",
      "source": [
        "授業の notbook で使っていた手書き数字画像のデータを使って，自分で最短距離法や最近傍法のプログラムを書いてみましょう．\n",
        "以下の notebook が参考になります．コードも載ってるけど，そのままコピペするだけではつまらないので，自分で考えながらやってね．\n",
        "- 最短距離法: [ex03noteB](https://github.com/takatakamanbou/ML/blob/main/ex03noteA.ipynb)\n",
        "- 最近傍法: [ex04noteA](https://github.com/takatakamanbou/ML/blob/main/ex04noteA.ipynb)"
      ],
      "metadata": {
        "id": "uipn14Pmf84M"
      }
    },
    {
      "cell_type": "code",
      "source": [
        "# 準備あれこれ\n",
        "import numpy as np\n",
        "import matplotlib.pyplot as plt\n",
        "import pandas as pd\n",
        "import seaborn\n",
        "seaborn.set()"
      ],
      "metadata": {
        "id": "V-5-9a7ift7h"
      },
      "execution_count": null,
      "outputs": []
    },
    {
      "cell_type": "code",
      "source": [
        "# 手書き数字データの入手\n",
        "! wget -nc https://www-tlab.math.ryukoku.ac.jp/~takataka/course/ML/minimnist.npz\n",
        "rv = np.load('minimnist.npz')\n",
        "datL = rv['datL'].astype(float)\n",
        "labL = rv['labL']\n",
        "datT = rv['datT'].astype(float)\n",
        "labT = rv['labT']\n",
        "print(datL.shape, labL.shape, datT.shape, labT.shape)"
      ],
      "metadata": {
        "id": "mBsD56WyfmFx"
      },
      "execution_count": null,
      "outputs": []
    },
    {
      "cell_type": "markdown",
      "source": [
        "この手書き数字のデータは，学習用が5000枚，テスト用が1000枚あり，一つのデータは784次元です．\n",
        "上のセルを実行すると，`datL` などの大きさを確認できます．`datL` は学習用のデータ，`datT` はテスト用のデータ，`labL` と `labT` はそれぞれの正解クラスです．"
      ],
      "metadata": {
        "id": "UJFeZsqKf1q2"
      }
    },
    {
      "cell_type": "code",
      "source": [
        "print(labL[:10])"
      ],
      "metadata": {
        "id": "zcTw8WU6hMEN"
      },
      "execution_count": null,
      "outputs": []
    },
    {
      "cell_type": "markdown",
      "source": [
        "### 最短距離法"
      ],
      "metadata": {
        "id": "1LUm0gMWhJX9"
      }
    },
    {
      "cell_type": "markdown",
      "source": [
        "クラスごとの学習データの平均をプロトタイプとする最短距離法のコードを書いてみましょう．"
      ],
      "metadata": {
        "id": "tIG4YJMshSDv"
      }
    },
    {
      "cell_type": "code",
      "source": [
        "# このセルにプロトタイプを作るコードを書こう\n"
      ],
      "metadata": {
        "id": "2IBLUcV_iPTJ"
      },
      "execution_count": null,
      "outputs": []
    },
    {
      "cell_type": "markdown",
      "source": [
        "↑のセルでプロトタイプを作って，↓のセルでテストデータを識別させよう．\n",
        "テストデータ1000個のうち正しく識別できたのがいくつかを表示させてください．"
      ],
      "metadata": {
        "id": "t9uL80jhi224"
      }
    },
    {
      "cell_type": "code",
      "source": [
        "%%time\n",
        "# ↑があると，このセルの実行時間を計測して表示してくれます\n",
        "# このセルでテストデータを識別させよう\n"
      ],
      "metadata": {
        "id": "XmiMbGeSiV4M"
      },
      "execution_count": null,
      "outputs": []
    },
    {
      "cell_type": "markdown",
      "source": [
        "### 最近傍法"
      ],
      "metadata": {
        "id": "s42W1BffjTQi"
      }
    },
    {
      "cell_type": "markdown",
      "source": [
        "学習データをすべてプロトタイプとする最近傍法のコードを書いてみましょう．\n",
        "実行時間の違いも観察してみてね．"
      ],
      "metadata": {
        "id": "yM0oEJwmjX0z"
      }
    },
    {
      "cell_type": "code",
      "source": [
        "%%time\n",
        "# ↑があると，このセルの実行時間を計測して表示してくれます\n",
        "# このセルでテストデータを識別させよう\n"
      ],
      "metadata": {
        "id": "zHuURv7nje8s"
      },
      "execution_count": null,
      "outputs": []
    },
    {
      "cell_type": "markdown",
      "source": [
        "### 最近傍法の計算の改良"
      ],
      "metadata": {
        "id": "TKMtG_UPjsdm"
      }
    },
    {
      "cell_type": "markdown",
      "source": [
        "プロトタイプを $\\mathbf{p}_{n}$ ($n = 1, 2, \\ldots, N$)とおき，一つのテストデータを $\\mathbf{x}$ とおきます．最近傍法では，\n",
        "\n",
        "$$\n",
        "d_n = ||\\mathbf{x} - \\mathbf{p}_n||^2 \\qquad (n = 1, 2, \\ldots, N)\n",
        "$$\n",
        "\n",
        "を計算して，これが最小となる番号 $n$ を探しています．\n",
        "\n",
        "ここで，\n",
        "$$\n",
        "||\\mathbf{x} - \\mathbf{p}_n||^2 = ||\\mathbf{x}||^2 - 2\\mathbf{x}\\cdot\\mathbf{p}_n + ||\\mathbf{p}_n||^2\n",
        "$$\n",
        "と変形できます．こうすると，$||\\mathbf{x}||^2$ はすべての $d_n$ に共通に含まれるので，$d_n$ のかわりに\n",
        "\n",
        "$$\n",
        "d'_n = - 2\\mathbf{x}\\cdot\\mathbf{p}_n + ||\\mathbf{p}_n||^2\n",
        "$$\n",
        "\n",
        "の最小を探しても同じであることがわかります．さらに，この式の $||\\mathbf{p}_n||^2$ はテストデータ $\\mathbf{x}$ に無関係ですので，最初に一度求めて記憶しておけばよい（テストデータが来るたびに計算しなくてよい）こともわかります．\n",
        "\n",
        "上記のアイデアに基づいた，改良版の最近傍法のコードを書いて実験してみましょう．"
      ],
      "metadata": {
        "id": "g6o5W-0hj5FA"
      }
    },
    {
      "cell_type": "code",
      "source": [
        "# ||p_n||^2 を計算しておく\n"
      ],
      "metadata": {
        "id": "RrSbu7FxjvwJ"
      },
      "execution_count": null,
      "outputs": []
    },
    {
      "cell_type": "code",
      "source": [
        "%%time\n",
        "# ↑があると，このセルの実行時間を計測して表示してくれます\n",
        "# このセルでテストデータを識別させよう\n"
      ],
      "metadata": {
        "id": "WS6SQM5OmVdP"
      },
      "execution_count": null,
      "outputs": []
    },
    {
      "cell_type": "code",
      "source": [],
      "metadata": {
        "id": "h2KqsJhGmYMX"
      },
      "execution_count": null,
      "outputs": []
    }
  ]
}