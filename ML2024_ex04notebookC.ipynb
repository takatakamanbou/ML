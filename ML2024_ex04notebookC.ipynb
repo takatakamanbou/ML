{
  "cells": [
    {
      "cell_type": "markdown",
      "metadata": {
        "id": "view-in-github",
        "colab_type": "text"
      },
      "source": [
        "<a href=\"https://colab.research.google.com/github/takatakamanbou/ML/blob/2024/ML2024_ex04notebookC.ipynb\" target=\"_parent\"><img src=\"https://colab.research.google.com/assets/colab-badge.svg\" alt=\"Open In Colab\"/></a>"
      ]
    },
    {
      "cell_type": "markdown",
      "metadata": {
        "id": "2UzDNLmVS3po"
      },
      "source": [
        "# ML ex04notebookC\n",
        "\n",
        "<img width=72 src=\"https://www-tlab.math.ryukoku.ac.jp/~takataka/course/ML/ML-logo.png\"> [この授業のウェブページ](https://www-tlab.math.ryukoku.ac.jp/wiki/?ML/2024)\n"
      ]
    },
    {
      "cell_type": "markdown",
      "metadata": {
        "id": "_WXvQDHGjLD8"
      },
      "source": [
        "----\n",
        "## 演習: 勾配法によるパラメータの最適化\n",
        "----\n",
        "\n",
        "\n"
      ]
    },
    {
      "cell_type": "markdown",
      "metadata": {
        "id": "7glgWbdlh34P"
      },
      "source": [
        "----\n",
        "### 準備\n",
        "\n",
        "\n",
        "以下，コードセルを上から順に実行してながら読んでいってね．"
      ]
    },
    {
      "cell_type": "code",
      "execution_count": null,
      "metadata": {
        "id": "JBTXo5eHh34P"
      },
      "outputs": [],
      "source": [
        "# 準備あれこれ\n",
        "import numpy as np\n",
        "import matplotlib.pyplot as plt\n",
        "from matplotlib import animation, rc  # アニメーションのため\n",
        "import pandas as pd\n",
        "import seaborn\n",
        "seaborn.set()"
      ]
    },
    {
      "cell_type": "markdown",
      "source": [
        "----\n",
        "### 問題1\n",
        "\n",
        "関数 $E(w_1, w_2)$ を\n",
        "$$\n",
        "\\begin{aligned}\n",
        "E(w_1, w_2) &= \\frac{(2w_2-w_1^2)^2}{4} + \\frac{(1-w_1)^2}{8}\n",
        "\\end{aligned}\n",
        "$$\n",
        "と定める．このとき，次のものを手計算で求めなさい．\n",
        "\n",
        "1. $\\frac{\\partial E}{\\partial w_1}, \\frac{\\partial E}{\\partial w_2}$\n",
        "1. $\\frac{\\partial E}{\\partial w_1} = \\frac{\\partial E}{\\partial w_2} = 0$ を満たす $(w_1, w_2)$\n",
        "\n",
        "---"
      ],
      "metadata": {
        "id": "N2TgMfBSsGhO"
      }
    },
    {
      "cell_type": "markdown",
      "source": [
        "次の2つのセルを実行すると，$E(w_1, w_2)$ の概形を描かせることができます．"
      ],
      "metadata": {
        "id": "UjUFz0blkOpA"
      }
    },
    {
      "cell_type": "code",
      "source": [
        "# E(w1, w2)\n",
        "def E(w):\n",
        "    return (2*w[1] - w[0]*w[0])**2/4 + (1 - w[0])**2/8\n",
        "\n",
        "# E(w1, w2) の w1, w2 に関する偏微係数\n",
        "def dEdw(w):\n",
        "    return np.array([0, 0]) ### 問題2で要修正"
      ],
      "metadata": {
        "id": "n0bqGaWXkQXP"
      },
      "execution_count": 1,
      "outputs": []
    },
    {
      "cell_type": "code",
      "source": [
        "# 2変数の具体例のグラフ\n",
        "fig = plt.figure(facecolor='white', figsize=(12, 6))\n",
        "\n",
        "xmin, xmax = -1, 2\n",
        "ymin, ymax = -1, 2\n",
        "\n",
        "# (w1, w2) に対する E(w1, w2) の計算\n",
        "w1, w2 = np.meshgrid(np.linspace(xmin, xmax, num=100), np.linspace(ymin, ymax, num=100))\n",
        "w1w2 = np.vstack((w1.ravel(), w2.ravel())).T\n",
        "Ew1w2 = np.array([E(w) for w in w1w2])\n",
        "EE = Ew1w2.reshape((w1.shape[0], w2.shape[1]))\n",
        "\n",
        "# 三次元プロット\n",
        "elevation = 20\n",
        "azimuth = -70\n",
        "ax0 = fig.add_subplot(121, projection='3d')\n",
        "ax0.plot_wireframe(w1, w2, EE)\n",
        "ax0.set_xlim(xmin, xmax)\n",
        "ax0.set_ylim(ymin, ymax)\n",
        "ax0.set_zlim(-1, 5)\n",
        "ax0.set_xlabel('$w_1$')\n",
        "ax0.set_ylabel('$w_2$')\n",
        "ax0.set_zlabel('$E(w_1, w_2)$')\n",
        "ax0.view_init(elevation, azimuth)\n",
        "\n",
        "# 二次元等高線プロット\n",
        "ax1 = fig.add_subplot(122)\n",
        "cval = [0, 0.05, 0.1, 0.2, 0.3, 0.4, 0.5, 1, 2, 3, 4, 5]\n",
        "contour = ax1.contour(w1, w2, EE, cval)\n",
        "ax1.clabel(contour, fontsize=10)\n",
        "ax1.set_aspect('equal')\n",
        "ax1.set_xlabel('$w_1$')\n",
        "ax1.set_ylabel('$w_2$')\n",
        "ax1.set_xlim(xmin, xmax)\n",
        "ax1.set_ylim(xmin, xmax)\n",
        "\n",
        "plt.tight_layout()\n",
        "plt.show()"
      ],
      "metadata": {
        "id": "0ffg0LHA1TLB"
      },
      "execution_count": null,
      "outputs": []
    },
    {
      "cell_type": "markdown",
      "source": [
        "----\n",
        "### 問題2\n",
        "\n",
        "関数 $E(w_1, w_2)$ の最小値を最急降下法で求めてみよう．関数 `dEdw` を定義しているセルの `### 問題2で要修正` と書かれた行を修正してから次のセルを実行すると，$(w_1, w_2) = (0, 1)$ を初期値として $E(w_1, w_2)$ が最小になる $(w_1, w_2)$ を探すことができます．正しく動作することを確認しましょう．\n",
        "\n",
        "ヒント: `np.array([0, 0]) ` の2箇所の `0` のうち，一つ目のところに $\\frac{\\partial E}{\\partial w_1}$ を表す式を， 二つ目のところに $\\frac{\\partial E}{\\partial w_2}$ を表す式を書きます．ただし，$w_1, w_2$ はそれぞれ `w[0], w[1]` です．\n",
        "\n"
      ],
      "metadata": {
        "id": "RqUHS5sTmFxv"
      }
    },
    {
      "cell_type": "code",
      "source": [
        "w = np.array([0.0, 1.0]) # w_1, w_2 の初期値\n",
        "eta = 0.3                # 学習係数\n",
        "\n",
        "# 最急降下法の繰り返し\n",
        "for i in range(100):\n",
        "    print(f'step{i}: w = {w}, E(w) = {E(w):.4f}')\n",
        "    dw = dEdw(w)  # 勾配の値の計算\n",
        "    w -= eta*dw  # パラメータの更新\n",
        "print(f'step{i}: w = {w}, E(w) = {E(w):.4f}')"
      ],
      "metadata": {
        "id": "7I_ofO-akHJl"
      },
      "execution_count": null,
      "outputs": []
    },
    {
      "cell_type": "markdown",
      "source": [
        "次のセルたちを実行すると，最急降下法で $(w_1, w_2)$ の値が更新されていく様子をアニメーションで見ることができます．やってみよう．\n",
        "\n",
        "動作確認できたら，初期値や学習係数の値をいろいろ変えて実験してみよう．"
      ],
      "metadata": {
        "id": "GlMQ8FxXrydb"
      }
    },
    {
      "cell_type": "code",
      "source": [
        "def genAnim2D(f, dfdx, x0, eta):\n",
        "\n",
        "    fig, ax = plt.subplots(facecolor=\"white\", figsize=(6, 6))\n",
        "\n",
        "    # f(x1, x2) の等高線を描く\n",
        "    xx, yy = np.meshgrid(np.linspace(xmin, xmax, num=100), np.linspace(ymin, ymax, num=100))\n",
        "    XX = np.vstack((xx.ravel(), yy.ravel())).T\n",
        "    ZZ = np.array([f(x) for x in XX])\n",
        "    zz = ZZ.reshape((xx.shape[0], xx.shape[1]))\n",
        "    cval = [0, 0.05, 0.1, 0.2, 0.3, 0.4, 0.5, 1, 2, 3, 4, 5]\n",
        "    contour = ax.contour(xx, yy, zz, cval)\n",
        "    ax.clabel(contour, fontsize=10)\n",
        "    ax.set_aspect('equal')\n",
        "    ax.set_xlim(xmin, xmax)\n",
        "    ax.set_ylim(ymin, ymax)\n",
        "\n",
        "    # アニメーションの各コマを生成\n",
        "    aList = []\n",
        "    x = x0\n",
        "    for i in range(50):\n",
        "        a1 = ax.plot(x[0], x[1], marker='o', markersize=12, color='red')\n",
        "        s = f'step{i}: $E = {f(x):.3f}$'\n",
        "        a2 = ax.text(-0.9, 1.5, s, size=20)\n",
        "        a1.append(a2)\n",
        "        aList.append(a1)\n",
        "        # 最急降下法\n",
        "        dx = dfdx(x)\n",
        "        x -= eta*dx\n",
        "\n",
        "    anim = animation.ArtistAnimation(fig, aList, interval=300)\n",
        "    rc('animation', html='jshtml')\n",
        "    plt.close()\n",
        "\n",
        "    return anim"
      ],
      "metadata": {
        "id": "btTieWkwltuQ"
      },
      "execution_count": null,
      "outputs": []
    },
    {
      "cell_type": "code",
      "source": [
        "w = np.array([0.0, 1.0]) # w_1, w_2 の初期値\n",
        "eta = 0.3                # 学習係数\n",
        "anim = genAnim2D(E, dEdw, w, eta)\n",
        "anim"
      ],
      "metadata": {
        "id": "9lKklkBCsIrM"
      },
      "execution_count": null,
      "outputs": []
    },
    {
      "cell_type": "markdown",
      "source": [
        "### ゴリゴリ君の問題を勾配法で解いてみる"
      ],
      "metadata": {
        "id": "FRpQna_5vmgg"
      }
    },
    {
      "cell_type": "markdown",
      "source": [
        "ゴリゴリ君のデータに直線を当てはめる線形回帰の問題の場合，連立方程式（正規方程式）を解けば最適なパラメータを一撃で求めることができます．しかし，ここではあえて勾配法を使ってみましょう．実用的な意味はなく，勾配法を理解するための実験です．"
      ],
      "metadata": {
        "id": "SiQ3_Qav2e75"
      }
    },
    {
      "cell_type": "markdown",
      "source": [
        "この問題では，$x$ と $y$ の値のペアが $(x_1, y_1), (x_2, y_2), \\ldots, (x_N, y_N)$ と $N$ 個与えられたときに，\n",
        "\n",
        "$$ E(a, b) = \\frac{1}{2}\\sum_{n=1}^N (y_n - (ax_n+b))^2 $$\n",
        "\n",
        "の値を最小にする $(a, b)$ を求めたいのでした．第1回に導出したように，$E(a, b)$ のパラメータ $a, b$ に関する勾配は次式の通りです．\n",
        "\n",
        "$$\n",
        "\\begin{aligned}\n",
        "\\frac{\\partial E(a,b)}{\\partial a} &= \\sum_{n=1}^{N}(y_n-(ax_n+b))(-x_n) \\\\\n",
        "\\frac{\\partial E(a,b)}{\\partial b} &= \\sum_{n=1}^{N}(y_n-(ax_n+b))(-1) \\\\\n",
        "\\end{aligned}\n",
        "$$\n",
        "\n",
        "したがって，$(a, b)$ を適当な値で初期化して，適当な学習係数 $\\eta (>0)$ のもとで\n",
        "\n",
        "$$\n",
        "\\begin{aligned}\n",
        "a^\\textrm{new} &= a - \\eta \\frac{\\partial E(a,b)}{\\partial a} \\\\\n",
        "b^\\textrm{new} &= b - \\eta \\frac{\\partial E(a,b)}{\\partial a} \\\\\n",
        "\\end{aligned}\n",
        "$$\n",
        "\n",
        "のように $(a, b)$ の値を更新する計算を繰り返せば，$(a, b)$ は徐々に $E(a, b)$ を最小にする解へ近づいてゆくはずです．\n",
        "\n",
        "やってみましょう．\n"
      ],
      "metadata": {
        "id": "3_Z6Qyxx00kC"
      }
    },
    {
      "cell_type": "code",
      "source": [
        "# データを読み込む\n",
        "dfGori = pd.read_csv('https://www-tlab.math.ryukoku.ac.jp/~takataka/course/ML/gorigori.csv', header=0)\n",
        "xmin, xmax = -5, 40\n",
        "ymin, ymax = 0, 130\n",
        "\n",
        "# データを用意\n",
        "X = dfGori['気温'].to_numpy()\n",
        "XX = np.vstack([X, np.ones_like(X)]).T\n",
        "Y = dfGori['アイス売上数'].to_numpy()"
      ],
      "metadata": {
        "id": "xTIVf0qFsSdz"
      },
      "execution_count": null,
      "outputs": []
    },
    {
      "cell_type": "markdown",
      "source": [
        "次のセルを実行すると，上で説明した計算の過程の一例を見ることができます．"
      ],
      "metadata": {
        "id": "ogUiJpnM4xPp"
      }
    },
    {
      "cell_type": "code",
      "source": [
        "a, b = 1.0, 1.0  # パラメータの初期値\n",
        "nitr = 20001     # 勾配法の繰返し回数\n",
        "eta = 0.001/len(X)  # 学習係数\n",
        "\n",
        "for i in range(nitr):\n",
        "    # 現在の (a, b) で予測値とその誤差を求める\n",
        "    e = Y - (a*X + b)\n",
        "    # 途中経過を表示\n",
        "    if (i < 1000 and i % 100 == 0) or (i % 1000 == 0):\n",
        "        print(f'iteration {i:>6}  a = {a:.4f}  b = {b:.4f}  E(a, b) = {e@e/2:.3f}')\n",
        "    # 勾配の計算\n",
        "    dEda = -e @ X\n",
        "    dEdb = -np.sum(e)\n",
        "    # パラメータの修正\n",
        "    a -= eta * dEda\n",
        "    b -= eta * dEdb\n"
      ],
      "metadata": {
        "id": "4G4hzaywv-SL"
      },
      "execution_count": null,
      "outputs": []
    },
    {
      "cell_type": "markdown",
      "source": [
        "勾配法によってパラメータが最適な解へ近づいていく様子が見えるでしょうか？\n",
        "ちなみに，最小二乗解は $(a, b) = (2.922, 2.337)$ （小数第3位まで表示）です．"
      ],
      "metadata": {
        "id": "_bpbQ7gv5N1w"
      }
    },
    {
      "cell_type": "code",
      "source": [],
      "metadata": {
        "id": "BQvIrUr1w_ME"
      },
      "execution_count": null,
      "outputs": []
    }
  ],
  "metadata": {
    "colab": {
      "provenance": [],
      "toc_visible": true,
      "include_colab_link": true
    },
    "kernelspec": {
      "display_name": "Python 3",
      "name": "python3"
    },
    "language_info": {
      "codemirror_mode": {
        "name": "ipython",
        "version": 3
      },
      "file_extension": ".py",
      "mimetype": "text/x-python",
      "name": "python",
      "nbconvert_exporter": "python",
      "pygments_lexer": "ipython3",
      "version": "3.9.7"
    }
  },
  "nbformat": 4,
  "nbformat_minor": 0
}