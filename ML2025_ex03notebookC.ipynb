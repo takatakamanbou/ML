{
  "cells": [
    {
      "cell_type": "markdown",
      "metadata": {
        "id": "view-in-github",
        "colab_type": "text"
      },
      "source": [
        "<a href=\"https://colab.research.google.com/github/takatakamanbou/ML/blob/2025/ML2025_ex03notebookC.ipynb\" target=\"_parent\"><img src=\"https://colab.research.google.com/assets/colab-badge.svg\" alt=\"Open In Colab\"/></a>"
      ]
    },
    {
      "cell_type": "markdown",
      "metadata": {
        "id": "2UzDNLmVS3po"
      },
      "source": [
        "# ML ex03notebookC\n",
        "\n",
        "<img width=72 src=\"https://www-tlab.math.ryukoku.ac.jp/~takataka/course/ML/ML-logo.png\"> [この授業のウェブページ](https://www-tlab.math.ryukoku.ac.jp/wiki/?ML/2025)\n"
      ]
    },
    {
      "cell_type": "markdown",
      "metadata": {
        "id": "_WXvQDHGjLD8"
      },
      "source": [
        "----\n",
        "## 演習: 最短距離法と最近傍法\n",
        "----\n",
        "\n",
        "<b><font color=\"#ff0000\">\n",
        "注意:\n",
        "今回の notebook の中には，コードセルを実行すると問題の解答が表示されるようになっている箇所があります．\n",
        "</font>\n",
        "</b>\n",
        "\n"
      ]
    },
    {
      "cell_type": "markdown",
      "metadata": {
        "id": "7glgWbdlh34P"
      },
      "source": [
        "----\n",
        "### 準備\n",
        "\n",
        "\n",
        "以下，コードセルを上から順に実行してながら読んでいってね．"
      ]
    },
    {
      "cell_type": "code",
      "execution_count": null,
      "metadata": {
        "id": "JBTXo5eHh34P"
      },
      "outputs": [],
      "source": [
        "# 準備あれこれ\n",
        "import numpy as np\n",
        "import matplotlib.pyplot as plt\n",
        "import pandas as pd\n",
        "import seaborn\n",
        "seaborn.set_theme()\n",
        "\n",
        "# 「解答」を示す際に文字列を復号するのに使う\n",
        "import base64\n",
        "# 復号した文字列を Markdown 形式で（数式は LaTeX でフォーマットして）表示\n",
        "from IPython.display import display, Markdown"
      ]
    },
    {
      "cell_type": "markdown",
      "source": [
        "----\n",
        "### 問題1\n"
      ],
      "metadata": {
        "id": "N2TgMfBSsGhO"
      }
    },
    {
      "cell_type": "code",
      "source": [
        "X = np.array([[ 1.0,  2.0,  3.0,  4.0],\n",
        "              [ 1.0,  1.0,  1.0,  1.0],\n",
        "              [-1.0,  1.0, -1.0,  1.0]])\n",
        "for n in range(len(X)):\n",
        "    print(f'X[{n}] = {X[n]}')"
      ],
      "metadata": {
        "id": "0ffg0LHA1TLB"
      },
      "execution_count": null,
      "outputs": []
    },
    {
      "cell_type": "markdown",
      "source": [
        "上のセルを実行して表示される3つのベクトルを上から順に $\\pmb{x}_0, \\pmb{x}_1, \\pmb{x}_2$ と表すことにする．次の問に答えなさい．"
      ],
      "metadata": {
        "id": "CTziLS2cnE5D"
      }
    },
    {
      "cell_type": "markdown",
      "source": [
        "問(1) 手計算で $\\| \\pmb{x}_0\\|^2, \\Vert \\pmb{x}_1\\Vert^2, \\Vert \\pmb{x}_2\\Vert^2 $ の値を求めなさい．"
      ],
      "metadata": {
        "id": "v-e2ZOylnXoy"
      }
    },
    {
      "cell_type": "markdown",
      "source": [
        "ベクトル $\\pmb{a} = (a_1, a_2, \\ldots, a_D)$ について，$\\pmb{a}$ と $\\pmb{a}$ 自身との間の内積 $\\pmb{a}\\cdot\\pmb{a}$ は $\\Vert\\pmb{a}\\Vert^2$ と等しい．変数 `a`, `b` がベクトル（NumPyの1次元配列）のとき，`a` と `b` の内積は次のように `@` 演算子を使って計算できる．"
      ],
      "metadata": {
        "id": "s2Lv2cUBosOk"
      }
    },
    {
      "cell_type": "code",
      "source": [
        "a = np.array([1, 2, 3])\n",
        "b = np.array([1, 1, -1])\n",
        "print(a@b)"
      ],
      "metadata": {
        "id": "ilDvzKLeopYa"
      },
      "execution_count": null,
      "outputs": []
    },
    {
      "cell_type": "markdown",
      "source": [
        "問(2) 次のセルのコードを修正して $\\Vert \\pmb{x}_0\\Vert^2, \\Vert \\pmb{x}_1\\Vert^2, \\Vert \\pmb{x}_2\\Vert^2 $ の値を出力するようにしなさい．"
      ],
      "metadata": {
        "id": "1emfWDPWqScc"
      }
    },
    {
      "cell_type": "code",
      "source": [
        "for n in range(len(X)):\n",
        "    print(X[n])"
      ],
      "metadata": {
        "id": "4Kcaxi0rqljO"
      },
      "execution_count": null,
      "outputs": []
    },
    {
      "cell_type": "markdown",
      "source": [
        "問(3) 上のコードセルの変数 `a` と `b` がベクトル $\\pmb{a}$ と $\\pmb{b}$ を表すとき，これらの間のユークリッド距離の2乗 $\\Vert\\pmb{a}-\\pmb{b}\\Vert^2$ を手計算で求めなさい．"
      ],
      "metadata": {
        "id": "7OQWzuDuuPUQ"
      }
    },
    {
      "cell_type": "markdown",
      "source": [
        "NumPy では $\\Vert\\pmb{a}-\\pmb{b}\\Vert^2$ は次のようにして求められます．"
      ],
      "metadata": {
        "id": "EDBVDtaRqf7i"
      }
    },
    {
      "cell_type": "code",
      "source": [
        "v = a - b\n",
        "print(v@v)"
      ],
      "metadata": {
        "id": "DgApNsQHtYMy"
      },
      "execution_count": null,
      "outputs": []
    },
    {
      "cell_type": "markdown",
      "source": [
        "問(4) 次のセルのコードを修正して $\\Vert\\pmb{x}_0-\\pmb{x}_1\\Vert^2,\\Vert\\pmb{x}_0-\\pmb{x}_2\\Vert^2,\\Vert\\pmb{x}_1-\\pmb{x}_2\\Vert^2$ の値を出力するようにしなさい．"
      ],
      "metadata": {
        "id": "CNXXe2lutT6u"
      }
    },
    {
      "cell_type": "code",
      "source": [
        "for i in range(1, len(X)):\n",
        "    for j in range(i):\n",
        "        d2 = X[j]@X[i]\n",
        "        print(f'X[{j}]とX[{i}]: {d2}')"
      ],
      "metadata": {
        "id": "hljn75WXkKSh"
      },
      "execution_count": null,
      "outputs": []
    },
    {
      "cell_type": "markdown",
      "source": [
        "問(5) $\\pmb{x}_0, \\pmb{x}_1, \\pmb{x}_2$ の中で，ユークリッド距離が最小なのはどれとどれの間か．"
      ],
      "metadata": {
        "id": "fwg-w38Hvnh8"
      }
    },
    {
      "cell_type": "code",
      "source": [
        "# このセルを実行すると，上記の問に対する解答例が表示されます\n",
        "Q = b'CigxKSAkXFZlcnRccG1ie3h9XzBcVmVydF4yID0gMV4yICsgMl4yICsgM14yICsgNF4yID0gMzAk77yM5LuW44Gv55Wl77yOCgooMikgYHByaW50KFhbbl0pYCDjgpIgYHByaW50KFhbbl0gQCBYW25dKWAg44Gr5L+u5q2j77yOCgooMykgJFxwbWJ7YX0gPSAoMSwgMiwgMyksIFxwbWJ7Yn0gPSAoMSwgMSwgLTEpJCDjgojjgorvvIwkXHxccG1ie2F9IC0gXHBtYntifSBcfF4yID0gKDEtMSleMiArICgyLTEpXjIgKyAoMysxKV4yID0gMTckCgooNCkgM+ihjOebruOCkuasoeOBrjLooYzjgavmm7jjgY3mj5vjgYjjgovvvJoKYGBgCnggPSBYW2pdIC0gWFtpXQpkMiA9IHggQCB4CmBgYArmrKHjga7jgojjgYbjgavjgZfjgabjgoLjgojjgYTvvIjjgYzvvIzlkIzjgZjmuJvnrpfjgpIy5Zue6KGM44GG44Gu44Gn54Sh6aeE44Gr6KiI566X5pmC6ZaT44GM44GL44GL44KL77yJOiBgZDIgPSAoWFtqXSAtIFhbaV0pIEAgKFhbal0gLSBYW2ldKWAKCuOBvuOBn++8jOasoeOBruOCiOOBhuOBquWIpeino+OCguOBguOCizogYGQyID0gbnAuc3VtKChYW2pdIC0gWFtpXSkqKjIpYAo='\n",
        "display(Markdown(base64.b64decode(Q).decode('utf-8')))"
      ],
      "metadata": {
        "id": "0ZGO3TfhTJJY"
      },
      "execution_count": null,
      "outputs": []
    },
    {
      "cell_type": "markdown",
      "source": [
        "----\n",
        "### 問題2"
      ],
      "metadata": {
        "id": "6QTULduZwBJs"
      }
    },
    {
      "cell_type": "code",
      "source": [
        "P = np.array([[1.0, 1.0], [4.0, 1.0], [1.0, 4.0]])\n",
        "for n in range(len(P)):\n",
        "    print(f'P[{n}] = {P[n]}')"
      ],
      "metadata": {
        "id": "W6xpKV1Qlpo0"
      },
      "execution_count": null,
      "outputs": []
    },
    {
      "cell_type": "markdown",
      "source": [
        "上のセルを実行して表示される3つのベクトルを上から順に $\\pmb{p}_0, \\pmb{p}_1, \\pmb{p}_2$ と表します．これらはそれぞれ「ほげ」「ふが」「へな」という3つのクラスのプロトタイプの特徴ベクトルであるとします．\n",
        "\n",
        "このとき，次のセルを実行すると，ランダムに作ったベクトル $\\pmb{x}$ と3つのプロトタイプベクトルとの間のユークリッド距離の2乗の値を計算して出力します．"
      ],
      "metadata": {
        "id": "6soVcqTfxqfF"
      }
    },
    {
      "cell_type": "code",
      "source": [
        "# [0, 5) の一様乱数の値2つをベクトル x の2つの要素とする\n",
        "x = 5*np.random.rand(2)\n",
        "print(f'x = {x}')\n",
        "\n",
        "# x と P[n] との間のユークリッド距離の2乗の値をならべた配列\n",
        "d2 = np.sum((P - x)**2, axis=1)\n",
        "print(f'd2 = {d2}')"
      ],
      "metadata": {
        "id": "IhK9uGV_xlEj"
      },
      "execution_count": null,
      "outputs": []
    },
    {
      "cell_type": "markdown",
      "source": [
        "`d2` の3つの要素がそれぞれ $\\pmb{p}_0, \\pmb{p}_1, \\pmb{p}_2$ と $\\pmb{x}$ との間のユークリッド距離の2乗です．\n",
        "\n",
        "上記の出力を見て，最短距離法では $\\pmb{x}$ はどのクラスに属すると識別されるか答えなさい．\n",
        "$\\pmb{x}$ はランダムに作られるので，何度かやってみるとよいでしょう．\n",
        "\n",
        "次のセルを実行すると答え合わせができます．"
      ],
      "metadata": {
        "id": "FrIcL01d2YSl"
      }
    },
    {
      "cell_type": "code",
      "source": [
        "cname = ['ほげ', 'ふが', 'へな']\n",
        "i = np.argmin(d2) # d2 の中の最小値の要素番号を求める\n",
        "print(f'クラス「{cname[i]}」です')"
      ],
      "metadata": {
        "id": "5XC7UYXqyZAu"
      },
      "execution_count": null,
      "outputs": []
    },
    {
      "cell_type": "markdown",
      "source": [
        "----\n",
        "### 問題3"
      ],
      "metadata": {
        "id": "zJ8qX1669xo8"
      }
    },
    {
      "cell_type": "code",
      "source": [
        "XL = np.array([[6.7, 7.8, 3.8],\n",
        "               [4.5, 0.5, 7.1],\n",
        "               [1.5, 0.1, 7.3],\n",
        "               [7.3, 3.2, 7.9],\n",
        "               [2.1, 2.4, 6.9]])\n",
        "YL = np.array([1, 2, 0, 1, 0])\n",
        "for n in range(len(XL)):\n",
        "    print(f'XL[{n}] = {XL[n]}  {cname[YL[n]]}')"
      ],
      "metadata": {
        "id": "XzkXbsCp__QP"
      },
      "execution_count": null,
      "outputs": []
    },
    {
      "cell_type": "markdown",
      "source": [
        "上のセルを実行して表示される5つのベクトル `XL[n]` はそれぞれ「ほげ」「ふが」「へな」という3つのクラスのいずれかに属する学習データです．\n",
        "\n",
        "このとき，次のセルを実行すると，ランダムに作ったベクトル `x` とこれら5つのベクトルとの間のユークリッド距離の2乗の値を計算して出力します．"
      ],
      "metadata": {
        "id": "KqBhYqwFBnnm"
      }
    },
    {
      "cell_type": "code",
      "source": [
        "x = 10*np.random.rand(3)\n",
        "print(f'x = {x}')\n",
        "\n",
        "# x と XL[n] との間のユークリッド距離の2乗の値をならべた配列\n",
        "d2 = np.sum((XL - x)**2, axis=1)\n",
        "print(f'd2 = {d2}')"
      ],
      "metadata": {
        "id": "-7cHd6q6A1Wx"
      },
      "execution_count": null,
      "outputs": []
    },
    {
      "cell_type": "markdown",
      "source": [
        "上記の出力を見て，最近傍法では `x` はどのクラスに属すると識別されるか答えなさい．\n",
        "$\\pmb{x}$ はランダムに作られるので，何度かやってみるとよいでしょう．\n",
        "\n",
        "次のセルを実行すると答え合わせができます．"
      ],
      "metadata": {
        "id": "v9DPsS5aB_rG"
      }
    },
    {
      "cell_type": "code",
      "source": [
        "i = np.argmin(d2) # d2 の中の最小値の要素番号を求める\n",
        "print(f'クラス「{cname[YL[i]]}」です')"
      ],
      "metadata": {
        "id": "40LrJ6q8BA8M"
      },
      "execution_count": null,
      "outputs": []
    },
    {
      "cell_type": "code",
      "source": [],
      "metadata": {
        "id": "DbIf8GVvCYlR"
      },
      "execution_count": null,
      "outputs": []
    }
  ],
  "metadata": {
    "colab": {
      "provenance": [],
      "toc_visible": true,
      "include_colab_link": true
    },
    "kernelspec": {
      "display_name": "Python 3",
      "name": "python3"
    },
    "language_info": {
      "codemirror_mode": {
        "name": "ipython",
        "version": 3
      },
      "file_extension": ".py",
      "mimetype": "text/x-python",
      "name": "python",
      "nbconvert_exporter": "python",
      "pygments_lexer": "ipython3",
      "version": "3.9.7"
    }
  },
  "nbformat": 4,
  "nbformat_minor": 0
}