{
  "nbformat": 4,
  "nbformat_minor": 0,
  "metadata": {
    "colab": {
      "provenance": [],
      "toc_visible": true,
      "authorship_tag": "ABX9TyOaUQEU3bEMIy3j1lvs7Wu/",
      "include_colab_link": true
    },
    "kernelspec": {
      "name": "python3",
      "display_name": "Python 3"
    }
  },
  "cells": [
    {
      "cell_type": "markdown",
      "metadata": {
        "id": "view-in-github",
        "colab_type": "text"
      },
      "source": [
        "<a href=\"https://colab.research.google.com/github/takatakamanbou/ML/blob/2023/omake01.ipynb\" target=\"_parent\"><img src=\"https://colab.research.google.com/assets/colab-badge.svg\" alt=\"Open In Colab\"/></a>"
      ]
    },
    {
      "cell_type": "markdown",
      "metadata": {
        "id": "2UzDNLmVS3po"
      },
      "source": [
        "# ML omake01\n",
        "\n",
        "<img width=64 src=\"https://www-tlab.math.ryukoku.ac.jp/~takataka/course/ML/ML-logo.png\">\n"
      ]
    },
    {
      "cell_type": "markdown",
      "metadata": {
        "id": "_4-TmUdCd9FJ"
      },
      "source": [
        "----\n",
        "# Python + NumPy + Matplotlib + Pandas 入門\n",
        "----\n",
        "\n",
        "次のものの初歩を説明します． ここで「パッケージ」と呼んでいるものは，何か特定の機能を実現するために作られたソフトウェアの集まりを指します．「ライブラリ」や「モジュール」という呼び方をすることもあります．\n",
        "- NumPy: Python で数値計算できるパッケージ https://numpy.org/\n",
        "- Matplotlib: Python で様々なグラフを描いたりできるパッケージ https://matplotlib.org/\n",
        "- Pandas: Python でデータ分析できるパッケージ https://pandas.pydata.org/\n"
      ]
    },
    {
      "cell_type": "markdown",
      "source": [
        "---\n",
        "## 前編"
      ],
      "metadata": {
        "id": "WmqV6cEHFH7y"
      }
    },
    {
      "cell_type": "markdown",
      "metadata": {
        "id": "Z4c3TGUV38Ri"
      },
      "source": [
        "----\n",
        "### NumPy の初歩\n",
        "\n",
        "NumPy は，Python で数値計算を行うためのパッケージです．ベクトルや行列の形で表される数値データの演算・処理を得意とします．"
      ]
    },
    {
      "cell_type": "markdown",
      "metadata": {
        "id": "mGDLYnwg71kh"
      },
      "source": [
        "NumPy を使うためには，次のようにして「`numpy` モジュールをインポート」する必要があります．「モジュール」とか「インポート」とかそういったことはここでは説明しませんので，興味を持ったら自分で調べてみてね．\n",
        "\n"
      ]
    },
    {
      "cell_type": "code",
      "metadata": {
        "id": "mH1RWEw54RPv"
      },
      "source": [
        "import numpy as np  # numpy モジュールをインポートして np という名前で呼べるようにする"
      ],
      "execution_count": null,
      "outputs": []
    },
    {
      "cell_type": "markdown",
      "source": [
        "自分のPC等に Python 環境を構築している場合は，事前にNumPyパッケージをインストールすることが必要です．\n",
        "試してみたいひとは takataka に相談するか，自分で調べてみてください．\n",
        "Google Colab の環境にはあらかじめインストールされているので，インポートするだけで使えます．\n"
      ],
      "metadata": {
        "id": "Ti-K-DJhTJ3Z"
      }
    },
    {
      "cell_type": "markdown",
      "metadata": {
        "id": "ZnE7_3uaRFDn"
      },
      "source": [
        "`np.array` に数値を並べたリストを渡すと，配列を作ることができます．"
      ]
    },
    {
      "cell_type": "code",
      "source": [
        "x = np.array([1, 2, 3, 4, 5]) # 整数の配列\n",
        "print(x)\n",
        "print(x.shape) # 配列 x の shape（形）．要素数 5 のベクトル（一次元配列）であることがわかる\n",
        "print(x.dtype) # 配列 x の要素のデータ型．要素は整数型であることがわかる"
      ],
      "metadata": {
        "id": "z8byvBOBPEQQ"
      },
      "execution_count": null,
      "outputs": []
    },
    {
      "cell_type": "code",
      "source": [
        "y = np.array([1, 2, np.pi, 4.56, 7.89]) # 浮動小数点数の配列． np.pi は円周率\n",
        "print(y)\n",
        "print(y.shape)\n",
        "print(y.dtype)"
      ],
      "metadata": {
        "id": "FEebHACWPb9R"
      },
      "execution_count": null,
      "outputs": []
    },
    {
      "cell_type": "markdown",
      "source": [
        "次の演算が何を行っているか考えよう．"
      ],
      "metadata": {
        "id": "hKMryDJyP_PG"
      }
    },
    {
      "cell_type": "code",
      "source": [
        "x2 = x + 2\n",
        "print(x2)"
      ],
      "metadata": {
        "id": "Quu1irglPy0n"
      },
      "execution_count": null,
      "outputs": []
    },
    {
      "cell_type": "code",
      "metadata": {
        "id": "ROG8mPBJ4Uln"
      },
      "source": [
        "z = x + y\n",
        "print(z)"
      ],
      "execution_count": null,
      "outputs": []
    },
    {
      "cell_type": "markdown",
      "source": [
        "関数 `np.sum` で要素の和，`np.mean` で平均，`np.var` で分散を求められます．"
      ],
      "metadata": {
        "id": "t0ACQzF0Qirw"
      }
    },
    {
      "cell_type": "code",
      "source": [
        "print(np.sum(x), np.mean(x), np.var(x))"
      ],
      "metadata": {
        "id": "5XudrBvNQSfX"
      },
      "execution_count": null,
      "outputs": []
    },
    {
      "cell_type": "markdown",
      "metadata": {
        "id": "Hd046TELUaLL"
      },
      "source": [
        "NumPy には他にも様々な機能がありますが，ここでは説明を省略します．"
      ]
    },
    {
      "cell_type": "markdown",
      "source": [
        "----\n",
        "### Matplotlib の初歩\n",
        "\n",
        "Matplotlib は，Python で様々なグラフを描くことができるパッケージです．NumPy の配列などのデータを可視化するのに便利です．\n",
        "\n",
        "すごく多機能なんですが，ここでは詳しい使い方は説明せず，ごく簡単な例を示すだけにとどめます．興味を持ったらいろいろ調べてみてください．"
      ],
      "metadata": {
        "id": "GnDOlahATb7-"
      }
    },
    {
      "cell_type": "code",
      "source": [
        "import matplotlib.pyplot as plt # matplotlib の pyplot モジュールを plt という名前でインポート"
      ],
      "metadata": {
        "id": "SargB9wASQ-a"
      },
      "execution_count": null,
      "outputs": []
    },
    {
      "cell_type": "code",
      "metadata": {
        "id": "yTWToKviUgKu"
      },
      "source": [
        "X = np.arange(0, 3.0, 0.1)  # 組み込み関数 range の numpy 版\n",
        "Y = X**2 # 要素ごとに二乗\n",
        "print(X, Y)"
      ],
      "execution_count": null,
      "outputs": []
    },
    {
      "cell_type": "code",
      "source": [
        "fig, ax = plt.subplots()  # 描画の準備\n",
        "ax.plot(X, Y)  # X を X座標の値，Y を Y座標の値として折れ線グラフを描く\n",
        "plt.show()"
      ],
      "metadata": {
        "id": "cOYEDlyhU_sV"
      },
      "execution_count": null,
      "outputs": []
    },
    {
      "cell_type": "code",
      "source": [
        "fig, ax = plt.subplots(1)\n",
        "ax.plot(X, Y, marker='o')\n",
        "ax.plot(X, np.sqrt(X), color='orange', marker='x')\n",
        "plt.show()"
      ],
      "metadata": {
        "id": "kV5TTJMXV2JP"
      },
      "execution_count": null,
      "outputs": []
    },
    {
      "cell_type": "markdown",
      "metadata": {
        "id": "4ZRJszs_XIIc"
      },
      "source": [
        "散布図やヒストグラムを描いたり他にもいろいろできますが，ここでは説明を省略します．"
      ]
    },
    {
      "cell_type": "markdown",
      "source": [
        "----\n",
        "### Pandas の初歩\n",
        "\n",
        "Pandas は，Python で様々なデータ分析を行うことができるパッケージです．\n",
        "\n",
        "すごく多機能なんですが，以下同文．"
      ],
      "metadata": {
        "id": "2Bo9RQLIXjKb"
      }
    },
    {
      "cell_type": "code",
      "source": [
        "import pandas as pd  # pandas モジュールを pd という名前でインポート"
      ],
      "metadata": {
        "id": "M-F5kxhCYYr-"
      },
      "execution_count": null,
      "outputs": []
    },
    {
      "cell_type": "markdown",
      "source": [
        "Pandas では， DataFrame （データフレーム）という構造に数値や文字列等様々なデータを格納して処理します．\n",
        "表計算ソフトのシートのように行・列にデータが並んだものをイメージすればよいでしょう．"
      ],
      "metadata": {
        "id": "o76qkjvjYuzT"
      }
    },
    {
      "cell_type": "code",
      "source": [
        "# 3科目の試験の点数5人分\n",
        "data = [[80,80,80], [82,58,65], [90,90,90], [85,66,63], [49,58,73]]\n",
        "df = pd.DataFrame(data) # data というリストのリストから DaraFrame を作成\n",
        "df"
      ],
      "metadata": {
        "id": "xOxLPaTgZrkD"
      },
      "execution_count": null,
      "outputs": []
    },
    {
      "cell_type": "code",
      "source": [
        "df = pd.DataFrame(data, columns=['数学', '物理', '情報']) # columnsオプションで列名を付けられる\n",
        "df"
      ],
      "metadata": {
        "id": "WHxDSLYbbGg7"
      },
      "execution_count": null,
      "outputs": []
    },
    {
      "cell_type": "markdown",
      "source": [
        "様々なデータ分析・統計計算の機能があります．"
      ],
      "metadata": {
        "id": "L3k5WBF0bxsA"
      }
    },
    {
      "cell_type": "code",
      "source": [
        "df.mean() # 平均"
      ],
      "metadata": {
        "id": "T4EdODTEbthP"
      },
      "execution_count": null,
      "outputs": []
    },
    {
      "cell_type": "code",
      "source": [
        "df.var() # 分散"
      ],
      "metadata": {
        "id": "towt7aM2cWNX"
      },
      "execution_count": null,
      "outputs": []
    },
    {
      "cell_type": "code",
      "source": [
        "df['数学'] # 数学列だけ抽出"
      ],
      "metadata": {
        "id": "llJk76s5bdFk"
      },
      "execution_count": null,
      "outputs": []
    },
    {
      "cell_type": "code",
      "source": [
        "df[df['物理'] >= 60] # 物理が60点以上のひとの点数を抽出"
      ],
      "metadata": {
        "id": "N8Hn-FCtccng"
      },
      "execution_count": null,
      "outputs": []
    },
    {
      "cell_type": "markdown",
      "source": [
        "DataFrameは NumPy の配列とみなして計算したり Matplotlib でグラフを描いたり（注）することも可能です．\n",
        "\n",
        "注: Pandas 自身にも Matplotlib を利用した描画機能がありますが，ここではその説明は省略します"
      ],
      "metadata": {
        "id": "aiNw6o9xc2pB"
      }
    },
    {
      "cell_type": "code",
      "source": [
        "np.mean(df['数学'])"
      ],
      "metadata": {
        "id": "877he2sDdfC3"
      },
      "execution_count": null,
      "outputs": []
    },
    {
      "cell_type": "code",
      "source": [
        "fig, ax = plt.subplots(1, figsize=(4, 4)) # グラフのサイズを縦横 4 と指定\n",
        "ax.scatter(df['数学'], df['物理'], marker='o')\n",
        "ax.set_xlim(0, 100) # X軸の範囲を指定\n",
        "ax.set_ylim(0, 100) # Y X軸の範囲を指定\n",
        "ax.set_xlabel('Math') # X 軸のラベル．日本語は文字化けする\n",
        "ax.set_ylabel('Physics')\n",
        "plt.show()"
      ],
      "metadata": {
        "id": "LbkTm2l5doQU"
      },
      "execution_count": null,
      "outputs": []
    },
    {
      "cell_type": "markdown",
      "source": [
        "Pandas の `read_csv` 関数を使うと，CSVファイル等を読み込んで DataFrame に格納することができます．"
      ],
      "metadata": {
        "id": "KVOWx5JNfLxG"
      }
    },
    {
      "cell_type": "code",
      "source": [
        "# read_csv の引数に URL を指定すると，ネットワーク越しに CSV ファイル等を読み込むことが可能\n",
        "dfMPI = pd.read_csv('https://www-tlab.math.ryukoku.ac.jp/~takataka/course/Data/ex06mpi.csv')\n",
        "dfMPI"
      ],
      "metadata": {
        "id": "FHawlWg2e9pP"
      },
      "execution_count": null,
      "outputs": []
    },
    {
      "cell_type": "code",
      "source": [
        "fig, ax = plt.subplots(1, figsize=(4, 4)) # グラフのサイズを縦横 4 と指定\n",
        "ax.scatter(dfMPI['数学'], dfMPI['物理'], marker='o')\n",
        "ax.set_xlim(0, 100)\n",
        "ax.set_ylim(0, 100)\n",
        "ax.set_xlabel('Math')\n",
        "ax.set_ylabel('Physics')\n",
        "plt.show()"
      ],
      "metadata": {
        "id": "prCJY-aUfkgs"
      },
      "execution_count": null,
      "outputs": []
    },
    {
      "cell_type": "markdown",
      "metadata": {
        "id": "oV9c8hEiPog9"
      },
      "source": [
        "----\n",
        "### 練習問題\n"
      ]
    },
    {
      "cell_type": "markdown",
      "source": [
        "(1) 以下に新しいセルを挿入して，dfMPIの「数学」，「物理」，「情報」それぞれの中央値を求めなさい．ただし，上記の説明をふまえて，Pandas で求める方法と NumPy の関数を使って列ごとに求める方法の両方を試すこと．中央値の求め方は調べてね．"
      ],
      "metadata": {
        "id": "WgmpmFN5hCQY"
      }
    },
    {
      "cell_type": "markdown",
      "metadata": {
        "id": "zdESGEqZjoPK"
      },
      "source": [
        "(2) 以下に新しいセルを挿入して，dfMPI の 「物理」対「情報」の散布図を描きなさい．"
      ]
    },
    {
      "cell_type": "markdown",
      "metadata": {
        "id": "14NAgpjuP_Gf"
      },
      "source": [
        "(3) 以下に新しいセルを挿入して，次のことをやりなさい\n",
        "\n",
        "1. https://www-tlab.math.ryukoku.ac.jp/~takataka/course/ML/gorigori.csv\n",
        "を読み込んで DataFrame を作る\n",
        "1. 「アイス売上数」を横軸，「気温」を縦軸として散布図を描く（授業の説明と縦横逆です）．横軸の範囲は $[0, 130]$ 縦軸の範囲は $[-5, 40]$ としてください．"
      ]
    },
    {
      "cell_type": "markdown",
      "source": [
        "---\n",
        "## 後編"
      ],
      "metadata": {
        "id": "fi2tSo4iFo3k"
      }
    },
    {
      "cell_type": "markdown",
      "metadata": {
        "id": "I5alDUgKF0ye"
      },
      "source": [
        "----\n",
        "### NumPy でベクトルや行列を扱う\n",
        "\n",
        "NumPy でベクトルや行列を扱う方法を説明します．"
      ]
    },
    {
      "cell_type": "markdown",
      "source": [
        "#### 一次元配列・ベクトル"
      ],
      "metadata": {
        "id": "VVx8EHvvfs_z"
      }
    },
    {
      "cell_type": "markdown",
      "metadata": {
        "id": "4esajCAxF0yf"
      },
      "source": [
        "一次元の配列（`np.array`）の話の復習から．"
      ]
    },
    {
      "cell_type": "code",
      "source": [
        "x = np.arange(1, 6)  # 5つの要素から成る配列\n",
        "print(x)\n",
        "print(x.shape) # 配列 x の shape（形）．要素数 5 のベクトル（一次元配列）であることがわかる"
      ],
      "metadata": {
        "id": "IB-8iz3tF0yf"
      },
      "execution_count": null,
      "outputs": []
    },
    {
      "cell_type": "code",
      "source": [
        "y = np.array([1, 2, np.pi, 4, 5]) # 浮動小数点数の配列． np.pi は円周率\n",
        "print(y)\n",
        "print(y.shape)"
      ],
      "metadata": {
        "id": "MoWfl_G-F0yf"
      },
      "execution_count": null,
      "outputs": []
    },
    {
      "cell_type": "markdown",
      "source": [
        "上記の `x` と `y` はいずれも要素数が 5 の一次元配列です．次のような演算ができるのでした．"
      ],
      "metadata": {
        "id": "RVz7u1H5F0yf"
      }
    },
    {
      "cell_type": "code",
      "source": [
        "x2 = x + 2\n",
        "print(x2)"
      ],
      "metadata": {
        "id": "WWPU7ci-F0yf"
      },
      "execution_count": null,
      "outputs": []
    },
    {
      "cell_type": "code",
      "metadata": {
        "id": "GXh-TVJmF0yf"
      },
      "source": [
        "z = x + y\n",
        "print(z)"
      ],
      "execution_count": null,
      "outputs": []
    },
    {
      "cell_type": "markdown",
      "source": [
        "C言語の配列と同じように要素を取り出すこともできます．"
      ],
      "metadata": {
        "id": "b1e9fQhQSqJP"
      }
    },
    {
      "cell_type": "code",
      "source": [
        "x[2]"
      ],
      "metadata": {
        "id": "W13MByCPSxyQ"
      },
      "execution_count": null,
      "outputs": []
    },
    {
      "cell_type": "markdown",
      "source": [
        "要素番号を指定している `[ ]` の中には，スライスも書けます．"
      ],
      "metadata": {
        "id": "VeUfAmizS4KH"
      }
    },
    {
      "cell_type": "code",
      "source": [
        "y[1:4]"
      ],
      "metadata": {
        "id": "dmi-vbUQT8uv"
      },
      "execution_count": null,
      "outputs": []
    },
    {
      "cell_type": "markdown",
      "source": [
        "ここで作った変数 `x` と `y` はいずれも要素数 5 の一次元配列ですので，5次元のベクトルとみなすことができます． `@` 演算子を使うと，二つのベクトル同士の内積を計算させることができます．"
      ],
      "metadata": {
        "id": "HL4EKSdmUbkh"
      }
    },
    {
      "cell_type": "code",
      "source": [
        "x @ y"
      ],
      "metadata": {
        "id": "ozn-AAuVUx8B"
      },
      "execution_count": null,
      "outputs": []
    },
    {
      "cell_type": "markdown",
      "source": [
        "$\\mathbf{x} = (x_1, x_2, \\dots, x_{D})$ および $\\mathbf{y} = (y_1, y_2, \\dots, y_{D})$ のとき，$\\mathbf{x}$ と $\\mathbf{y}$ の内積 $\\mathbf{x}\\cdot\\mathbf{y}$ は\n",
        "\n",
        "$$\n",
        "\\mathbf{x}\\cdot\\mathbf{y} = \\sum_{d=1}^{D} x_dy_d\n",
        "$$\n",
        "\n",
        "です．"
      ],
      "metadata": {
        "id": "4SUp89nrU1fE"
      }
    },
    {
      "cell_type": "markdown",
      "source": [
        "一方，`*`演算子を使うと，同じ要素数の配列の同じ場所の値同士の積を計算することになります．`@`演算子による内積の計算と違って結果は元の配列と同じ要素数の配列です．"
      ],
      "metadata": {
        "id": "LyprNRe1fHxV"
      }
    },
    {
      "cell_type": "code",
      "source": [
        "x * y"
      ],
      "metadata": {
        "id": "OOdA75ojfYjv"
      },
      "execution_count": null,
      "outputs": []
    },
    {
      "cell_type": "markdown",
      "source": [
        "#### 二次元配列・行列"
      ],
      "metadata": {
        "id": "sJLdeMj9f6av"
      }
    },
    {
      "cell_type": "markdown",
      "source": [
        "`np.array` にリストのリストを渡すと，二次元配列（=行列）を作ることができます．\n"
      ],
      "metadata": {
        "id": "Tkp0JeiTF0yg"
      }
    },
    {
      "cell_type": "code",
      "source": [
        "A = np.array( [[0, 1, 2], [3, 4, 5]]) # 2行3列の行列\n",
        "print(A)\n",
        "print(A.shape) # 配列 A の shape（形）． 2x3 行列であることがわかる"
      ],
      "metadata": {
        "id": "i8Ujfa6IF0yg"
      },
      "execution_count": null,
      "outputs": []
    },
    {
      "cell_type": "markdown",
      "source": [
        "`reshape` というメソッドを使うと配列の形を変えることができるので，これを利用して作る手もあります．"
      ],
      "metadata": {
        "id": "Ba95Es5VXAVc"
      }
    },
    {
      "cell_type": "code",
      "source": [
        "b = np.arange(6)  # b は要素数 6 の一次元配列\n",
        "print(b)\n",
        "B = b.reshape((3, 2)) # B は b を (3, 2) の shape で見たもの\n",
        "print(B)\n",
        "print(B.shape)"
      ],
      "metadata": {
        "id": "m4uFc-TyXQ-3"
      },
      "execution_count": null,
      "outputs": []
    },
    {
      "cell_type": "markdown",
      "source": [
        "ここで，`b` と `B` は見た目は別物ですが，要素は同じものです（同じ記憶領域を共有している，という言い方もできます）．そのため，次のようなことになります．"
      ],
      "metadata": {
        "id": "Vr-uKvklXmtL"
      }
    },
    {
      "cell_type": "code",
      "source": [
        "b[3] = 5963  # b の一つの値を変更\n",
        "print(b) \n",
        "print(B)  # B の方は変更してないが..."
      ],
      "metadata": {
        "id": "J6caMG96X4ji"
      },
      "execution_count": null,
      "outputs": []
    },
    {
      "cell_type": "markdown",
      "source": [
        "変数`A` が表す $2\\times 3$ 行列を $A$，変数`B` が表す $3\\times 2$ 行列を $B$ とおくと，これら二つの積 $AB$ は $2\\times 2$ 行列となります．次のように `@` 演算子を使って行列の積が計算できます．"
      ],
      "metadata": {
        "id": "k-2RBCY3aGY-"
      }
    },
    {
      "cell_type": "code",
      "source": [
        "print(A @ B)"
      ],
      "metadata": {
        "id": "vDKfdwqdZEIY"
      },
      "execution_count": null,
      "outputs": []
    },
    {
      "cell_type": "markdown",
      "source": [
        "同様に積 $BA$ も計算できます．結果は $3\\times 3$行列．"
      ],
      "metadata": {
        "id": "aUOFwuEnacSr"
      }
    },
    {
      "cell_type": "code",
      "source": [
        "print(B @ A)"
      ],
      "metadata": {
        "id": "M82PLuoEa6cc"
      },
      "execution_count": null,
      "outputs": []
    },
    {
      "cell_type": "markdown",
      "source": [
        "`A.T` は `A` の転置行列．つまり，$A^{\\top}$．"
      ],
      "metadata": {
        "id": "-g05Uu1HcDcB"
      }
    },
    {
      "cell_type": "code",
      "source": [
        "At = A.T\n",
        "print(At, At.shape)"
      ],
      "metadata": {
        "id": "Xjm-IH5rcO8C"
      },
      "execution_count": null,
      "outputs": []
    },
    {
      "cell_type": "markdown",
      "source": [
        "一次元配列の場合と同様に，`*`は要素ごとの積を求める演算子です．"
      ],
      "metadata": {
        "id": "mGpoT3KFgC2g"
      }
    },
    {
      "cell_type": "code",
      "source": [
        "hoge = np.arange(4)\n",
        "C = hoge.reshape((2, 2))\n",
        "print(C)\n",
        "print(C @ C) # 行列 C と C の積，つまり C の二乗\n",
        "print(C * C) # C の要素ごとの二乗"
      ],
      "metadata": {
        "id": "ta_58FVKgOzs"
      },
      "execution_count": null,
      "outputs": []
    },
    {
      "cell_type": "markdown",
      "metadata": {
        "id": "_e5DouzbF0yg"
      },
      "source": [
        "一次元配列の場合と同様に，`[ ]`の中に要素番号を指定することで要素の値を参照したり値を代入したりできます．"
      ]
    },
    {
      "cell_type": "code",
      "source": [
        "print(A)\n",
        "print(A[1, 2]) # 0から数えて1行目，0から数えて2列目"
      ],
      "metadata": {
        "id": "N_LP0oPlhK2n"
      },
      "execution_count": null,
      "outputs": []
    },
    {
      "cell_type": "markdown",
      "source": [
        "スライスも使えます．"
      ],
      "metadata": {
        "id": "NGsrkQe3hh40"
      }
    },
    {
      "cell_type": "code",
      "source": [
        "print(A[1, :2]) # 1行目の0列目と1列目のみ取り出した配列"
      ],
      "metadata": {
        "id": "IMHmGMbghj5I"
      },
      "execution_count": null,
      "outputs": []
    },
    {
      "cell_type": "code",
      "source": [
        "print(A[:, 1])  # 全ての行の1列目のみ取り出した配列"
      ],
      "metadata": {
        "id": "VjuT4j1lh48l"
      },
      "execution_count": null,
      "outputs": []
    },
    {
      "cell_type": "code",
      "source": [
        "print(A[:, 1:])"
      ],
      "metadata": {
        "id": "1KdrKtDtlRf2"
      },
      "execution_count": null,
      "outputs": []
    },
    {
      "cell_type": "markdown",
      "source": [
        "---\n",
        "### 練習問題\n",
        "\n",
        "「ゴリゴリ君」のデータの説明変数と被説明変数を入れ替えたもので直線当てはめをやってみましょう．"
      ],
      "metadata": {
        "id": "9zWfbeDRHGNC"
      }
    },
    {
      "cell_type": "markdown",
      "source": [
        "(1) 前編の練習問題で読み込んだ DataFrame からデータを取り出して，正規方程式の左辺の 2x2 行列（変数名を `XTX` としよう）と右辺のベクトル（変数名を `XTY`）を求め，その値を print するコードを書きなさい．"
      ],
      "metadata": {
        "id": "rvI52A1AIqBk"
      }
    },
    {
      "cell_type": "code",
      "source": [],
      "metadata": {
        "id": "IyWTOztUHHSm"
      },
      "execution_count": null,
      "outputs": []
    },
    {
      "cell_type": "markdown",
      "source": [
        "(2) 正規方程式を解いて直線のパラメータ a, b を求め，その値を print するコードを書きなさい．"
      ],
      "metadata": {
        "id": "gvGKQvbiJD4t"
      }
    },
    {
      "cell_type": "code",
      "source": [],
      "metadata": {
        "id": "VoXSGh7jJQQf"
      },
      "execution_count": null,
      "outputs": []
    },
    {
      "cell_type": "markdown",
      "source": [
        "(3) 得られたパラメータを用いてアイス売上数が 50 個，100個のときの気温の予測値を計算するコードを書きなさい．"
      ],
      "metadata": {
        "id": "7aGz4_bUJZcR"
      }
    },
    {
      "cell_type": "markdown",
      "source": [
        "(4) 「アイス売上数」vs「気温」の散布図に得られた直線を重ねたグラフを描きなさい．"
      ],
      "metadata": {
        "id": "g5O66Ck3Jw25"
      }
    },
    {
      "cell_type": "code",
      "source": [],
      "metadata": {
        "id": "6MHIhROkJa_K"
      },
      "execution_count": null,
      "outputs": []
    }
  ]
}