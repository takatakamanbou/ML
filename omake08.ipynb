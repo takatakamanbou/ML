{
  "cells": [
    {
      "cell_type": "markdown",
      "metadata": {
        "id": "view-in-github",
        "colab_type": "text"
      },
      "source": [
        "<a href=\"https://colab.research.google.com/github/takatakamanbou/ML/blob/main/omake08.ipynb\" target=\"_parent\"><img src=\"https://colab.research.google.com/assets/colab-badge.svg\" alt=\"Open In Colab\"/></a>"
      ]
    },
    {
      "cell_type": "markdown",
      "metadata": {
        "id": "2UzDNLmVS3po"
      },
      "source": [
        "# ML omake08\n",
        "\n",
        "<img width=72 src=\"https://www-tlab.math.ryukoku.ac.jp/~takataka/course/ML/ML-logo.png\"> [この授業のウェブページ](https://www-tlab.math.ryukoku.ac.jp/wiki/?ML/2022)\n"
      ]
    },
    {
      "cell_type": "code",
      "source": [
        "# 準備あれこれ\n",
        "import numpy as np\n",
        "import matplotlib.pyplot as plt\n",
        "import pandas as pd\n",
        "import seaborn\n",
        "seaborn.set()"
      ],
      "metadata": {
        "id": "Uba-rqwa906l"
      },
      "execution_count": null,
      "outputs": []
    },
    {
      "cell_type": "markdown",
      "metadata": {
        "id": "_WXvQDHGjLD8"
      },
      "source": [
        "----\n",
        "## 外食年間支出金額データの K-means クラスタリング\n",
        "----\n",
        "\n",
        "授業の notebook でも扱っている都道府県ごとの外食への年間支出金額のデータをクラスタリングして分析してみましょう．"
      ]
    },
    {
      "cell_type": "markdown",
      "source": [
        "\n",
        "\n",
        "ここで使うのは，独立行政法人統計センターが作成している [教育用標準データセット(SSDSE)](https://www.nstac.go.jp/use/literacy/ssdse/) の中の「SSDSE-家計消費」というデータです．「SSDSE-家計消費」は，47都道府県の県庁所在市で調査された家計消費に関する226項目の数値から成るデータです．「二人以上の世帯の1世帯あたりの焼き肉（外食）への年間支出金額」みたいな数値が含まれています．\n",
        "\n",
        "データの詳細はこちら: https://www.nstac.go.jp/sys/files//kaisetsu-C-2022.pdf\n",
        "\n",
        "この notebook の作成にあたっては，データの前処理の部分でこちらを参考にさせていただきました： https://studiolab.sagemaker.aws/import/github/icoxfog417/mlnote-note/blob/main/notebooks/chapter10_answer.ipynb"
      ],
      "metadata": {
        "id": "J4wCogNrnmPQ"
      }
    },
    {
      "cell_type": "markdown",
      "source": [
        "#### データの入手と前処理"
      ],
      "metadata": {
        "id": "0NkyvcrxUsTp"
      }
    },
    {
      "cell_type": "markdown",
      "source": [
        "SSDSEのサイトから CSV ファイルを入手して，扱いやすいように加工します．\n",
        "\n"
      ],
      "metadata": {
        "id": "m_05KKmfwFQ_"
      }
    },
    {
      "cell_type": "code",
      "source": [
        "URL = 'https://www.nstac.go.jp/sys/files//SSDSE-C-2022.csv'\n",
        "df_raw = pd.read_csv(URL, encoding='cp932') # 文字コードが UTF8 ではなく ShiftJIS なので，encoding オプションを指定して変換\n",
        "\n",
        "# df_raw の見出し行に記されたコードと，1行目に記されたその項目名との対応表を作り，項目名の行を削除\n",
        "code = df_raw.iloc[0, :]\n",
        "print('##### コードと項目名の対応')\n",
        "print(code)\n",
        "df = df_raw.drop(0, axis=0)\n",
        "\n",
        "# 'SSDSE-C-2022'列の都市コードと'Prefecture'列の都道府県名，'City'列の県庁所在地名を整理\n",
        "city = df.iloc[:, :3]\n",
        "city = city.drop(1, axis=0)\n",
        "city['n'] = np.arange(47, dtype=int)\n",
        "city = city.set_index('n')\n",
        "\n",
        "print()\n",
        "print('##### 都市コード，都道府県名，県庁所在地名')\n",
        "print(city.head(5))\n",
        "df = df.drop(['Prefecture', 'City'], axis=1)\n",
        "df = df.set_index('SSDSE-C-2022')\n",
        "\n",
        "df = df.drop('R00000', axis=0) # 'R00000'列は「全国」のデータなのでこれを削除\n",
        "df = df.astype('float32') # 値を浮動小数点型に変換\n",
        "\n",
        "print()\n",
        "df.head(5)"
      ],
      "metadata": {
        "id": "UwLv78SznSlx"
      },
      "execution_count": null,
      "outputs": []
    },
    {
      "cell_type": "markdown",
      "source": [
        "ここでは，各種の「外食」での支出金額のみを特徴として取り出します．13個の特徴量があります．"
      ],
      "metadata": {
        "id": "BawnvZ0ToDKd"
      }
    },
    {
      "cell_type": "code",
      "source": [
        "# 一人あたりの外食支出金額のデータを作成\n",
        "df_feature = pd.DataFrame()\n",
        "\n",
        "# コードが 'LB12' で始まる列が，様々な品目の外食支出額．ただし，1世帯あたりの金額\n",
        "columns = {}\n",
        "for c in df.columns:\n",
        "    if c.startswith('LB12') and c != 'LB12':\n",
        "        print(c, code[c])\n",
        "        columns[c] = code[c]\n",
        "        df_feature[c] = df[c]\n",
        "\n",
        "# 列名をコードから項目名に変更\n",
        "df_feature = df_feature.rename(columns=columns)\n",
        "\n",
        "# 都道府県ごとの平均世帯人数で割って一人あたりの金額にする\n",
        "df_feature = df_feature.divide(df['LA03'], axis=0)\n",
        "\n",
        "# DataFrame 表示時の小数部の表示桁数\n",
        "pd.options.display.precision = 1\n",
        "\n",
        "df_feature.head(5)"
      ],
      "metadata": {
        "id": "HSh2_B25oXBP"
      },
      "execution_count": null,
      "outputs": []
    },
    {
      "cell_type": "markdown",
      "source": [
        "---\n",
        "#### K-means クラスタリングしてみよう\n",
        "\n"
      ],
      "metadata": {
        "id": "3Y6cgkmtJ4Hy"
      }
    },
    {
      "cell_type": "markdown",
      "source": [
        "ここでは，scikit-learn の KMeans クラスを使ってクラスタリングしてみましょう．\n",
        "\n",
        "https://scikit-learn.org/stable/modules/generated/sklearn.cluster.KMeans.html\n",
        "\n",
        "次のセルを実行すると，クラスタ数を `K` とする `KMeans` のインスタンスを生成します．\n"
      ],
      "metadata": {
        "id": "FkObEobEYE3Y"
      }
    },
    {
      "cell_type": "code",
      "source": [
        "from sklearn.cluster import KMeans\n",
        "K = 3\n",
        "\n",
        "# KMeans クラスのインスタンスの生成．クラスタ数は K．verbose=1とすると，学習途中のログを表示させられる\n",
        "model = KMeans(n_clusters=K, verbose=1)"
      ],
      "metadata": {
        "id": "5gRUgQ80wbPO"
      },
      "execution_count": null,
      "outputs": []
    },
    {
      "cell_type": "markdown",
      "source": [
        "次に， `KMeans` クラスの学習メソッド に `df_feature` を渡して呼べば， K-means 法の学習が実行されます．`df_feature` は pandas の DataFrame ですが，scikit-learn は NumPy の array と同様に DataFrame も扱えます．\n",
        "\n",
        "学習の後，クラスタラベルを予測するメソッドを呼べば，どのデータがどのクラスタに分類されたかを出力させることができます．\n",
        "\n",
        "以下のセルにコードを書いてみましょう．必要ならコードセルを適当に追加してね．"
      ],
      "metadata": {
        "id": "hm93Gwo6z2wz"
      }
    },
    {
      "cell_type": "code",
      "source": [
        ""
      ],
      "metadata": {
        "id": "XR_sh_H00084"
      },
      "execution_count": null,
      "outputs": []
    },
    {
      "cell_type": "markdown",
      "source": [
        "どの都道府県がどのクラスタに入ったか調べたり，セントロイドの値を表示させたりしてみてね．`K` の値も変えてみよう．\n",
        "\n",
        "クラスタリング結果を確認するときは，次のセルの変数 `y` にクラスタリングで得られたラベルの値を代入してやるとよいでしょう．"
      ],
      "metadata": {
        "id": "KLsDu1e70-qm"
      }
    },
    {
      "cell_type": "code",
      "source": [
        "y = np.arange(1, 48, dtype=int)\n",
        "city['label'] = y\n",
        "city"
      ],
      "metadata": {
        "id": "sDZrwaxvxgGN"
      },
      "execution_count": null,
      "outputs": []
    },
    {
      "cell_type": "code",
      "source": [
        ""
      ],
      "metadata": {
        "id": "_hQl-DHrxrS6"
      },
      "execution_count": null,
      "outputs": []
    }
  ],
  "metadata": {
    "colab": {
      "collapsed_sections": [],
      "name": "omake08.ipynb",
      "provenance": [],
      "toc_visible": true,
      "include_colab_link": true
    },
    "kernelspec": {
      "display_name": "Python 3",
      "name": "python3"
    },
    "language_info": {
      "codemirror_mode": {
        "name": "ipython",
        "version": 3
      },
      "file_extension": ".py",
      "mimetype": "text/x-python",
      "name": "python",
      "nbconvert_exporter": "python",
      "pygments_lexer": "ipython3",
      "version": "3.9.7"
    }
  },
  "nbformat": 4,
  "nbformat_minor": 0
}