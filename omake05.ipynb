{
  "nbformat": 4,
  "nbformat_minor": 0,
  "metadata": {
    "colab": {
      "provenance": [],
      "toc_visible": true,
      "authorship_tag": "ABX9TyPiDh7jPOXRG0QtzfKSuFGN",
      "include_colab_link": true
    },
    "kernelspec": {
      "name": "python3",
      "display_name": "Python 3"
    }
  },
  "cells": [
    {
      "cell_type": "markdown",
      "metadata": {
        "id": "view-in-github",
        "colab_type": "text"
      },
      "source": [
        "<a href=\"https://colab.research.google.com/github/takatakamanbou/ML/blob/2023/omake05.ipynb\" target=\"_parent\"><img src=\"https://colab.research.google.com/assets/colab-badge.svg\" alt=\"Open In Colab\"/></a>"
      ]
    },
    {
      "cell_type": "markdown",
      "metadata": {
        "id": "2UzDNLmVS3po"
      },
      "source": [
        "# ML omake05\n",
        "\n",
        "<img width=64 src=\"https://www-tlab.math.ryukoku.ac.jp/~takataka/course/ML/ML-logo.png\">\n"
      ]
    },
    {
      "cell_type": "markdown",
      "metadata": {
        "id": "_4-TmUdCd9FJ"
      },
      "source": [
        "----\n",
        "# K-平均法の画像データ圧縮への応用\n",
        "----\n",
        "\n",
        "以前，画像の画素値を $K$-平均法でクラスタリングして減色する実験を行いました．\n",
        "このような減色を行うと，画像のデータ量を削減することができます．\n",
        "一般的な画像の画素値は，RGBそれぞれの値が $0$ から $255$ の整数で表されるので，$8 \\times 3 = 24$ bitのデータ量があります．これを仮に $64$ 色に減色したとすると，$64 = 2^6$ より一つの画素を $6$ bit で表せます．つまり，$64$色に減色すると画像全体のデータ量を $1/4$ にできます．\n",
        "\n",
        "このおまけ課題では，一つの画素の単位ではなく画像の小さな領域をひとまとめに扱ってクラスタリングしてみます．\n",
        "例えば，画像を縦横8画素の小さいブロックに分割して，その単位でクラスタリングする，というようなことです．一つの画素の単位の場合，クラスタリングの対象となるデータは$3$次元でしたが，8x8画素のブロックの場合は$8\\times 8 \\times 3 = 192$ 次元となります．\n",
        "どんな結果が得られるか，やってみましょう．"
      ]
    },
    {
      "cell_type": "markdown",
      "source": [
        "---\n",
        "## 準備\n",
        "\n",
        "画像をブロックに分割したりする処理は，こちらで用意した関数使って楽をしてもらうことにします．"
      ],
      "metadata": {
        "id": "wBBee1N-IGx-"
      }
    },
    {
      "cell_type": "code",
      "source": [
        "# 準備あれこれ\n",
        "import numpy as np\n",
        "import matplotlib.pyplot as plt\n",
        "import pandas as pd\n",
        "import seaborn\n",
        "seaborn.set()\n",
        "\n",
        "# コンピュータビジョンライブラリ OpenCV\n",
        "import cv2"
      ],
      "metadata": {
        "id": "KfCLYf4qIIip"
      },
      "execution_count": null,
      "outputs": []
    },
    {
      "cell_type": "code",
      "source": [
        "# Colab へのファイルアップロードを実行する関数\n",
        "#\n",
        "def uploadToColab():\n",
        "    try:\n",
        "        from google.colab import files\n",
        "        rv = files.upload()\n",
        "    except:\n",
        "        print('このコードは Colab 以外の環境では実行できないよ．')\n"
      ],
      "metadata": {
        "id": "0QHnD95pgygb"
      },
      "execution_count": null,
      "outputs": []
    },
    {
      "cell_type": "code",
      "source": [
        "# OpenCVの形式の画像を表示する関数\n",
        "#\n",
        "def imshow(img):\n",
        "    try:\n",
        "        from google.colab.patches import cv2_imshow\n",
        "        cv2_imshow(img) # Colab上で実行している場合\n",
        "    except:\n",
        "        cv2.imshow(img)  # それ以外の場合"
      ],
      "metadata": {
        "id": "91zm7q2AiSC7"
      },
      "execution_count": null,
      "outputs": []
    },
    {
      "cell_type": "code",
      "source": [
        "### 画像を bsize x bsize のブロックに分割する関数\n",
        "#\n",
        "def image2blocks(img, bsize):\n",
        "\n",
        "    assert img.ndim == 3 and img.shape[2] == 3, 'img の shape がおかしい？？'\n",
        "\n",
        "    # 画像サイズが bsize の整数倍になるよう端を切り捨てる\n",
        "    h, w = img.shape[:2]\n",
        "    ny, nx = h//bsize, w//bsize\n",
        "    h2, w2 = ny*bsize, nx*bsize\n",
        "    img2 = img[:h2, :w2]\n",
        "\n",
        "    # ブロック切り出し\n",
        "    blocks = np.empty((ny, nx, bsize*bsize*3), dtype=img2.dtype)\n",
        "    for iy in range(ny):\n",
        "        for ix in range(nx):\n",
        "            blocks[iy, ix, :] = img2[iy*bsize:(iy+1)*bsize, ix*bsize:(ix+1)*bsize, :].reshape(-1)\n",
        "\n",
        "    return blocks\n"
      ],
      "metadata": {
        "id": "evaNg_Hcrl3L"
      },
      "execution_count": null,
      "outputs": []
    },
    {
      "cell_type": "code",
      "source": [
        "### ブロックから画像を復元する関数\n",
        "#\n",
        "def blocks2image(blocks, bsize):\n",
        "\n",
        "    assert blocks.ndim == 3 and blocks.shape[2] == bsize*bsize*3, 'blocks の shape がおかしい？'\n",
        "\n",
        "    ny, nx = blocks.shape[:2]\n",
        "    img = np.empty((ny*bsize, nx*bsize, 3), dtype=blocks.dtype)\n",
        "\n",
        "    # ブロックから画像へ\n",
        "    for iy in range(ny):\n",
        "        for ix in range(nx):\n",
        "            img[iy*bsize:(iy+1)*bsize, ix*bsize:(ix+1)*bsize, :] = blocks[iy, ix, :].reshape((bsize, bsize, -1))\n",
        "\n",
        "    return img\n"
      ],
      "metadata": {
        "id": "Bwd5JMSYt0Vi"
      },
      "execution_count": null,
      "outputs": []
    },
    {
      "cell_type": "code",
      "source": [
        "#####  セントロイドを可視化する関数\n",
        "#\n",
        "def displayCentroid(ax, centroid, nx, ny, bsize, gap=1):\n",
        "\n",
        "    assert centroid.ndim == 2 and centroid.shape[1] == bsize*bsize*3\n",
        "\n",
        "    # 並べた画像の幅と高さ\n",
        "    width  = nx * (bsize + gap) + gap\n",
        "    height = ny * (bsize + gap) + gap\n",
        "\n",
        "    # 画像の作成\n",
        "    img = np.zeros((height, width, 3), dtype=np.uint8) + 128\n",
        "    for iy in range(ny):\n",
        "        lty = iy*(bsize + gap) + gap\n",
        "        for ix in range(nx):\n",
        "            if iy*nx+ix >= centroid.shape[0]:\n",
        "                break\n",
        "            ltx = ix*(bsize + gap) + gap\n",
        "            img[lty:lty+bsize, ltx:ltx+bsize, :] = centroid[iy*nx+ix, :].reshape((bsize, bsize, 3))\n",
        "\n",
        "    # centroid は OpenCV 形式（画素値がBGRの順）を想定してるが，matplotlib は RGB の順なので変換\n",
        "    img2 = cv2.cvtColor(img, cv2.COLOR_BGR2RGB)\n",
        "\n",
        "    # 表示\n",
        "    ax.axis('off')\n",
        "    ax.imshow(img2)"
      ],
      "metadata": {
        "id": "lPtBb01s4sWo"
      },
      "execution_count": null,
      "outputs": []
    },
    {
      "cell_type": "markdown",
      "source": [
        "---\n",
        "## 実験0\n",
        "\n",
        "上記の関数の使い方を理解するために，簡単な実験を．"
      ],
      "metadata": {
        "id": "lAosLbuiIjQz"
      }
    },
    {
      "cell_type": "code",
      "source": [
        "# お試し用画像\n",
        "! wget -nc https://www-tlab.math.ryukoku.ac.jp/~takataka/course/ML/uni3.png"
      ],
      "metadata": {
        "id": "ahb_yGO9IZvT"
      },
      "execution_count": null,
      "outputs": []
    },
    {
      "cell_type": "code",
      "source": [
        "# 画像を読み込んで表示\n",
        "img = cv2.imread('uni3.png')\n",
        "assert img.ndim == 3 and img.shape[2] == 3 # 3チャンネルカラー画像のみ扱えます\n",
        "imshow(img)"
      ],
      "metadata": {
        "id": "AwMPac7PIcB3"
      },
      "execution_count": null,
      "outputs": []
    },
    {
      "cell_type": "code",
      "source": [
        "print('img.shape:', img.shape)\n",
        "\n",
        "# bsize x bsize にブロック分割\n",
        "bsize = 8\n",
        "X = image2blocks(img, bsize)\n",
        "print('X.shape:', X.shape)\n",
        "\n",
        "# データ数 x 次元数 の2次元配列に reshape\n",
        "XX = X.reshape((-1, bsize*bsize*3))\n",
        "print('XX.shape:', XX.shape)\n",
        "\n",
        "# XX と同じ形，型の配列つくる\n",
        "YY = np.empty_like(XX)\n",
        "print('YY.shape:', XX.shape)\n",
        "\n",
        "# XX の行ごとに列方向の平均値をもとめてそれを YY の同じ場所に代入\n",
        "for n in range(XX.shape[0]):\n",
        "    YY[n, :] = int(np.mean(XX[n, :]) + 0.5) # 平均値は浮動小数点数なので四捨五入して代入\n",
        "\n",
        "# YY を X と同じ shape にする\n",
        "Y = YY.reshape(X.shape)\n",
        "print('Y.shape:', Y.shape)\n",
        "\n",
        "# Y を画像の形に\n",
        "imgY = blocks2image(Y, bsize)\n",
        "print('imgY.shape:', imgY.shape)\n",
        "\n",
        "# 画像として表示\n",
        "imshow(imgY)"
      ],
      "metadata": {
        "id": "wpd81jifJSyd"
      },
      "execution_count": null,
      "outputs": []
    },
    {
      "cell_type": "markdown",
      "source": [
        "上のコードセルを実行すると，$8\\times 8$ のブロックごとにその中の画素値の平均を求め，それをブロック内のすべての位置に代入した画像が得られます．RGB全てに同じ値が代入されるので，グレイスケール画像に見えるはずです．\n",
        "\n",
        "`img`, `X`, `XX` 等の shape がどうなっているか確かめて，何をやっているのか理解しましょう．"
      ],
      "metadata": {
        "id": "Z8t7w4LHL4xS"
      }
    },
    {
      "cell_type": "markdown",
      "source": [
        "---\n",
        "## 実験1\n",
        "\n",
        "上記の関数たちを利用して，自分で用意した画像を $8\\times 8$ ブロックで $K$-means クラスタリングし，各ブロックを対応するセントロイドに置き換えた画像を作る実験をしましょう．\n",
        "\n"
      ],
      "metadata": {
        "id": "GY8e9n0hMatI"
      }
    },
    {
      "cell_type": "code",
      "source": [
        "# Colab へファイルをアップロード\n",
        "uploadToColab()\n",
        "\n",
        "# ls コマンドでファイルを一覧\n",
        "! ls"
      ],
      "metadata": {
        "id": "GhXbtuiLJr0K"
      },
      "execution_count": null,
      "outputs": []
    },
    {
      "cell_type": "code",
      "source": [
        "# 画像を読み込む．`uni3.png` を自分がアップロードしたファイルの名前に修正\n",
        "img = cv2.imread('uni3.png')\n",
        "assert img.ndim == 3 and img.shape[2] == 3 # 3チャンネルカラー画像のみ扱えます\n",
        "imshow(img)\n",
        "print('img.shape:', img.shape)"
      ],
      "metadata": {
        "id": "-1Umw8HCNny9"
      },
      "execution_count": null,
      "outputs": []
    },
    {
      "cell_type": "markdown",
      "source": [
        "以下にコードを書きましょう．\n",
        "\n",
        "実験0のコードの `# XX の行ごとに列方向の平均値をもとめてそれを YY の同じ場所に代入` の部分を書き換えて，次のような処理をさせることになります．\n",
        "\n",
        "1. `XX` を学習データとして K-means クラスタリングの学習を行う\n",
        "1. セントロイドを得る\n",
        "1. `XX` の行ごとにラベル（セントロイドの番号）を得る\n",
        "1. `YY` の各行に対応するセントロイドの値を代入する\n",
        "\n",
        "K-means クラスタリングは，機械学習ライブラリ [scikit-learn](https://scikit-learn.org/) の [sklearn.cluster.KMeans](https://scikit-learn.org/stable/modules/generated/sklearn.cluster.KMeans.html) を使ってやるのがよいでしょう．\n",
        "画像の減色のコードも参考にしたらよいかもしれません．"
      ],
      "metadata": {
        "id": "AWAfbwXwOdUm"
      }
    },
    {
      "cell_type": "code",
      "source": [
        "\n",
        "\n"
      ],
      "metadata": {
        "id": "eR55XzbgNv_g"
      },
      "execution_count": null,
      "outputs": []
    },
    {
      "cell_type": "markdown",
      "source": [
        "セントロイドの値が `centroid` という名前で `(クラスタ数, 次元数)` という shape をもつ2次元配列に格納されているときに次のコードセルを実行すると，セントロイド（のうち先頭の100個）の値を可視化することができます．"
      ],
      "metadata": {
        "id": "d4tEpEnrQ3lf"
      }
    },
    {
      "cell_type": "code",
      "source": [
        "fig, ax = plt.subplots(figsize=(8, 8))\n",
        "displayCentroid(ax, centroid, 10, 10, bsize)\n",
        "plt.show()"
      ],
      "metadata": {
        "id": "y2CzKcbMQ0W3"
      },
      "execution_count": null,
      "outputs": []
    },
    {
      "cell_type": "markdown",
      "source": [
        "`bsize = 8` で `K = 256` の場合，画像データは何分の一に圧縮することになるでしょうか？"
      ],
      "metadata": {
        "id": "kGvoxCP4ScMJ"
      }
    },
    {
      "cell_type": "code",
      "source": [],
      "metadata": {
        "id": "j5WUkTF1RbUI"
      },
      "execution_count": null,
      "outputs": []
    }
  ]
}