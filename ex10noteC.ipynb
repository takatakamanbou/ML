{
  "cells": [
    {
      "cell_type": "markdown",
      "metadata": {
        "id": "view-in-github",
        "colab_type": "text"
      },
      "source": [
        "<a href=\"https://colab.research.google.com/github/takatakamanbou/ML/blob/main/ex10noteC.ipynb\" target=\"_parent\"><img src=\"https://colab.research.google.com/assets/colab-badge.svg\" alt=\"Open In Colab\"/></a>"
      ]
    },
    {
      "cell_type": "markdown",
      "metadata": {
        "id": "2UzDNLmVS3po"
      },
      "source": [
        "# ML ex10noteC\n",
        "\n",
        "<img width=72 src=\"https://www-tlab.math.ryukoku.ac.jp/~takataka/course/ML/ML-logo.png\"> [この授業のウェブページ](https://www-tlab.math.ryukoku.ac.jp/wiki/?ML/2022)\n"
      ]
    },
    {
      "cell_type": "markdown",
      "metadata": {
        "id": "_WXvQDHGjLD8"
      },
      "source": [
        "----\n",
        "## 過適合の抑制とモデル選択(3)\n",
        "----\n",
        "\n",
        "「ゴリゴリ君」のデータで，検証データを用いてモデルやハイパーパラメータの値を選択する実験をやってみよう．\n",
        "\n"
      ]
    },
    {
      "cell_type": "markdown",
      "source": [
        "まずはいつものように準備から．\n",
        "\n"
      ],
      "metadata": {
        "id": "m_05KKmfwFQ_"
      }
    },
    {
      "cell_type": "code",
      "source": [
        "# 準備あれこれ\n",
        "import numpy as np\n",
        "import matplotlib.pyplot as plt\n",
        "import pandas as pd\n",
        "import seaborn\n",
        "seaborn.set()\n",
        "\n",
        "# データを読み込む\n",
        "dfGori = pd.read_csv('https://www-tlab.math.ryukoku.ac.jp/~takataka/course/ML/gorigori.csv', header=0)"
      ],
      "metadata": {
        "id": "Uba-rqwa906l"
      },
      "execution_count": null,
      "outputs": []
    },
    {
      "cell_type": "markdown",
      "source": [
        "これまでは，気温やアイス売上数の値をそのまま使っていましたが，今回は正規化して実験します．ただし，適当な数で割るだけという簡易的な方法です．"
      ],
      "metadata": {
        "id": "CuioRtpH_bb-"
      }
    },
    {
      "cell_type": "code",
      "source": [
        "# データを正規化\n",
        "dfGori['気温'] /= 40\n",
        "dfGori['アイス売上数'] /= 150"
      ],
      "metadata": {
        "id": "fpR8qBDi-yKb"
      },
      "execution_count": null,
      "outputs": []
    },
    {
      "cell_type": "markdown",
      "source": [
        "以下のセルは，実験用の関数の定義です．"
      ],
      "metadata": {
        "id": "QjOrPD-R_vgZ"
      }
    },
    {
      "cell_type": "code",
      "source": [
        "## 1, x, x^2, x^3, ..., X^D をならべたデータ行列（N x (D+1)）をつくる\n",
        "#\n",
        "def makeDataMatrix(x, D):\n",
        "\n",
        "    N = x.shape[0]\n",
        "    X = np.zeros((N, D+1))\n",
        "    X[:, 0] = 1\n",
        "    for i in range(1, D+1):\n",
        "        X[:, i] = x**i\n",
        "\n",
        "    return X\n",
        "\n",
        "## nfold 分割交差検証用にデータを分割\n",
        "#\n",
        "def genDataset(X, Y, nfold, seed=0):\n",
        "\n",
        "    N = X.shape[0]\n",
        "    Nsub = N // nfold\n",
        "    idx = np.empty(N, dtype=int)\n",
        "    for n in range(nfold-1):\n",
        "        idx[n*Nsub:(n+1)*Nsub] = n\n",
        "    idx[(nfold-1)*Nsub:] = nfold-1\n",
        "    np.random.seed(seed)\n",
        "    np.random.shuffle(idx)\n",
        "\n",
        "    XL = []\n",
        "    YL = []\n",
        "    XV = []\n",
        "    YV = []\n",
        "    for n in range(nfold):\n",
        "        idx2 = idx != n\n",
        "        XL.append(X[idx2, :])\n",
        "        YL.append(Y[idx2])\n",
        "        XV.append(X[~idx2, :])\n",
        "        YV.append(Y[~idx2])\n",
        "\n",
        "    return XL, YL, XV, YV\n",
        "\n",
        "##  正規方程式を解く（正則化付き）\n",
        "#\n",
        "def solve(X, y, alpha=0.0):\n",
        "\n",
        "    N = X.shape[0]\n",
        "    A = np.dot(X.T, X)\n",
        "    b = np.dot(X.T, y)\n",
        "    if alpha > 0.0:\n",
        "        Dp1 = X.shape[1]\n",
        "        Id = np.eye(Dp1)\n",
        "        Id[0, 0] = 0.0\n",
        "        A += alpha * Id\n",
        "\n",
        "    # x is the solution of the equation Ax = b\n",
        "    x = np.linalg.solve(A, b)\n",
        "\n",
        "    return x"
      ],
      "metadata": {
        "id": "LiQE4UJS99xx"
      },
      "execution_count": null,
      "outputs": []
    },
    {
      "cell_type": "markdown",
      "source": [
        "以下で実験を行います．ここでは，次のような条件で多項式当てはめのモデルを学習させます．\n",
        "\n",
        "- 多項式の次数: $D = 10$ と $D = 20$ の2通り\n",
        "- 正則化項の係数: $\\alpha = 0, 0.001, 0.01, 0.1$ の4通り\n",
        "\n",
        "それぞれを組み合わせた8通りの条件で学習を行い，$n$-分割交差検証によって，汎化性能が最も高いと予想されるモデルを選ぶことにします．$n$ は以下のコード中の変数 `nfold` で指定しています．\n",
        "\n"
      ],
      "metadata": {
        "id": "YrM2iA3F_02T"
      }
    },
    {
      "cell_type": "code",
      "source": [
        "# データセットをいくつの組に分割するか\n",
        "nfold = 3\n",
        "\n",
        "msqeL = {}\n",
        "msqeV = {}\n",
        "\n",
        "# 多項式の次数 D \n",
        "for D in [10, 20]:\n",
        "\n",
        "    # 学習用と検証用のデータを準備\n",
        "    Xorg = makeDataMatrix(dfGori['気温'].to_numpy(), D)\n",
        "    Yorg = dfGori['アイス売上数'].to_numpy()\n",
        "    XL, YL, XV, YV = genDataset(Xorg, Yorg, nfold)\n",
        "\n",
        "    # 正則化項の係数 alpha\n",
        "    for alpha in [0.0, 0.001, 0.01, 0.1]:\n",
        "\n",
        "        msqeLsub = np.empty(nfold)\n",
        "        msqeVsub = np.empty(nfold)\n",
        "\n",
        "        # nfold 組のデータのうち一つで学習と検証\n",
        "        for n in range(nfold):\n",
        "            # 正則化付き最小二乗法でD次多項式を当てはめ\n",
        "            w = solve(XL[n], YL[n], alpha=alpha)\n",
        "            # 学習データと検証データに対する平均二乗誤差\n",
        "            msqeLsub[n] = np.mean(np.square(YL[n] - XL[n]@w))\n",
        "            msqeVsub[n] = np.mean(np.square(YV[n] - XV[n]@w))\n",
        "\n",
        "        # nfold 回の学習で得られた平均二乗誤差の平均を記録\n",
        "        msqeL[(D, alpha)] = np.mean(msqeLsub)\n",
        "        msqeV[(D, alpha)] = np.mean(msqeVsub)\n"
      ],
      "metadata": {
        "id": "3l4rJeSY-FLe"
      },
      "execution_count": null,
      "outputs": []
    },
    {
      "cell_type": "markdown",
      "source": [
        "上記では，8通りの条件のそれぞれについて，3通りの学習-検証データの組を使って学習と検証を行っています．\n",
        "以下のセルを実行すると，それぞれの条件について，3-分割交差検証によって得られた，学習データに対する平均二乗誤差の平均（`msqeL`）と，検証データに対する平均二乗誤差の平均（`msqeV`）が表示されます．"
      ],
      "metadata": {
        "id": "dJ8Xca1yA-Xh"
      }
    },
    {
      "cell_type": "code",
      "source": [
        "for key in msqeL.keys():\n",
        "    D, alpha = key\n",
        "    print(f'D = {D} alpha = {alpha}   msqeL = {msqeL[key]:.3e}   msqeV = {msqeV[key]:.3e}')"
      ],
      "metadata": {
        "id": "iL2kMtte-M7X"
      },
      "execution_count": null,
      "outputs": []
    },
    {
      "cell_type": "markdown",
      "source": [
        "上記の結果を見て，これら8通りの条件のうち，汎化性能が最も高そうなものを選んで，その条件を紙にメモしておきましょう．\n",
        "\n",
        "また，その条件を以下のセルの `D = ???` と `alpha = ???` のところに指定してセルを実行してみましょう．\n",
        "このセルでは，指定した条件で，全ての学習データを用いて再度学習を行い，その結果を表示します．"
      ],
      "metadata": {
        "id": "-xaas7UMBpYr"
      }
    },
    {
      "cell_type": "code",
      "source": [
        "# すべてのデータを使って多項式当てはめ\n",
        "D = ???\n",
        "alpha = ???\n",
        "Xorg = makeDataMatrix(dfGori['気温'].to_numpy(), D)\n",
        "Yorg = dfGori['アイス売上数'].to_numpy()\n",
        "w = solve(Xorg, Yorg, alpha=alpha)\n",
        "\n",
        "# 曲線の式の値を計算\n",
        "Xr =  np.linspace(0, 1, 100)\n",
        "XXr = makeDataMatrix(Xr, D)\n",
        "Yest = XXr @ w\n",
        "print(Yest.shape)\n",
        "\n",
        "# グラフを描く\n",
        "fig, ax = plt.subplots(1, facecolor='white', figsize=(8, 6))\n",
        "ax.scatter(Xorg[:, 1], Yorg)\n",
        "ax.plot(Xr, Yest, color='red', label=f'D = {D}, $\\\\alpha$ = {alpha}')\n",
        "ax.set_xlim(0.0, 1)\n",
        "ax.set_ylim(0.0, 1)\n",
        "ax.legend()\n",
        "plt.show()"
      ],
      "metadata": {
        "id": "HeXvo4Rz-rhk"
      },
      "execution_count": null,
      "outputs": []
    },
    {
      "cell_type": "code",
      "source": [
        ""
      ],
      "metadata": {
        "id": "aW9hRlfj_TaK"
      },
      "execution_count": null,
      "outputs": []
    }
  ],
  "metadata": {
    "colab": {
      "collapsed_sections": [],
      "name": "ex10noteC.ipynb",
      "provenance": [],
      "toc_visible": true,
      "include_colab_link": true
    },
    "kernelspec": {
      "display_name": "Python 3",
      "name": "python3"
    },
    "language_info": {
      "codemirror_mode": {
        "name": "ipython",
        "version": 3
      },
      "file_extension": ".py",
      "mimetype": "text/x-python",
      "name": "python",
      "nbconvert_exporter": "python",
      "pygments_lexer": "ipython3",
      "version": "3.9.7"
    }
  },
  "nbformat": 4,
  "nbformat_minor": 0
}