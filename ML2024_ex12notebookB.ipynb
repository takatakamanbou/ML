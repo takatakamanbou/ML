{
  "cells": [
    {
      "cell_type": "markdown",
      "metadata": {
        "id": "view-in-github",
        "colab_type": "text"
      },
      "source": [
        "<a href=\"https://colab.research.google.com/github/takatakamanbou/ML/blob/2024/ML2024_ex12notebookB.ipynb\" target=\"_parent\"><img src=\"https://colab.research.google.com/assets/colab-badge.svg\" alt=\"Open In Colab\"/></a>"
      ]
    },
    {
      "cell_type": "markdown",
      "metadata": {
        "id": "2UzDNLmVS3po"
      },
      "source": [
        "# ML ex12notebookB\n",
        "\n",
        "<img width=72 src=\"https://www-tlab.math.ryukoku.ac.jp/~takataka/course/ML/ML-logo.png\"> [この授業のウェブページ](https://www-tlab.math.ryukoku.ac.jp/wiki/?ML)\n"
      ]
    },
    {
      "cell_type": "code",
      "source": [
        "# 準備あれこれ\n",
        "import numpy as np\n",
        "import matplotlib.pyplot as plt\n",
        "import pandas as pd\n",
        "import seaborn\n",
        "seaborn.set()"
      ],
      "metadata": {
        "id": "Uba-rqwa906l"
      },
      "execution_count": null,
      "outputs": []
    },
    {
      "cell_type": "markdown",
      "metadata": {
        "id": "_WXvQDHGjLD8"
      },
      "source": [
        "----\n",
        "## 次元削減(2) 主成分分析 - 中編\n",
        "----\n",
        "\n",
        "\n"
      ]
    },
    {
      "cell_type": "markdown",
      "source": [
        "---\n",
        "### 主成分分析の問題の解"
      ],
      "metadata": {
        "id": "b0hF1hXXvjH4"
      }
    },
    {
      "cell_type": "markdown",
      "source": [
        "主成分分析の目的は，線形変換によって，「変換後のデータの分散がなるべく大きくなるような（元のデータの分散を保つような）」次元削減を行うことです．\n",
        "$D$次元のデータ $\\mathbf{x}$ を1次元にする場合には，この変換は\n",
        "$$\n",
        "y = \\mathbf{w}\\cdot\\mathbf{x}\n",
        "$$\n",
        "という形になります．前回の結論は，「ベクトル $\\mathbf{w}$ をデータの分散共分散行列の最大固有値に対する固有ベクトルにすればよい」というものでした．\n",
        "今回は，$D$次元のデータを $H$ 次元に削減するとして，$H \\geq 2$ の場合にどうすべきかを考えます．\n",
        "\n",
        "\n",
        "この場合，次元削減を行う線形変換は\n",
        "$$\n",
        "\\mathbf{y} = W\\mathbf{x}\n",
        "$$\n",
        "と表せます．前回説明したように，\n",
        "$$\n",
        "\\mathbf{y} = \\begin{pmatrix}\n",
        "y_1\\\\\n",
        "y_2\\\\\n",
        "\\vdots\\\\\n",
        "y_H\n",
        "\\end{pmatrix} = \\begin{pmatrix}\n",
        "\\mathbf{w}_1\\cdot\\mathbf{x}\\\\\n",
        "\\mathbf{w}_2\\cdot\\mathbf{x}\\\\\n",
        "\\vdots\\\\\n",
        "\\mathbf{w}_H\\cdot\\mathbf{x}\n",
        "\\end{pmatrix}\n",
        "$$\n",
        "となっていますので，このような線形変換 $W$ を定めることは，$H$個のベクトル $\\mathbf{w}_1, \\mathbf{w}_2,\\ldots,\\mathbf{w}_H$ を定めることと同じです．\n",
        "\n",
        "このとき，$\\mathbf{w}_1$は，上述の通り，データの分散共分散行列の最大固有値に対応する固有ベクトルとすることになります（下図左のピンクの矢線）．\n",
        "ここから更に $\\mathbf{w}_2$ 以降も定めるのですが，主成分分析では，$\\mathbf{w}_1, \\mathbf{w}_2,\\ldots,\\mathbf{w}_H$ は，互いに直交した向きにとります．そうしないと，$y_1, y_2, \\ldots, y_H$ の間の相関がなくならず，変換後の分散を最大化することができないからです.\n",
        "そのため，$\\mathbf{w}_2$は，$\\mathbf{w}_1$ と直交する向きの中から，その方向に抽出した特徴 $y_2 = \\mathbf{w}_2\\cdot\\mathbf{x}$ の分散が最大になる向きとることになります．\n",
        "\n",
        "下図中央の緑色の平面は，原点を通りかつピンクのベクトルと直交しています．$\\mathbf{w}_2$ は，この平面内の様々な向きのベクトルの中から選ぶことになります．このとき，下図右のように，この緑の平面上でデータ点を眺めたときに分散が最も大きくなる方向を選べば，$y_2$の分散を最大化することができます．\n",
        "\n"
      ],
      "metadata": {
        "id": "Yxozjhqfv4Hk"
      }
    },
    {
      "cell_type": "markdown",
      "source": [
        "<img src=\"https://www-tlab.math.ryukoku.ac.jp/~takataka/course/ML/pcafig06b.png\">\n"
      ],
      "metadata": {
        "id": "oggJ9JWFueRe"
      }
    },
    {
      "cell_type": "markdown",
      "source": [
        "以下，同様のことを繰り返せば $\\mathbf{w}_3$ 以降も定められます．\n",
        "すなわち，$\\mathbf{w}_h$は，$\\mathbf{w}_1,\\ldots,\\mathbf{w}_{h-1}$ と直交するという条件の下で，分散が最大になる向きにとります．\n",
        "詳しい説明は省きますが，結局，主成分分析の問題の解は，次のようになります．\n",
        "\n"
      ],
      "metadata": {
        "id": "cCEbkSal3g9G"
      }
    },
    {
      "cell_type": "markdown",
      "source": [
        "［主成分分析の問題の解］\n",
        "\n",
        "$N$個の$D$次元ベクトルから成る学習データが与えられるとする．\n",
        "$$\n",
        "\\{ \\mathbf{x}_n \\in {\\cal R}^{D} | n = 1, 2, \\ldots, N\\}\n",
        "$$\n",
        "ただし，このデータの平均は $\\mathbf{0}$ とする．\n",
        "また，$\\mathbf{x}$ の分散共分散行列 $V = \\frac{1}{N}\\sum_{n=1}^{N}\\mathbf{x}_n\\mathbf{x}_n^{\\top}$ の固有値を $\\lambda_1 \\geq \\lambda_2 \\geq \\ldots \\geq \\lambda_D$とし，これらに対応する単位固有ベクトルをそれぞれ $\\mathbf{u}_1, \\mathbf{u}_2,\\ldots,\\mathbf{u}_D$ とおく．\n",
        "\n",
        "$H\\times D$行列 $W$ によって\n",
        "$$\n",
        "\\mathbf{y} = W\\mathbf{x} = \\begin{pmatrix}\n",
        "\\mathbf{w}_1\\cdot\\mathbf{x}\\\\\n",
        "\\mathbf{w}_2\\cdot\\mathbf{x}\\\\\n",
        "\\vdots\\\\\n",
        "\\mathbf{w}_H\\cdot\\mathbf{x}\n",
        "\\end{pmatrix}\n",
        "$$\n",
        "と次元削減するとき，主成分分析の目的を実現するためには，\n",
        "ベクトル $\\mathbf{w}_h$ ($h = 1, 2, \\ldots, H$) を $\\mathbf{u}_h$ の向きにとればよい．つまり，$\\mathbf{w}_h = \\mathbf{u}_h$ または $\\mathbf{w}_h = -\\mathbf{u}_h$ とすればよい．"
      ],
      "metadata": {
        "id": "p1y_I4eI4PfF"
      }
    },
    {
      "cell_type": "markdown",
      "source": [
        "---\n",
        "### ［例題］数物情3次元データの主成分分析\n",
        "\n",
        "「数学」「物理」「情報」の点数のデータに主成分分析を適用してみましょう．"
      ],
      "metadata": {
        "id": "IBlwBkZN8lcV"
      }
    },
    {
      "cell_type": "code",
      "source": [
        "# 数物情データを入手\n",
        "! wget -nc https://www-tlab.math.ryukoku.ac.jp/~takataka/course/PIP/mpi100-mac.csv\n",
        "dfMPI = pd.read_csv('mpi100-mac.csv', index_col=0)\n",
        "datMPI = dfMPI.to_numpy().astype(float)\n",
        "dfMPI"
      ],
      "metadata": {
        "id": "Py74X8on8yh3"
      },
      "execution_count": null,
      "outputs": []
    },
    {
      "cell_type": "code",
      "source": [
        "# 平均\n",
        "Xm = np.mean(dfMPI.to_numpy(), axis=0)\n",
        "print('平均:', Xm)\n",
        "\n",
        "# 平均を引いて NumPy 配列にする\n",
        "X = dfMPI.to_numpy() - Xm\n",
        "N, D = X.shape\n",
        "print('X.shape:', X.shape) # X は 100 x 3\n",
        "print(X[:5, :]) # 最初の5人分を表示"
      ],
      "metadata": {
        "id": "h1uKIzYv83df"
      },
      "execution_count": null,
      "outputs": []
    },
    {
      "cell_type": "markdown",
      "source": [
        "以下のセルを実行すると，`X` の分散共分散行列の固有値と固有ベクトルが求まります．\n",
        "ここでは，特異値分解という手法を使ってそれらを求めていますが，説明は省きます．"
      ],
      "metadata": {
        "id": "I94DPHlCLO-b"
      }
    },
    {
      "cell_type": "code",
      "source": [
        "# 分散共分散行列の固有値と固有ベクトルを求める（Xの特異値分解経由で）\n",
        "_, sval, Vt = np.linalg.svd(X, full_matrices=False)\n",
        "eval = sval**2/N\n",
        "U = Vt\n",
        "for d in range(D):\n",
        "    print(f'{d+1}番目の固有値:{eval[d]:.2f}   固有ベクトル:', U[d, :])"
      ],
      "metadata": {
        "id": "0O8I3r669WBU"
      },
      "execution_count": null,
      "outputs": []
    },
    {
      "cell_type": "markdown",
      "source": [
        "得られた3つの固有ベクトルのうち，1番目と2番目を使って行列 `W` を構成し，これを用いて3次元の `X` を 2次元の `Y` に変換します．"
      ],
      "metadata": {
        "id": "g2brhoYuLaJw"
      }
    },
    {
      "cell_type": "code",
      "source": [
        "W = U[:2, :]\n",
        "print(W.shape)\n",
        "print(W)\n",
        "Y = X @ W.T # y = Wx の計算\n",
        "print(Y.shape)\n",
        "print(Y[:5, :]) # 最初の5人分を表示"
      ],
      "metadata": {
        "id": "qZLTA4ZkLkT6"
      },
      "execution_count": null,
      "outputs": []
    },
    {
      "cell_type": "markdown",
      "source": [
        "`Y` の散布図を描いてみましょう．"
      ],
      "metadata": {
        "id": "JhC15Hg8L5UB"
      }
    },
    {
      "cell_type": "code",
      "source": [
        "nList = [44, 47, 41, 6] # 特徴的な4人\n",
        "\n",
        "fig, ax = plt.subplots(facecolor=\"white\", figsize=(8, 8))\n",
        "ax.scatter(Y[:, 0], Y[:, 1])\n",
        "ax.scatter(Y[nList, 0], Y[nList, 1])\n",
        "ax.axvline(0, linestyle='-', color='gray')\n",
        "ax.axhline(0, linestyle='-', color='gray')\n",
        "ax.set_xlim(-40, 40)\n",
        "ax.set_ylim(-40, 40)\n",
        "ax.set_aspect('equal')\n",
        "ax.set_xlabel('$y_1$')\n",
        "ax.set_ylabel('$y_2$')\n",
        "#ax.legend()\n",
        "for n in nList:\n",
        "    plt.annotate(f'{n}', (Y[n, 0]+2, Y[n, 1]+2))\n",
        "plt.show()"
      ],
      "metadata": {
        "id": "lQ3RQe2yI75a"
      },
      "execution_count": null,
      "outputs": []
    },
    {
      "cell_type": "markdown",
      "source": [
        "図にオレンジ色の点として描かれている4人について，元の点数，Xの値，Y の値を表示すると次のようになります．"
      ],
      "metadata": {
        "id": "7WBdvzwKMIMe"
      }
    },
    {
      "cell_type": "code",
      "source": [
        "nList = [44, 47, 41, 6]\n",
        "for n in nList:\n",
        "    print(f'{n:2d} {X[n]+Xm} {X[n]} {Y[n]}')"
      ],
      "metadata": {
        "id": "YS2FVTbZIDE7"
      },
      "execution_count": null,
      "outputs": []
    },
    {
      "cell_type": "markdown",
      "source": [
        "$y_1$ の値は，「数学が高得点で他の2科目が低得点な度合い」と解釈できます．\n",
        "44番や47番のひとは，他の科目より数学の点数の方がずっと高いようです．\n",
        "逆に，41番や6番のひとは，数学よりは他の科目の方が高得点です．\n",
        "\n",
        "$y_2$ の方は，\n",
        "$$\n",
        "y_2 = -0.3 (\\mbox{数学}) - 0.9(\\mbox{物理}) + 0.4(\\mbox{情報})\n",
        "$$\n",
        "となっていることからわかるように，「情報が高得点で他の2科目が低得点な度合い」のようです．"
      ],
      "metadata": {
        "id": "6d0I_2ZiMZ1s"
      }
    },
    {
      "cell_type": "markdown",
      "source": [
        "ここで紹介した例は，元がたかだか3次元ですので，元のデータの散布図を描いたりすれば，次元削減を経ずに上記のような分析をすることもできなくはないかもしれません．しかし，もっと多次元のデータの場合，主成分分析によって次元削減したデータを分析することで，元のデータでは分かりづらかった性質を見出すことができたりします．"
      ],
      "metadata": {
        "id": "9iodvGgzPVPS"
      }
    },
    {
      "cell_type": "code",
      "source": [],
      "metadata": {
        "id": "xn-GNyo9MtJG"
      },
      "execution_count": null,
      "outputs": []
    }
  ],
  "metadata": {
    "colab": {
      "provenance": [],
      "toc_visible": true,
      "include_colab_link": true
    },
    "kernelspec": {
      "display_name": "Python 3",
      "name": "python3"
    },
    "language_info": {
      "codemirror_mode": {
        "name": "ipython",
        "version": 3
      },
      "file_extension": ".py",
      "mimetype": "text/x-python",
      "name": "python",
      "nbconvert_exporter": "python",
      "pygments_lexer": "ipython3",
      "version": "3.9.7"
    }
  },
  "nbformat": 4,
  "nbformat_minor": 0
}