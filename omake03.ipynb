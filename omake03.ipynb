{
  "nbformat": 4,
  "nbformat_minor": 0,
  "metadata": {
    "colab": {
      "provenance": [],
      "toc_visible": true,
      "authorship_tag": "ABX9TyOB9b0CSgd1f9He8CUXJOlV",
      "include_colab_link": true
    },
    "kernelspec": {
      "name": "python3",
      "display_name": "Python 3"
    }
  },
  "cells": [
    {
      "cell_type": "markdown",
      "metadata": {
        "id": "view-in-github",
        "colab_type": "text"
      },
      "source": [
        "<a href=\"https://colab.research.google.com/github/takatakamanbou/ML/blob/2022/omake03.ipynb\" target=\"_parent\"><img src=\"https://colab.research.google.com/assets/colab-badge.svg\" alt=\"Open In Colab\"/></a>"
      ]
    },
    {
      "cell_type": "markdown",
      "metadata": {
        "id": "2UzDNLmVS3po"
      },
      "source": [
        "# ML omake03\n",
        "\n",
        "<img width=64 src=\"https://www-tlab.math.ryukoku.ac.jp/~takataka/course/ML/ML-logo.png\">\n"
      ]
    },
    {
      "cell_type": "markdown",
      "metadata": {
        "id": "_4-TmUdCd9FJ"
      },
      "source": [
        "----\n",
        "# Python + NumPy + Matplotlib + Pandas 入門 (1)\n",
        "----\n",
        "\n",
        "次のものの初歩を説明します． ここで「パッケージ」と呼んでいるものは，何か特定の機能を実現するために作られたソフトウェアの集まりを指します．「ライブラリ」や「モジュール」という呼び方をすることもあります．\n",
        "- NumPy: Python で数値計算できるパッケージ https://numpy.org/\n",
        "- Matplotlib: Python で様々なグラフを描いたりできるパッケージ https://matplotlib.org/\n",
        "- Pandas: Python でデータ分析できるパッケージ https://pandas.pydata.org/\n"
      ]
    },
    {
      "cell_type": "markdown",
      "metadata": {
        "id": "Z4c3TGUV38Ri"
      },
      "source": [
        "----\n",
        "## NumPy の初歩\n",
        "\n",
        "NumPy は，Python で数値計算を行うためのパッケージです．ベクトルや行列の形で表される数値データの演算・処理を得意とします．"
      ]
    },
    {
      "cell_type": "markdown",
      "metadata": {
        "id": "mGDLYnwg71kh"
      },
      "source": [
        "NumPy を使うためには，次のようにして「`numpy` モジュールをインポート」する必要があります．「モジュール」とか「インポート」とかそういったことはここでは説明しませんので，興味を持ったら自分で調べてみてね．\n",
        "\n"
      ]
    },
    {
      "cell_type": "code",
      "metadata": {
        "id": "mH1RWEw54RPv"
      },
      "source": [
        "import numpy as np  # numpy モジュールをインポートして np という名前で呼べるようにする"
      ],
      "execution_count": null,
      "outputs": []
    },
    {
      "cell_type": "markdown",
      "source": [
        "自分のPC等に Python 環境を構築している場合は，事前にNumPyパッケージをインストールすることが必要です．\n",
        "試してみたいひとは takataka に相談するか，自分で調べてみてください．\n",
        "Google Colab の環境にはあらかじめインストールされているので，インポートするだけで使えます．\n"
      ],
      "metadata": {
        "id": "Ti-K-DJhTJ3Z"
      }
    },
    {
      "cell_type": "markdown",
      "metadata": {
        "id": "ZnE7_3uaRFDn"
      },
      "source": [
        "`np.array` に数値を並べたリストを渡すと，配列を作ることができます．"
      ]
    },
    {
      "cell_type": "code",
      "source": [
        "x = np.array([1, 2, 3, 4, 5]) # 整数の配列\n",
        "print(x)\n",
        "print(x.shape) # 配列 x の shape（形）．要素数 5 のベクトル（一次元配列）であることがわかる\n",
        "print(x.dtype) # 配列 x の要素のデータ型．要素は整数型であることがわかる"
      ],
      "metadata": {
        "id": "z8byvBOBPEQQ"
      },
      "execution_count": null,
      "outputs": []
    },
    {
      "cell_type": "code",
      "source": [
        "y = np.array([1, 2, np.pi, 4.56, 7.89]) # 浮動小数点数の配列． np.pi は円周率\n",
        "print(y)\n",
        "print(y.shape)\n",
        "print(y.dtype)"
      ],
      "metadata": {
        "id": "FEebHACWPb9R"
      },
      "execution_count": null,
      "outputs": []
    },
    {
      "cell_type": "markdown",
      "source": [
        "次の演算が何を行っているか考えよう．"
      ],
      "metadata": {
        "id": "hKMryDJyP_PG"
      }
    },
    {
      "cell_type": "code",
      "source": [
        "x2 = x + 2\n",
        "print(x2)"
      ],
      "metadata": {
        "id": "Quu1irglPy0n"
      },
      "execution_count": null,
      "outputs": []
    },
    {
      "cell_type": "code",
      "metadata": {
        "id": "ROG8mPBJ4Uln"
      },
      "source": [
        "z = x + y\n",
        "print(z)"
      ],
      "execution_count": null,
      "outputs": []
    },
    {
      "cell_type": "markdown",
      "source": [
        "関数 `np.sum` で要素の和，`np.mean` で平均，`np.var` で分散を求められます．"
      ],
      "metadata": {
        "id": "t0ACQzF0Qirw"
      }
    },
    {
      "cell_type": "code",
      "source": [
        "print(np.sum(x), np.mean(x), np.var(x))"
      ],
      "metadata": {
        "id": "5XudrBvNQSfX"
      },
      "execution_count": null,
      "outputs": []
    },
    {
      "cell_type": "markdown",
      "metadata": {
        "id": "Hd046TELUaLL"
      },
      "source": [
        "NumPy には他にも様々な機能がありますが，ここでは説明を省略します．"
      ]
    },
    {
      "cell_type": "markdown",
      "source": [
        "----\n",
        "## Matplotlib の初歩\n",
        "\n",
        "Matplotlib は，Python で様々なグラフを描くことができるパッケージです．NumPy の配列などのデータを可視化するのに便利です．\n",
        "\n",
        "すごく多機能なんですが，ここでは詳しい使い方は説明せず，ごく簡単な例を示すだけにとどめます．興味を持ったらいろいろ調べてみてください．"
      ],
      "metadata": {
        "id": "GnDOlahATb7-"
      }
    },
    {
      "cell_type": "code",
      "source": [
        "import matplotlib.pyplot as plt # matplotlib の pyplot モジュールを plt という名前でインポート"
      ],
      "metadata": {
        "id": "SargB9wASQ-a"
      },
      "execution_count": null,
      "outputs": []
    },
    {
      "cell_type": "code",
      "metadata": {
        "id": "yTWToKviUgKu"
      },
      "source": [
        "X = np.arange(0, 3.0, 0.1)  # 組み込み関数 range の numpy 版\n",
        "Y = X**2 # 要素ごとに二乗\n",
        "print(X, Y)"
      ],
      "execution_count": null,
      "outputs": []
    },
    {
      "cell_type": "code",
      "source": [
        "fig, ax = plt.subplots()  # 描画の準備\n",
        "ax.plot(X, Y)  # X を X座標の値，Y を Y座標の値として折れ線グラフを描く\n",
        "plt.show()"
      ],
      "metadata": {
        "id": "cOYEDlyhU_sV"
      },
      "execution_count": null,
      "outputs": []
    },
    {
      "cell_type": "code",
      "source": [
        "fig, ax = plt.subplots(1)\n",
        "ax.plot(X, Y, marker='o')\n",
        "ax.plot(X, np.sqrt(X), color='orange', marker='x')\n",
        "plt.show()"
      ],
      "metadata": {
        "id": "kV5TTJMXV2JP"
      },
      "execution_count": null,
      "outputs": []
    },
    {
      "cell_type": "markdown",
      "metadata": {
        "id": "4ZRJszs_XIIc"
      },
      "source": [
        "散布図やヒストグラムを描いたり他にもいろいろできますが，ここでは説明を省略します．"
      ]
    },
    {
      "cell_type": "markdown",
      "source": [
        "----\n",
        "## Pandas の初歩\n",
        "\n",
        "Pandas は，Python で様々なデータ分析を行うことができるパッケージです．\n",
        "\n",
        "すごく多機能なんですが，以下同文．"
      ],
      "metadata": {
        "id": "2Bo9RQLIXjKb"
      }
    },
    {
      "cell_type": "code",
      "source": [
        "import pandas as pd  # pandas モジュールを pd という名前でインポート"
      ],
      "metadata": {
        "id": "M-F5kxhCYYr-"
      },
      "execution_count": null,
      "outputs": []
    },
    {
      "cell_type": "markdown",
      "source": [
        "Pandas では， DataFrame （データフレーム）という構造に数値や文字列等様々なデータを格納して処理します．\n",
        "表計算ソフトのシートのように行・列にデータが並んだものをイメージすればよいでしょう．"
      ],
      "metadata": {
        "id": "o76qkjvjYuzT"
      }
    },
    {
      "cell_type": "code",
      "source": [
        "# 3科目の試験の点数5人分\n",
        "data = [[80,80,80], [82,58,65], [90,90,90], [85,66,63], [49,58,73]]\n",
        "df = pd.DataFrame(data) # data というリストのリストから DaraFrame を作成\n",
        "df"
      ],
      "metadata": {
        "id": "xOxLPaTgZrkD"
      },
      "execution_count": null,
      "outputs": []
    },
    {
      "cell_type": "code",
      "source": [
        "df = pd.DataFrame(data, columns=['数学', '物理', '情報']) # columnsオプションで列名を付けられる\n",
        "df"
      ],
      "metadata": {
        "id": "WHxDSLYbbGg7"
      },
      "execution_count": null,
      "outputs": []
    },
    {
      "cell_type": "markdown",
      "source": [
        "様々なデータ分析・統計計算の機能があります．"
      ],
      "metadata": {
        "id": "L3k5WBF0bxsA"
      }
    },
    {
      "cell_type": "code",
      "source": [
        "df.mean() # 平均"
      ],
      "metadata": {
        "id": "T4EdODTEbthP"
      },
      "execution_count": null,
      "outputs": []
    },
    {
      "cell_type": "code",
      "source": [
        "df.var() # 分散"
      ],
      "metadata": {
        "id": "towt7aM2cWNX"
      },
      "execution_count": null,
      "outputs": []
    },
    {
      "cell_type": "code",
      "source": [
        "df['数学'] # 数学列だけ抽出"
      ],
      "metadata": {
        "id": "llJk76s5bdFk"
      },
      "execution_count": null,
      "outputs": []
    },
    {
      "cell_type": "code",
      "source": [
        "df[df['物理'] >= 60] # 物理が60点以上のひとの点数を抽出"
      ],
      "metadata": {
        "id": "N8Hn-FCtccng"
      },
      "execution_count": null,
      "outputs": []
    },
    {
      "cell_type": "markdown",
      "source": [
        "DataFrameは NumPy の配列とみなして計算したり Matplotlib でグラフを描いたり（注）することも可能です．\n",
        "\n",
        "注: Pandas 自身にも Matplotlib を利用した描画機能がありますが，ここではその説明は省略します"
      ],
      "metadata": {
        "id": "aiNw6o9xc2pB"
      }
    },
    {
      "cell_type": "code",
      "source": [
        "np.mean(df['数学'])"
      ],
      "metadata": {
        "id": "877he2sDdfC3"
      },
      "execution_count": null,
      "outputs": []
    },
    {
      "cell_type": "code",
      "source": [
        "fig, ax = plt.subplots(1, figsize=(4, 4)) # グラフのサイズを縦横 4 と指定\n",
        "ax.scatter(df['数学'], df['物理'], marker='o')\n",
        "ax.set_xlim(0, 100) # X軸の範囲を指定\n",
        "ax.set_ylim(0, 100) # Y X軸の範囲を指定\n",
        "ax.set_xlabel('Math') # X 軸のラベル．日本語は文字化けする\n",
        "ax.set_ylabel('Physics')\n",
        "plt.show()"
      ],
      "metadata": {
        "id": "LbkTm2l5doQU"
      },
      "execution_count": null,
      "outputs": []
    },
    {
      "cell_type": "markdown",
      "source": [
        "Pandas の `read_csv` 関数を使うと，CSVファイル等を読み込んで DataFrame に格納することができます．"
      ],
      "metadata": {
        "id": "KVOWx5JNfLxG"
      }
    },
    {
      "cell_type": "code",
      "source": [
        "# read_csv の引数に URL を指定すると，ネットワーク越しに CSV ファイル等を読み込むことが可能\n",
        "dfMPI = pd.read_csv('https://www-tlab.math.ryukoku.ac.jp/~takataka/course/Data/ex06mpi.csv')\n",
        "dfMPI"
      ],
      "metadata": {
        "id": "FHawlWg2e9pP"
      },
      "execution_count": null,
      "outputs": []
    },
    {
      "cell_type": "code",
      "source": [
        "fig, ax = plt.subplots(1, figsize=(4, 4)) # グラフのサイズを縦横 4 と指定\n",
        "ax.scatter(dfMPI['数学'], dfMPI['物理'], marker='o')\n",
        "ax.set_xlim(0, 100)\n",
        "ax.set_ylim(0, 100)\n",
        "ax.set_xlabel('Math')\n",
        "ax.set_ylabel('Physics')\n",
        "plt.show()"
      ],
      "metadata": {
        "id": "prCJY-aUfkgs"
      },
      "execution_count": null,
      "outputs": []
    },
    {
      "cell_type": "markdown",
      "metadata": {
        "id": "oV9c8hEiPog9"
      },
      "source": [
        "----\n",
        "## 練習問題\n"
      ]
    },
    {
      "cell_type": "markdown",
      "source": [
        "(1) 以下に新しいセルを挿入して，dfMPIの「数学」，「物理」，「情報」それぞれの中央値を求めなさい．ただし，上記の説明をふまえて，Pandas で求める方法と NumPy の関数を使って列ごとに求める方法の両方を試すこと．中央値の求め方は調べてね．"
      ],
      "metadata": {
        "id": "WgmpmFN5hCQY"
      }
    },
    {
      "cell_type": "markdown",
      "metadata": {
        "id": "zdESGEqZjoPK"
      },
      "source": [
        "(2) 以下に新しいセルを挿入して，dfMPI の\n",
        "\n",
        "- 「数学」と「物理」\n",
        "- 「物理」と「情報」\n",
        "\n",
        "それぞれの散布図を描きなさい．"
      ]
    },
    {
      "cell_type": "markdown",
      "metadata": {
        "id": "14NAgpjuP_Gf"
      },
      "source": [
        "(3) 以下に新しいセルを挿入して，次のことをやりなさい\n",
        "\n",
        "1. https://www-tlab.math.ryukoku.ac.jp/~takataka/course/ML/gorigori.csv\n",
        "を読み込んで DataFrame を作る\n",
        "1. その散布図を描く．横軸の範囲は $[-5, 40]$ 縦軸の範囲は $[0, 130]$ としてください．"
      ]
    }
  ]
}