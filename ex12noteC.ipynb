{
  "cells": [
    {
      "cell_type": "markdown",
      "metadata": {
        "id": "view-in-github",
        "colab_type": "text"
      },
      "source": [
        "<a href=\"https://colab.research.google.com/github/takatakamanbou/ML/blob/main/ex12noteC.ipynb\" target=\"_parent\"><img src=\"https://colab.research.google.com/assets/colab-badge.svg\" alt=\"Open In Colab\"/></a>"
      ]
    },
    {
      "cell_type": "markdown",
      "metadata": {
        "id": "2UzDNLmVS3po"
      },
      "source": [
        "# ML ex12noteC\n",
        "\n",
        "<img width=72 src=\"https://www-tlab.math.ryukoku.ac.jp/~takataka/course/ML/ML-logo.png\"> [この授業のウェブページ](https://www-tlab.math.ryukoku.ac.jp/wiki/?ML/2022)\n"
      ]
    },
    {
      "cell_type": "code",
      "source": [
        "# 準備あれこれ\n",
        "import numpy as np\n",
        "import matplotlib.pyplot as plt\n",
        "import pandas as pd\n",
        "import seaborn\n",
        "seaborn.set()"
      ],
      "metadata": {
        "id": "Uba-rqwa906l"
      },
      "execution_count": null,
      "outputs": []
    },
    {
      "cell_type": "markdown",
      "metadata": {
        "id": "_WXvQDHGjLD8"
      },
      "source": [
        "----\n",
        "## 階層型クラスタリングの実験\n",
        "----\n",
        "\n",
        "独立行政法人統計センターが作成している [教育用標準データセット(SSDSE)](https://www.nstac.go.jp/use/literacy/ssdse/) の中の「SSDSE-家計消費」というデータを使って，階層型クラスタリングの実験をやってみましょう．\n",
        "\n",
        "「SSDSE-家計消費」は，47都道府県の県庁所在市で調査された家計消費に関する226項目の数値から成るデータです．「二人以上の世帯の1世帯あたりの焼き肉（外食）への年間支出金額」みたいな数値が含まれています．\n",
        "\n",
        "データの詳細はこちら: https://www.nstac.go.jp/sys/files//kaisetsu-C-2022.pdf\n",
        "\n",
        "この notebook の作成にあたっては，データの前処理の部分でこちらを参考にさせていただきました： https://studiolab.sagemaker.aws/import/github/icoxfog417/mlnote-note/blob/main/notebooks/chapter10_answer.ipynb"
      ]
    },
    {
      "cell_type": "markdown",
      "source": [
        "---\n",
        "### データの入手と前処理"
      ],
      "metadata": {
        "id": "J4wCogNrnmPQ"
      }
    },
    {
      "cell_type": "markdown",
      "source": [
        "SSDSEのサイトから CSV ファイルを入手できます．URL を直接指定して Pandas の DaraFrame として読み込みます．\n",
        "\n"
      ],
      "metadata": {
        "id": "m_05KKmfwFQ_"
      }
    },
    {
      "cell_type": "code",
      "source": [
        "URL = 'https://www.nstac.go.jp/sys/files//SSDSE-C-2022.csv'\n",
        "df_raw = pd.read_csv(URL, encoding='cp932') # 文字コードが UTF8 ではなく ShiftJIS なので，encoding オプションを指定して変換\n",
        "df_raw.head(10) # 最初の10行を表示"
      ],
      "metadata": {
        "id": "UwLv78SznSlx"
      },
      "execution_count": null,
      "outputs": []
    },
    {
      "cell_type": "markdown",
      "source": [
        "扱いやすいように DaraFrame を加工します．"
      ],
      "metadata": {
        "id": "Mn2K9MmbPJFi"
      }
    },
    {
      "cell_type": "code",
      "source": [
        "# df_raw の見出し行に記されたコードと，1行目に記されたその項目名との対応表を作り，項目名の行を削除\n",
        "code = df_raw.iloc[0, :]\n",
        "print('##### コードと項目名の対応')\n",
        "print(code)\n",
        "df = df_raw.drop(0, axis=0)\n",
        "\n",
        "# 'SSDSE-C-2022'列の都市コードと'Prefecture'列の都道府県名，'City'列の県庁所在地名を整理\n",
        "city = df.iloc[:, :3]\n",
        "print()\n",
        "print('##### 都市コード，都道府県名，県庁所在地名')\n",
        "print(city.head(5))\n",
        "df = df.drop(['Prefecture', 'City'], axis=1)\n",
        "df = df.set_index('SSDSE-C-2022')\n",
        "\n",
        "df = df.drop('R00000', axis=0) # 'R00000'列は「全国」のデータなのでこれを削除\n",
        "df = df.astype('float32') # 値を浮動小数点型に変換\n",
        "\n",
        "print()\n",
        "df.head(5)"
      ],
      "metadata": {
        "id": "Dj0D7l60n5Ww"
      },
      "execution_count": null,
      "outputs": []
    },
    {
      "cell_type": "markdown",
      "source": [
        "ここでは，各種の「外食」での支出金額のみを特徴として取り出します．13個の特徴量があります．"
      ],
      "metadata": {
        "id": "BawnvZ0ToDKd"
      }
    },
    {
      "cell_type": "code",
      "source": [
        "# 一人あたりの外食支出金額のデータを作成\n",
        "df_feature = pd.DataFrame()\n",
        "\n",
        "# コードが 'LB12' で始まる列が，様々な品目の外食支出額．ただし，1世帯あたりの金額\n",
        "columns = {}\n",
        "for c in df.columns:\n",
        "    if c.startswith('LB12') and c != 'LB12':\n",
        "        print(c, code[c])\n",
        "        columns[c] = code[c]\n",
        "        df_feature[c] = df[c]\n",
        "\n",
        "# 列名をコードから項目名に変更\n",
        "df_feature = df_feature.rename(columns=columns)\n",
        "\n",
        "# 都道府県ごとの平均世帯人数で割って一人あたりの金額にする\n",
        "df_feature = df_feature.divide(df['LA03'], axis=0)\n",
        "\n",
        "# DataFrame 表示時の小数部の表示桁数\n",
        "pd.options.display.precision = 1\n",
        "\n",
        "df_feature.head(5)"
      ],
      "metadata": {
        "id": "HSh2_B25oXBP"
      },
      "execution_count": null,
      "outputs": []
    },
    {
      "cell_type": "markdown",
      "source": [
        "いくつかの府県を選んで特徴量を表示させてみましょう．"
      ],
      "metadata": {
        "id": "Za18kkKPpptc"
      }
    },
    {
      "cell_type": "code",
      "source": [
        "# 大津，京都，大阪，神戸，奈良，名古屋，高松\n",
        "df_hoge = df_feature.loc[['R25201', 'R26100', 'R27100', 'R28100', 'R29201', 'R23100', 'R37201'], :].copy()\n",
        "city_hoge = city.set_index('SSDSE-C-2022').loc[df_hoge.index]\n",
        "df_hoge['Prefecture'] = city_hoge['Prefecture']\n",
        "df_hoge['City'] = city_hoge['City']\n",
        "\n",
        "df_hoge[['Prefecture', 'City'] + list(df_feature.columns)]"
      ],
      "metadata": {
        "id": "bT4NlZYZpe2y"
      },
      "execution_count": null,
      "outputs": []
    },
    {
      "cell_type": "markdown",
      "source": [
        "値が平均 0 分散1 になるようにスケーリングして，NumPy の配列とします．\n",
        "スケーリングには，[sklearn.preprocessing.StandardScaler](https://scikit-learn.org/stable/modules/generated/sklearn.preprocessing.StandardScaler.html) クラスを用いてます．"
      ],
      "metadata": {
        "id": "18mKuy6uogpT"
      }
    },
    {
      "cell_type": "code",
      "source": [
        "from sklearn.preprocessing import StandardScaler\n",
        "\n",
        "# 平均 0 分散 1 にスケーリング\n",
        "X = StandardScaler().fit_transform(df_feature)\n",
        "print(X.shape)\n",
        "print(X[:5, :]) # 最初の5つのデータ"
      ],
      "metadata": {
        "id": "cFei8PADoeT8"
      },
      "execution_count": null,
      "outputs": []
    },
    {
      "cell_type": "markdown",
      "source": [
        "---\n",
        "### 階層型クラスタリングしてみよう\n",
        "\n"
      ],
      "metadata": {
        "id": "3Y6cgkmtJ4Hy"
      }
    },
    {
      "cell_type": "markdown",
      "source": [
        "上記の配列 `X` を学習データとして，階層型クラスタリングを実行します．\n",
        "[scipy.cluster.hiearchy.linkage](https://docs.scipy.org/doc/scipy/reference/generated/scipy.cluster.hierarchy.linkage.html) でクラスタリングして，\n",
        "[scipy.cluster.hierarchy.dendrogram](https://docs.scipy.org/doc/scipy/reference/generated/scipy.cluster.hierarchy.dendrogram.html) でデンドログラムを描きます．\n",
        "データ点間の距離はユークリッド距離，クラス間の距離は Ward 法で測ります．"
      ],
      "metadata": {
        "id": "NDnxplQspxx1"
      }
    },
    {
      "cell_type": "code",
      "source": [
        "import scipy.cluster.hierarchy as hierarchy\n",
        "\n",
        "link = hierarchy.linkage(X, method='ward', metric='euclidean')\n",
        "fig, ax = plt.subplots(facecolor=\"white\", figsize=(12, 6))\n",
        "hierarchy.dendrogram(link, distance_sort='descending', show_leaf_counts=True, leaf_font_size=16, ax=ax)\n",
        "plt.show()"
      ],
      "metadata": {
        "id": "aW9hRlfj_TaK"
      },
      "execution_count": null,
      "outputs": []
    },
    {
      "cell_type": "markdown",
      "source": [
        "以下のセルを実行すると，`threshold` で指定した値をクラスタ間距離のしきい値としてデータをクラスタに分けた結果を表示します． `label` がクラスタの番号に相当します（0ではなく1からはじまる番号）．"
      ],
      "metadata": {
        "id": "XpyqGERQrPhw"
      }
    },
    {
      "cell_type": "code",
      "source": [
        "threshold = 6.0 # クラスタ間距離のしきい値\n",
        "\n",
        "label = hierarchy.fcluster(link, t=threshold, criterion='distance')\n",
        "df_result = city.iloc[1:, :].copy()\n",
        "df_result['label'] = label\n",
        "df_result['idx'] = np.arange(47, dtype=int)\n",
        "df_result = df_result.set_index('idx')\n",
        "df_result = df_result.sort_values('label')\n",
        "df_result[['label','Prefecture', 'City']]"
      ],
      "metadata": {
        "id": "4yJXWcjAqtqg"
      },
      "execution_count": null,
      "outputs": []
    },
    {
      "cell_type": "markdown",
      "source": [
        "#### ★★★ やってみよう ★★★\n",
        "\n",
        "- 名古屋市（上記の表やデンドログラムで22番）とよく似てるのはどこだろう？ 2つ挙げよう．\n",
        "- デンドログラムを見て，クラスタの数がそれぞれ 4, 6, 9 となるようなしきい値を選ぼう．それぞれのしきい値設定でクラスタリングした結果を観察しよう．\n",
        "    - 関西5府県（滋賀，京都，大阪，兵庫，奈良）の県庁所在市の値は，互いに似てる？ 似てない？ それぞれのクラスタ数の条件で同じクラスタに入っているかどうか見てみよう．\n",
        "- クラスタ数が 9 以上のときは，一つのデータが孤立してそれだけで一つのクラスタとなるケースが出てきます．どこ？ そこは何が特徴的なのだろう？"
      ],
      "metadata": {
        "id": "gXXKcqAJN8OX"
      }
    },
    {
      "cell_type": "markdown",
      "source": [
        "----\n",
        "## 主成分分析 - 前編 の内容に関する演習\n",
        "----\n",
        "というかほぼ線形代数の復習...\n",
        "\n"
      ],
      "metadata": {
        "id": "XyW0tM8VLtEx"
      }
    },
    {
      "cell_type": "markdown",
      "source": [
        "---\n",
        "### 計算問題"
      ],
      "metadata": {
        "id": "An6-f8o0fu7K"
      }
    },
    {
      "cell_type": "markdown",
      "source": [
        "**［問1］**$\\mathbf{w}_1 = (1, 0, 1), \\mathbf{x}_1 = (1, 2, 3)$ のとき，次の値を求めなさい．\n",
        "1. $\\mathbf{w}_1\\cdot\\mathbf{x}_1$\n",
        "1. $\\Vert\\mathbf{w}_1\\Vert$ および $\\Vert\\mathbf{x}_1\\Vert$\n",
        "\n",
        "次のセルを実行すると，答えを確認できます（数値的に計算した結果なので誤差を含みますが）．\n",
        "\n",
        "以下では， $\\Vert\\mathbf{x}_1\\Vert^2 = \\mathbf{x}_1 \\cdot \\mathbf{x}_1 $ という性質を利用して $\\Vert\\mathbf{x}_1\\Vert$ を計算してます．"
      ],
      "metadata": {
        "id": "w3zKNQSlM8bo"
      }
    },
    {
      "cell_type": "code",
      "source": [
        "w1 = np.array([1.0, 0.0, 1.0])\n",
        "x1 = np.array([1.0, 2.0, 3.0])\n",
        "print('w1 = ', w1)\n",
        "print('x1 = ', x1)\n",
        "print('w1 と x1 の内積 = ', w1 @ x1)\n",
        "print('|w1| = ', np.sqrt(w1 @ w1))\n",
        "print('|x1| = ', np.sqrt(x1 @ x1))"
      ],
      "metadata": {
        "id": "gdpAyaDZwadJ"
      },
      "execution_count": null,
      "outputs": []
    },
    {
      "cell_type": "markdown",
      "source": [
        "**［問2］** $\\mathbf{w}_2 = (0, 1, -1), \\mathbf{x}_2 = (4, 5, 6)$ のとき，次の値を求めなさい．$\\mathbf{w}_1, \\mathbf{x}_1$ は問1のものを使ってください．以下，前の問題で出てきた記号を説明せずに使ってる場合があります．\n",
        "1. $\\mathbf{w}_1\\cdot\\mathbf{x}_2$\n",
        "1. $\\mathbf{w}_2\\cdot\\mathbf{x}_1$\n",
        "1. $\\mathbf{w}_2\\cdot\\mathbf{x}_2$\n"
      ],
      "metadata": {
        "id": "VeuSKJnHQ8lW"
      }
    },
    {
      "cell_type": "code",
      "source": [
        "w2 = np.array([0.0, 1.0, -1.0])\n",
        "x2 = np.array([4.0, 5.0, 6.0])\n",
        "print('w2 = ', w2)\n",
        "print('x2 = ', x2)\n",
        "print('w1 と x2 の内積 = ', w1 @ x2)\n",
        "print('w2 と x1 の内積 = ', w2 @ x1)\n",
        "print('w2 と x2 の内積 = ', w2 @ x2)"
      ],
      "metadata": {
        "id": "d1I1kGULQZJ1"
      },
      "execution_count": null,
      "outputs": []
    },
    {
      "cell_type": "markdown",
      "source": [
        "**［問3］** 次のセルを実行すると表示されるような，3行4列の行列を $X$ とします．\n",
        "この行列を列ごとに眺めると，第1列は $\\mathbf{x}_1$ と等しく，第2列は $\\mathbf{x}_2$ と等しいことに注意しましょう．"
      ],
      "metadata": {
        "id": "pRDPvvBkT8Kp"
      }
    },
    {
      "cell_type": "code",
      "source": [
        "X = np.arange(1, 13).reshape((4, 3)).T\n",
        "X"
      ],
      "metadata": {
        "id": "-g-Pw9nWMSnB"
      },
      "execution_count": null,
      "outputs": []
    },
    {
      "cell_type": "markdown",
      "source": [
        "また，次のような 2行3列の行列を $W$ とします．こちらは，行ごとに眺めると，第1行が $\\mathbf{w}_1$ と等しく，第2行が $\\mathbf{w}_2$ と等しくなっています．"
      ],
      "metadata": {
        "id": "EyZn5KQDUVZr"
      }
    },
    {
      "cell_type": "code",
      "source": [
        "W = np.vstack((w1, w2))\n",
        "W"
      ],
      "metadata": {
        "id": "bVfrteQtPFqi"
      },
      "execution_count": null,
      "outputs": []
    },
    {
      "cell_type": "markdown",
      "source": [
        "このとき，$Y = WX$ を手計算で求めなさい．\n",
        "\n",
        "次のセルを実行すると，答えを確認できます．"
      ],
      "metadata": {
        "id": "sXOCCM2KVBaK"
      }
    },
    {
      "cell_type": "code",
      "source": [
        "Y = W @ X\n",
        "Y"
      ],
      "metadata": {
        "id": "XQEVweqwUtAq"
      },
      "execution_count": null,
      "outputs": []
    },
    {
      "cell_type": "markdown",
      "source": [
        "結果を見ると，$Y$ の1列目には，$\\mathbf{w}_1\\cdot\\mathbf{x}_1$ と $\\mathbf{w}_2\\cdot\\mathbf{x}_1$ の値が入っており，2列目には，$\\mathbf{w}_1\\cdot\\mathbf{x}_2$ と $\\mathbf{w}_2\\cdot\\mathbf{x}_2$ の値が入っていることが分かります．他の列についても，同様のことが成り立っています．\n",
        "\n",
        "この例では，$X$ は $3\\times 4$ で，3次元ベクトルを4つならべたものと考えられます．このとき，$Y$ は $2\\times 4$ の行列となっており，その各列は，$X$の1つの列を作っている 3 次元ベクトルと2つの3次元ベクトル $\\mathbf{w}_1, \\mathbf{w}_2$ との内積の値を表す2次元ベクトルとなっています．\n",
        "つまり，$Y$ は，行列 $X$ が表す3次元のデータ4つを，2つの3次元ベクトル $\\mathbf{w}_1, \\mathbf{w}_2$ を使って2次元に次元削減したものとみなせます．"
      ],
      "metadata": {
        "id": "ad-2OhUoVnib"
      }
    },
    {
      "cell_type": "markdown",
      "source": [
        "上記の例では，$X$, $Y$ ともに，データが列ベクトルの形で表されています．線形代数の教科書等で線形変換（一次変換）の話が出てくるときはほとんどこの形でしょう．しかし，コンピュータでデータを扱う場合は，一つのデータが1行で表される形の方が便利です．そういう場合は，行列を転置して考えれば ok です．"
      ],
      "metadata": {
        "id": "4yxQeKMNZ7Fs"
      }
    },
    {
      "cell_type": "code",
      "source": [
        "Xt = X.T\n",
        "Xt"
      ],
      "metadata": {
        "id": "qmPRllC4VR1G"
      },
      "execution_count": null,
      "outputs": []
    },
    {
      "cell_type": "code",
      "source": [
        "Yt = Xt @ W.T\n",
        "Yt"
      ],
      "metadata": {
        "id": "JPmVj8SEaVlj"
      },
      "execution_count": null,
      "outputs": []
    },
    {
      "cell_type": "markdown",
      "source": [
        "---\n",
        "### 数物情3次元データを1次元にする例\n",
        "\n",
        "ここからは，前に使ったことのある「数学」「物理」「情報」の点数のデータを1次元に削減する計算をやってみましょう．"
      ],
      "metadata": {
        "id": "eiv1jYkDa9eO"
      }
    },
    {
      "cell_type": "code",
      "source": [
        "# 数物情データを入手\n",
        "! wget -nc https://www-tlab.math.ryukoku.ac.jp/~takataka/course/PIP/mpi100-mac.csv\n",
        "dfMPI = pd.read_csv('mpi100-mac.csv', index_col=0)\n",
        "datMPI = dfMPI.to_numpy().astype(float)\n",
        "dfMPI"
      ],
      "metadata": {
        "id": "lgx9UkwIaYzb"
      },
      "execution_count": null,
      "outputs": []
    },
    {
      "cell_type": "markdown",
      "source": [
        "平均を引いたデータを作ります．"
      ],
      "metadata": {
        "id": "CWn0n3xWe2AB"
      }
    },
    {
      "cell_type": "code",
      "source": [
        "# 平均\n",
        "Xm = np.mean(dfMPI.to_numpy(), axis=0)\n",
        "print(Xm)\n",
        "\n",
        "# 平均を引いて NumPy 配列にする\n",
        "X = dfMPI.to_numpy() - Xm\n",
        "print(X.shape) # X は 100 x 3\n",
        "print(X[:5, :]) # 最初の5人分を表示"
      ],
      "metadata": {
        "id": "K7nGO1ZJbkHk"
      },
      "execution_count": null,
      "outputs": []
    },
    {
      "cell_type": "markdown",
      "source": [
        "一つ前の notebook で説明したように，主成分分析では，データの分散共分散行列の固有ベクトルを用いて次元削減します．今の場合は，最大固有値に対応した固有ベクトルを用いることになります．以下で，その次元削減を実行しています（固有ベクトルの計算過程は省略）．"
      ],
      "metadata": {
        "id": "7B3Ahwcie8En"
      }
    },
    {
      "cell_type": "code",
      "source": [
        "# X の分散共分散行列の最大固有値に対応する固有ベクトル\n",
        "#u = np.array([-0.50399613,  0.81007123, -0.2996206 ])\n",
        "u = np.array([ 0.50399613, -0.47664448, -0.72027629])\n",
        "\n",
        "# 1次元に次元削減\n",
        "y = X @ u\n",
        "for n in range(5):\n",
        "    print(f'{X[n, :] + Xm}  {X[n, :]}  {y[n]:.2f}') # 最初の5人分を，元の点数，平均を引いた値，y の値の順に表示"
      ],
      "metadata": {
        "id": "t5ki7o7OdHvA"
      },
      "execution_count": null,
      "outputs": []
    },
    {
      "cell_type": "markdown",
      "source": [
        "出力された 5 つの値は，一つ前のセルの実行結果にあった5人の点数を，それぞれ1つの数値に変換したものです．"
      ],
      "metadata": {
        "id": "zvK6DHdDfZyY"
      }
    },
    {
      "cell_type": "markdown",
      "source": [
        "上記の例で，3次元を1次元にする次元削減ができることは分かったかもしれませんが，何をやってるのか分かりづらいですね．ベクトル `u` によって3次元の点数データがどのように変換されるか，もう少し考えてみましょう．"
      ],
      "metadata": {
        "id": "CAQuOWZrgEpv"
      }
    },
    {
      "cell_type": "code",
      "source": [
        "X2 = np.array([\n",
        "               [ 10,   0,   0],\n",
        "               [  0,  10,   0],\n",
        "               [  0,   0,  10],\n",
        "               [  0,  10,  10],\n",
        "               [ 10,  10,  10],\n",
        "])\n",
        "y = X2 @ u\n",
        "for n in range(len(X2)):\n",
        "    print(f'{X2[n, :]}  {y[n]:.2f}')"
      ],
      "metadata": {
        "id": "y69z-ga8fZa6"
      },
      "execution_count": null,
      "outputs": []
    },
    {
      "cell_type": "markdown",
      "source": [
        "上記を実行すると，`X2` の各行のデータを 'u' で1次元に変換するとどうなるかが分かります．`[10, 0, 0]` というデータは，数学が平均点より10点高く，物理と情報がちょうど平均点だったことになります．このひとは，`y` の値は正ですね．一方，数学と情報が平均点で，物理のみ平均より10点高かった2番目のひとの `y` の値は負で，3番目のひとも同様となっています．また，5番目のひとは3科目すべて平均点より10点高いのですが，'y'の値は負になっています．\n",
        "これらを見ると，`y` の値は，「数学が高得点で他の2科目が低得点な度合い」を表しているように思えます．\n",
        "\n",
        "実際，3科目の点数（から平均を引いたもの）と `u` との内積の計算は，おおよそ次のような式となっています．この式を眺めると，上記の解釈に納得できる...でしょうか．\n",
        "$$\n",
        "y = 0.5 (\\mbox{数学}) - 0.5(\\mbox{物理}) - 0.7(\\mbox{情報})\n",
        "$$\n",
        "\n",
        "主成分分析は，「変換後のデータの分散がなるべく大きくなるように」するのでした．そのように選ばれた `u` の方向がこのようになっているということは，この3科目の点数のデータでは，「数学の点数と他の2科目の点数の差」の分散が大きいということになります．"
      ],
      "metadata": {
        "id": "C0sg90yuhWgQ"
      }
    },
    {
      "cell_type": "code",
      "source": [
        ""
      ],
      "metadata": {
        "id": "nud0eyMcdBU9"
      },
      "execution_count": null,
      "outputs": []
    }
  ],
  "metadata": {
    "colab": {
      "collapsed_sections": [],
      "name": "ex12noteC.ipynb",
      "provenance": [],
      "toc_visible": true,
      "include_colab_link": true
    },
    "kernelspec": {
      "display_name": "Python 3",
      "name": "python3"
    },
    "language_info": {
      "codemirror_mode": {
        "name": "ipython",
        "version": 3
      },
      "file_extension": ".py",
      "mimetype": "text/x-python",
      "name": "python",
      "nbconvert_exporter": "python",
      "pygments_lexer": "ipython3",
      "version": "3.9.7"
    }
  },
  "nbformat": 4,
  "nbformat_minor": 0
}