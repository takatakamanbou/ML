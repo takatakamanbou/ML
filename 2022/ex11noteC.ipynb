{
  "cells": [
    {
      "cell_type": "markdown",
      "metadata": {
        "id": "view-in-github",
        "colab_type": "text"
      },
      "source": [
        "<a href=\"https://colab.research.google.com/github/takatakamanbou/ML/blob/main/ex11noteC.ipynb\" target=\"_parent\"><img src=\"https://colab.research.google.com/assets/colab-badge.svg\" alt=\"Open In Colab\"/></a>"
      ]
    },
    {
      "cell_type": "markdown",
      "metadata": {
        "id": "2UzDNLmVS3po"
      },
      "source": [
        "# ML ex11noteC\n",
        "\n",
        "<img width=72 src=\"https://www-tlab.math.ryukoku.ac.jp/~takataka/course/ML/ML-logo.png\"> [この授業のウェブページ](https://www-tlab.math.ryukoku.ac.jp/wiki/?ML/2022)\n"
      ]
    },
    {
      "cell_type": "markdown",
      "metadata": {
        "id": "_WXvQDHGjLD8"
      },
      "source": [
        "----\n",
        "## $K$-平均法の実験\n",
        "----\n",
        "\n",
        "2種類のデータで K-平均法によるクラスタリングの実験をやってみましょう．\n",
        "\n"
      ]
    },
    {
      "cell_type": "markdown",
      "source": [
        "まずはいつものように準備から．\n",
        "\n"
      ],
      "metadata": {
        "id": "m_05KKmfwFQ_"
      }
    },
    {
      "cell_type": "code",
      "source": [
        "# 準備あれこれ\n",
        "import numpy as np\n",
        "import matplotlib.pyplot as plt\n",
        "import pandas as pd\n",
        "import seaborn\n",
        "seaborn.set()"
      ],
      "metadata": {
        "id": "Uba-rqwa906l"
      },
      "execution_count": null,
      "outputs": []
    },
    {
      "cell_type": "markdown",
      "source": [
        "K-meansクラスタリングのための関数を定義しておきます．"
      ],
      "metadata": {
        "id": "Mn2K9MmbPJFi"
      }
    },
    {
      "cell_type": "code",
      "source": [
        "## セントロイドの初期化\n",
        "#\n",
        "def initCentroid(X, centroid, seed=None):\n",
        "    assert X.shape[1] == centroid.shape[1]\n",
        "    K = centroid.shape[0]\n",
        "    # 学習データからランダムに K 個を選択して初期セントロイドとする\n",
        "    N = X.shape[0]\n",
        "    idx = np.arange(N, dtype=int)\n",
        "    if seed is not None:\n",
        "        np.random.seed(seed)\n",
        "    np.random.shuffle(idx)\n",
        "    centroid[:] = X[idx[:K], :]\n",
        "\n",
        "## データをクラスタに割り振る\n",
        "#\n",
        "def assignCluster(X, centroid, label):\n",
        "    assert X.shape[1] == centroid.shape[1] and X.shape[0] == label.shape[0]\n",
        "    K = centroid.shape[0]\n",
        "    N = X.shape[0]\n",
        "    sqe = 0.0\n",
        "    for n in range(N):\n",
        "        # 各セントロイドとの距離の二乗を計算\n",
        "        d = np.sum((X[n, :] - centroid)**2, axis=1)\n",
        "        # 距離最小のクラスタへ割り振る\n",
        "        i = np.argmin(d)\n",
        "        label[n] = i\n",
        "        sqe += d[i]\n",
        "\n",
        "    return sqe/N  # 割り振られたセントロイドとの距離の二乗の平均\n",
        "\n",
        "## セントロイドを計算し直す\n",
        "#\n",
        "def updateCentroid(X, centroid, label):\n",
        "    assert X.shape[1] == centroid.shape[1] and X.shape[0] == label.shape[0]\n",
        "    K = centroid.shape[0]\n",
        "    for ik in range(K):\n",
        "        # ik 番目のクラスタに割り当てられたデータの平均をそのクラスタの新しいセントロイドとする\n",
        "        centroid[ik, :] = np.mean(X[label==ik, :], axis=0)"
      ],
      "metadata": {
        "id": "b-rNgijPNVPP"
      },
      "execution_count": null,
      "outputs": []
    },
    {
      "cell_type": "markdown",
      "source": [
        "画像のクラスタリングの実験で使う，可視化用の関数を定義しておきます．"
      ],
      "metadata": {
        "id": "NCXsV2uIQFc5"
      }
    },
    {
      "cell_type": "code",
      "metadata": {
        "id": "iGHqJCtUDdtZ"
      },
      "source": [
        "#####  データの最初の nx x ny 枚を可視化\n",
        "#\n",
        "def mosaicImage(dat, nx, ny, nrow=64, ncol=64, gap=4):\n",
        "\n",
        "    # 並べた画像の幅と高さ\n",
        "    width  = nx * (ncol + gap) + gap\n",
        "    height = ny * (nrow + gap) + gap\n",
        "\n",
        "    # 画像の作成\n",
        "    img = np.zeros((height, width), dtype = int) + 128\n",
        "    for iy in range(ny):\n",
        "        lty = iy*(nrow + gap) + gap\n",
        "        for ix in range(nx):\n",
        "            if iy*nx+ix >= dat.shape[0]:\n",
        "                break\n",
        "            ltx = ix*(ncol + gap) + gap\n",
        "            img[lty:lty+nrow, ltx:ltx+ncol] = dat[iy*nx+ix, :].reshape((nrow, ncol))\n",
        "            \n",
        "    return img\n",
        "\n",
        "\n",
        "#####  セントロイドとともにデータの最初の n 枚を可視化\n",
        "#\n",
        "def mosaicImage2(X, centroid, index, n, nrow=64, ncol=64, gap=4):\n",
        "\n",
        "    nx = n + 2\n",
        "    ny = centroid.shape[0]\n",
        "    \n",
        "    # 並べた画像の幅と高さ\n",
        "    width  = nx * (ncol + gap) + gap\n",
        "    height = ny * (nrow + gap) + gap\n",
        "\n",
        "    # 画像の作成\n",
        "    img = np.zeros((height, width), dtype = int) + 128\n",
        "    for iy in range(ny):\n",
        "        lty = iy*(nrow + gap) + gap\n",
        "        ix = 0\n",
        "        ltx = ix*(ncol + gap) + gap\n",
        "        img[lty:lty+nrow, ltx:ltx+ncol] = centroid[iy, :].reshape((nrow, ncol))\n",
        "        dat = X[index == iy, :]\n",
        "        for ix in range(2, nx):\n",
        "            jx = ix - 2\n",
        "            if jx >= dat.shape[0]:\n",
        "                break\n",
        "            ltx = ix*(ncol + gap) + gap\n",
        "            img[lty:lty+nrow, ltx:ltx+ncol] = dat[jx, :].reshape((nrow, ncol))\n",
        "            \n",
        "    return img\n"
      ],
      "execution_count": null,
      "outputs": []
    },
    {
      "cell_type": "markdown",
      "source": [
        "---\n",
        "### 3科目の試験の得点\n",
        "\n",
        "「数学」「物理」「情報」の3科目の試験の点数を100人分集めたデータをクラスタリングしてみましょう．"
      ],
      "metadata": {
        "id": "3Y6cgkmtJ4Hy"
      }
    },
    {
      "cell_type": "code",
      "source": [
        "# 数物情データを入手\n",
        "! wget -nc https://www-tlab.math.ryukoku.ac.jp/~takataka/course/PIP/mpi100-mac.csv\n",
        "dfMPI = pd.read_csv('mpi100-mac.csv', index_col=0)\n",
        "datMPI = dfMPI.to_numpy().astype(float)\n",
        "dfMPI"
      ],
      "metadata": {
        "id": "aW9hRlfj_TaK"
      },
      "execution_count": null,
      "outputs": []
    },
    {
      "cell_type": "code",
      "source": [
        "## 数物情データの K-means クラスタリング\n",
        "\n",
        "K = 3  # クラスタ数\n",
        "nitr = 10  # K-means 法の繰り返し回数\n",
        "\n",
        "X = datMPI\n",
        "N, D = X.shape\n",
        "centroid = np.empty((K, D)) # セントロイド\n",
        "label = np.empty(N, dtype=int) # 各学習データの所属するセントロイドの番号\n",
        "\n",
        "# セントロイドを初期化\n",
        "initCentroid(X, centroid)  \n",
        "\n",
        "print('#itr  msqe    Nk')\n",
        "for i in range(nitr):\n",
        "    # データを各クラスタに割り振る\n",
        "    msqe = assignCluster(X, centroid, label)\n",
        "    # 各クラスタに割り振られたデータの数と，誤差の値を出力\n",
        "    Nk = np.empty(K, dtype=int)\n",
        "    for ik in range(K):\n",
        "        Nk[ik] = np.sum(label == ik)\n",
        "    print(f'{i}    {msqe:.2f}   {Nk}')    \n",
        "    # セントロイドを更新\n",
        "    updateCentroid(X, centroid, label)\n",
        "\n",
        "# セントロイドの値を出力\n",
        "for ik in range(K):\n",
        "    print(f'クラスタ {ik} のセントロイド:  ({centroid[ik, 0]:.1f}, {centroid[ik, 1]:.1f}, {centroid[ik, 2]:.1f})')"
      ],
      "metadata": {
        "id": "vLChTm4bdcms"
      },
      "execution_count": null,
      "outputs": []
    },
    {
      "cell_type": "markdown",
      "source": [
        "#### ★★★ やってみよう ★★★\n",
        "\n",
        "- クラスタリングを実行して得られる結果を観察しよう．実行のたびに初期値が変わり，学習の結果も変わるので，何度か実行し直してみよう．\n",
        "- 3つのクラスタに分けられたそれぞれの集団の得点の傾向を，セントロイドの値から考察してみよう．「他の集団に比べて○○の点が高い／低い」，etc."
      ],
      "metadata": {
        "id": "gXXKcqAJN8OX"
      }
    },
    {
      "cell_type": "markdown",
      "source": [
        "---\n",
        "### 猫顔画像のクラスタリング\n",
        "\n",
        "猫の顔画像をクラスタリングしてみましょう．\n",
        "この実験で使っている猫画像は，他の目的に使ってはいけません．"
      ],
      "metadata": {
        "id": "xf4Jfb5QPTvA"
      }
    },
    {
      "cell_type": "code",
      "source": [
        "# 猫画像データを入手\n",
        "! wget -nc https://www-tlab.math.ryukoku.ac.jp/~takataka/course/PIP/cat131.npz\n",
        "cat = np.load('cat131.npz')['cat131']\n",
        "print(cat.shape) # 131枚，ひとつの画像は 64 x 64 = 4096 画素のグレイスケール画像"
      ],
      "metadata": {
        "id": "6dbmMP7VKXzz"
      },
      "execution_count": null,
      "outputs": []
    },
    {
      "cell_type": "code",
      "source": [
        "print('### 猫画像 ###')\n",
        "print(f'データ数 x 次元数 = {cat.shape[0]} x {cat.shape[1]}')\n",
        "\n",
        "# 最初の 16 枚を表示 \n",
        "img = mosaicImage(cat, 4, 4)\n",
        "plt.axis('off')\n",
        "plt.imshow(img, cmap = 'gray')\n",
        "plt.show()   "
      ],
      "metadata": {
        "id": "6fH6FFULPf-7"
      },
      "execution_count": null,
      "outputs": []
    },
    {
      "cell_type": "markdown",
      "source": [
        "学習を実行し，結果を可視化させてみましょう．"
      ],
      "metadata": {
        "id": "9tdUrVFRQd_0"
      }
    },
    {
      "cell_type": "code",
      "metadata": {
        "id": "kdRhYK10tvcW"
      },
      "source": [
        "## 猫画像データの K-means クラスタリング\n",
        "\n",
        "K = 3  # クラスタ数\n",
        "nitr = 10  # K-means 法の繰り返し回数\n",
        "\n",
        "X = cat\n",
        "N, D = X.shape\n",
        "centroid = np.empty((K, D)) # セントロイド\n",
        "label = np.empty(N, dtype=int) # 各学習データの所属するセントロイドの番号\n",
        "\n",
        "# セントロイドを初期化\n",
        "initCentroid(X, centroid)  \n",
        "\n",
        "print('#itr  msqe    Nk')\n",
        "for i in range(nitr):\n",
        "    # データを各クラスタに割り振る\n",
        "    msqe = assignCluster(X, centroid, label)\n",
        "    # 各クラスタに割り振られたデータの数と，誤差の値を出力\n",
        "    Nk = np.empty(K, dtype=int)\n",
        "    for ik in range(K):\n",
        "        Nk[ik] = np.sum(label == ik)\n",
        "    print(f'{i}    {msqe:e}   {Nk}')    \n",
        "    # セントロイドを更新\n",
        "    updateCentroid(X, centroid, label)\n",
        "\n",
        "# クラスタ毎のセントロイドと所属データを可視化\n",
        "#     各行が一つのクラスタに対応，左端がセントロイド，右の画像はそのクラスタに所属する画像の一部\n",
        "img = mosaicImage2(cat, centroid, label, 8)\n",
        "plt.figure(figsize=(10,10))\n",
        "plt.axis('off')\n",
        "plt.imshow(img, cmap = 'gray')\n",
        "plt.show()\n",
        "s = '''\n",
        "クラスタ毎のセントロイドと所属データを可視化\n",
        "　各行が一つのクラスタに対応，左端がセントロイド，右の画像はそのクラスタに所属する画像の一部\n",
        "'''\n",
        "print(s)"
      ],
      "execution_count": null,
      "outputs": []
    },
    {
      "cell_type": "markdown",
      "source": [
        "#### ★★★ やってみよう★★★\n",
        "\n",
        "上記では，猫画像を K = 3 の K-means法でクラスタリングする実験を行っています．K をいろいろ変えて実行し直して，結果を観察しよう．K-meansクラスタリングの結果は初期値に依存するので，実行するたびに結果が変わります．"
      ],
      "metadata": {
        "id": "rfhyVO9USUIG"
      }
    },
    {
      "cell_type": "code",
      "source": [
        ""
      ],
      "metadata": {
        "id": "MG_DWltnPp0h"
      },
      "execution_count": null,
      "outputs": []
    }
  ],
  "metadata": {
    "colab": {
      "collapsed_sections": [],
      "name": "ex11noteC.ipynb",
      "provenance": [],
      "include_colab_link": true
    },
    "kernelspec": {
      "display_name": "Python 3",
      "name": "python3"
    },
    "language_info": {
      "codemirror_mode": {
        "name": "ipython",
        "version": 3
      },
      "file_extension": ".py",
      "mimetype": "text/x-python",
      "name": "python",
      "nbconvert_exporter": "python",
      "pygments_lexer": "ipython3",
      "version": "3.9.7"
    }
  },
  "nbformat": 4,
  "nbformat_minor": 0
}