{
  "cells": [
    {
      "cell_type": "markdown",
      "metadata": {
        "id": "view-in-github",
        "colab_type": "text"
      },
      "source": [
        "<a href=\"https://colab.research.google.com/github/takatakamanbou/ML/blob/main/ex15note.ipynb\" target=\"_parent\"><img src=\"https://colab.research.google.com/assets/colab-badge.svg\" alt=\"Open In Colab\"/></a>"
      ]
    },
    {
      "cell_type": "markdown",
      "metadata": {
        "id": "2UzDNLmVS3po"
      },
      "source": [
        "# ML ex15noteC\n",
        "\n",
        "<img width=72 src=\"https://www-tlab.math.ryukoku.ac.jp/~takataka/course/ML/ML-logo.png\"> [この授業のウェブページ](https://www-tlab.math.ryukoku.ac.jp/wiki/?ML/2022)\n"
      ]
    },
    {
      "cell_type": "code",
      "source": [
        "# 準備あれこれ\n",
        "import numpy as np\n",
        "import matplotlib.pyplot as plt\n",
        "import pandas as pd\n",
        "import seaborn\n",
        "seaborn.set()"
      ],
      "metadata": {
        "id": "Uba-rqwa906l"
      },
      "execution_count": null,
      "outputs": []
    },
    {
      "cell_type": "markdown",
      "source": [
        "---\n",
        "## 画像の減色へのクラスタリングの応用\n",
        "---\n",
        "クラスタリングの簡単な応用例として，カラー画像を減色する実験をやってみましょう．\n",
        "\n",
        "一般的なカラー画像は，一つの画素がRGB3つの値から成る3次元のデータと考えることができます．\n",
        "このデータに K-means 法を適用して $K$ 個のセントロイドを求めます．\n",
        "それから，各画素の値を，それと最も近いセントロイドの値に置き換えてやれば，$K$通りの色のみでできた画像を作ることができます．\n",
        "\n",
        "一般的なカラー画像はRGBそれぞれに8bit使ってますので，表せる色の数は\n",
        "$$\n",
        "2^8\\times 2^8 \\times 2^8 = 2^{24}\n",
        "$$\n",
        "より"
      ],
      "metadata": {
        "id": "te6_SrWg77No"
      }
    },
    {
      "cell_type": "code",
      "source": [
        "2**24"
      ],
      "metadata": {
        "id": "DVPP6k5Sauy1"
      },
      "execution_count": null,
      "outputs": []
    },
    {
      "cell_type": "markdown",
      "source": [
        "です．どれくらい減色できるものかやってみましょう．"
      ],
      "metadata": {
        "id": "WXxDiOEma3Mo"
      }
    },
    {
      "cell_type": "code",
      "source": [
        "import os\n",
        "import shutil\n",
        "import cv2\n",
        "from sklearn.cluster import KMeans\n",
        "\n",
        "from google.colab import files\n",
        "from google.colab.patches import cv2_imshow"
      ],
      "metadata": {
        "id": "Lcv-e6GdY0Yc"
      },
      "execution_count": null,
      "outputs": []
    },
    {
      "cell_type": "code",
      "source": [
        "# 画像をアップロードしてリサイズする関数\n",
        "#\n",
        "def getImage(fnbase, whmax=640):\n",
        "\n",
        "    # Colab へファイルをアップロード\n",
        "    rv = files.upload() # ファイルをアップロード\n",
        "    fnorg = list(rv.keys())[0] # ファイル名を取得\n",
        "    ext = os.path.splitext(fnorg)[1] # 拡張子を取得\n",
        "    fname = fnbase + ext\n",
        "    shutil.move(fnorg, fname) # ファイル名を変更\n",
        "    print(f'{fname} という名前で保存しました')\n",
        "\n",
        "    # サイズが大きければ縮小\n",
        "    img = cv2.imread(fname)\n",
        "    assert img.ndim == 3  # 3次元配列である（カラー画像である）か\n",
        "    h, w = img.shape[:2]\n",
        "    w2, h2 = w, h\n",
        "    if h > w:\n",
        "        if h > whmax:\n",
        "            w2, h2 = (w*whmax)//h, whmax\n",
        "    else:\n",
        "        if w > whmax:\n",
        "            w2, h2 = whmax, (h*whmax)//w\n",
        "\n",
        "    img2 = cv2.resize(img, (w2, h2))\n",
        "    cv2.imwrite(fname, img2)\n",
        "    print(f'{fname} の画素数は {w2}x{h2} です')\n",
        "\n",
        "    return fname"
      ],
      "metadata": {
        "id": "2wB8_5IpO_2q"
      },
      "execution_count": null,
      "outputs": []
    },
    {
      "cell_type": "markdown",
      "source": [
        "### 学習"
      ],
      "metadata": {
        "id": "5VmZaPp2VTTN"
      }
    },
    {
      "cell_type": "code",
      "source": [
        "# 学習用の画像をアップロード\n",
        "fname1 = getImage('image1', whmax=480)\n",
        "image1 = cv2.imread(fname1)\n",
        "cv2_imshow(image1)"
      ],
      "metadata": {
        "id": "EZm8QyHHP4Y_"
      },
      "execution_count": null,
      "outputs": []
    },
    {
      "cell_type": "markdown",
      "source": [
        "次のセルを実行すると，`image1`の画素に対して， `KList` で指定したクラスタ数で K-means クラスタリングを行い，その結果を用いて減色した画像を表示します．\n",
        "クラスタ数が大きい条件では学習に少し時間がかかるでしょう．"
      ],
      "metadata": {
        "id": "K0232cZXVa1S"
      }
    },
    {
      "cell_type": "code",
      "source": [
        "# image1 を学習データとして K-means 法\n",
        "img = image1\n",
        "\n",
        "KList = [256, 64, 16, 4]  # クラスタ数 = 減色後の色数\n",
        "modelList = []\n",
        "imgList = []\n",
        "X = img.reshape((-1, 3))\n",
        "N, D = X.shape\n",
        "\n",
        "for K in KList:\n",
        "    # K-means 法の学習\n",
        "    model = KMeans(n_clusters=K, n_init=3)\n",
        "    modelList.append(model)\n",
        "    label = model.fit_predict(X)\n",
        "    msqe = model.inertia_ / N\n",
        "\n",
        "    # 学習画像を減色\n",
        "    centroid = model.cluster_centers_\n",
        "    Xr = np.empty_like(X)\n",
        "    for ik in range(K):\n",
        "        Xr[label == ik, :] = centroid[ik, :]\n",
        "    img2 = Xr.reshape(img.shape)\n",
        "    imgList.append(img2)\n",
        "    cv2_imshow(img2)\n",
        "    print(f'K = {K}  msqe = {msqe:.3f}')\n",
        "    print()\n"
      ],
      "metadata": {
        "id": "NDWse4clRUE2"
      },
      "execution_count": null,
      "outputs": []
    },
    {
      "cell_type": "markdown",
      "source": [
        "### テスト\n",
        "\n",
        "上記の学習の結果を使って，別の画像を減色してみましょう．\n"
      ],
      "metadata": {
        "id": "WPep9B3VWG-N"
      }
    },
    {
      "cell_type": "code",
      "source": [
        "# 別の画像をアップロード\n",
        "fname2 = getImage('image2', whmax=480)\n",
        "image2 = cv2.imread(fname2)\n",
        "cv2_imshow(image2)"
      ],
      "metadata": {
        "id": "FjOURkYFTeJe"
      },
      "execution_count": null,
      "outputs": []
    },
    {
      "cell_type": "code",
      "source": [
        "# image1 で学習した結果を使って image2 を減色\n",
        "img = image2\n",
        "X = img.reshape((-1, 3))\n",
        "N, D = X.shape\n",
        "\n",
        "for ik, K in enumerate(KList):\n",
        "    # 画素ごとに所属クラスタを決める\n",
        "    model = modelList[ik]\n",
        "    label = model.predict(X)\n",
        "    msqe = model.inertia_ / N\n",
        "\n",
        "    # 減色\n",
        "    centroid = model.cluster_centers_\n",
        "    Xr = np.empty_like(X)\n",
        "    for ik in range(K):\n",
        "        Xr[label == ik, :] = centroid[ik, :]\n",
        "    img2 = Xr.reshape(img.shape)\n",
        "    imgList.append(img2)\n",
        "    cv2_imshow(img2)\n",
        "    print(f'K = {K}  msqe = {msqe:.3f}')\n",
        "    print()"
      ],
      "metadata": {
        "id": "6YEBSWZcUPqk"
      },
      "execution_count": null,
      "outputs": []
    },
    {
      "cell_type": "markdown",
      "source": [
        "#### ★★★ やってみよう ★★★\n",
        "\n",
        "1. 適当な画像で実験し，何をやっているのか理解しよう．\n",
        "1. 学習した画像と色の偏り方が似てるもの，似てないもの，両方を使ってテストしてみよう．"
      ],
      "metadata": {
        "id": "i-YIr1K3iv6W"
      }
    },
    {
      "cell_type": "markdown",
      "source": [
        "---\n",
        "## モデル選択の話\n",
        "---"
      ],
      "metadata": {
        "id": "txhrPh32UGAL"
      }
    },
    {
      "cell_type": "markdown",
      "source": [
        "「過適合とモデル選択」の辺りの復習のため，2次元2クラスのデータを識別する問題の例を考えます．"
      ],
      "metadata": {
        "id": "3pQUL15CUTKz"
      }
    },
    {
      "cell_type": "code",
      "source": [
        "from sklearn.datasets import make_moons\n",
        "from sklearn.svm import SVC\n",
        "from sklearn.model_selection import GridSearchCV"
      ],
      "metadata": {
        "id": "jL_zOBfugJvd"
      },
      "execution_count": null,
      "outputs": []
    },
    {
      "cell_type": "code",
      "source": [
        "# 学習データと検証データ\n",
        "moonXL, moonYL = make_moons(n_samples=200, noise=0.2, random_state=0)\n",
        "print(moonXL.shape, moonYL.shape)\n",
        "moonXV, moonYV = make_moons(n_samples=200, noise=0.2, random_state=1)\n",
        "\n",
        "# グラフを描く\n",
        "xmin, xmax = -1.5, 2.5\n",
        "ymin, ymax = -2, 2\n",
        "fig, ax = plt.subplots(figsize=(6, 6))\n",
        "ax.scatter(moonXL[moonYL==0, 0], moonXL[moonYL==0, 1])\n",
        "ax.scatter(moonXL[moonYL==1, 0], moonXL[moonYL==1, 1])\n",
        "ax.set_xlim(xmin, xmax)\n",
        "ax.set_ylim(ymin, ymax)\n",
        "ax.set_aspect('equal')\n",
        "plt.show()"
      ],
      "metadata": {
        "id": "z914f4N7UsYd"
      },
      "execution_count": null,
      "outputs": []
    },
    {
      "cell_type": "markdown",
      "source": [
        "識別のための学習モデルとして，ここでは SVM (Support Vector Machine) というものを使います．これがどういうものかは，この授業の範囲を超えていますので，説明しません（興味があれば機械学習関係の参考書等で調べてみてね）．以下では，scikit-learn の [sklearn.svm.SVC クラス](https://scikit-learn.org/stable/modules/generated/sklearn.svm.SVC.html) を使います\n",
        "\n",
        "\n",
        "\n",
        "SVM にはいろいろハイパーパラメータがありますが，ここでは，そのうちの一つである「正則化パラメータ」に注目します（注）．以下の図に示すように，この値（以下では `C` と記されています）を変えると，同じ学習データでも異なる識別結果が得られます．\n",
        "\n",
        "<span style=\"font-size: 75%\">\n",
        "※注: SVMに興味があるひと向けに注記しておくと，ここでは動径基底関数(radial basis function)をカーネルとしており，そのハイパーパラメータはデフォルトの値としています．\n",
        "</span>"
      ],
      "metadata": {
        "id": "E0kUYoG7VVtI"
      }
    },
    {
      "cell_type": "code",
      "source": [
        "# 正則化パラメータ\n",
        "CList = [5, 500, 50000]\n",
        "\n",
        "# グラフ描画用のグリッドデータの作成\n",
        "xmin, xmax = -1.5, 2.5\n",
        "ymin, ymax = -2, 2\n",
        "x_mesh, y_mesh = np.mgrid[xmin:xmax:0.02, ymin:ymax:0.02]\n",
        "X_mesh = np.dstack((x_mesh, y_mesh))\n",
        "print(X_mesh.shape)\n",
        "\n",
        "accuracyL = []\n",
        "accuracyT = []\n",
        "\n",
        "fig, axs = plt.subplots(len(CList), 1, figsize=(6, 6*len(CList)))\n",
        "\n",
        "for i, C in enumerate(CList):\n",
        "\n",
        "    # SVM の学習\n",
        "    model = SVC(C=C, kernel='rbf', gamma='scale', probability=True)\n",
        "    model.fit(moonXL, moonYL)\n",
        "    accL = model.score(moonXL, moonYL)\n",
        "    accV = model.score(moonXV, moonYV)\n",
        "\n",
        "    # 事後確率の推定\n",
        "    P = model.predict_proba(X_mesh.reshape(-1, 2))\n",
        "    P = P.T.reshape((-1, X_mesh.shape[0], X_mesh.shape[1]))\n",
        "\n",
        "    # 散布図と識別境界\n",
        "    axs[i].set_xlim(xmin, xmax)\n",
        "    axs[i].set_ylim(ymin, ymax)\n",
        "    axs[i].set_aspect('equal')\n",
        "    cmap = ['Blues', 'Oranges', 'Greens']\n",
        "    levels = [0.1, 0.2, 0.3, 0.4, 0.5, 0.6, 0.7, 0.8, 0.9, 1.0]\n",
        "    for k in range(2):\n",
        "        axs[i].scatter(moonXL[moonYL==k, 0], moonXL[moonYL==k, 1])\n",
        "        axs[i].contourf(x_mesh, y_mesh, P[k], levels=levels, cmap=cmap[k], alpha=0.3)\n",
        "        axs[i].text(1, -1.3, f'C = {C}', fontsize=12)\n",
        "        axs[i].text(1, -1.6, f'accL = {accL:.3f}', fontsize=14)\n",
        "        axs[i].text(1, -1.9, f'accV = {accV:.3f}', fontsize=14)\n",
        "\n",
        "plt.show()\n"
      ],
      "metadata": {
        "id": "rSSI4FMcWqfC"
      },
      "execution_count": null,
      "outputs": []
    },
    {
      "cell_type": "markdown",
      "source": [
        "図中の `C` は学習に用いた正則化パラメータの値，`accL` は学習データに対する識別率，`accV` は，学習データとは別に用意した検証データに対する識別率を表します．`C` の値を変えると識別境界の複雑さが変化し，それにともなって `accL` と `accV` の値も変化しています．\n",
        "`accL` が高いからといって `accV` も高いとは限らないこともわかります．\n",
        "授業で説明した通りですね．\n",
        "\n"
      ],
      "metadata": {
        "id": "CDYKXcHuczN3"
      }
    },
    {
      "cell_type": "markdown",
      "source": [
        "ここでは学習データとは別に用意したデータを用いて汎化性能を検証しましたが，データが潤沢に手に入る状況でない場合，そういう贅沢はできません．そのような場合には，学習データの一部を学習に使わずとっておいて，学習後の検証に使う，交差検証という方法を使ったりするのでした．\n",
        "\n",
        "試しに，scikit-learn に用意されている，交差検証(Cross Validation)を自動でやってくれる機能を使ってみます（ [sklearn.model_selection.GridSearchCV](https://scikit-learn.org/stable/modules/generated/sklearn.model_selection.GridSearchCV.html) ）．"
      ],
      "metadata": {
        "id": "118iQw4pgAit"
      }
    },
    {
      "cell_type": "code",
      "source": [
        "# パラメータのディクショナリ\n",
        "parameters = {'C':[0.01, 0.1, 1.0, 10.0, 100.0, 1000.0, 10000.0]}\n",
        "# 学習モデル\n",
        "svc = SVC(kernel='rbf', gamma='scale')\n",
        "# 5分割交差検証\n",
        "models = GridSearchCV(svc, parameters, cv=5, return_train_score=True)\n",
        "models.fit(moonXL, moonYL)\n",
        "\n",
        "# それぞれのモデルのスコア（学習データおよび検証データに対する識別率の平均）\n",
        "results = models.cv_results_\n",
        "for i, params in enumerate(results['params']):\n",
        "    C = params['C']\n",
        "    scoreL = results['mean_train_score'][i]\n",
        "    scoreT = results['mean_test_score'][i]\n",
        "    print(f'C = {C}   scoreL = {scoreL:.3f}   scoreT = {scoreT:.3f}')"
      ],
      "metadata": {
        "id": "cyEQZUq6gXpZ"
      },
      "execution_count": null,
      "outputs": []
    },
    {
      "cell_type": "markdown",
      "source": [
        "`C` の値を一つ決めたモデルごとに，5分割交差検証によって5通りの識別率を求めてその平均をとっています．`scoreL` が学習データに対する識別率，`scoreT` が（学習データを分割して作った）テストデータに対する識別率です．\n",
        "\n"
      ],
      "metadata": {
        "id": "cUaPlIpyh53h"
      }
    },
    {
      "cell_type": "markdown",
      "source": [
        "#### ★★★ やってみよう ★★★\n",
        "\n",
        "1. 上記の内容は，この授業の「汎化と過適合」の回の内容の一部の復習となっています．分からないところがあれば授業の notebook や動画を見直そう\n",
        "1. 5分割交差検証の結果，最も汎化性能が高いと推測されるモデルパラメータ `C` はいくつだったのかメモしておきましょう．"
      ],
      "metadata": {
        "id": "uNnxjKDVjFYA"
      }
    },
    {
      "cell_type": "markdown",
      "source": [
        "---\n",
        "## 密度推定の猫画像生成への応用\n",
        "---\n"
      ],
      "metadata": {
        "id": "5M4ZFQXVyDwo"
      }
    },
    {
      "cell_type": "markdown",
      "source": [
        "猫画像のデータに正規分布を当てはめれば，その正規分布に従う乱数を生成することで，猫画像を無限に生成することが可能となります．やってみましょう．\n",
        "\n",
        "ただし，以下で扱う猫画像は画素数が $64\\times 64 = 4096$ もありますので，主成分分析による次元削減も併用することにします．こんな感じです．\n",
        "\n",
        "1. $D=4096$次元の学習データ $\\{ \\mathbf{x}_n \\}$ に主成分分析を適用して，$H(\\le D)$次元へと変換する行列 $W_H$ を求める．\n",
        "1. 学習データを $H$ 次元へと変換したデータ $\\{ \\mathbf{y}_n | \\mathbf{y}_n = W_H(\\mathbf{x}_n - \\bar{\\mathbf{x}})\\}$ に $H$ 次元の正規分布を当てはめる（平均と分散共分散行列を推定する）．\n",
        "1. その正規分布に従う乱数を発生させ，$H$次元のデータ $\\widetilde{\\mathbf{y}}$ を生成する．\n",
        "1. 逆変換によって $D$ 次元の猫画像を作る: $\\mathbf{z} = W_H^{\\top}\\widetilde{\\mathbf{y}} + \\bar{\\mathbf{x}}$"
      ],
      "metadata": {
        "id": "WebjR-KuyKVT"
      }
    },
    {
      "cell_type": "code",
      "source": [
        "from google.colab.patches import cv2_imshow\n",
        "from scipy.stats import multivariate_normal"
      ],
      "metadata": {
        "id": "aSipKwdU3G7N"
      },
      "execution_count": null,
      "outputs": []
    },
    {
      "cell_type": "code",
      "source": [
        "#####  データの最初の nx x ny 枚を可視化\n",
        "#\n",
        "def mosaicImage(dat, nx, ny, nrow=64, ncol=64, gap=4):\n",
        "\n",
        "    # 並べた画像の幅と高さ\n",
        "    width  = nx * (ncol + gap) + gap\n",
        "    height = ny * (nrow + gap) + gap\n",
        "\n",
        "    # 画像の作成\n",
        "    img = np.zeros((height, width), dtype = int) + 128\n",
        "    for iy in range(ny):\n",
        "        lty = iy*(nrow + gap) + gap\n",
        "        for ix in range(nx):\n",
        "            if iy*nx+ix >= dat.shape[0]:\n",
        "                break\n",
        "            ltx = ix*(ncol + gap) + gap\n",
        "            img[lty:lty+nrow, ltx:ltx+ncol] = dat[iy*nx+ix, :].reshape((nrow, ncol))\n",
        "            \n",
        "    return img\n"
      ],
      "metadata": {
        "id": "5wcOSahlbcqh"
      },
      "execution_count": null,
      "outputs": []
    },
    {
      "cell_type": "code",
      "source": [
        "# 猫画像データを入手\n",
        "! wget -nc https://www-tlab.math.ryukoku.ac.jp/~takataka/course/PIP/cat131.npz\n",
        "cat = np.load('cat131.npz')['cat131']\n",
        "print(cat.shape) # 131枚，ひとつの画像は 64 x 64 = 4096 画素のグレイスケール画像\n",
        "\n",
        "# 学習データの最初10個\n",
        "img = mosaicImage(cat, 5, 2)\n",
        "cv2_imshow(img)"
      ],
      "metadata": {
        "id": "NxFWAyxuyHgc"
      },
      "execution_count": null,
      "outputs": []
    },
    {
      "cell_type": "code",
      "source": [
        "# 主成分分析\n",
        "\n",
        "# データの平均を 0 にする\n",
        "Xm = np.mean(cat, axis=0)\n",
        "X = cat - Xm\n",
        "N, D = X.shape\n",
        "print(X.shape)\n",
        "cv2_imshow(Xm.reshape(64, 64))\n",
        "\n",
        "# X の分散共分散行列の固有値と固有ベクトルを求める\n",
        "_, sval, Vt = np.linalg.svd(X, full_matrices=False)\n",
        "eval = sval**2/N\n",
        "print('固有値:', eval)\n",
        "U = Vt"
      ],
      "metadata": {
        "id": "D_qrDYgK2G4C"
      },
      "execution_count": null,
      "outputs": []
    },
    {
      "cell_type": "code",
      "source": [
        "# 次元削減したデータに正規分布を当てはめる\n",
        "\n",
        "H = 32  # 変換後の次元数\n",
        "\n",
        "# H 次元へ変換\n",
        "Y = X @ U[:H, :].T\n",
        "print(Y.shape)\n",
        "\n",
        "# 正規分布の当てはめ．PCAしたデータの平均は 0 で分散共分散行列は対角行列\n",
        "mu = np.zeros(H)\n",
        "cov = np.mean(Y**2, axis=0)\n",
        "print(mu)\n",
        "print(cov)"
      ],
      "metadata": {
        "id": "FgMLGHIS2VzB"
      },
      "execution_count": null,
      "outputs": []
    },
    {
      "cell_type": "code",
      "source": [
        "# 正規分布の乱数を作り，それを逆変換して画像を生成\n",
        "Yt = multivariate_normal.rvs(mean=mu, cov=cov, size=25)\n",
        "print(Yt.shape)\n",
        "Z = Yt @ U[:H, :] + Xm\n",
        "print(Z.shape)\n",
        "\n",
        "# 画素値の範囲 [0, 255] をはみ出した値の処理\n",
        "ZZ = Z.reshape(-1)\n",
        "ZZ[ZZ < 0] = 0\n",
        "ZZ[ZZ > 255] = 255\n",
        "print(np.min(Z), np.max(Z))\n",
        "\n",
        "# 可視化\n",
        "img = mosaicImage(Z, 5, 5)\n",
        "cv2_imshow(img)"
      ],
      "metadata": {
        "id": "XkpymBvW2m_Y"
      },
      "execution_count": null,
      "outputs": []
    },
    {
      "cell_type": "markdown",
      "source": [
        "上記の最後のセルは，実行するたびに乱数を生成して新しい猫画像を生み出すことができます．"
      ],
      "metadata": {
        "id": "MBWZi_Wh4tUH"
      }
    },
    {
      "cell_type": "markdown",
      "source": [
        "#### ★★★ やってみよう ★★★\n",
        "\n",
        "1. いろんな猫を生成してみよう\n",
        "1. 上記の内容は，この授業の「密度推定」や「主成分分析」の回の内容の一部の復習となっています．分からないところがあれば授業の notebook や動画を見直そう"
      ],
      "metadata": {
        "id": "RgRaah5ZnZIk"
      }
    },
    {
      "cell_type": "code",
      "source": [
        ""
      ],
      "metadata": {
        "id": "6tBB6K224hY_"
      },
      "execution_count": null,
      "outputs": []
    }
  ],
  "metadata": {
    "colab": {
      "collapsed_sections": [],
      "name": "ex15note.ipynb",
      "provenance": [],
      "include_colab_link": true
    },
    "kernelspec": {
      "display_name": "Python 3",
      "name": "python3"
    },
    "language_info": {
      "codemirror_mode": {
        "name": "ipython",
        "version": 3
      },
      "file_extension": ".py",
      "mimetype": "text/x-python",
      "name": "python",
      "nbconvert_exporter": "python",
      "pygments_lexer": "ipython3",
      "version": "3.9.7"
    }
  },
  "nbformat": 4,
  "nbformat_minor": 0
}