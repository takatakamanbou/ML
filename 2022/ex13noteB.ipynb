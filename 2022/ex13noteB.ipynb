{
  "cells": [
    {
      "cell_type": "markdown",
      "metadata": {
        "id": "view-in-github",
        "colab_type": "text"
      },
      "source": [
        "<a href=\"https://colab.research.google.com/github/takatakamanbou/ML/blob/main/ex13noteB.ipynb\" target=\"_parent\"><img src=\"https://colab.research.google.com/assets/colab-badge.svg\" alt=\"Open In Colab\"/></a>"
      ]
    },
    {
      "cell_type": "markdown",
      "metadata": {
        "id": "2UzDNLmVS3po"
      },
      "source": [
        "# ML ex13noteB\n",
        "\n",
        "<img width=72 src=\"https://www-tlab.math.ryukoku.ac.jp/~takataka/course/ML/ML-logo.png\"> [この授業のウェブページ](https://www-tlab.math.ryukoku.ac.jp/wiki/?ML/2022)\n"
      ]
    },
    {
      "cell_type": "code",
      "execution_count": null,
      "metadata": {
        "id": "Uba-rqwa906l"
      },
      "outputs": [],
      "source": [
        "# 準備あれこれ\n",
        "import numpy as np\n",
        "import matplotlib.pyplot as plt\n",
        "import pandas as pd\n",
        "import seaborn\n",
        "seaborn.set()"
      ]
    },
    {
      "cell_type": "markdown",
      "metadata": {
        "id": "_WXvQDHGjLD8"
      },
      "source": [
        "----\n",
        "## 次元削減(3) 主成分分析 - 後編\n",
        "----\n",
        "\n",
        "\n"
      ]
    },
    {
      "cell_type": "markdown",
      "metadata": {
        "id": "b0hF1hXXvjH4"
      },
      "source": [
        "---\n",
        "### 変換後の特徴の分散共分散行列\n",
        "\n",
        "主成分分析で定まる変換を行って得られる特徴量の性質について説明します．"
      ]
    },
    {
      "cell_type": "markdown",
      "metadata": {
        "id": "0nDPHPAgwskO"
      },
      "source": [
        "#### 変換後の分散共分散行列は対角行列になる"
      ]
    },
    {
      "cell_type": "markdown",
      "metadata": {
        "id": "i9cwVW5LofnI"
      },
      "source": [
        "$N$個の$D$次元ベクトルから成る学習データ\n",
        "$$\n",
        "\\{ \\mathbf{x}_n \\in {\\cal R}^{D} | n = 1, 2, \\ldots, N\\}\n",
        "$$\n",
        "が与えられるとします．ただし，このデータの平均は $\\mathbf{0}$ とします．$\\mathbf{x}$ の分散共分散行列を $V_x$ と書くことにすると，平均が $\\mathbf{0}$ なので，\n",
        "$$\n",
        "V_x = \\frac{1}{N}\\sum_{n=1}^{N}\\mathbf{x}_n\\mathbf{x}_n^{\\top}\n",
        "$$\n",
        "となります．$V_x$ の固有値を $\\lambda_1 \\geq \\lambda_2 \\geq \\ldots \\geq \\lambda_D$とし，これらに対応する単位固有ベクトルをそれぞれ $\\mathbf{u}_1, \\mathbf{u}_2,\\ldots,\\mathbf{u}_D$ とおくと，主成分分析で定まる線形変換を表す $H\\times D$ 行列 $W_H$ は次のようになります．\n",
        "$$\n",
        "W_H = \\begin{pmatrix}\n",
        "\\mathbf{u}_1^{\\top} \\\\  \\mathbf{u}_2^{\\top} \\\\  \\vdots \\\\ \\mathbf{u}_H^{\\top}\n",
        "\\end{pmatrix}\n",
        "$$\n",
        "このとき，変換後のデータ $\\mathbf{y}_n = W_H\\mathbf{x}_n$ の分散共分散行列がどうなるか考えてみましょう．\n",
        "\n",
        "まず，$\\mathbf{x}_n$の平均が $\\mathbf{0}$ であることから，$\\mathbf{y}_n$ の平均も $\\mathbf{0}$ となります．式で書くと次の通りです．\n",
        "$$\n",
        "\\frac{1}{N}\\sum_{n=1}^{N}\\mathbf{y}_n = \\frac{1}{N}\\sum_{n=1}^{N}W_H\\mathbf{x}_{n} = W_H\\left( \\frac{1}{N}\\sum_{n=1}^{N}\\mathbf{x}_n\\right) = \\mathbf{0}\n",
        "$$\n",
        "したがって，$\\mathbf{y}_n$ の分散共分散行列を $V_y$ とおくと，$V_y = \\frac{1}{N}\\sum_{n=1}^N\\mathbf{y}_n\\mathbf{y}_n^{\\top}$ となります．この式は，次のように変形できます．\n",
        "$$\n",
        "\\begin{aligned}\n",
        "V_y &= \\frac{1}{N}\\sum_{n=1}^N\\left(W_H\\mathbf{x}_n\\right)\\left(W_H\\mathbf{x}_n\\right)^{\\top} \\\\\n",
        "&= \\frac{1}{N}\\sum_{n=1}^N W_H\\mathbf{x}_n\\mathbf{x}_n^{\\top}W_H^{\\top}\\\\\n",
        "&= W_H \\left( \\frac{1}{N}\\sum_{n=1}^N \\mathbf{x}_n\\mathbf{x}_n^{\\top} \\right) W_H^{\\top} \\\\\n",
        "&= W_H V_x W_H^{\\top}\n",
        "\\end{aligned}\n",
        "$$\n",
        "\n",
        "ここで，$W_H$ が $V_x$ の固有ベクトルをならべて作った行列だったことを思い出すと，この式は結局次のようになります（注）．\n",
        "$$\n",
        "V_y = \\begin{pmatrix}\n",
        "\\lambda_1 & 0 & \\cdots & 0\\\\\n",
        "0 & \\lambda_2 & \\cdots & 0\\\\\n",
        "\\vdots & \\vdots & \\ddots & \\vdots \\\\\n",
        "0 & 0 & \\cdots & \\lambda_H\n",
        "\\end{pmatrix}\n",
        "$$\n",
        "\n",
        "これより，変換後の特徴は次のような性質を持つことが分かります．\n",
        "1. 変換後の特徴の各要素は互いに無相関である\n",
        "1. $h$番目の特徴の分散は$V_x$ の $h$ 番目の固有値 $\\lambda_h$ に等しい（$h = 1, 2, \\ldots, H$）\n",
        "\n",
        "\n",
        "※注: 少し過程を省略しましたが，行列の「固有値分解」と「対角化」の話で証明できます．\n"
      ]
    },
    {
      "cell_type": "markdown",
      "metadata": {
        "id": "IBlwBkZN8lcV"
      },
      "source": [
        "#### 数物情3次元データで確かめてみよう\n",
        "\n",
        "いつもの「数学」「物理」「情報」の点数のデータで．"
      ]
    },
    {
      "cell_type": "code",
      "execution_count": null,
      "metadata": {
        "id": "Py74X8on8yh3"
      },
      "outputs": [],
      "source": [
        "# 数物情データを入手\n",
        "! wget -nc https://www-tlab.math.ryukoku.ac.jp/~takataka/course/PIP/mpi100-mac.csv\n",
        "dfMPI = pd.read_csv('mpi100-mac.csv', index_col=0)\n",
        "datMPI = dfMPI.to_numpy().astype(float)\n",
        "#dfMPI\n",
        "\n",
        "# 平均\n",
        "Xm = np.mean(dfMPI.to_numpy(), axis=0)\n",
        "print('平均:', Xm)\n",
        "\n",
        "# 平均を引いて NumPy 配列にする\n",
        "X = dfMPI.to_numpy() - Xm\n",
        "N, D = X.shape\n",
        "print('X.shape:', X.shape) # X は 100 x 3\n",
        "print(X[:5, :]) # 最初の5人分を表示"
      ]
    },
    {
      "cell_type": "markdown",
      "metadata": {
        "id": "zaZJCMkry7-g"
      },
      "source": [
        "次のセルを実行すると，平均を引いたデータの分散共分散行列を計算します．"
      ]
    },
    {
      "cell_type": "code",
      "execution_count": null,
      "metadata": {
        "id": "SUFne_5Gy9Uh"
      },
      "outputs": [],
      "source": [
        "Vx = X.T @ X / N\n",
        "Vx"
      ]
    },
    {
      "cell_type": "markdown",
      "metadata": {
        "id": "Zq9ueu-syWCV"
      },
      "source": [
        "上記の分散共分散行列の特徴を可視化するために，平均を引いたデータの「ペアプロット」を描いてみます．これは，データの特徴量の中から2つを選んでその散布図を描いたものです．対角には，その特徴量のヒストグラムが描かれています．\n"
      ]
    },
    {
      "cell_type": "code",
      "execution_count": null,
      "metadata": {
        "id": "h1uKIzYv83df"
      },
      "outputs": [],
      "source": [
        "dfX = pd.DataFrame(X, columns=['Math', 'Physics', 'Info'])\n",
        "ax = seaborn.pairplot(dfX)\n",
        "ax.set(xlim=(-40, 40))\n",
        "ax.set(ylim=(-40, 40))\n",
        "plt.show()"
      ]
    },
    {
      "cell_type": "markdown",
      "metadata": {
        "id": "I94DPHlCLO-b"
      },
      "source": [
        "次に，主成分分析による変換をしたデータでも同じことをやってみましょう．"
      ]
    },
    {
      "cell_type": "code",
      "execution_count": null,
      "metadata": {
        "id": "0O8I3r669WBU"
      },
      "outputs": [],
      "source": [
        "# 分散共分散行列の固有値と固有ベクトルを求める（Xの特異値分解経由で）\n",
        "_, sval, Vt = np.linalg.svd(X, full_matrices=False)\n",
        "eval = sval**2/N\n",
        "U = Vt\n",
        "for d in range(D):\n",
        "    print(f'{d+1}番目の固有値:{eval[d]:.2f}   固有ベクトル:', U[d, :])\n",
        "\n",
        "# U を使って変換（次元は減らさずそのまま）\n",
        "Y = X @ U.T\n",
        "print(Y.shape)\n",
        "print(Y[:5, :]) # 最初の5人分を表示"
      ]
    },
    {
      "cell_type": "markdown",
      "metadata": {
        "id": "g2brhoYuLaJw"
      },
      "source": [
        "変換後のデータの分散共分散行列を求めてみると，次のようになります．対角要素の値は↑の固有値に等しくなっています．\n",
        "一方，対角以外の要素は，数値計算の誤差があるためぴったり $0$ にはなっていませんが，絶対値の小さい値，$0$ に近いになっていることがわかるでしょう．"
      ]
    },
    {
      "cell_type": "code",
      "execution_count": null,
      "metadata": {
        "id": "qZLTA4ZkLkT6"
      },
      "outputs": [],
      "source": [
        "Vy = Y.T @ Y / N\n",
        "Vy"
      ]
    },
    {
      "cell_type": "markdown",
      "metadata": {
        "id": "JhC15Hg8L5UB"
      },
      "source": [
        "変換後のデータのペアプロットはこんなん．"
      ]
    },
    {
      "cell_type": "code",
      "execution_count": null,
      "metadata": {
        "id": "lQ3RQe2yI75a"
      },
      "outputs": [],
      "source": [
        "dfY = pd.DataFrame(Y, columns=['$y_1$', '$y_2$', '$y_3$'])\n",
        "ax = seaborn.pairplot(dfY)\n",
        "ax.set(xlim=(-40, 40))\n",
        "ax.set(ylim=(-40, 40))\n",
        "plt.show()"
      ]
    },
    {
      "cell_type": "markdown",
      "metadata": {
        "id": "8z3rw5hd1tpg"
      },
      "source": [
        "変換後のデータでは，特徴間の相関が $0$ となっていること，番号の小さい特徴量ほど分散が大きくなっている（ヒストグラムの広がり方に注目）ことが分かります．"
      ]
    },
    {
      "cell_type": "markdown",
      "metadata": {
        "id": "ro_x7un_O8sw"
      },
      "source": [
        "---\n",
        "### 再構成の誤差"
      ]
    },
    {
      "cell_type": "markdown",
      "metadata": {
        "id": "WjybSeRcO_kO"
      },
      "source": [
        "#### 再構成したときの二乗誤差が最小となる線形変換になってるよ"
      ]
    },
    {
      "cell_type": "markdown",
      "metadata": {
        "id": "0JH7rlZMVcgc"
      },
      "source": [
        "主成分分析による次元削減のための変換\n",
        "$\\mathbf{y} = W_H\\mathbf{x}$ では，$D$ 次元のベクトル $\\mathbf{x}$ が $H$ 次元のベクトル $\\mathbf{y}$ へ変換されます．\n",
        "この $\\mathbf{y}$ に左から行列 $W_H^{\\top}$ をかけて\n",
        "$$\n",
        "\\mathbf{z} = W_H^{\\top}\\mathbf{y} = W_H^{\\top}W_H\\mathbf{x}\n",
        "$$\n",
        "とすると，$\\mathbf{z}$ は $D$ 次元ベクトルとなります．この操作のことを，次元削減したデータを元の次元数に戻すいう意味で，「再構成」と呼ぶことにします．\n",
        "\n",
        "再構成には次のような性質があることが知られています：\n",
        "\n",
        "変換行列 $W_H$ を用いた上記の再構成は，$H$次元へ次元削減して再構成するあらゆる線形変換の中で，学習データ $\\mathbf{x}_n$ とその再構成 $\\mathbf{z}_n$ との間の二乗誤差\n",
        "$$\n",
        "\\sum_{n=1}^{N}\\Vert\\mathbf{z_n} - \\mathbf{x}_{n}\\Vert^2 \n",
        "$$\n",
        "が最小となるものの一つである．特に $H=D$ の場合は，再構成誤差は $0$ となる（完全に元に戻る）．\n",
        "\n",
        "主成分分析では，元のデータの分散をなるべく保つように次元削減しており，かつ，小さい番号の小さい要素ほど分散が大きく，番号の大きい要素ほど分散が小さくなっています．したがって，番号の大きい方の要素を捨てて次元削減しても，元のデータの散らばりが損なわれず，「次元削減してから再構成したときの誤差が小さくなる」というわけです．\n",
        "\n",
        "このような性質がありますので，主成分分析による次元削減の変換を行って得られる特徴量は，番号の小さいものほど重要な情報を保持していると考えることができます．"
      ]
    },
    {
      "cell_type": "markdown",
      "metadata": {
        "id": "4FOPa9_iPKsn"
      },
      "source": [
        "#### 数物情3次元データで実験してみよう\n",
        "\n",
        "ふたたび「数学」「物理」「情報」の点数のデータで．\n",
        "\n"
      ]
    },
    {
      "cell_type": "markdown",
      "metadata": {
        "id": "fM39L5FbT1Zb"
      },
      "source": [
        "次のセルを実行すると，3次元の数物情データを `H` 次元へ変換してから再構成することができます．`H` の値を変えて，再構成した値や二乗誤差がどうなるか観察してみてね．"
      ]
    },
    {
      "cell_type": "code",
      "execution_count": null,
      "metadata": {
        "id": "5X0hyJczPNmD"
      },
      "outputs": [],
      "source": [
        "#@title 数物情データを次元削減してから再構成\n",
        "#@markdown `H` で次元削減後の次元数を指定\n",
        "H = 1 #@param [1, 2, 3] {type: \"raw\"}\n",
        "\n",
        "# 3次元からH次元へ\n",
        "Y = X @ U[:H, :].T\n",
        "# 再構成\n",
        "Z = Y @ U[:H, :] \n",
        "\n",
        "# np.array を print する際の表示桁数を変更\n",
        "precision = np.get_printoptions()['precision']\n",
        "np.set_printoptions(precision=1)\n",
        "\n",
        "# 最初の10人分を表示\n",
        "print(f'元データ       {H}次元での再構成   二乗誤差')\n",
        "for n in range(10):\n",
        "    XX = X[n, :] + Xm\n",
        "    ZZ = Z[n, :] + Xm\n",
        "    sqe = np.sum((ZZ - XX)**2)\n",
        "    print(f'{XX}  {ZZ}  {sqe:.2f}')\n",
        "\n",
        "# np.array を print する際の表示桁数を元に戻しておく\n",
        "np.set_printoptions(precision=precision)"
      ]
    },
    {
      "cell_type": "markdown",
      "metadata": {
        "id": "zpiF-mBy5LRx"
      },
      "source": [
        "---\n",
        "### 主成分分析以外の次元削減手法\n",
        "\n"
      ]
    },
    {
      "cell_type": "markdown",
      "metadata": {
        "id": "xzx7EeIc5P-c"
      },
      "source": [
        "次元削減の手法には，主成分分析以外にも様々なものがあります．その一部をごく簡単に紹介しておきます．\n",
        "\n",
        "<dl>\n",
        "<dt>判別分析</dt> <dd> データが $K$ クラスに分類できると分かっているときに，その分類に最適な $K-1$ 次元特徴へと線形変換する手法．学習データにクラスラベルが必要なので，教師あり学習の手法といえる．</dd>\n",
        "<dt>独立成分分析</dt> <dd> 変換後の特徴量が互いに独立となるように線形変換する手法．</dd>\n",
        "</dl>\n",
        "\n",
        "これら二つはいずれも線形変換による手法です．線形変換による手法は他にもたくさんあります．\n",
        "\n",
        "一方，線形変換では実現できない次元削減のために，ニューラルネットワーク等を利用して非線形な次元削減を行う手法もいろいろあります．"
      ]
    },
    {
      "cell_type": "code",
      "execution_count": null,
      "metadata": {
        "id": "W6CMhHxqPoN_"
      },
      "outputs": [],
      "source": [
        ""
      ]
    }
  ],
  "metadata": {
    "colab": {
      "collapsed_sections": [],
      "name": "ex13noteB.ipynb",
      "provenance": [],
      "include_colab_link": true
    },
    "kernelspec": {
      "display_name": "Python 3",
      "name": "python3"
    },
    "language_info": {
      "codemirror_mode": {
        "name": "ipython",
        "version": 3
      },
      "file_extension": ".py",
      "mimetype": "text/x-python",
      "name": "python",
      "nbconvert_exporter": "python",
      "pygments_lexer": "ipython3",
      "version": "3.9.7"
    }
  },
  "nbformat": 4,
  "nbformat_minor": 0
}