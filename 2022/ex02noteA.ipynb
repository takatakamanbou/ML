{
  "cells": [
    {
      "cell_type": "markdown",
      "metadata": {
        "id": "view-in-github",
        "colab_type": "text"
      },
      "source": [
        "<a href=\"https://colab.research.google.com/github/takatakamanbou/ML/blob/main/ex02noteA.ipynb\" target=\"_parent\"><img src=\"https://colab.research.google.com/assets/colab-badge.svg\" alt=\"Open In Colab\"/></a>"
      ]
    },
    {
      "cell_type": "markdown",
      "metadata": {
        "id": "2UzDNLmVS3po"
      },
      "source": [
        "# ML ex02noteA\n",
        "\n",
        "<img width=72 src=\"https://www-tlab.math.ryukoku.ac.jp/~takataka/course/ML/ML-logo.png\"> [この授業のウェブページ](https://www-tlab.math.ryukoku.ac.jp/wiki/?ML/2022)\n"
      ]
    },
    {
      "cell_type": "markdown",
      "metadata": {
        "id": "IfD2FEfXh34O"
      },
      "source": [
        "----\n",
        "## 回帰のための教師あり学習(1) 直線の当てはめ\n",
        "----"
      ]
    },
    {
      "cell_type": "markdown",
      "metadata": {
        "id": "7glgWbdlh34P"
      },
      "source": [
        "----\n",
        "### 準備\n",
        "\n",
        "Google Colab の Notebook では， Python というプログラミング言語のコードを動かして計算したりグラフを描いたりできます．\n",
        "Python は，機械学習・人工知能やデータサイエンスの分野ではメジャーなプログラミング言語ですが，それを学ぶことはこの授業の守備範囲ではありません．以下の所々に現れるプログラムっぽい記述の内容は，理解できなくて構いません．\n",
        "\n",
        "以下，コードセルを上から順に実行してながら読んでいってね．"
      ]
    },
    {
      "cell_type": "code",
      "execution_count": null,
      "metadata": {
        "id": "JBTXo5eHh34P"
      },
      "outputs": [],
      "source": [
        "# 準備あれこれ\n",
        "import numpy as np\n",
        "import matplotlib.pyplot as plt\n",
        "import pandas as pd\n",
        "import seaborn\n",
        "seaborn.set()\n",
        "\n",
        "# データを読み込む\n",
        "dfGori = pd.read_csv('https://www-tlab.math.ryukoku.ac.jp/~takataka/course/ML/gorigori.csv', header=0)\n",
        "xmin, xmax = -5, 40\n",
        "ymin, ymax = 0, 130"
      ]
    },
    {
      "cell_type": "markdown",
      "metadata": {
        "id": "WM4RlkyhP5yo"
      },
      "source": [
        "----\n",
        "### 復習 ― ゴリゴリ君ふたたび\n",
        "\n",
        "前回の「ゴリゴリ君」の例は，「気温」と「アイス売上数」の数値を集めた以下のようなデータが与えられたときに，気温からアイス売上数を予測する，という問題でした（次のセルを実行してね）．\n"
      ]
    },
    {
      "cell_type": "code",
      "execution_count": null,
      "metadata": {
        "id": "TET2Gizkh34R"
      },
      "outputs": [],
      "source": [
        "dfGori"
      ]
    },
    {
      "cell_type": "markdown",
      "metadata": {
        "id": "h-oxoZxAh34R"
      },
      "source": [
        "気温が $x$ [度] のときのアイス売上数の予測値を $y$ [個] として，$x$ から $y$ を予測する仕組みとして\n",
        "\n",
        "$$\n",
        "\\begin{aligned}\n",
        "y = f(x) = ax+b\n",
        "\\end{aligned}\n",
        "$$\n",
        "\n",
        "という式を考えて，予測が「うまくいく」ようにパラメータ $(a, b)$ を決めたい，という話になっていました．"
      ]
    },
    {
      "cell_type": "code",
      "execution_count": null,
      "metadata": {
        "id": "sEvx9uIuh34R"
      },
      "outputs": [],
      "source": [
        "#@title a, b の値を適当に変えてこのセルを何度か実行し直してみよう\n",
        "a = 1.5#@param　{type:\"number\"}\n",
        "b = 35 #@param　{type:\"number\"}\n",
        "\n",
        "X = dfGori['気温']\n",
        "Y = dfGori['アイス売上数']\n",
        "\n",
        "Xr = np.array([xmin, xmax])\n",
        "Yest = a * Xr + b\n",
        "\n",
        "fig, ax = plt.subplots(1, facecolor='white', figsize=(6, 4))\n",
        "ax.scatter(X, Y)\n",
        "ax.plot(Xr, Yest, color='red')\n",
        "ax.set_xlim(xmin, xmax)\n",
        "ax.set_ylim(0, 130)\n",
        "plt.show()\n",
        "\n",
        "for x in [10, 20, 30]:\n",
        "    y = a*x+b\n",
        "    print(f'気温 {x} 度のときのアイス売上数の予測値は {y:.1f} 個')"
      ]
    },
    {
      "cell_type": "markdown",
      "metadata": {
        "id": "QoJll6XKh34T"
      },
      "source": [
        "前回は手動でパラメータを変化させてみて，なんとなくよさそうな値を選んでいましたが，そんないい加減な方法は使い物になりません．\n",
        "このような問題をコンピュータに解かせるためには，問題をきちんと定式化（数式で表現）し，その解を計算によって求められるようにしなければなりません．"
      ]
    },
    {
      "cell_type": "markdown",
      "metadata": {
        "id": "_OW8Q4T_h34T"
      },
      "source": [
        "Q. この問題は，教師あり学習／教師なし学習のどちらですか．また，回帰／識別のどちらですか．"
      ]
    },
    {
      "cell_type": "markdown",
      "metadata": {
        "id": "cHWUmBRHh34T"
      },
      "source": [
        "----\n",
        "### 直線当てはめの問題設定"
      ]
    },
    {
      "cell_type": "markdown",
      "metadata": {
        "id": "T4HBIAwXh34U"
      },
      "source": [
        "「ゴリゴリ君」の例は，2次元の平面上に $(気温, アイス売上数)$ という点がたくさん散らばっているときに，それらの点たちに当てはまる直線の式（を表す2つのパラメータ）を求める問題となっています．\n"
      ]
    },
    {
      "cell_type": "markdown",
      "metadata": {
        "id": "1vsdmipPh34U"
      },
      "source": [
        "この問題は，一般化すると次のように表せます：\n",
        "\n",
        "> $x$ の値から $y$ の値が決まるようなデータがあり，両者の関係として直線の式 $ y = ax+b $ が仮定できるとする．$x$ と $y$ の値のペアが $(x_1, y_1), (x_2, y_2), \\ldots, (x_N, y_N)$ と $N$ 個与えられたときに，$x_n$ を式に代入して得られる値 $ax_n + b$ が $y_n$ の「よい」近似値となるような，つまり\n",
        "> \n",
        "> $$\n",
        "y_n \\approx ax_n + b \\qquad (n = 1, 2, \\ldots , N)\n",
        "> $$\n",
        "> \n",
        "> となるようなパラメータ $(a, b)$ を求めたい（記号 $\\approx$ は「近似的に等しい」という意味）．\n",
        "\n",
        "\n"
      ]
    },
    {
      "cell_type": "markdown",
      "metadata": {
        "id": "tHBlqqSvh34U"
      },
      "source": [
        "ただ，これだとまだ「よい」とはどういうことかがあいまいです．ここをきちんとするために，当てはまりのよさの規準を定めましょう．\n",
        "そのために，入力 $x_n$ を式に代入して得られる出力 $ax_n+b$ と，その正解の値 $y_n$ との間の差の二乗である **二乗誤差** （squared error）\n",
        "\n",
        "$$\n",
        "(y_n - (ax_n+b))^2 \\qquad (n = 1, 2, \\ldots , N)\n",
        "$$\n",
        "\n",
        "を考えます（下図参照）．"
      ]
    },
    {
      "cell_type": "markdown",
      "metadata": {
        "id": "I8EptYL-h34U"
      },
      "source": [
        "<img width=\"50%\" src=\"https://www-tlab.math.ryukoku.ac.jp/~takataka/course/ML/residual.png\">"
      ]
    },
    {
      "cell_type": "markdown",
      "metadata": {
        "id": "QDpWE4zfh34U"
      },
      "source": [
        "このとき，$N$ 個のデータについてのこの二乗誤差の和\n",
        "$$\n",
        "\\sum_{n=1}^N (y_n - (ax_n+b))^2\n",
        "$$\n",
        "は，$0$ 以上の実数値をとり，$(a, b)$ を変えるとその値が変化します．この値が小さければ小さいほど「データへの直線の当てはまりがよい」と考えることができそうです．\n",
        "以降では，この考え方に基づいて話を進めます（注）．\n",
        "\n",
        "※注: ここでは二乗誤差を規準としていますが，「差の絶対値」など別の規準を用いることも可能です．その辺りのことはこの授業では説明しません．興味があれば takataka に尋ねてみてください．\n"
      ]
    },
    {
      "cell_type": "markdown",
      "metadata": {
        "id": "7H1LwCAbh34V"
      },
      "source": [
        "----\n",
        "### 最小二乗法 ― 二乗誤差を最小にするパラメータを求める"
      ]
    },
    {
      "cell_type": "markdown",
      "metadata": {
        "id": "ow4E0gnRh34V"
      },
      "source": [
        "\n",
        "上述のように，当てはまりのよさの規準として出力の値と正解の値との間の二乗誤差の和を考え，その値が最小となるようなパラメータを求める方法を，**最小二乗法** （least squares method）といいます（最小となるパラメータをどうやって求めるかは後述）．機械学習よりも歴史の長い，理工学の幅広い分野でよく使われるデータ分析手法ですが，機械学習の文脈では，回帰のための最も基本的な手法と位置づけることができます．"
      ]
    },
    {
      "cell_type": "markdown",
      "metadata": {
        "id": "W-ofZvWYh34V"
      },
      "source": [
        "ここまでで問題をきちんと定式化できましたので，あとは数学の問題となります．やりたいことは，データ $(x_1, y_1), \\ldots, (x_N, y_N)$ に対して二乗誤差の和を最小にするパラメータ $(a, b)$ を求めることです．以下にその解法を説明します．"
      ]
    },
    {
      "cell_type": "markdown",
      "metadata": {
        "id": "JDRPLmxvh34V"
      },
      "source": [
        "関数 $E(a, b)$ を次式で定めます．\n",
        "\n",
        "$$ E(a, b) = \\frac{1}{2}\\sum_{n=1}^N (y_n - (ax_n+b))^2 $$\n",
        "\n",
        "先に出てきた二乗誤差の和を $\\frac{1}{2}$ 倍しただけのものですので，これを最小にする $(a, b)$ を求めてもよいのは明らかですね．（注）．\n",
        "\n",
        "<span style=\"font-size: 75%\">\n",
        "※注: そうするのは，微分した後がほんのちょびっと楽だからってだけです．\n",
        "</span>\n"
      ]
    },
    {
      "cell_type": "markdown",
      "metadata": {
        "id": "kKsVadcYh34V"
      },
      "source": [
        "この値が最小となる $(a, b)$ を求めるため，$\\frac{\\partial E(a,b)}{\\partial a} = 0$，$\\frac{\\partial E(a,b)}{\\partial b} = 0$ とおきます（注）．\n",
        "\n",
        "<span style=\"font-size: 75%\">\n",
        "※注: $E(a, b)$ は「下に凸な」関数なので，その偏導関数がいずれも $0$ のときに最小となります．\n",
        "</span>"
      ]
    },
    {
      "cell_type": "markdown",
      "metadata": {
        "id": "ml5XKAkUh34W"
      },
      "source": [
        "すると，次式が得られます．\n",
        "\n",
        "$$\n",
        "\\begin{aligned}\n",
        "\\frac{\\partial E(a,b)}{\\partial a} &= \\sum_{n=1}^{N}(y_n-(ax_n+b))(-x_n) = a \\sum_{n=1}^{N}x_n^2 + b\\sum_{n=1}^{N}x_n - \\sum_{n=1}^{N}x_ny_n = 0\\\\\n",
        "\\frac{\\partial E(a,b)}{\\partial b} &= \\sum_{n=1}^{N}(y_n-(ax_n+b))(-1) = a \\sum_{n=1}^{N}x_n + b\\sum_{n=1}^{N}1 - \\sum_{n=1}^{N}y_n = 0\\\\\n",
        "\\end{aligned}\n",
        "$$\n"
      ]
    },
    {
      "cell_type": "markdown",
      "metadata": {
        "id": "2eOglrEKh34W"
      },
      "source": [
        "これを整理すると，次の連立一次方程式が得られます．\n",
        "\n",
        "$$\n",
        "\\left\\{\n",
        "\\begin{aligned}\n",
        "a \\sum_{n=1}^{N}x_n^2 + b\\sum_{n=1}^{N}x_n &= \\sum_{n=1}^{N}x_ny_n\\\\\n",
        "a \\sum_{n=1}^{N}x_n + b\\sum_{n=1}^{N}1 &= \\sum_{n=1}^{N}y_n\n",
        "\\end{aligned}\n",
        "\\right.\n",
        "$$\n",
        "\n",
        "行列の式として書くとこんなん：\n",
        "$$\n",
        "\\begin{pmatrix}\n",
        "\\sum_{n=1}^Nx_n^2 & \\sum_{n=1}^Nx_n \\\\ \n",
        "\\sum_{n=1}^Nx_n & \\sum_{n=1}^N1\n",
        "\\end{pmatrix}\n",
        "\\begin{pmatrix}\n",
        "a \\\\ b\n",
        "\\end{pmatrix}\n",
        "=\n",
        "\\begin{pmatrix}\n",
        "\\sum_{n=1}^N x_ny_n \\\\ \\sum_{n=1}^N y_n\n",
        "\\end{pmatrix}\n",
        "$$\n",
        "\n",
        "この連立方程式を「正規方程式」といいます．\n",
        "二乗誤差の和を最小にするパラメータ $(a, b)$ は，この連立方程式の解として求まります．"
      ]
    },
    {
      "cell_type": "markdown",
      "metadata": {
        "id": "jecaIuUwh34W"
      },
      "source": [
        "----\n",
        "### ゴリゴリ君で最小二乗法やってみる"
      ]
    },
    {
      "cell_type": "markdown",
      "metadata": {
        "id": "Lk6C5y2ih34W"
      },
      "source": [
        "「ゴリゴリ君」のデータで実際にコンピュータに直線当てはめの最小二乗法を解かせてみましょう．"
      ]
    },
    {
      "cell_type": "code",
      "execution_count": null,
      "metadata": {
        "id": "j3RwfXfRh34W"
      },
      "outputs": [],
      "source": [
        "# データを用意\n",
        "X = dfGori['気温']\n",
        "XX = np.vstack([X, np.ones_like(X)]).T\n",
        "Y = dfGori['アイス売上数']\n",
        "\n",
        "# 最小二乗法の解を求める\n",
        "XTX = XX.T @ XX  # 正規方程式左辺の 2x2 行列\n",
        "XTY = XX.T @ Y   # 正規方程式右辺の ベクトル\n",
        "a, b = np.linalg.solve(XTX, XTY)\n",
        "\n",
        "# 直線の式を計算\n",
        "Xr = np.array([xmin, xmax])\n",
        "Yest = a * Xr + b\n",
        "\n",
        "# グラフを描く\n",
        "fig, ax = plt.subplots(1, facecolor='white', figsize=(6, 4))\n",
        "ax.scatter(X, Y)\n",
        "ax.plot(Xr, Yest, color='red')\n",
        "ax.set_xlim(xmin, xmax)\n",
        "ax.set_ylim(0, 130)\n",
        "plt.show()\n",
        "\n",
        "# 予測値を求める\n",
        "print(f'得られたパラメータ (a, b) = ({a:.3f}, {b:.3f})')\n",
        "for x in [10, 20, 30]:\n",
        "    y = a*x+b\n",
        "    print(f'気温 {x} 度のときのアイス売上数の予測値は {y:.1f} 個')"
      ]
    },
    {
      "cell_type": "markdown",
      "metadata": {
        "id": "GizyuEQdh34X"
      },
      "source": [
        "----\n",
        "### 練習問題\n",
        "\n",
        "手計算で最小二乗法やってみよう．"
      ]
    },
    {
      "cell_type": "markdown",
      "metadata": {
        "id": "5IlTcQBVh34X"
      },
      "source": [
        "［問題］\n",
        "\n",
        "ほげおくんは，こつこつためたお金で自動車を購入したいと重い，たまに中古車情報を調べている．ほげおくんが気になっている自動車の価格は，調べ始めた日には30万円だったが，それ以降，表のような推移を示していた．\n",
        "\n",
        "|$n$|経過週数 $x_n$|価格[万円]|価格差 $y_n$ [万円]|\n",
        "|----:|----:|----:|----:|\n",
        "|1|0| 30 | 0|\n",
        "|2|4|31|1|\n",
        "|3|8|29|-1|\n",
        "|4|20|28|-2|\n",
        "\n",
        "$(x_1, y_1)$ から $(x_4, y_4)$ までの $N=4$ 個のデータについて，経過週数を$x$，価格**差**を$y$として，\n",
        "$$\n",
        "y = ax+b\n",
        "$$\n",
        "という直線を当てはめたい．最小二乗法を用いてこの直線の式を求め，ほげおくんが気になっている自動車の価格推移を予測してみよう．\n"
      ]
    },
    {
      "cell_type": "markdown",
      "metadata": {
        "id": "ynmm4HkRh34X"
      },
      "source": [
        "(1) 上記のデータについて，次の値をそれぞれ求めなさい．\n",
        "\n",
        "$$\n",
        "\\sum_{n=1}^{N}x_n,\\quad\\sum_{n=1}^{N}y_n,\\quad\\sum_{n=1}^{N}x_n^2,\\quad\\sum_{n=1}^{N}x_ny_n\n",
        "$$"
      ]
    },
    {
      "cell_type": "markdown",
      "metadata": {
        "id": "1W5ZmM1bh34X"
      },
      "source": [
        "(2) 正規方程式を解いて解 $(𝑎,𝑏)$ を求めなさい．"
      ]
    },
    {
      "cell_type": "markdown",
      "metadata": {
        "id": "0i6w32_Jh34X"
      },
      "source": [
        "(3) (2)の結果を利用して，経過週数から価格差を予測する式を求めなさい．それを用いて，ほげおくんが気になっている自動車の価格の，調べ始めから36週後の価格はいくらと予想されるか答えなさい．"
      ]
    },
    {
      "cell_type": "markdown",
      "metadata": {
        "id": "FvQHT8bZh34X"
      },
      "source": [
        ""
      ]
    }
  ],
  "metadata": {
    "colab": {
      "collapsed_sections": [],
      "name": "ex02noteA.ipynb",
      "provenance": [],
      "include_colab_link": true
    },
    "kernelspec": {
      "display_name": "Python 3",
      "name": "python3"
    },
    "language_info": {
      "codemirror_mode": {
        "name": "ipython",
        "version": 3
      },
      "file_extension": ".py",
      "mimetype": "text/x-python",
      "name": "python",
      "nbconvert_exporter": "python",
      "pygments_lexer": "ipython3",
      "version": "3.9.7"
    }
  },
  "nbformat": 4,
  "nbformat_minor": 0
}