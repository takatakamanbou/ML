{
  "cells": [
    {
      "cell_type": "markdown",
      "metadata": {
        "id": "view-in-github",
        "colab_type": "text"
      },
      "source": [
        "<a href=\"https://colab.research.google.com/github/takatakamanbou/ML/blob/main/ex14noteC.ipynb\" target=\"_parent\"><img src=\"https://colab.research.google.com/assets/colab-badge.svg\" alt=\"Open In Colab\"/></a>"
      ]
    },
    {
      "cell_type": "markdown",
      "metadata": {
        "id": "2UzDNLmVS3po"
      },
      "source": [
        "# ML ex14noteC\n",
        "\n",
        "<img width=72 src=\"https://www-tlab.math.ryukoku.ac.jp/~takataka/course/ML/ML-logo.png\"> [この授業のウェブページ](https://www-tlab.math.ryukoku.ac.jp/wiki/?ML/2022)\n"
      ]
    },
    {
      "cell_type": "code",
      "source": [
        "# 準備あれこれ\n",
        "import numpy as np\n",
        "import matplotlib.pyplot as plt\n",
        "import pandas as pd\n",
        "import seaborn\n",
        "seaborn.set()"
      ],
      "metadata": {
        "id": "Uba-rqwa906l"
      },
      "execution_count": null,
      "outputs": []
    },
    {
      "cell_type": "markdown",
      "source": [
        "---\n",
        "## 密度推定と統計的パターン認識の実験\n",
        "---"
      ],
      "metadata": {
        "id": "te6_SrWg77No"
      }
    },
    {
      "cell_type": "markdown",
      "metadata": {
        "id": "_WXvQDHGjLD8"
      },
      "source": [
        "----\n",
        "### 正規分布モデルではうまくいかない例\n",
        "\n",
        "noteA,Bでは正規分布モデルによる密度推定がうまくいく例ばかり見せていました．うまくいかない例を観察するのも大事ですから，ここでそういう例を紹介しておきます．\n"
      ]
    },
    {
      "cell_type": "markdown",
      "source": [
        "まずはデータの準備．"
      ],
      "metadata": {
        "id": "4SLTdA9g4Evg"
      }
    },
    {
      "cell_type": "code",
      "source": [
        "from scipy.stats import multivariate_normal\n",
        "from sklearn.datasets import make_moons\n",
        "\n",
        "moonX, moonY = make_moons(n_samples=200, noise=0.1)\n",
        "XX = moonX[moonY==0, :]\n",
        "print(XX.shape)"
      ],
      "metadata": {
        "id": "nx7HLaPr3_l0"
      },
      "execution_count": null,
      "outputs": []
    },
    {
      "cell_type": "markdown",
      "source": [
        "2次元のデータ100個です．このデータに2次元の正規分布を当てはめてみると..."
      ],
      "metadata": {
        "id": "Djmu5rjB4a0M"
      }
    },
    {
      "cell_type": "code",
      "source": [
        "# 一つの正規分布を当てはめてみる\n",
        "mu = np.mean(XX, axis=0)\n",
        "cov = (XX - mu).T @ (XX - mu) / XX.shape[0]\n",
        "\n",
        "# グラフ描画用のグリッドデータの作成\n",
        "xmin, xmax = -1.5, 1.5\n",
        "ymin, ymax = -1, 2\n",
        "x_mesh, y_mesh = np.mgrid[xmin:xmax:0.02, ymin:ymax:0.02]\n",
        "X_mesh = np.dstack((x_mesh, y_mesh))\n",
        "\n",
        "# グラフ\n",
        "fig = plt.figure(facecolor=\"white\", figsize=(12, 8))\n",
        "\n",
        "# 散布図\n",
        "ax0 = fig.add_subplot(121)\n",
        "ax0.scatter(XX[:, 0], XX[:, 1])\n",
        "ax0.set_xlim(xmin, xmax)\n",
        "ax0.set_ylim(ymin, ymax)\n",
        "ax0.set_aspect('equal')\n",
        "\n",
        "# Gaussian を当てはめた結果\n",
        "ax1 = fig.add_subplot(122)\n",
        "ax1.scatter(XX[:, 0], XX[:, 1])\n",
        "ax1.contour(x_mesh, y_mesh, multivariate_normal.pdf(X_mesh, mean=mu, cov=cov))\n",
        "ax1.set_xlim(xmin, xmax)\n",
        "ax1.set_ylim(ymin, ymax)\n",
        "ax1.set_aspect('equal')\n",
        "\n",
        "plt.show()"
      ],
      "metadata": {
        "id": "l-Y6ZYYa4SEN"
      },
      "execution_count": null,
      "outputs": []
    },
    {
      "cell_type": "markdown",
      "source": [
        "左の散布図を見て分かるように，このデータは正規分布とはまったく異なる分布の仕方をしています．これに正規分布を当てはめると，右図のような結果となります．データの分布を全く再現できてませんね．当てはめた正規分布の平均の近くは確率密度の値が大きいはずですが，その辺りには全くデータが存在していません．\n",
        "\n"
      ],
      "metadata": {
        "id": "2r0ZsXA-4i-J"
      }
    },
    {
      "cell_type": "markdown",
      "source": [
        "というわけですので，例えば以下のような2クラスの識別問題に対して..."
      ],
      "metadata": {
        "id": "mqZY-1K_6rdL"
      }
    },
    {
      "cell_type": "code",
      "source": [
        "# グラフを描く\n",
        "fig, ax = plt.subplots(facecolor=\"white\", figsize=(8, 8))\n",
        "ax.scatter(moonX[moonY==0, 0], moonX[moonY==0, 1])\n",
        "ax.scatter(moonX[moonY==1, 0], moonX[moonY==1, 1])\n",
        "ax.set_xlim(-1.5, 2.5)\n",
        "ax.set_ylim(-2, 2)\n",
        "ax.set_aspect('equal')\n",
        "plt.show()"
      ],
      "metadata": {
        "id": "aWHhaI_a6mUk"
      },
      "execution_count": null,
      "outputs": []
    },
    {
      "cell_type": "markdown",
      "source": [
        "それぞれのクラスのデータの分布に正規分布を当てはめて事後確率を推定してみると..."
      ],
      "metadata": {
        "id": "225VVh6m6Vys"
      }
    },
    {
      "cell_type": "code",
      "source": [
        "K = 2\n",
        "X = moonX\n",
        "lab = moonY\n",
        "N, D = X.shape\n",
        "\n",
        "# 事前確率を推定\n",
        "py = np.empty(K)\n",
        "for k in range(K):\n",
        "    py[k] = np.sum(lab==k)/N\n",
        "print('### 事前確率')\n",
        "print('p(y) = ', py)\n",
        "\n",
        "# p(x|y) を正規分布でモデル化（平均，共分散行列の推定）\n",
        "mu = np.empty((K, D))\n",
        "cov = np.empty((K, D, D))\n",
        "for k in range(K):\n",
        "    XX = X[lab==k, :]\n",
        "    mu[k] = np.mean(XX, axis=0)\n",
        "    cov[k] = (XX - mu[k]).T @ (XX - mu[k]) / XX.shape[0]\n",
        "    print(f'### class {k} の正規分布のパラメータ')\n",
        "    print(mu[k])\n",
        "    print(cov[k])\n",
        "\n",
        "# グラフ描画用のグリッドデータの作成\n",
        "xmin, xmax = -1.5, 2.5\n",
        "ymin, ymax = -2, 2\n",
        "x_mesh, y_mesh = np.mgrid[xmin:xmax:0.02, ymin:ymax:0.02]\n",
        "X_mesh = np.dstack((x_mesh, y_mesh))\n",
        "\n",
        "# 事後確率の推定\n",
        "p = np.empty((K, X_mesh.shape[0]*X_mesh.shape[1]))\n",
        "for k in range(K):\n",
        "    p[k, :] = py[k] * multivariate_normal.pdf(X_mesh, mean=mu[k], cov=cov[k]).reshape(-1)\n",
        "p /= np.sum(p, axis=0)\n",
        "pp = p.reshape((K, X_mesh.shape[0], X_mesh.shape[1]))\n",
        "\n",
        "# グラフ\n",
        "fig = plt.figure(facecolor=\"white\", figsize=(12, 8))\n",
        "\n",
        "# Gaussian を当てはめた結果\n",
        "ax0 = fig.add_subplot(121)\n",
        "for k in range(K):\n",
        "    ax0.scatter(X[lab==k, 0], X[lab==k, 1])\n",
        "    ax0.contour(x_mesh, y_mesh, multivariate_normal.pdf(X_mesh, mean=mu[k], cov=cov[k]))\n",
        "ax0.set_xlim(xmin, xmax)\n",
        "ax0.set_ylim(ymin, ymax)\n",
        "ax0.set_aspect('equal')\n",
        "\n",
        "# 事後確率の可視化\n",
        "cmap = ['Blues', 'Oranges', 'Greens']\n",
        "ax1 = fig.add_subplot(122)\n",
        "for k in range(K):\n",
        "    ax1.scatter(X[lab==k, 0], X[lab==k, 1])\n",
        "    ax1.contourf(x_mesh, y_mesh, pp[k], levels=[0.4, 0.5, 0.6, 0.7, 0.8, 0.9, 1.0], cmap=cmap[k], alpha=0.3)\n",
        "ax1.set_xlim(xmin, xmax)\n",
        "ax1.set_ylim(ymin, ymax)\n",
        "ax1.set_aspect('equal')\n",
        "\n",
        "plt.show()"
      ],
      "metadata": {
        "id": "t0hZIqK87Dad"
      },
      "execution_count": null,
      "outputs": []
    },
    {
      "cell_type": "markdown",
      "source": [
        "こんなふうに．学習データすらまともに識別できない結果となっています．"
      ],
      "metadata": {
        "id": "7xg2OHCz7QZi"
      }
    },
    {
      "cell_type": "markdown",
      "source": [
        "というわけで，密度推定においては，データの分布に合わせた確率モデルを選ばないと良い結果は得られません．これは，回帰の問題で入力と出力の関係が直線の式ではうまく表せないようなデータに直線を当てはめようとしているのと似た状況ですね．\n",
        "\n",
        "※ 「**よだんだよん**」のところにこの話の続きの余談があります．"
      ],
      "metadata": {
        "id": "hlk1RrEn5Izc"
      }
    },
    {
      "cell_type": "markdown",
      "source": [
        "----\n",
        "### 手書き数字識別やってみる\n",
        "\n",
        "クラスごとのデータの分布を正規分布をと仮定して事後確率を推定する方法で，手書き数字識別やってみましょう．\n"
      ],
      "metadata": {
        "id": "_-uFvg7i7wg9"
      }
    },
    {
      "cell_type": "markdown",
      "source": [
        "#### 準備"
      ],
      "metadata": {
        "id": "2lCGarMx8ji8"
      }
    },
    {
      "cell_type": "code",
      "source": [
        "# 手書き数字データの入手\n",
        "! wget -nc https://www-tlab.math.ryukoku.ac.jp/~takataka/course/ML/minimnist.npz\n",
        "rv = np.load('minimnist.npz')\n",
        "datL = rv['datL'].astype(float)\n",
        "labL = rv['labL']\n",
        "datT = rv['datT'].astype(float)\n",
        "labT = rv['labT']\n",
        "print(datL.shape, labL.shape, datT.shape, labT.shape)\n",
        "\n",
        "K = 10 # クラス数\n",
        "D = datL.shape[1] # データの次元数 28 x 28 = 784"
      ],
      "metadata": {
        "id": "7_fawtR88nw3"
      },
      "execution_count": null,
      "outputs": []
    },
    {
      "cell_type": "code",
      "source": [
        "# データを画像として表示するための関数\n",
        "#\n",
        "def display(data, nx, ny, nrow=28, ncol=28, gap=4):\n",
        "\n",
        "    assert data.shape[0] == nx*ny\n",
        "    assert data.shape[1] == nrow*ncol\n",
        "\n",
        "    # 並べた画像の幅と高さ\n",
        "    width  = nx * (ncol + gap) + gap\n",
        "    height = ny * (nrow + gap) + gap\n",
        "\n",
        "    # 画像の作成\n",
        "    img = np.zeros((height, width), dtype = int) + 128\n",
        "    for iy in range(ny):\n",
        "        lty = iy*(nrow + gap) + gap\n",
        "        for ix in range(nx):\n",
        "            ltx = ix*(ncol + gap) + gap\n",
        "            img[lty:lty+nrow, ltx:ltx+ncol] = data[iy*nx+ix].reshape((nrow, ncol))\n",
        "\n",
        "    # 画像の出力\n",
        "    plt.axis('off')\n",
        "    plt.imshow(img, cmap = 'gray')\n",
        "    plt.show()"
      ],
      "metadata": {
        "id": "nKrwQ9C08q5B"
      },
      "execution_count": null,
      "outputs": []
    },
    {
      "cell_type": "code",
      "source": [
        "nx, ny = 10, 5\n",
        "display(datL[:50], nx, ny)\n",
        "for iy in range(ny):\n",
        "    print(labL[iy*nx:(iy+1)*nx])"
      ],
      "metadata": {
        "id": "Sp8sRyQ88tTc"
      },
      "execution_count": null,
      "outputs": []
    },
    {
      "cell_type": "code",
      "source": [
        "XL = datL\n",
        "YL = labL\n",
        "NL, D = datL.shape\n",
        "K = 10"
      ],
      "metadata": {
        "id": "PWLaOEKaU4LW"
      },
      "execution_count": null,
      "outputs": []
    },
    {
      "cell_type": "markdown",
      "source": [
        "#### 事前確率を推定\n",
        "\n",
        "クラスごとの学習データの比率でクラス事前確率 $p(y)$ を推定．"
      ],
      "metadata": {
        "id": "PVR_pj5gWXTm"
      }
    },
    {
      "cell_type": "code",
      "source": [
        "py = np.empty(K)\n",
        "for k in range(K):\n",
        "    py[k] = np.sum(YL==k)/NL\n",
        "print('### 事前確率')\n",
        "print('p(y) = ', py)"
      ],
      "metadata": {
        "id": "T4bNsBjbWaO5"
      },
      "execution_count": null,
      "outputs": []
    },
    {
      "cell_type": "markdown",
      "source": [
        "#### 正規分布の当てはめ\n",
        "\n",
        "クラスごとのデータの分布 $p(\\mathbf{x}|y)$ を推定．\n",
        "多変量正規分布でモデル化し，それぞれの平均と分散共分散行列を求めます．"
      ],
      "metadata": {
        "id": "wNclsINHS_ZK"
      }
    },
    {
      "cell_type": "code",
      "source": [
        "from sklearn.mixture import GaussianMixture\n",
        "\n",
        "model = np.empty(K, dtype=object)\n",
        "for k in range(K):\n",
        "    XX = XL[YL==k, :]\n",
        "    model[k] = GaussianMixture(n_components=1, covariance_type='full')\n",
        "    model[k].fit(XX)"
      ],
      "metadata": {
        "id": "Oa2JKSk0TaIk"
      },
      "execution_count": null,
      "outputs": []
    },
    {
      "cell_type": "markdown",
      "source": [
        "クラスごとのデータの平均を可視化してみるとこんなん．"
      ],
      "metadata": {
        "id": "tXHupqZqVyjb"
      }
    },
    {
      "cell_type": "code",
      "source": [
        "xm = np.empty((K, D))\n",
        "for k in range(K):\n",
        "    xm[k, :] = model[k].means_[0, :]\n",
        "display(xm, K, 1)"
      ],
      "metadata": {
        "id": "kX9hBiE6V-Zn"
      },
      "execution_count": null,
      "outputs": []
    },
    {
      "cell_type": "markdown",
      "source": [
        "#### テストデータを識別させてみる\n",
        "\n",
        "テストデータを事後確率の推定値が最大となるクラスへ分類する方法で，識別率を算出してみます．\n",
        "クラスごとのデータの平均をプロトタイプとする最短距離法でも同じことをやり，結果を比較します．"
      ],
      "metadata": {
        "id": "75iUO6brW4ax"
      }
    },
    {
      "cell_type": "code",
      "source": [
        "XT = datT\n",
        "YT = labT\n",
        "NT, _ = datT.shape\n",
        "\n",
        "score = np.empty(K)\n",
        "ncorrect1 = ncorrect2 = 0\n",
        "\n",
        "for n in range(NT):\n",
        "    xx = XT[n, :]\n",
        "\n",
        "    # 方法1: 事後確率の推定値が最大のクラスに識別\n",
        "    for k in range(K):\n",
        "        # log(p(y)p(x|y)) = log(p(y)) + log(p(x|y))\n",
        "        score[k] = np.log(py[k]) + model[k].score(xx[np.newaxis, :])\n",
        "    if np.argmax(score) == YT[n]:\n",
        "        ncorrect1 += 1\n",
        "\n",
        "    # 方法2: 最短距離法で識別\n",
        "    d2 = np.sum(np.square(xx[np.newaxis, :] - xm), axis=1)\n",
        "    if np.argmin(d2) == YT[n]:\n",
        "        ncorrect2 += 1\n",
        "\n",
        "print(f'方法1の識別率: {ncorrect1}/{NT} = {ncorrect1/NT:.3f}')\n",
        "print(f'方法2の識別率: {ncorrect2}/{NT} = {ncorrect2/NT:.3f}')"
      ],
      "metadata": {
        "id": "OH8sSt76X4Ze"
      },
      "execution_count": null,
      "outputs": []
    },
    {
      "cell_type": "markdown",
      "source": [
        "最短距離法に劣る結果となりました．\n",
        "正規分布の当てはめがあまりうまくいっていないのかもしれません．\n",
        "\n",
        "※ 「**よだんだよん**」のところにこの話の続きの余談があります．"
      ],
      "metadata": {
        "id": "t7xoVUmEbjqL"
      }
    },
    {
      "cell_type": "markdown",
      "source": [
        "---\n",
        "### ［よだんだよん］ 混合正規分布モデルを使ってみる\n",
        "\n",
        "※ ここから先は，授業の範囲を超えた余談です"
      ],
      "metadata": {
        "id": "3GcR7kPPcFWr"
      }
    },
    {
      "cell_type": "markdown",
      "source": [
        "上記で見たように，正規分布は単純すぎてうまくデータの分布を表現できないことがあります．\n",
        "そういう場合への対応の方法はいろいろありますが，ここでは，「複数の正規分布の重み付き和」で表される「混合正規分布モデル」(Gaussian mixture model)を紹介します．\n",
        "\n",
        "これは，$M$個の正規分布の重み付き和で，次のように表されます．\n",
        "$$\n",
        "p(\\mathbf{x}) = \\sum_{m=1}^{M} w_m{\\cal N}(\\mathbf{x}|\\mathbf{\\mu}_m, \\Sigma_m)\n",
        "$$\n",
        "${\\cal N}(\\mathbf{x}|\\mathbf{\\mu}_m, \\Sigma_m)$ は平均$\\mathbf{\\mu}_m$ 分散共分散行列 $\\Sigma_m$ の多変量正規分布です．$w_m$ は $m$ 番目の正規分布の重みを表し，$0 \\leq w_m \\leq 1, \\sum_{m=1}^M w_m = 1$ を満たします．\n",
        "混合正規分布モデルでは，$w_m, \\mathbf{\\mu}_m, \\Sigma_m$ がモデルパラメータとなります．"
      ],
      "metadata": {
        "id": "drlhv8wBcboy"
      }
    },
    {
      "cell_type": "markdown",
      "source": [
        "2次元の「うまくいかない例」のデータに $M=3$ の混合正規分布モデルを当てはめてみると，こんなふうになります．"
      ],
      "metadata": {
        "id": "SfIEqZPOez8w"
      }
    },
    {
      "cell_type": "code",
      "source": [
        "K = 2\n",
        "X = moonX\n",
        "lab = moonY\n",
        "N, D = X.shape\n",
        "M = 3\n",
        "\n",
        "# 事前確率を推定\n",
        "py = np.empty(K)\n",
        "for k in range(K):\n",
        "    py[k] = np.sum(lab==k)/N\n",
        "print('### 事前確率')\n",
        "print('p(y) = ', py)\n",
        "\n",
        "# p(x|y) を多変量正規分布でモデル化\n",
        "mu = np.empty((K, M, D))\n",
        "cov = np.empty((K, M, D, D))\n",
        "model = np.empty(K, dtype=object)\n",
        "for k in range(K):\n",
        "    XX = X[lab==k, :]\n",
        "    model[k] = GaussianMixture(n_components=M, covariance_type='full')\n",
        "    model[k].fit(XX)\n",
        "    mu[k, ::] = model[k].means_\n",
        "    cov[k, ::] = model[k].covariances_\n",
        "    \n",
        "\n",
        "# グラフ描画用のグリッドデータの作成\n",
        "xmin, xmax = -1.5, 2.5\n",
        "ymin, ymax = -2, 2\n",
        "x_mesh, y_mesh = np.mgrid[xmin:xmax:0.02, ymin:ymax:0.02]\n",
        "X_mesh = np.dstack((x_mesh, y_mesh))\n",
        "print(X_mesh.shape)\n",
        "\n",
        "# 事後確率の推定\n",
        "p = np.empty((K, X_mesh.shape[0]*X_mesh.shape[1]))\n",
        "for k in range(K):\n",
        "    proba = np.exp(model[k].score_samples(X_mesh.reshape((-1, 2))))\n",
        "    p[k, :] = py[k] * proba\n",
        "p /= np.sum(p, axis=0)\n",
        "pp = p.reshape((K, X_mesh.shape[0], X_mesh.shape[1]))\n",
        "\n",
        "# グラフ\n",
        "fig = plt.figure(facecolor=\"white\", figsize=(12, 8))\n",
        "\n",
        "# Gaussian を当てはめた結果\n",
        "ax0 = fig.add_subplot(121)\n",
        "for k in range(K):\n",
        "    ax0.scatter(X[lab==k, 0], X[lab==k, 1])\n",
        "    for m in range(M):\n",
        "        z = multivariate_normal.pdf(X_mesh, mean=mu[k, m], cov=cov[k, m])\n",
        "        ax0.contour(x_mesh, y_mesh, z, levels=6)\n",
        "ax0.set_xlim(xmin, xmax)\n",
        "ax0.set_ylim(ymin, ymax)\n",
        "ax0.set_aspect('equal')\n",
        "\n",
        "# 事後確率の可視化\n",
        "cmap = ['Blues', 'Oranges', 'Greens']\n",
        "ax1 = fig.add_subplot(122)\n",
        "for k in range(K):\n",
        "    ax1.scatter(X[lab==k, 0], X[lab==k, 1])\n",
        "    ax1.contourf(x_mesh, y_mesh, pp[k], levels=[0.4, 0.5, 0.6, 0.7, 0.8, 0.9, 1.0], cmap=cmap[k], alpha=0.3)\n",
        "ax1.set_xlim(xmin, xmax)\n",
        "ax1.set_ylim(ymin, ymax)\n",
        "ax1.set_aspect('equal')\n",
        "\n",
        "plt.show()"
      ],
      "metadata": {
        "id": "80S58YAVcG7W"
      },
      "execution_count": null,
      "outputs": []
    },
    {
      "cell_type": "markdown",
      "source": [
        "次に，$M = 5$ の混合正規分布モデルを手書き数字識別に使ってみます．\n",
        "\n",
        "まずは，クラスごとのデータに混合正規分布モデルを当てはめます．"
      ],
      "metadata": {
        "id": "zYSrQn4CgDss"
      }
    },
    {
      "cell_type": "code",
      "source": [
        "from sklearn.mixture import GaussianMixture\n",
        "\n",
        "XL = datL\n",
        "YL = labL\n",
        "NL, D = datL.shape\n",
        "K = 10\n",
        "M = 5\n",
        "\n",
        "model = np.empty(K, dtype=object)\n",
        "for k in range(K):\n",
        "    print()\n",
        "    print(f'##### K = {k}')\n",
        "    XX = XL[labL==k, :]\n",
        "    model[k] = GaussianMixture(n_components=M, covariance_type='full', verbose=10)\n",
        "    model[k].fit(XX)"
      ],
      "metadata": {
        "id": "p78HDF1ueHLq"
      },
      "execution_count": null,
      "outputs": []
    },
    {
      "cell_type": "markdown",
      "source": [
        "クラスごとに$M$個の正規分布を使っています．それぞれの平均を可視化するとこんなんなります．"
      ],
      "metadata": {
        "id": "MiNO_9bbg2aN"
      }
    },
    {
      "cell_type": "code",
      "source": [
        "mu = np.empty((K, M, D))\n",
        "for k in range(K):\n",
        "    mu[k, ::] = model[k].means_\n",
        "\n",
        "display(mu.reshape((-1, D)), M, K)\n"
      ],
      "metadata": {
        "id": "ZGAuyn8Fgk35"
      },
      "execution_count": null,
      "outputs": []
    },
    {
      "cell_type": "markdown",
      "source": [
        "識別させてみると..."
      ],
      "metadata": {
        "id": "ka7qFqP6iqEp"
      }
    },
    {
      "cell_type": "code",
      "source": [
        "XT = datT\n",
        "YT = labT\n",
        "NT, _ = datT.shape\n",
        "\n",
        "score = np.empty(K)\n",
        "ncorrect1 = 0\n",
        "\n",
        "# 事前確率を推定\n",
        "py = np.empty(K)\n",
        "for k in range(K):\n",
        "    py[k] = np.sum(YL==k)/N\n",
        "#print('### 事前確率')\n",
        "#print('p(y) = ', py)\n",
        "\n",
        "# 事後確率の推定値が最大のクラスに識別\n",
        "for n in range(NT):\n",
        "    xx = XT[n, :]\n",
        "    for k in range(K):\n",
        "        # log(p(y)p(x|y)) = log(p(y)) + log(p(x|y))\n",
        "        score[k] = np.log(py[k]) + model[k].score(xx[np.newaxis, :])\n",
        "    if np.argmax(score) == YT[n]:\n",
        "        ncorrect1 += 1\n",
        "    if n % 100 == 0:\n",
        "        print(f'{ncorrect1}/{n}')\n",
        "\n",
        "print(f'識別率: {ncorrect1}/{NT} = {ncorrect1/NT:.3f}')"
      ],
      "metadata": {
        "id": "DqdPGwb5gcJ5"
      },
      "execution_count": null,
      "outputs": []
    },
    {
      "cell_type": "markdown",
      "source": [
        "正規分布一つや最短距離法よりも高い識別率が得られました．"
      ],
      "metadata": {
        "id": "swiRWmPFiswM"
      }
    },
    {
      "cell_type": "code",
      "source": [
        ""
      ],
      "metadata": {
        "id": "dCxlclEjhNPI"
      },
      "execution_count": null,
      "outputs": []
    }
  ],
  "metadata": {
    "colab": {
      "collapsed_sections": [],
      "name": "ex14noteC.ipynb",
      "provenance": [],
      "toc_visible": true,
      "include_colab_link": true
    },
    "kernelspec": {
      "display_name": "Python 3",
      "name": "python3"
    },
    "language_info": {
      "codemirror_mode": {
        "name": "ipython",
        "version": 3
      },
      "file_extension": ".py",
      "mimetype": "text/x-python",
      "name": "python",
      "nbconvert_exporter": "python",
      "pygments_lexer": "ipython3",
      "version": "3.9.7"
    }
  },
  "nbformat": 4,
  "nbformat_minor": 0
}