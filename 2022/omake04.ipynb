{
  "nbformat": 4,
  "nbformat_minor": 0,
  "metadata": {
    "colab": {
      "name": "omake04.ipynb",
      "provenance": [],
      "collapsed_sections": [],
      "authorship_tag": "ABX9TyMtpB0Iad+oLXZwcJveLics",
      "include_colab_link": true
    },
    "kernelspec": {
      "name": "python3",
      "display_name": "Python 3"
    }
  },
  "cells": [
    {
      "cell_type": "markdown",
      "metadata": {
        "id": "view-in-github",
        "colab_type": "text"
      },
      "source": [
        "<a href=\"https://colab.research.google.com/github/takatakamanbou/ML/blob/main/omake04.ipynb\" target=\"_parent\"><img src=\"https://colab.research.google.com/assets/colab-badge.svg\" alt=\"Open In Colab\"/></a>"
      ]
    },
    {
      "cell_type": "markdown",
      "metadata": {
        "id": "2UzDNLmVS3po"
      },
      "source": [
        "# ML omake04\n",
        "\n",
        "<img width=64 src=\"https://www-tlab.math.ryukoku.ac.jp/~takataka/course/ML/ML-logo.png\">\n"
      ]
    },
    {
      "cell_type": "markdown",
      "metadata": {
        "id": "_4-TmUdCd9FJ"
      },
      "source": [
        "----\n",
        "# Python + NumPy + Matplotlib + Pandas 入門 (2)\n",
        "----\n",
        "\n",
        "おまけ03の続編です．ベクトルや行列の計算をしたり，それを応用して最小二乗法の問題を解いたりします．\n"
      ]
    },
    {
      "cell_type": "markdown",
      "metadata": {
        "id": "Z4c3TGUV38Ri"
      },
      "source": [
        "----\n",
        "## NumPy でベクトルや行列を扱う\n",
        "\n",
        "前回の続きとして，NumPy でベクトルや行列を扱う方法を説明します．"
      ]
    },
    {
      "cell_type": "markdown",
      "source": [
        "### 一次元配列・ベクトル"
      ],
      "metadata": {
        "id": "VVx8EHvvfs_z"
      }
    },
    {
      "cell_type": "code",
      "metadata": {
        "id": "mH1RWEw54RPv"
      },
      "source": [
        "import numpy as np  # numpy モジュールをインポートして np という名前で呼べるようにする"
      ],
      "execution_count": null,
      "outputs": []
    },
    {
      "cell_type": "markdown",
      "metadata": {
        "id": "ZnE7_3uaRFDn"
      },
      "source": [
        "一次元の配列（`np.array`）の話の復習から．"
      ]
    },
    {
      "cell_type": "code",
      "source": [
        "x = np.arange(1, 6)  # 5つの要素から成る配列\n",
        "print(x)\n",
        "print(x.shape) # 配列 x の shape（形）．要素数 5 のベクトル（一次元配列）であることがわかる"
      ],
      "metadata": {
        "id": "z8byvBOBPEQQ"
      },
      "execution_count": null,
      "outputs": []
    },
    {
      "cell_type": "code",
      "source": [
        "y = np.array([1, 2, np.pi, 4, 5]) # 浮動小数点数の配列． np.pi は円周率\n",
        "print(y)\n",
        "print(y.shape)"
      ],
      "metadata": {
        "id": "FEebHACWPb9R"
      },
      "execution_count": null,
      "outputs": []
    },
    {
      "cell_type": "markdown",
      "source": [
        "上記の `x` と `y` はいずれも要素数が 5 の一次元配列です．次のような演算ができるのでした．"
      ],
      "metadata": {
        "id": "hKMryDJyP_PG"
      }
    },
    {
      "cell_type": "code",
      "source": [
        "x2 = x + 2\n",
        "print(x2)"
      ],
      "metadata": {
        "id": "Quu1irglPy0n"
      },
      "execution_count": null,
      "outputs": []
    },
    {
      "cell_type": "code",
      "metadata": {
        "id": "ROG8mPBJ4Uln"
      },
      "source": [
        "z = x + y\n",
        "print(z)"
      ],
      "execution_count": null,
      "outputs": []
    },
    {
      "cell_type": "markdown",
      "source": [
        "C言語の配列と同じように要素を取り出すこともできます．"
      ],
      "metadata": {
        "id": "b1e9fQhQSqJP"
      }
    },
    {
      "cell_type": "code",
      "source": [
        "x[2]"
      ],
      "metadata": {
        "id": "W13MByCPSxyQ"
      },
      "execution_count": null,
      "outputs": []
    },
    {
      "cell_type": "markdown",
      "source": [
        "要素番号を指定している `[ ]` の中には，スライスも書けます．"
      ],
      "metadata": {
        "id": "VeUfAmizS4KH"
      }
    },
    {
      "cell_type": "code",
      "source": [
        "y[1:4]"
      ],
      "metadata": {
        "id": "dmi-vbUQT8uv"
      },
      "execution_count": null,
      "outputs": []
    },
    {
      "cell_type": "markdown",
      "source": [
        "ここで作った変数 `x` と `y` はいずれも要素数 5 の一次元配列ですので，5次元のベクトルとみなすことができます． `@` 演算子を使うと，二つのベクトル同士の内積を計算させることができます．"
      ],
      "metadata": {
        "id": "HL4EKSdmUbkh"
      }
    },
    {
      "cell_type": "code",
      "source": [
        "x @ y"
      ],
      "metadata": {
        "id": "ozn-AAuVUx8B"
      },
      "execution_count": null,
      "outputs": []
    },
    {
      "cell_type": "markdown",
      "source": [
        "$\\mathbf{x} = (x_1, x_2, \\dots, x_{D})$ および $\\mathbf{y} = (y_1, y_2, \\dots, y_{D})$ のとき，$\\mathbf{x}$ と $\\mathbf{y}$ の内積 $\\mathbf{x}\\cdot\\mathbf{y}$ は\n",
        "\n",
        "$$\n",
        "\\mathbf{x}\\cdot\\mathbf{y} = \\sum_{d=1}^{D} x_dy_d\n",
        "$$\n",
        "\n",
        "です．"
      ],
      "metadata": {
        "id": "4SUp89nrU1fE"
      }
    },
    {
      "cell_type": "markdown",
      "source": [
        "一方，`*`演算子を使うと，同じ要素数の配列の同じ場所の値同士の積を計算することになります．`@`演算子による内積の計算と違って結果は元の配列と同じ要素数の配列です．"
      ],
      "metadata": {
        "id": "LyprNRe1fHxV"
      }
    },
    {
      "cell_type": "code",
      "source": [
        "x * y"
      ],
      "metadata": {
        "id": "OOdA75ojfYjv"
      },
      "execution_count": null,
      "outputs": []
    },
    {
      "cell_type": "markdown",
      "source": [
        "### 二次元配列・行列"
      ],
      "metadata": {
        "id": "sJLdeMj9f6av"
      }
    },
    {
      "cell_type": "markdown",
      "source": [
        "`np.array` にリストのリストを渡すと，二次元配列（=行列）を作ることができます．\n"
      ],
      "metadata": {
        "id": "t0ACQzF0Qirw"
      }
    },
    {
      "cell_type": "code",
      "source": [
        "A = np.array( [[0, 1, 2], [3, 4, 5]]) # 2行3列の行列\n",
        "print(A)\n",
        "print(A.shape) # 配列 A の shape（形）． 2x3 行列であることがわかる"
      ],
      "metadata": {
        "id": "5XudrBvNQSfX"
      },
      "execution_count": null,
      "outputs": []
    },
    {
      "cell_type": "markdown",
      "source": [
        "`reshape` というメソッドを使うと配列の形を変えることができるので，これを利用して作る手もあります．"
      ],
      "metadata": {
        "id": "Ba95Es5VXAVc"
      }
    },
    {
      "cell_type": "code",
      "source": [
        "b = np.arange(6)  # b は要素数 6 の一次元配列\n",
        "print(b)\n",
        "B = b.reshape((3, 2)) # B は b を (3, 2) の shape で見たもの\n",
        "print(B)\n",
        "print(B.shape)"
      ],
      "metadata": {
        "id": "m4uFc-TyXQ-3"
      },
      "execution_count": null,
      "outputs": []
    },
    {
      "cell_type": "markdown",
      "source": [
        "ここで，`b` と `B` は見た目は別物ですが，要素は同じものです（同じ記憶領域を共有している，という言い方もできます）．そのため，次のようなことになります．"
      ],
      "metadata": {
        "id": "Vr-uKvklXmtL"
      }
    },
    {
      "cell_type": "code",
      "source": [
        "b[3] = 5963  # b の一つの値を変更\n",
        "print(b) \n",
        "print(B)  # B の方は変更してないが..."
      ],
      "metadata": {
        "id": "J6caMG96X4ji"
      },
      "execution_count": null,
      "outputs": []
    },
    {
      "cell_type": "markdown",
      "source": [
        "変数`A` が表す $2\\times 3$ 行列を $A$，変数`B` が表す $3\\times 2$ 行列を $B$ とおくと，これら二つの積 $AB$ は $2\\times 2$ 行列となります．次のように `@` 演算子を使って行列の積が計算できます．"
      ],
      "metadata": {
        "id": "k-2RBCY3aGY-"
      }
    },
    {
      "cell_type": "code",
      "source": [
        "print(A @ B)"
      ],
      "metadata": {
        "id": "vDKfdwqdZEIY"
      },
      "execution_count": null,
      "outputs": []
    },
    {
      "cell_type": "markdown",
      "source": [
        "同様に積 $BA$ も計算できます．結果は $3\\times 3$行列．"
      ],
      "metadata": {
        "id": "aUOFwuEnacSr"
      }
    },
    {
      "cell_type": "code",
      "source": [
        "print(B @ A)"
      ],
      "metadata": {
        "id": "M82PLuoEa6cc"
      },
      "execution_count": null,
      "outputs": []
    },
    {
      "cell_type": "markdown",
      "source": [
        "`A.T` は `A` の転置行列．つまり，$A^{\\top}$．"
      ],
      "metadata": {
        "id": "-g05Uu1HcDcB"
      }
    },
    {
      "cell_type": "code",
      "source": [
        "At = A.T\n",
        "print(At, At.shape)"
      ],
      "metadata": {
        "id": "Xjm-IH5rcO8C"
      },
      "execution_count": null,
      "outputs": []
    },
    {
      "cell_type": "markdown",
      "source": [
        "一次元配列の場合と同様に，`*`は要素ごとの積を求める演算子です．"
      ],
      "metadata": {
        "id": "mGpoT3KFgC2g"
      }
    },
    {
      "cell_type": "code",
      "source": [
        "hoge = np.arange(4)\n",
        "C = hoge.reshape((2, 2))\n",
        "print(C)\n",
        "print(C @ C) # 行列 C と C の積，つまり C の二乗\n",
        "print(C * C) # C の要素ごとの二乗"
      ],
      "metadata": {
        "id": "ta_58FVKgOzs"
      },
      "execution_count": null,
      "outputs": []
    },
    {
      "cell_type": "markdown",
      "metadata": {
        "id": "Hd046TELUaLL"
      },
      "source": [
        "一次元配列の場合と同様に，`[ ]`の中に要素番号を指定することで要素の値を参照したり値を代入したりできます．"
      ]
    },
    {
      "cell_type": "code",
      "source": [
        "print(A)\n",
        "print(A[1, 2]) # 0から数えて1行目，0から数えて2列目"
      ],
      "metadata": {
        "id": "N_LP0oPlhK2n"
      },
      "execution_count": null,
      "outputs": []
    },
    {
      "cell_type": "markdown",
      "source": [
        "スライスも使えます．"
      ],
      "metadata": {
        "id": "NGsrkQe3hh40"
      }
    },
    {
      "cell_type": "code",
      "source": [
        "print(A[1, :2]) # 1行目の0列目と1列目のみ取り出した配列"
      ],
      "metadata": {
        "id": "IMHmGMbghj5I"
      },
      "execution_count": null,
      "outputs": []
    },
    {
      "cell_type": "code",
      "source": [
        "print(A[:, 1])  # 全ての行の1列目のみ取り出した配列"
      ],
      "metadata": {
        "id": "VjuT4j1lh48l"
      },
      "execution_count": null,
      "outputs": []
    },
    {
      "cell_type": "code",
      "source": [
        "print(A[:, 1:])"
      ],
      "metadata": {
        "id": "1KdrKtDtlRf2"
      },
      "execution_count": null,
      "outputs": []
    },
    {
      "cell_type": "markdown",
      "metadata": {
        "id": "oV9c8hEiPog9"
      },
      "source": [
        "----\n",
        "## 練習問題\n"
      ]
    },
    {
      "cell_type": "markdown",
      "source": [
        "以下のセルを実行すると，変数 `dataX` と `dataY` の値が， ex02noteA の練習問題（自動車価格の変化を表すデータの回帰分析）の $x_n$ と $y_n$ の値をそれぞれ並べた配列になります．\n"
      ],
      "metadata": {
        "id": "WgmpmFN5hCQY"
      }
    },
    {
      "cell_type": "code",
      "source": [
        "dataX = np.array([0, 4, 8, 20])\n",
        "dataY = np.array([0, 1, -1, -2])"
      ],
      "metadata": {
        "id": "IEL-CJe4mzPT"
      },
      "execution_count": null,
      "outputs": []
    },
    {
      "cell_type": "markdown",
      "source": [
        "最小二乗法でこのデータに当てはまる直線を求めてみましょう．"
      ],
      "metadata": {
        "id": "174yRgkInvno"
      }
    },
    {
      "cell_type": "markdown",
      "metadata": {
        "id": "14NAgpjuP_Gf"
      },
      "source": [
        "以下のセルを実行すると，変数 `AA` と `bb` がそれぞれ，以下のような $2\\times 2$ 行列 $A$ と 2次元ベクトル（$2\\times 1$行列） $\\mathbf{b}$ を表すことになります．\n",
        "$$\n",
        "A = \\begin{pmatrix}\n",
        "\\displaystyle\\sum_{n=1}^{N}x_n^2 & \\displaystyle\\sum_{n=1}^{N}x_n\\\\\n",
        "\\displaystyle\\sum_{n=1}^{N}x_n & \\displaystyle\\sum_{n=1}^{N}1\\\\\n",
        "\\end{pmatrix} \\qquad\n",
        "\\mathbf{b} = \n",
        "\\begin{pmatrix}\n",
        "\\displaystyle\\sum_{n=1}^{N}x_ny_n\\\\\n",
        "\\displaystyle\\sum_{n=1}^{N}y_n\n",
        "\\end{pmatrix} \n",
        "$$"
      ]
    },
    {
      "cell_type": "code",
      "source": [
        "XX = np.vstack((dataX, np.ones_like(dataX))).T\n",
        "#print(XX)\n",
        "YY = dataY[:, np.newaxis]\n",
        "#print(YY)\n",
        "AA = XX.T @ XX\n",
        "bb = XX.T @ dataY\n",
        "print(AA)\n",
        "print(bb)"
      ],
      "metadata": {
        "id": "AGHCrNbMo1nv"
      },
      "execution_count": null,
      "outputs": []
    },
    {
      "cell_type": "markdown",
      "source": [
        "(1) 授業で説明しているように，最小二乗法による直線当てはめで得られる直線の傾きを $a$，切片を $b$ として，\n",
        "$$\n",
        "\\mathbf{x} = \\begin{pmatrix}\n",
        "a \\\\ b\n",
        "\\end{pmatrix}\n",
        "$$\n",
        "とおくと，$(a, b)$ は，連立方程式\n",
        "$$\n",
        "A\\mathbf{x} = \\mathbf{b}\n",
        "$$\n",
        "の解です． numpy には連立方程式の解を求める関数がありますので，それを使えば，$(a, b)$ を求めることができます．以下に新しいセルを作ってやってみましょう．\n",
        "\n",
        "上記の計算によって得られた結果が手計算で解いた結果と一致することを確認しましょう．"
      ],
      "metadata": {
        "id": "95uIU6r1MC3x"
      }
    },
    {
      "cell_type": "markdown",
      "source": [
        "(2) 以下のセルを修正して実行すると，データの散布図に求めた直線を重ねて描くことができます．やってみましょう．"
      ],
      "metadata": {
        "id": "myFcvuVIP12H"
      }
    },
    {
      "cell_type": "code",
      "source": [
        "# グラフ描画のためのモジュールをインポート\n",
        "import matplotlib.pyplot as plt\n",
        "# seaborn は matplotlib のグラフをより綺麗に表示させるためのモジュール \n",
        "import seaborn\n",
        "seaborn.set()\n",
        "\n",
        "# a, b を修正しましょう\n",
        "a = -0.2\n",
        "b = 0.5\n",
        "fig, ax = plt.subplots()\n",
        "ax.scatter(dataX, dataY)\n",
        "ax.set_xlim(-1, 21)\n",
        "xr = np.array(ax.get_xlim())\n",
        "yr = a*xr+b\n",
        "ax.plot(xr, yr, color='red')\n",
        "plt.show()"
      ],
      "metadata": {
        "id": "m5g7eOwHOQ4I"
      },
      "execution_count": null,
      "outputs": []
    },
    {
      "cell_type": "markdown",
      "source": [
        "(3) 以下のセルを実行すると，「ゴリゴリくん」のデータを変数 `dataX` と `dataY` に代入することができます．このセルに上で書いたコードをコピペして実行すると，このデータに対する直線当てはめの解も求められます．やってみましょう．"
      ],
      "metadata": {
        "id": "JxUc0jHjOBI7"
      }
    },
    {
      "cell_type": "code",
      "source": [
        "# データ分析のためのモジュール\n",
        "import pandas as pd\n",
        "\n",
        "dfGori = pd.read_csv('https://www-tlab.math.ryukoku.ac.jp/~takataka/course/ML/gorigori.csv')\n",
        "dataX = dfGori['気温']\n",
        "dataY = dfGori['アイス売上数']\n",
        "\n",
        "# ここを書いて，a, b に適切な値が代入されるようにしよう\n",
        "\n",
        "a = 2\n",
        "b = 10\n",
        "fig, ax = plt.subplots()\n",
        "ax.scatter(dataX, dataY)\n",
        "ax.set_xlim(-5, 40)\n",
        "ax.set_ylim(0, 130)\n",
        "xr = np.array(ax.get_xlim())\n",
        "yr = a*xr+b\n",
        "ax.plot(xr, yr, color='red')\n",
        "plt.show()"
      ],
      "metadata": {
        "id": "hdv8L2CuQWB4"
      },
      "execution_count": null,
      "outputs": []
    },
    {
      "cell_type": "code",
      "source": [
        ""
      ],
      "metadata": {
        "id": "i-Idhzloib85"
      },
      "execution_count": null,
      "outputs": []
    }
  ]
}