{
  "nbformat": 4,
  "nbformat_minor": 0,
  "metadata": {
    "colab": {
      "name": "omake01.ipynb",
      "provenance": [],
      "collapsed_sections": [],
      "authorship_tag": "ABX9TyOMzACShOXVapjBd0SoiF9l",
      "include_colab_link": true
    },
    "kernelspec": {
      "name": "python3",
      "display_name": "Python 3"
    }
  },
  "cells": [
    {
      "cell_type": "markdown",
      "metadata": {
        "id": "view-in-github",
        "colab_type": "text"
      },
      "source": [
        "<a href=\"https://colab.research.google.com/github/takatakamanbou/ML/blob/main/omake01.ipynb\" target=\"_parent\"><img src=\"https://colab.research.google.com/assets/colab-badge.svg\" alt=\"Open In Colab\"/></a>"
      ]
    },
    {
      "cell_type": "markdown",
      "metadata": {
        "id": "2UzDNLmVS3po"
      },
      "source": [
        "# ML omake01\n",
        "\n",
        "<img width=64 src=\"https://www-tlab.math.ryukoku.ac.jp/~takataka/course/ML/ML-logo.png\">\n"
      ]
    },
    {
      "cell_type": "markdown",
      "metadata": {
        "id": "_4-TmUdCd9FJ"
      },
      "source": [
        "----\n",
        "# Python の初歩\n",
        "----\n",
        "\n",
        "C言語プログラミングを少し学んでいる方を想定して， プログラミング言語 Python の初歩の初歩を解説してみます．Colab notebook なので，そのまま実行してみてね．"
      ]
    },
    {
      "cell_type": "markdown",
      "metadata": {
        "id": "Z4c3TGUV38Ri"
      },
      "source": [
        "----\n",
        "## とりあえず数値の計算"
      ]
    },
    {
      "cell_type": "markdown",
      "metadata": {
        "id": "mGDLYnwg71kh"
      },
      "source": [
        "C言語と同様に四則演算の演算子 `+`,`-`, `*`, `/` が使えます．適当に数値や式を変えて実行し直してみるとよいでしょう．"
      ]
    },
    {
      "cell_type": "code",
      "metadata": {
        "id": "mH1RWEw54RPv"
      },
      "source": [
        "5963 - 1314"
      ],
      "execution_count": null,
      "outputs": []
    },
    {
      "cell_type": "code",
      "metadata": {
        "id": "ROG8mPBJ4Uln"
      },
      "source": [
        "5+9*6-3"
      ],
      "execution_count": null,
      "outputs": []
    },
    {
      "cell_type": "markdown",
      "metadata": {
        "id": "3jFj7YAV74ZQ"
      },
      "source": [
        "整数だけでなく実数も扱えます（C言語の `float`型や`double`型と同様に浮動小数点数が扱える）．"
      ]
    },
    {
      "cell_type": "code",
      "metadata": {
        "id": "QQ8M3640S1W7"
      },
      "source": [
        "4*1 + 6*0.1 + 4*0.01 + 9*0.001"
      ],
      "execution_count": null,
      "outputs": []
    },
    {
      "cell_type": "markdown",
      "metadata": {
        "id": "TMg8Ia6q7raX"
      },
      "source": [
        "**要注意** C言語と違い，`/` 演算の結果は浮動小数点数になります．"
      ]
    },
    {
      "cell_type": "code",
      "metadata": {
        "id": "_m3xjXyX9HLL"
      },
      "source": [
        "4/3  # C言語だと整数 2 と整数 3 の除算は整数の範囲で行うので，結果は整数 1 になるはず"
      ],
      "execution_count": null,
      "outputs": []
    },
    {
      "cell_type": "code",
      "metadata": {
        "id": "3ra7p5YU9Nc5"
      },
      "source": [
        "2/3  # Cだと 0"
      ],
      "execution_count": null,
      "outputs": []
    },
    {
      "cell_type": "markdown",
      "metadata": {
        "id": "w-XyBY3X9Q33"
      },
      "source": [
        "C言語の `/` と同じことをさせたい場合は，`//` を使います"
      ]
    },
    {
      "cell_type": "code",
      "metadata": {
        "id": "CPlf1XnQ9XtK"
      },
      "source": [
        "4//3"
      ],
      "execution_count": null,
      "outputs": []
    },
    {
      "cell_type": "markdown",
      "metadata": {
        "id": "4XlzpDSD9cnE"
      },
      "source": [
        "べき乗の演算子 `**` というのもあります．また，C言語の普通の整数型（`int`や`long`など）よりも遥かに桁数の多い数も扱えます．"
      ]
    },
    {
      "cell_type": "code",
      "metadata": {
        "id": "E9K_sJ_w9roL"
      },
      "source": [
        "2**13 - 1  # メルセンヌ素数の一つ"
      ],
      "execution_count": null,
      "outputs": []
    },
    {
      "cell_type": "code",
      "metadata": {
        "id": "spGNVmIp9trV"
      },
      "source": [
        "2**127 - 1 # これもメルセンヌ素数"
      ],
      "execution_count": null,
      "outputs": []
    },
    {
      "cell_type": "code",
      "metadata": {
        "id": "XXo27BYC-Grt"
      },
      "source": [
        "2**607 - 1 # 同じく"
      ],
      "execution_count": null,
      "outputs": []
    },
    {
      "cell_type": "markdown",
      "metadata": {
        "id": "XuOD4gtu-7Zi"
      },
      "source": [
        "----\n",
        "## 変数を使う"
      ]
    },
    {
      "cell_type": "markdown",
      "metadata": {
        "id": "jMiLyVUZ_Dt6"
      },
      "source": [
        "もちろん変数も使えます．ただし，C言語と使い方に大きな違いがあります．C言語の変数は，\n",
        "```\n",
        "int x;      // x という名前の変数を int 型で使うよ，と宣言\n",
        "double y;  // y は double 型だよ，と宣言\n",
        "\n",
        "x = 1 + 2 + 3 + 4 + 5;\n",
        "y = 3.1415\n",
        "```\n",
        "のようにあらかじめ型を決めて宣言しておく必要があります．宣言した型と違うものを代入することはできません．\n",
        "\n",
        "しかし，Python の変数は，宣言不要でいきなり代入して使えます．"
      ]
    },
    {
      "cell_type": "code",
      "metadata": {
        "id": "kX1m9-g0AYnG"
      },
      "source": [
        "x = 1 + 2 + 3 + 4 + 5\n",
        "print(x)  # x の値を表示"
      ],
      "execution_count": null,
      "outputs": []
    },
    {
      "cell_type": "markdown",
      "metadata": {
        "id": "NhnWrdDEAnWW"
      },
      "source": [
        "上記の例では変数 `x` は整数を扱う型になっています．ですが，次のようにその変数 `x` に実数値を代入してしまうこともできます．"
      ]
    },
    {
      "cell_type": "code",
      "metadata": {
        "id": "s9ExSlHZA5wk"
      },
      "source": [
        "x = 3.1415\n",
        "print(x)"
      ],
      "execution_count": null,
      "outputs": []
    },
    {
      "cell_type": "markdown",
      "metadata": {
        "id": "R63uO69iBQXi"
      },
      "source": [
        "上記の例を見ると，「Python の変数には整数型と浮動小数点型の区別がない」と思うかもしれませんが，実際にはそうではありません．「Python の変数は，代入したときに右辺の値に応じた型になる」ということです．\n",
        "\n",
        "整数と浮動小数点数は，値を表示させてみると区別できます．"
      ]
    },
    {
      "cell_type": "code",
      "metadata": {
        "id": "pwKZVmFUByFa"
      },
      "source": [
        "x = 5-5+1+9 # 全て整数で演算結果も整数\n",
        "print(x)  # このときの変数 x は整数型"
      ],
      "execution_count": null,
      "outputs": []
    },
    {
      "cell_type": "code",
      "metadata": {
        "id": "hwEUOMGLB8aL"
      },
      "source": [
        "x = 5/5+1*9 # 5/5 の値が浮動小数点数 1.0 → その後の加算も浮動小数点数として行われるので結果も浮動小数点数\n",
        "print(x)  # このときの変数 x は浮動小数点数型"
      ],
      "execution_count": null,
      "outputs": []
    },
    {
      "cell_type": "markdown",
      "metadata": {
        "id": "y6jPpnncCklO"
      },
      "source": [
        "当然，変数同士の四則演算もできます．"
      ]
    },
    {
      "cell_type": "code",
      "metadata": {
        "id": "Q-R9M3u_CY4M"
      },
      "source": [
        "x = 4649\n",
        "y = 1314\n",
        "print(x+y)"
      ],
      "execution_count": null,
      "outputs": []
    },
    {
      "cell_type": "code",
      "metadata": {
        "id": "yU3SKcpqCsts"
      },
      "source": [
        "x = 4649\n",
        "y = 1314\n",
        "print(x+y, x-y, x*y, x/y)  # この場合，除算の結果のみ浮動小数点数"
      ],
      "execution_count": null,
      "outputs": []
    },
    {
      "cell_type": "markdown",
      "metadata": {
        "id": "_DV5GkiQDDBp"
      },
      "source": [
        "C言語と同様に `+=`, `-=`, `*=`, `/=` などの演算子もあります．"
      ]
    },
    {
      "cell_type": "code",
      "metadata": {
        "id": "fPpnKgWKC6vy"
      },
      "source": [
        "x = 4649\n",
        "x += 1314\n",
        "print(x)"
      ],
      "execution_count": null,
      "outputs": []
    },
    {
      "cell_type": "code",
      "metadata": {
        "id": "I6GhuJvFDMIV"
      },
      "source": [
        "x = 128\n",
        "x *= 2\n",
        "print(x)"
      ],
      "execution_count": null,
      "outputs": []
    },
    {
      "cell_type": "markdown",
      "metadata": {
        "id": "CtHL55JBDkdW"
      },
      "source": [
        "ただし，残念ながら C言語の `++` や `--` 相当の演算子はありません．`+=1`や`-=1`を使うことになります．"
      ]
    },
    {
      "cell_type": "code",
      "metadata": {
        "id": "lnpYenYFDYcq"
      },
      "source": [
        "# このセルはエラーになる\n",
        "x = 5962\n",
        "x++"
      ],
      "execution_count": null,
      "outputs": []
    },
    {
      "cell_type": "markdown",
      "metadata": {
        "id": "BEisewqHEoYZ"
      },
      "source": [
        "----\n",
        "## for文"
      ]
    },
    {
      "cell_type": "markdown",
      "metadata": {
        "id": "cAukkU22E5Oh"
      },
      "source": [
        "C言語と同様に `for` 文が使えます．ただし，使い方/書き方が結構違います．"
      ]
    },
    {
      "cell_type": "markdown",
      "metadata": {
        "id": "nDLIl2DhFebm"
      },
      "source": [
        "```\n",
        "int i;\n",
        "for (i = 0; i < 5; i++) {\n",
        "    printf(\"%d %d\\n\", i, i*i);\n",
        "}\n",
        "```\n",
        "と同じふるまいをするコードは例えばこんなんです．"
      ]
    },
    {
      "cell_type": "code",
      "metadata": {
        "id": "G6tsXNfHFKYH"
      },
      "source": [
        "for i in range(5):\n",
        "    print(i, i*i)"
      ],
      "execution_count": null,
      "outputs": []
    },
    {
      "cell_type": "markdown",
      "metadata": {
        "id": "M8gzxf8IGOji"
      },
      "source": [
        "ここでは，Python の `for` 文の詳しい書き方は説明せず，上記の例がどうなってるかの説明のみしておきます．\n",
        "\n",
        "C言語では，プログラムの一部を`{` と `}` で囲んで，「この部分を繰り返してね」と指定します．`{` と `}` で囲まれた部分を **ブロック** と言います．\n",
        "\n",
        "一方，Python ではブロックの指定に `{` や `}` は使わず，字下げを使います．上記では，`print(i, i*i)` の行が字下げされているので，この部分が `for` 文で繰り返し実行されるブロックとなります．\n",
        "\n",
        "また，`range(5)` というのは，「`0` からはじまり `5` の一つ手前までの整数」つまり `0`, `1`, `2`, `3`, `4`を順に作ってくれます．それらの整数値が順に変数 `i` に代入されながら， 字下げされた部分が実行されます．"
      ]
    },
    {
      "cell_type": "markdown",
      "metadata": {
        "id": "30yK3SDiItIa"
      },
      "source": [
        "試しに，上記のコードの `5` を別の数字に変えて実行し直してみましょう．\n",
        "\n",
        "また，以下のコードを実行して，結果の違いを確認しましょう．"
      ]
    },
    {
      "cell_type": "code",
      "metadata": {
        "id": "D_MsqJu5F6TX"
      },
      "source": [
        "for i in range(3):\n",
        "    print('ほげ')\n",
        "    print('ふが')"
      ],
      "execution_count": null,
      "outputs": []
    },
    {
      "cell_type": "code",
      "metadata": {
        "id": "bKd7NF7YIP0k"
      },
      "source": [
        "for i in range(3):\n",
        "    print('ほげ')\n",
        "print('ふが')"
      ],
      "execution_count": null,
      "outputs": []
    },
    {
      "cell_type": "markdown",
      "metadata": {
        "id": "I5T0-Be9Jtmm"
      },
      "source": [
        "`range()`に2つまたは3つの数を指定すると...説明は省略するので，どうなってるか考えてみてね．"
      ]
    },
    {
      "cell_type": "code",
      "metadata": {
        "id": "-JD1nSR-IRtd"
      },
      "source": [
        "for i in range(2, 5):\n",
        "    print(i, i*i)"
      ],
      "execution_count": null,
      "outputs": []
    },
    {
      "cell_type": "code",
      "metadata": {
        "id": "t6dV87iZJ7-v"
      },
      "source": [
        "for i in range(2, 10, 3):\n",
        "    print(i, i*i)"
      ],
      "execution_count": null,
      "outputs": []
    },
    {
      "cell_type": "markdown",
      "metadata": {
        "id": "8wuCcOlbKRqi"
      },
      "source": [
        "`for` 文はもっといろんなことができるのですが，ここでは省略します．"
      ]
    },
    {
      "cell_type": "code",
      "metadata": {
        "id": "Ycr0cD5nKKQi"
      },
      "source": [
        "for x in [0, 'いち', '二', 3.1415, ['ほげ', 'ふが'], 'Go']:\n",
        "    print(x)"
      ],
      "execution_count": null,
      "outputs": []
    },
    {
      "cell_type": "markdown",
      "metadata": {
        "id": "t6ihMcr5Ks3M"
      },
      "source": [
        "`while`文もありますが，説明は省略します．以下の例を見たら感じはわかるでしょう．"
      ]
    },
    {
      "cell_type": "code",
      "metadata": {
        "id": "kNC2CX_UKm2H"
      },
      "source": [
        "s = 0\n",
        "while s < 5:\n",
        "    print(s)\n",
        "    s += 1"
      ],
      "execution_count": null,
      "outputs": []
    },
    {
      "cell_type": "markdown",
      "metadata": {
        "id": "4MD0mgatLEb6"
      },
      "source": [
        "----\n",
        "## if文"
      ]
    },
    {
      "cell_type": "markdown",
      "metadata": {
        "id": "V725ODqgMN6n"
      },
      "source": [
        "Python でも `if` 文で条件分岐ができます．基本的な構造はこんなん．\n",
        "```\n",
        "if 条件式:\n",
        "    条件が真だったときだけ実行するブロック\n",
        "```\n",
        "条件式のところには，例えば `x` に整数値が代入されているとして，`x > 0` や `x == 5963` のような式が書けます．\n",
        "\n",
        "`else`を使って，if-else の構造にすることもできます．\n",
        "```\n",
        "if 条件式:\n",
        "    条件が真だったときだけ実行するブロック\n",
        "else:\n",
        "    条件が偽だったときだけ実行するブロック\n",
        "```"
      ]
    },
    {
      "cell_type": "code",
      "metadata": {
        "id": "2T05FZKgK5-U"
      },
      "source": [
        "oyatsu = 500\n",
        "oyatsuMax = 300\n",
        "if oyatsu <= oyatsuMax:\n",
        "    print('okです')\n",
        "else:\n",
        "    print('おやつは', oyatsuMax, '円までですよ！')"
      ],
      "execution_count": null,
      "outputs": []
    },
    {
      "cell_type": "markdown",
      "metadata": {
        "id": "si2D2yThjDmY"
      },
      "source": [
        "C言語で整数を「60未満」，「60以上80未満」，「80以上」の三通りに分類するなら，たとえばこんなんなるでしょう．\n",
        "```\n",
        "int score = 59;\n",
        "if (score < 60) {\n",
        "    printf(\"60未満ほげ\\n\");\n",
        "} else {\n",
        "    if (score < 80) {\n",
        "        printf(\"60以上80未満ほげ\\n\");\n",
        "    else {\n",
        "        printf(\"80以上ほげ\\n\");\n",
        "    }\n",
        "}\n",
        "```\n",
        "\n",
        "同様のものを Python で書くと，こんなん．"
      ]
    },
    {
      "cell_type": "code",
      "metadata": {
        "id": "gGdKz50KNnef"
      },
      "source": [
        "score = 59\n",
        "if score < 60:\n",
        "    print(\"60未満ほげ\")\n",
        "else:\n",
        "    if score < 80:\n",
        "        print(\"60以上80未満ほげ\")\n",
        "    else:\n",
        "        print(\"80以上ほげ\")"
      ],
      "execution_count": null,
      "outputs": []
    },
    {
      "cell_type": "markdown",
      "metadata": {
        "id": "hE6DJzFaNFrL"
      },
      "source": [
        "`else` と `if` の組み合わせは `elif` を使って次のように書くこともできます．"
      ]
    },
    {
      "cell_type": "code",
      "metadata": {
        "id": "p-c_S10MMYdG"
      },
      "source": [
        "score = 59\n",
        "if score < 60:\n",
        "    print(\"60未満ほげ\")\n",
        "elif score < 80:\n",
        "    print(\"60以上80未満ほげ\")\n",
        "else:\n",
        "    print(\"80以上ほげ\")"
      ],
      "execution_count": null,
      "outputs": []
    },
    {
      "cell_type": "markdown",
      "metadata": {
        "id": "oV9c8hEiPog9"
      },
      "source": [
        "----\n",
        "## 練習問題\n",
        "\n",
        "(1) `for` を使って `1` から `10` までの自然数の和を計算して `print` するコードを以下のセルに書いて実行し，動作確認しなさい．"
      ]
    },
    {
      "cell_type": "code",
      "metadata": {
        "id": "MM2na42lNU4u"
      },
      "source": [
        ""
      ],
      "execution_count": null,
      "outputs": []
    },
    {
      "cell_type": "markdown",
      "metadata": {
        "id": "14NAgpjuP_Gf"
      },
      "source": [
        "(2) 以下のセルの内容を修正して，変数 `i` の値が3の倍数であれば `ほげ`，5の倍数であれば `ふが`，両方の倍数（すなわち15の倍数）であれば `ほげふが` と `print` するコードにしなさい．\n",
        "\n",
        "`i`の値が3の倍数かどうかは，C言語と同様に，`i % 3` の値が `0` と等しいかどうかで判定できます．"
      ]
    },
    {
      "cell_type": "code",
      "metadata": {
        "id": "T1eRnvRhQkGY"
      },
      "source": [
        "for i in range(1, 21):\n",
        "    print(i)"
      ],
      "execution_count": null,
      "outputs": []
    },
    {
      "cell_type": "markdown",
      "metadata": {
        "id": "Mg-ju2RCRUAt"
      },
      "source": [
        "(3) 以下のセルを実行すると変数 `sum` に\n",
        "$$ \\sum_{k=1}^{N} (3k^2 - 3k + 1) $$\n",
        "の値が代入されるように，セルに for 文を使ったコードを追加しなさい． `N = 8` のときの結果は `512`，`N = 10` のときは `1000`， `N = 100` のときは `1000000`..."
      ]
    },
    {
      "cell_type": "code",
      "metadata": {
        "id": "QDZ6fFdrQq0S"
      },
      "source": [
        "N = 8\n",
        "sum = 0\n",
        "# ここに for 文を使ったコードを書く\n",
        "print(sum)"
      ],
      "execution_count": null,
      "outputs": []
    },
    {
      "cell_type": "code",
      "metadata": {
        "id": "NBLt7i5yRiee"
      },
      "source": [
        ""
      ],
      "execution_count": null,
      "outputs": []
    }
  ]
}