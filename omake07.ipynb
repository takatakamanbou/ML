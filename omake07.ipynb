{
  "nbformat": 4,
  "nbformat_minor": 0,
  "metadata": {
    "colab": {
      "provenance": [],
      "toc_visible": true,
      "authorship_tag": "ABX9TyMgDrBjOsd3CbsIe3pIEewu",
      "include_colab_link": true
    },
    "kernelspec": {
      "name": "python3",
      "display_name": "Python 3"
    }
  },
  "cells": [
    {
      "cell_type": "markdown",
      "metadata": {
        "id": "view-in-github",
        "colab_type": "text"
      },
      "source": [
        "<a href=\"https://colab.research.google.com/github/takatakamanbou/ML/blob/2022/omake07.ipynb\" target=\"_parent\"><img src=\"https://colab.research.google.com/assets/colab-badge.svg\" alt=\"Open In Colab\"/></a>"
      ]
    },
    {
      "cell_type": "markdown",
      "metadata": {
        "id": "2UzDNLmVS3po"
      },
      "source": [
        "# ML omake07\n",
        "\n",
        "<img width=64 src=\"https://www-tlab.math.ryukoku.ac.jp/~takataka/course/ML/ML-logo.png\">"
      ]
    },
    {
      "cell_type": "markdown",
      "metadata": {
        "id": "_4-TmUdCd9FJ"
      },
      "source": [
        "----\n",
        "# ニューラルネットで手書き数字識別\n",
        "----\n"
      ]
    },
    {
      "cell_type": "markdown",
      "source": [
        "授業の notbook で使っていた手書き数字画像をニューラルネットに識別させてみましょう．\n",
        "ニューラルネットのプログラムを自分で書くのは大変ですので，ここでは [scikit-learn](https://scikit-learn.org/) を使うことにします．\n",
        "ヒントを頼りに自分でコード書いてみてね．\n"
      ],
      "metadata": {
        "id": "uipn14Pmf84M"
      }
    },
    {
      "cell_type": "markdown",
      "source": [
        "---\n",
        "### 準備"
      ],
      "metadata": {
        "id": "xviLUgdF52KC"
      }
    },
    {
      "cell_type": "code",
      "source": [
        "import numpy as np\n",
        "\n",
        "# 手書き数字データの入手\n",
        "! wget -nc https://www-tlab.math.ryukoku.ac.jp/~takataka/course/ML/minimnist.npz\n",
        "rv = np.load('minimnist.npz')\n",
        "datL = rv['datL'].astype(float)\n",
        "labL = rv['labL']\n",
        "datT = rv['datT'].astype(float)\n",
        "labT = rv['labT']\n",
        "print(datL.shape, labL.shape, datT.shape, labT.shape)"
      ],
      "metadata": {
        "id": "mBsD56WyfmFx"
      },
      "execution_count": null,
      "outputs": []
    },
    {
      "cell_type": "markdown",
      "source": [
        "この手書き数字のデータは，学習用が5000枚，テスト用が1000枚あり，一つのデータは784次元です．\n",
        "上のセルを実行すると，`datL` などの大きさを確認できます．`datL` は学習用のデータ，`datT` はテスト用のデータ，`labL` と `labT` はそれぞれの正解クラスです．"
      ],
      "metadata": {
        "id": "UJFeZsqKf1q2"
      }
    },
    {
      "cell_type": "code",
      "source": [
        "print(labL[:10])"
      ],
      "metadata": {
        "id": "zcTw8WU6hMEN"
      },
      "execution_count": null,
      "outputs": []
    },
    {
      "cell_type": "markdown",
      "source": [
        "---\n",
        "### データのスケーリング"
      ],
      "metadata": {
        "id": "zDME6JOg6yyn"
      }
    },
    {
      "cell_type": "markdown",
      "source": [
        "データを平均 0 分散 1 にスケーリングしましょう．\n",
        "scikit-learn の [sklearn.preprocessing.StandardScaler](https://scikit-learn.org/stable/modules/generated/sklearn.preprocessing.StandardScaler.html) クラスを使うとよいでしょう．"
      ],
      "metadata": {
        "id": "gBvvAvAm5WHu"
      }
    },
    {
      "cell_type": "code",
      "source": [
        "# 各要素を平均 0 分散 1 にスケーリング\n",
        "from sklearn.preprocessing import StandardScaler\n",
        "scaler = StandardScaler()\n"
      ],
      "metadata": {
        "id": "zXWeOVdJze4f"
      },
      "execution_count": null,
      "outputs": []
    },
    {
      "cell_type": "markdown",
      "source": [
        "---\n",
        "### ニューラルネットの学習"
      ],
      "metadata": {
        "id": "kTs8CQ5e7PZ-"
      }
    },
    {
      "cell_type": "markdown",
      "source": [
        "scikit-learn の [sklearn.neural_network.MLPClassifier](https://scikit-learn.org/stable/modules/generated/sklearn.linear_model.LogisticRegression.html) クラスを使うと，階層型ニューラルネットの学習が数行のコードで書けます．\n",
        "\n",
        "以下のコードを実行すると，`nn` がニューラルネットを表すインスタンスを指します．\n",
        "この例では，このニューラルネットには中間層が1つあり，そのニューロン数は100，活性化関数は ReLU となります．`verbose = 1` は，学習時に（`fit`メソッドを呼んだときに）繰り返しごとの損失関数の値を表示させるためのオプションです．"
      ],
      "metadata": {
        "id": "Mt1giF5r7eit"
      }
    },
    {
      "cell_type": "code",
      "source": [
        "# 階層型ニューラルネットのインスタンスを生成\n",
        "from sklearn.neural_network import MLPClassifier\n",
        "nn = MLPClassifier(hidden_layer_sizes=(100, ), activation='relu', verbose=1)\n",
        "print(nn)"
      ],
      "metadata": {
        "id": "6LcSX2SGzKYk"
      },
      "execution_count": null,
      "outputs": []
    },
    {
      "cell_type": "markdown",
      "source": [
        "以下にコードを書いて（必要ならセルを追加したらよいです），スケーリングした学習データで学習させて，学習データとテストデータの識別率を求めてみましょう．"
      ],
      "metadata": {
        "id": "LmHarZbp8q3T"
      }
    },
    {
      "cell_type": "code",
      "source": [],
      "metadata": {
        "id": "HCzatGC75Mmc"
      },
      "execution_count": null,
      "outputs": []
    },
    {
      "cell_type": "markdown",
      "source": [
        "`MLPClassifier` の引数の値を変えて，中間層のニューロン数や中間層の数を変えた場合でも実験してみましょう．元のセルを書き換えて再実行すると，結果の表示が上書きされて以前のが見られなくなってしまうので，セルを以下にコピペして実行し，複数の条件の結果を比較して見られるようにしましょう．\n",
        "\n",
        "実験の結果を takataka に見せてね．"
      ],
      "metadata": {
        "id": "O9DV9UKQ9D7n"
      }
    }
  ]
}